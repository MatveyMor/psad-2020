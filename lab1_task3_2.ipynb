{
 "cells": [
  {
   "cell_type": "code",
   "execution_count": 40,
   "metadata": {},
   "outputs": [],
   "source": [
    "import scipy.stats as st\n",
    "import numpy as np\n",
    "import pandas as pd\n",
    "from statsmodels.stats.proportion import proportions_ztest\n",
    "from statsmodels.stats.multitest import multipletests"
   ]
  },
  {
   "cell_type": "code",
   "execution_count": 41,
   "metadata": {},
   "outputs": [
    {
     "data": {
      "text/html": [
       "<div>\n",
       "<style scoped>\n",
       "    .dataframe tbody tr th:only-of-type {\n",
       "        vertical-align: middle;\n",
       "    }\n",
       "\n",
       "    .dataframe tbody tr th {\n",
       "        vertical-align: top;\n",
       "    }\n",
       "\n",
       "    .dataframe thead th {\n",
       "        text-align: right;\n",
       "    }\n",
       "</style>\n",
       "<table border=\"1\" class=\"dataframe\">\n",
       "  <thead>\n",
       "    <tr style=\"text-align: right;\">\n",
       "      <th></th>\n",
       "      <th>Unnamed: 0</th>\n",
       "      <th>player</th>\n",
       "      <th>team</th>\n",
       "      <th>atm_away</th>\n",
       "      <th>atm_home</th>\n",
       "      <th>score_away</th>\n",
       "      <th>score_home</th>\n",
       "      <th>atm_total</th>\n",
       "      <th>score_total</th>\n",
       "    </tr>\n",
       "  </thead>\n",
       "  <tbody>\n",
       "    <tr>\n",
       "      <td>0</td>\n",
       "      <td>7</td>\n",
       "      <td>A. Johnson</td>\n",
       "      <td>ATL</td>\n",
       "      <td>30</td>\n",
       "      <td>34</td>\n",
       "      <td>24</td>\n",
       "      <td>28</td>\n",
       "      <td>64</td>\n",
       "      <td>52</td>\n",
       "    </tr>\n",
       "    <tr>\n",
       "      <td>1</td>\n",
       "      <td>10</td>\n",
       "      <td>A. Johnson</td>\n",
       "      <td>TOR</td>\n",
       "      <td>63</td>\n",
       "      <td>57</td>\n",
       "      <td>44</td>\n",
       "      <td>38</td>\n",
       "      <td>120</td>\n",
       "      <td>82</td>\n",
       "    </tr>\n",
       "    <tr>\n",
       "      <td>2</td>\n",
       "      <td>15</td>\n",
       "      <td>Abdur-Rahim</td>\n",
       "      <td>SAC</td>\n",
       "      <td>114</td>\n",
       "      <td>124</td>\n",
       "      <td>84</td>\n",
       "      <td>90</td>\n",
       "      <td>238</td>\n",
       "      <td>174</td>\n",
       "    </tr>\n",
       "    <tr>\n",
       "      <td>3</td>\n",
       "      <td>22</td>\n",
       "      <td>Afflalo</td>\n",
       "      <td>DEN</td>\n",
       "      <td>236</td>\n",
       "      <td>284</td>\n",
       "      <td>189</td>\n",
       "      <td>227</td>\n",
       "      <td>520</td>\n",
       "      <td>416</td>\n",
       "    </tr>\n",
       "    <tr>\n",
       "      <td>4</td>\n",
       "      <td>23</td>\n",
       "      <td>Afflalo</td>\n",
       "      <td>DET</td>\n",
       "      <td>75</td>\n",
       "      <td>88</td>\n",
       "      <td>62</td>\n",
       "      <td>67</td>\n",
       "      <td>163</td>\n",
       "      <td>129</td>\n",
       "    </tr>\n",
       "    <tr>\n",
       "      <td>5</td>\n",
       "      <td>33</td>\n",
       "      <td>Aldridge</td>\n",
       "      <td>POR</td>\n",
       "      <td>899</td>\n",
       "      <td>940</td>\n",
       "      <td>678</td>\n",
       "      <td>748</td>\n",
       "      <td>1839</td>\n",
       "      <td>1426</td>\n",
       "    </tr>\n",
       "    <tr>\n",
       "      <td>6</td>\n",
       "      <td>35</td>\n",
       "      <td>Alexander</td>\n",
       "      <td>MIL</td>\n",
       "      <td>36</td>\n",
       "      <td>47</td>\n",
       "      <td>24</td>\n",
       "      <td>34</td>\n",
       "      <td>83</td>\n",
       "      <td>58</td>\n",
       "    </tr>\n",
       "    <tr>\n",
       "      <td>7</td>\n",
       "      <td>36</td>\n",
       "      <td>Allen</td>\n",
       "      <td>BOS</td>\n",
       "      <td>246</td>\n",
       "      <td>237</td>\n",
       "      <td>211</td>\n",
       "      <td>205</td>\n",
       "      <td>483</td>\n",
       "      <td>416</td>\n",
       "    </tr>\n",
       "    <tr>\n",
       "      <td>8</td>\n",
       "      <td>40</td>\n",
       "      <td>Allen</td>\n",
       "      <td>MEM</td>\n",
       "      <td>212</td>\n",
       "      <td>186</td>\n",
       "      <td>158</td>\n",
       "      <td>146</td>\n",
       "      <td>398</td>\n",
       "      <td>304</td>\n",
       "    </tr>\n",
       "    <tr>\n",
       "      <td>9</td>\n",
       "      <td>45</td>\n",
       "      <td>Allen</td>\n",
       "      <td>SEA</td>\n",
       "      <td>151</td>\n",
       "      <td>156</td>\n",
       "      <td>137</td>\n",
       "      <td>140</td>\n",
       "      <td>307</td>\n",
       "      <td>277</td>\n",
       "    </tr>\n",
       "  </tbody>\n",
       "</table>\n",
       "</div>"
      ],
      "text/plain": [
       "   Unnamed: 0       player team  atm_away  atm_home  score_away  score_home  \\\n",
       "0           7   A. Johnson  ATL        30        34          24          28   \n",
       "1          10   A. Johnson  TOR        63        57          44          38   \n",
       "2          15  Abdur-Rahim  SAC       114       124          84          90   \n",
       "3          22      Afflalo  DEN       236       284         189         227   \n",
       "4          23      Afflalo  DET        75        88          62          67   \n",
       "5          33     Aldridge  POR       899       940         678         748   \n",
       "6          35    Alexander  MIL        36        47          24          34   \n",
       "7          36        Allen  BOS       246       237         211         205   \n",
       "8          40        Allen  MEM       212       186         158         146   \n",
       "9          45        Allen  SEA       151       156         137         140   \n",
       "\n",
       "   atm_total  score_total  \n",
       "0         64           52  \n",
       "1        120           82  \n",
       "2        238          174  \n",
       "3        520          416  \n",
       "4        163          129  \n",
       "5       1839         1426  \n",
       "6         83           58  \n",
       "7        483          416  \n",
       "8        398          304  \n",
       "9        307          277  "
      ]
     },
     "execution_count": 41,
     "metadata": {},
     "output_type": "execute_result"
    }
   ],
   "source": [
    "data = pd.read_csv(\"data/nba.csv\")\n",
    "data[:10]"
   ]
  },
  {
   "cell_type": "markdown",
   "metadata": {},
   "source": [
    "Разницу в успехе бросков у игроков в домашних и гостевых играх можно понимать как разницу в долях успешных бросков.\n",
    "\n",
    "Для каждого игрока имеем 2 несвязанные выборки $X_i = (X_{1i},\\dots,X_{ni}),~X_{ij}\\sim Be(p_{i1}), ~~Y_i = (Y_{1i},\\dots,Y_{ni}),~Y_{ij} \\sim Be(p_{i2})$ можем проверить гипотезу \n",
    "\n",
    "$H_0: p_{i1} = p_{i2}$\n",
    "\n",
    "$H_1: p_{i1} \\ne p_{i2}$\n",
    "\n",
    "\n",
    "Используем $Z-$критерий для проверки равенства долей 2-х независимых выборок для каждого игрока.\n",
    "\n",
    "Так как происходит множественная проверка гипотез, сделаем поправку"
   ]
  },
  {
   "cell_type": "markdown",
   "metadata": {},
   "source": [
    "Просуммируем строки по игрокам:"
   ]
  },
  {
   "cell_type": "code",
   "execution_count": 42,
   "metadata": {},
   "outputs": [
    {
     "name": "stdout",
     "output_type": "stream",
     "text": [
      "458 players\n"
     ]
    }
   ],
   "source": [
    "df = data.groupby('player').agg(sum)\n",
    "print(f'{len(df)} players')"
   ]
  },
  {
   "cell_type": "markdown",
   "metadata": {},
   "source": [
    "Без поправки:"
   ]
  },
  {
   "cell_type": "code",
   "execution_count": 43,
   "metadata": {},
   "outputs": [
    {
     "name": "stdout",
     "output_type": "stream",
     "text": [
      "Без поравки отвергается гипотез: 32\n"
     ]
    }
   ],
   "source": [
    "p_vals = []\n",
    "for _, player in df.iterrows():\n",
    "    p_vals.append(\n",
    "        proportions_ztest(\n",
    "            (player['score_away'], player['score_home']),\n",
    "            (player['atm_away'], player['atm_home']), \n",
    "            alternative=\"two-sided\"\n",
    "        )[1]\n",
    "    )\n",
    "p_vals = np.array(p_vals)\n",
    "\n",
    "print(f'Без поравки отвергается гипотез: {(p_vals < 0.05).sum()}')"
   ]
  },
  {
   "cell_type": "markdown",
   "metadata": {},
   "source": [
    "C поправкой:"
   ]
  },
  {
   "cell_type": "code",
   "execution_count": 44,
   "metadata": {},
   "outputs": [
    {
     "name": "stdout",
     "output_type": "stream",
     "text": [
      "Без поравки отвергается гипотез: 1\n"
     ]
    }
   ],
   "source": [
    "print(f\"Без поравки отвергается гипотез: {multipletests(p_vals, method='bonferroni')[0].sum()}\")"
   ]
  },
  {
   "cell_type": "code",
   "execution_count": null,
   "metadata": {},
   "outputs": [],
   "source": []
  }
 ],
 "metadata": {
  "kernelspec": {
   "display_name": "Python 3",
   "language": "python",
   "name": "python3"
  },
  "language_info": {
   "codemirror_mode": {
    "name": "ipython",
    "version": 3
   },
   "file_extension": ".py",
   "mimetype": "text/x-python",
   "name": "python",
   "nbconvert_exporter": "python",
   "pygments_lexer": "ipython3",
   "version": "3.7.4"
  }
 },
 "nbformat": 4,
 "nbformat_minor": 2
}
