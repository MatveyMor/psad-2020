{
 "cells": [
  {
   "cell_type": "code",
   "execution_count": 21,
   "metadata": {},
   "outputs": [],
   "source": [
    "import numpy as np\n",
    "import matplotlib.pyplot as plt\n",
    "%matplotlib inline\n",
    "import scipy.stats as st\n",
    "import pandas as pd\n",
    "import seaborn as sns\n",
    "import time\n",
    "from tqdm import tqdm\n",
    "import itertools"
   ]
  },
  {
   "cell_type": "code",
   "execution_count": 2,
   "metadata": {},
   "outputs": [],
   "source": [
    "# перестановочный критерий\n",
    "from permute.core import one_sample\n",
    "\n",
    "# бутстрап\n",
    "from arch.bootstrap import IIDBootstrap\n",
    "\n",
    "#критерий знаков\n",
    "from statsmodels.stats.descriptivestats import sign_test"
   ]
  },
  {
   "cell_type": "code",
   "execution_count": 97,
   "metadata": {},
   "outputs": [
    {
     "name": "stdout",
     "output_type": "stream",
     "text": [
      "sample size = 12,\n",
      "[-2.2107557  -2.64335542 -2.04576018 -2.33678248 -2.79145577 -2.74376135\n",
      "  2.930852    2.70928331  1.54428567  2.9190273  -0.16641343  3.16705274]\n"
     ]
    }
   ],
   "source": [
    "data = pd.read_csv('homework_data/sem_3/zhiboedova.aa.csv', header=None)\n",
    "#data = pd.read_csv('homework_data/sem_3/kobzeva.an.csv', header=None)\n",
    "x = data.values.reshape(data.size,)\n",
    "print('sample size = {},\\n{}'.format(data.size, x))"
   ]
  },
  {
   "cell_type": "code",
   "execution_count": 98,
   "metadata": {},
   "outputs": [
    {
     "data": {
      "text/plain": [
       "<matplotlib.axes._subplots.AxesSubplot at 0x1396f87b8>"
      ]
     },
     "execution_count": 98,
     "metadata": {},
     "output_type": "execute_result"
    },
    {
     "data": {
      "image/png": "[encoded data removed]",
      "text/plain": [
       "<Figure size 432x288 with 1 Axes>"
      ]
     },
     "metadata": {},
     "output_type": "display_data"
    }
   ],
   "source": [
    "sns.kdeplot(x, shade=True, color='r')"
   ]
  },
  {
   "cell_type": "markdown",
   "metadata": {},
   "source": [
    "Поскольку выборка двупиковая, ее нельзя приблизить нормальным распредлением. Поэтому применение t-критерия Стьюдента невозможно. \n",
    "#### Критирий Уилкоксона (m0=0)"
   ]
  },
  {
   "cell_type": "code",
   "execution_count": 99,
   "metadata": {},
   "outputs": [
    {
     "name": "stdout",
     "output_type": "stream",
     "text": [
      "CPU times: user 860 µs, sys: 747 µs, total: 1.61 ms\n",
      "Wall time: 1.46 ms\n"
     ]
    },
    {
     "data": {
      "text/plain": [
       "WilcoxonResult(statistic=36.0, pvalue=0.8139453463016609)"
      ]
     },
     "execution_count": 99,
     "metadata": {},
     "output_type": "execute_result"
    }
   ],
   "source": [
    "%%time\n",
    "st.wilcoxon(x)"
   ]
  },
  {
   "cell_type": "markdown",
   "metadata": {},
   "source": [
    "#### Критерий знаков"
   ]
  },
  {
   "cell_type": "code",
   "execution_count": 100,
   "metadata": {},
   "outputs": [
    {
     "name": "stdout",
     "output_type": "stream",
     "text": [
      "p_value для критерия знаков =  0.7744140625000003\n",
      "CPU times: user 1.1 ms, sys: 650 µs, total: 1.75 ms\n",
      "Wall time: 1.53 ms\n"
     ]
    }
   ],
   "source": [
    "%%time\n",
    "p_value = sign_test(x, mu0=0)[1]\n",
    "print(\"p_value для критерия знаков = \", p_value)"
   ]
  },
  {
   "cell_type": "markdown",
   "metadata": {},
   "source": [
    "__Критерий перестановки__"
   ]
  },
  {
   "cell_type": "code",
   "execution_count": 101,
   "metadata": {},
   "outputs": [
    {
     "name": "stdout",
     "output_type": "stream",
     "text": [
      "Число перестановок =  4096\n"
     ]
    }
   ],
   "source": [
    "resp = list(itertools.product([-1, 1], repeat=x.size))\n",
    "print(\"Число перестановок = \", len(resp))"
   ]
  },
  {
   "cell_type": "code",
   "execution_count": 102,
   "metadata": {},
   "outputs": [
    {
     "name": "stdout",
     "output_type": "stream",
     "text": [
      "Значение статистики для представленной выборки: t = -7.667783321003633\n"
     ]
    }
   ],
   "source": [
    "t = np.sum(x - 0.5)\n",
    "print('Значение статистики для представленной выборки: t = {}'.format(t))"
   ]
  },
  {
   "cell_type": "code",
   "execution_count": 103,
   "metadata": {},
   "outputs": [
    {
     "name": "stdout",
     "output_type": "stream",
     "text": [
      "Число перестановок со статистикой меньше или равной статистике по оригинальной выборке = 785\n",
      "CPU times: user 66.7 ms, sys: 10.4 ms, total: 77.1 ms\n",
      "Wall time: 78.3 ms\n"
     ]
    }
   ],
   "source": [
    "%%time\n",
    "T = x - 0.5\n",
    "stats = []\n",
    "equal_t = 0\n",
    "for i, v in enumerate(resp):\n",
    "    stats.append(np.dot(T, v))\n",
    "    equal_t = equal_t + 1 if stats[i] <= t else equal_t\n",
    "print('Число перестановок со статистикой меньше или равной статистике по оригинальной выборке = {}'.format(equal_t))"
   ]
  },
  {
   "cell_type": "code",
   "execution_count": 107,
   "metadata": {},
   "outputs": [
    {
     "data": {
      "text/plain": [
       "<matplotlib.axes._subplots.AxesSubplot at 0x1396c9588>"
      ]
     },
     "execution_count": 107,
     "metadata": {},
     "output_type": "execute_result"
    },
    {
     "data": {
      "image/png": "[encoded data removed]",
      "text/plain": [
       "<Figure size 432x288 with 1 Axes>"
      ]
     },
     "metadata": {},
     "output_type": "display_data"
    }
   ],
   "source": [
    "sns.kdeplot(stats - t, shade=True)"
   ]
  },
  {
   "cell_type": "code",
   "execution_count": 105,
   "metadata": {},
   "outputs": [
    {
     "name": "stdout",
     "output_type": "stream",
     "text": [
      "p_value для перестановочного критерия = 0.8087119128808712 \n",
      "statistic = -0.6389819434169693\n",
      "CPU times: user 5.16 s, sys: 97.3 ms, total: 5.26 s\n",
      "Wall time: 5.44 s\n"
     ]
    }
   ],
   "source": [
    "%%time\n",
    "test_values_0 = one_sample(x - 0.5)\n",
    "print(\"p_value для перестановочного критерия = {} \\nstatistic = {}\".format(test_values_0[0], test_values_0[1]))"
   ]
  },
  {
   "cell_type": "code",
   "execution_count": 106,
   "metadata": {},
   "outputs": [
    {
     "name": "stderr",
     "output_type": "stream",
     "text": [
      "100%|██████████| 100/100 [00:01<00:00, 63.94it/s]\n"
     ]
    }
   ],
   "source": [
    "x_values = []\n",
    "p_values = []\n",
    "statistics = []\n",
    "for i in tqdm(range(100)):\n",
    "    x_values.append(i)\n",
    "    test_values = one_sample(x - 0.5, reps = i, stat='t')\n",
    "    p_values.append(test_values[0])\n",
    "    statistics.append(test_values[1])"
   ]
  },
  {
   "cell_type": "markdown",
   "metadata": {},
   "source": [
    "#### Бутстрэп\n",
    "Доверительные интервалы"
   ]
  },
  {
   "cell_type": "code",
   "execution_count": 85,
   "metadata": {},
   "outputs": [
    {
     "name": "stdout",
     "output_type": "stream",
     "text": [
      "Левый доверительный интервал = -1.5593422372758665, Правый = 1.1748390994714073\n"
     ]
    }
   ],
   "source": [
    "bs = IIDBootstrap(x)\n",
    "sigma = bs.conf_int(np.mean, 1000, method='basic').reshape(2,)\n",
    "print('Левый доверительный интервал = {}, Правый = {}'.format(sigma[0], sigma[1]))"
   ]
  }
 ],
 "metadata": {
  "kernelspec": {
   "display_name": "Python 3",
   "language": "python",
   "name": "python3"
  },
  "language_info": {
   "codemirror_mode": {
    "name": "ipython",
    "version": 3
   },
   "file_extension": ".py",
   "mimetype": "text/x-python",
   "name": "python",
   "nbconvert_exporter": "python",
   "pygments_lexer": "ipython3",
   "version": "3.6.6"
  }
 },
 "nbformat": 4,
 "nbformat_minor": 2
}
