{
 "cells": [
  {
   "cell_type": "code",
   "execution_count": 1,
   "metadata": {},
   "outputs": [],
   "source": [
    "import numpy as np\n",
    "import matplotlib.pyplot as plt\n",
    "%matplotlib inline\n",
    "import scipy.stats as st\n",
    "import pandas as pd"
   ]
  },
  {
   "cell_type": "markdown",
   "metadata": {},
   "source": [
    "Загрузим выборку"
   ]
  },
  {
   "cell_type": "code",
   "execution_count": 2,
   "metadata": {},
   "outputs": [
    {
     "name": "stdout",
     "output_type": "stream",
     "text": [
      "sample size = 100,\n",
      "          0\n",
      "0  0.703803\n",
      "1  0.248284\n",
      "2 -1.000821\n",
      "3 -0.091614\n",
      "4 -1.074855\n"
     ]
    }
   ],
   "source": [
    "data = pd.read_csv('homework_data/sem_2/zhiboedova.aa.csv', header=None)\n",
    "# data = pd.read_csv('homework_data/sem_2/kobzeva.an.csv', header=None)\n",
    "print('sample size = {},\\n{}'.format(data.size, data.head(5)))\n",
    "x = data.values"
   ]
  },
  {
   "cell_type": "markdown",
   "metadata": {},
   "source": [
    "Выборка размера 100. Выборочное среднее рассчитывается по формуле $\\overline{X}=\\dfrac{1}{n}\\sum X_i$. \n",
    "\n",
    "Оценка стандартного отклонения (несмещенная) по формуле s = $\\sqrt{\\dfrac{1}{n-1}\\sum (X_i - \\overline{X})^2}$"
   ]
  },
  {
   "cell_type": "code",
   "execution_count": 3,
   "metadata": {},
   "outputs": [
    {
     "name": "stdout",
     "output_type": "stream",
     "text": [
      "mean = 0.3085148925129407,\n",
      "std = 0.9059500266368007\n"
     ]
    }
   ],
   "source": [
    "print('mean = {},\\nstd = {}'.format(np.mean(x), np.std(x, ddof=1)))"
   ]
  },
  {
   "cell_type": "markdown",
   "metadata": {},
   "source": [
    "1. $H_0: \\text{выборка взята из нормального распредления - }N(\\mu, \\sigma)$ - Критерий  Харке-Бера (p<=0.05)\n",
    "2. $H_0: \\text{выборка взята из нормального распредления - }N(\\mu, \\sigma)$ - Шапиро-Уилка (p<=0.05)"
   ]
  },
  {
   "cell_type": "code",
   "execution_count": 4,
   "metadata": {},
   "outputs": [
    {
     "name": "stdout",
     "output_type": "stream",
     "text": [
      "Hypothesis is True by jarque_bera criterion, p_value = 0.6928361138255454 \n",
      "Hypothesis is True by shapiro criterion, p_value = 0.909896731376648\n"
     ]
    }
   ],
   "source": [
    "print('Hypothesis is {} by jarque_bera criterion, p_value = {} '.format(st.jarque_bera(x)[1] > 0.05, st.jarque_bera(x)[1]))\n",
    "print('Hypothesis is {} by shapiro criterion, p_value = {}'.format(st.shapiro(x)[1] > 0.05, st.shapiro(x)[1]))"
   ]
  },
  {
   "cell_type": "markdown",
   "metadata": {},
   "source": [
    "1. Гипотеза не отклонена\n",
    "2. Гипотеза не отклонена"
   ]
  },
  {
   "cell_type": "markdown",
   "metadata": {},
   "source": [
    "Бинаризация выборки"
   ]
  },
  {
   "cell_type": "code",
   "execution_count": 5,
   "metadata": {},
   "outputs": [
    {
     "name": "stdout",
     "output_type": "stream",
     "text": [
      "the amount of units = 64\n"
     ]
    }
   ],
   "source": [
    "x_bin = np.where(x >= 0, 1, 0)\n",
    "successes = sum(x_bin)[0]\n",
    "print('the amount of units =', successes)"
   ]
  },
  {
   "cell_type": "markdown",
   "metadata": {},
   "source": [
    "Биноминальный тест"
   ]
  },
  {
   "cell_type": "code",
   "execution_count": 6,
   "metadata": {},
   "outputs": [
    {
     "name": "stdout",
     "output_type": "stream",
     "text": [
      "p_value in binom_test = 0.006637120515926125\n"
     ]
    }
   ],
   "source": [
    "p_value = st.binom_test(successes, n=100, p=0.5, alternative='two-sided')\n",
    "print('p_value in binom_test =', p_value)"
   ]
  },
  {
   "cell_type": "markdown",
   "metadata": {},
   "source": [
    "Статистика критерия отношения правдоподобия: \n",
    "$LR(X_n) = −2 \\log \\dfrac{L(p_0)}{L(\\widehat{p})}$, \n",
    "\n",
    "где $T = \\sum X_i$, $\\widehat{p} = \\dfrac{T}{n}$, $L(p) = p^T (1−p)^{(n - T)}$"
   ]
  },
  {
   "cell_type": "code",
   "execution_count": 7,
   "metadata": {},
   "outputs": [
    {
     "name": "stdout",
     "output_type": "stream",
     "text": [
      "Statistics of Likelihood quotien =  7.945797153248706\n"
     ]
    }
   ],
   "source": [
    "p_0 = 0.5\n",
    "p_average = successes/100\n",
    "L = lambda p: p**successes * (1 - p)**(100 - successes)\n",
    "LR = -2 * np.log(L(p_0)/L(p_average)) \n",
    "print('Statistics of Likelihood quotien = ', LR )"
   ]
  }
 ],
 "metadata": {
  "kernelspec": {
   "display_name": "Python 3",
   "language": "python",
   "name": "python3"
  },
  "language_info": {
   "codemirror_mode": {
    "name": "ipython",
    "version": 3
   },
   "file_extension": ".py",
   "mimetype": "text/x-python",
   "name": "python",
   "nbconvert_exporter": "python",
   "pygments_lexer": "ipython3",
   "version": "3.6.6"
  }
 },
 "nbformat": 4,
 "nbformat_minor": 2
}
