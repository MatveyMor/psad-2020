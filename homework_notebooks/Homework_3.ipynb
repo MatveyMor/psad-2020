{
 "cells": [
  {
   "cell_type": "code",
   "execution_count": 21,
   "metadata": {},
   "outputs": [],
   "source": [
    "import numpy as np\n",
    "import matplotlib.pyplot as plt\n",
    "%matplotlib inline\n",
    "import scipy.stats as st\n",
    "import pandas as pd\n",
    "import seaborn as sns\n",
    "import time\n",
    "from tqdm import tqdm\n",
    "import itertools"
   ]
  },
  {
   "cell_type": "code",
   "execution_count": 2,
   "metadata": {},
   "outputs": [],
   "source": [
    "# перестановочный критерий\n",
    "from permute.core import one_sample\n",
    "\n",
    "# бутстрап\n",
    "from arch.bootstrap import IIDBootstrap\n",
    "\n",
    "#критерий знаков\n",
    "from statsmodels.stats.descriptivestats import sign_test"
   ]
  },
  {
   "cell_type": "code",
   "execution_count": 111,
   "metadata": {},
   "outputs": [
    {
     "name": "stdout",
     "output_type": "stream",
     "text": [
      "sample size = 20,\n",
      "[-1.49005116  0.81252476  0.11773769  0.70427627 -0.8866936   0.64122077\n",
      " -2.1085505  -0.47178366 -0.87882993 -0.41868674 -1.10143877  0.21933774\n",
      " -0.46356094 -0.93941343  0.11643263 -0.37178142  0.04850921 -0.83333462\n",
      " -2.4810639  -1.57230926]\n"
     ]
    }
   ],
   "source": [
    "#data = pd.read_csv('homework_data/sem_3/zhiboedova.aa.csv', header=None)\n",
    "data = pd.read_csv('homework_data/sem_3/kobzeva.an.csv', header=None)\n",
    "x = data.values.reshape(data.size,)\n",
    "print('sample size = {},\\n{}'.format(data.size, x))"
   ]
  },
  {
   "cell_type": "code",
   "execution_count": 112,
   "metadata": {},
   "outputs": [
    {
     "data": {
      "text/plain": [
       "<matplotlib.axes._subplots.AxesSubplot at 0x138e51978>"
      ]
     },
     "execution_count": 112,
     "metadata": {},
     "output_type": "execute_result"
    },
    {
     "data": {
      "image/png": "[encoded data removed]",
      "text/plain": [
       "<Figure size 432x288 with 1 Axes>"
      ]
     },
     "metadata": {},
     "output_type": "display_data"
    }
   ],
   "source": [
    "sns.kdeplot(x, shade=True, color='r')"
   ]
  },
  {
   "cell_type": "markdown",
   "metadata": {},
   "source": [
    "Поскольку выборка двупиковая, ее нельзя приблизить нормальным распредлением. Поэтому применение t-критерия Стьюдента невозможно. \n",
    "#### Критирий Уилкоксона (m0=0)"
   ]
  },
  {
   "cell_type": "code",
   "execution_count": 113,
   "metadata": {},
   "outputs": [
    {
     "name": "stdout",
     "output_type": "stream",
     "text": [
      "CPU times: user 499 µs, sys: 113 µs, total: 612 µs\n",
      "Wall time: 509 µs\n"
     ]
    },
    {
     "data": {
      "text/plain": [
       "WilcoxonResult(statistic=40.0, pvalue=0.015240061183200121)"
      ]
     },
     "execution_count": 113,
     "metadata": {},
     "output_type": "execute_result"
    }
   ],
   "source": [
    "%%time\n",
    "st.wilcoxon(x)"
   ]
  },
  {
   "cell_type": "markdown",
   "metadata": {},
   "source": [
    "#### Критерий знаков"
   ]
  },
  {
   "cell_type": "code",
   "execution_count": 114,
   "metadata": {},
   "outputs": [
    {
     "name": "stdout",
     "output_type": "stream",
     "text": [
      "p_value для критерия знаков =  0.2631759643554687\n",
      "CPU times: user 1.1 ms, sys: 37 µs, total: 1.14 ms\n",
      "Wall time: 1.29 ms\n"
     ]
    }
   ],
   "source": [
    "%%time\n",
    "p_value = sign_test(x, mu0=0)[1]\n",
    "print(\"p_value для критерия знаков = \", p_value)"
   ]
  },
  {
   "cell_type": "markdown",
   "metadata": {},
   "source": [
    "__Критерий перестановки__"
   ]
  },
  {
   "cell_type": "code",
   "execution_count": 115,
   "metadata": {},
   "outputs": [
    {
     "name": "stdout",
     "output_type": "stream",
     "text": [
      "Число перестановок =  1048576\n"
     ]
    }
   ],
   "source": [
    "resp = list(itertools.product([-1, 1], repeat=x.size))\n",
    "print(\"Число перестановок = \", len(resp))"
   ]
  },
  {
   "cell_type": "code",
   "execution_count": 116,
   "metadata": {},
   "outputs": [
    {
     "name": "stdout",
     "output_type": "stream",
     "text": [
      "Значение статистики для представленной выборки: t = -21.357458838047982\n"
     ]
    }
   ],
   "source": [
    "t = np.sum(x - 0.5)\n",
    "print('Значение статистики для представленной выборки: t = {}'.format(t))"
   ]
  },
  {
   "cell_type": "code",
   "execution_count": 117,
   "metadata": {},
   "outputs": [
    {
     "name": "stdout",
     "output_type": "stream",
     "text": [
      "Число перестановок со статистикой меньше или равной статистике по оригинальной выборке = 22\n",
      "CPU times: user 3.72 s, sys: 54.3 ms, total: 3.77 s\n",
      "Wall time: 3.8 s\n"
     ]
    }
   ],
   "source": [
    "%%time\n",
    "T = x - 0.5\n",
    "stats = []\n",
    "equal_t = 0\n",
    "for i, v in enumerate(resp):\n",
    "    stats.append(np.dot(T, v))\n",
    "    equal_t = equal_t + 1 if stats[i] <= t else equal_t\n",
    "print('Число перестановок со статистикой меньше или равной статистике по оригинальной выборке = {}'.format(equal_t))"
   ]
  },
  {
   "cell_type": "code",
   "execution_count": 107,
   "metadata": {},
   "outputs": [
    {
     "data": {
      "text/plain": [
       "<matplotlib.axes._subplots.AxesSubplot at 0x1396c9588>"
      ]
     },
     "execution_count": 107,
     "metadata": {},
     "output_type": "execute_result"
    },
    {
     "data": {
      "image/png": "[encoded data removed]",
      "text/plain": [
       "<Figure size 432x288 with 1 Axes>"
      ]
     },
     "metadata": {},
     "output_type": "display_data"
    }
   ],
   "source": [
    "sns.kdeplot(stats - t, shade=True)"
   ]
  },
  {
   "cell_type": "code",
   "execution_count": 105,
   "metadata": {},
   "outputs": [
    {
     "name": "stdout",
     "output_type": "stream",
     "text": [
      "p_value для перестановочного критерия = 0.8087119128808712 \n",
      "statistic = -0.6389819434169693\n",
      "CPU times: user 5.16 s, sys: 97.3 ms, total: 5.26 s\n",
      "Wall time: 5.44 s\n"
     ]
    }
   ],
   "source": [
    "%%time\n",
    "test_values_0 = one_sample(x - 0.5)\n",
    "print(\"p_value для перестановочного критерия = {} \\nstatistic = {}\".format(test_values_0[0], test_values_0[1]))"
   ]
  },
  {
   "cell_type": "code",
   "execution_count": 106,
   "metadata": {},
   "outputs": [
    {
     "name": "stderr",
     "output_type": "stream",
     "text": [
      "100%|██████████| 100/100 [00:01<00:00, 63.94it/s]\n"
     ]
    }
   ],
   "source": [
    "x_values = []\n",
    "p_values = []\n",
    "statistics = []\n",
    "for i in tqdm(range(100)):\n",
    "    x_values.append(i)\n",
    "    test_values = one_sample(x - 0.5, reps = i, stat='t')\n",
    "    p_values.append(test_values[0])\n",
    "    statistics.append(test_values[1])"
   ]
  },
  {
   "cell_type": "markdown",
   "metadata": {},
   "source": [
    "#### Бутстрэп\n",
    "Доверительные интервалы"
   ]
  },
  {
   "cell_type": "code",
   "execution_count": 118,
   "metadata": {},
   "outputs": [
    {
     "name": "stdout",
     "output_type": "stream",
     "text": [
      "Левый доверительный интервал = -0.9465535975635124, Правый = -0.1543711120435287\n"
     ]
    }
   ],
   "source": [
    "bs = IIDBootstrap(x)\n",
    "sigma = bs.conf_int(np.mean, 1000, method='basic').reshape(2,)\n",
    "print('Левый доверительный интервал = {}, Правый = {}'.format(sigma[0], sigma[1]))"
   ]
  },
  {
   "cell_type": "code",
   "execution_count": 110,
   "metadata": {},
   "outputs": [],
   "source": [
    "bs.conf_int?"
   ]
  },
  {
   "cell_type": "code",
   "execution_count": null,
   "metadata": {},
   "outputs": [],
   "source": []
  }
 ],
 "metadata": {
  "kernelspec": {
   "display_name": "Python 3",
   "language": "python",
   "name": "python3"
  },
  "language_info": {
   "codemirror_mode": {
    "name": "ipython",
    "version": 3
   },
   "file_extension": ".py",
   "mimetype": "text/x-python",
   "name": "python",
   "nbconvert_exporter": "python",
   "pygments_lexer": "ipython3",
   "version": "3.6.6"
  }
 },
 "nbformat": 4,
 "nbformat_minor": 2
}
