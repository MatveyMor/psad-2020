{
 "cells": [
  {
   "cell_type": "markdown",
   "metadata": {},
   "source": [
    "# Продажи австралийского вина\n",
    "Известны ежемесячные продажи австралийского вина в тысячах литров с января 1980 по июль 1995, необходимо построить прогноз на следующие два года."
   ]
  },
  {
   "cell_type": "code",
   "execution_count": null,
   "metadata": {},
   "outputs": [],
   "source": [
    "import numpy as np\n",
    "import pandas as pd\n",
    "import scipy.stats as st\n",
    "import matplotlib.pylab as plt\n",
    "import seaborn as sns\n",
    "\n",
    "from statsmodels.tsa.stattools import kpss\n",
    "from statsmodels.tsa.seasonal import seasonal_decompose\n",
    "from statsmodels.graphics.tsaplots import plot_acf\n",
    "from statsmodels.graphics.tsaplots import plot_pacf\n",
    "\n",
    "from statsmodels.tsa.arima_model import ARIMA\n",
    "from statsmodels.tsa.statespace.sarimax import SARIMAX\n",
    "\n",
    "from statsmodels.stats.diagnostic import acorr_ljungbox\n",
    "\n",
    "from statsmodels.tsa.holtwinters import ExponentialSmoothing\n",
    "\n",
    "plt.rcParams['figure.figsize'] = (12,8)"
   ]
  },
  {
   "cell_type": "code",
   "execution_count": null,
   "metadata": {},
   "outputs": [],
   "source": [
    "data = pd.read_csv('monthly-australian-wine-sales-th.csv', parse_dates=[0], delimiter=',')\n",
    "data.head()\n"
   ]
  },
  {
   "cell_type": "code",
   "execution_count": null,
   "metadata": {},
   "outputs": [],
   "source": [
    "data.columns = ['date', 'wine']\n",
    "data.head()"
   ]
  },
  {
   "cell_type": "code",
   "execution_count": null,
   "metadata": {},
   "outputs": [],
   "source": [
    "sns.lineplot(data['date'],data['wine'])\n",
    "\n",
    "plt.show()"
   ]
  },
  {
   "cell_type": "markdown",
   "metadata": {},
   "source": [
    "Попробуем поделить на число дней в месяце: "
   ]
  },
  {
   "cell_type": "code",
   "execution_count": null,
   "metadata": {},
   "outputs": [],
   "source": [
    "values = data['wine'].values.copy()\n",
    "days = [31, 28, 31, 30, 31, 30, 31, 31, 30, 31, 30, 31]\n",
    "for i in range(len(values)):\n",
    "    values[i]/=days[i%12]\n",
    "sns.lineplot(data['date'],values)\n",
    "\n",
    "plt.show()"
   ]
  },
  {
   "cell_type": "markdown",
   "metadata": {},
   "source": [
    "Ряд не стал более регулярным, так что вернёмся к исходным данным.\n",
    "\n",
    "STL-декомпозиция ряда:"
   ]
  },
  {
   "cell_type": "code",
   "execution_count": null,
   "metadata": {},
   "outputs": [],
   "source": [
    "data = data.set_index(pd.DatetimeIndex(data['date']))"
   ]
  },
  {
   "cell_type": "code",
   "execution_count": null,
   "metadata": {},
   "outputs": [],
   "source": [
    "data.head()"
   ]
  },
  {
   "cell_type": "code",
   "execution_count": null,
   "metadata": {},
   "outputs": [],
   "source": [
    "stl_data = seasonal_decompose(data['wine'])\n",
    "_= stl_data.plot()"
   ]
  },
  {
   "cell_type": "code",
   "execution_count": null,
   "metadata": {},
   "outputs": [],
   "source": [
    "transformed, lam = st.boxcox(data['wine'])\n",
    "data['bc'] = transformed\n",
    "print (lam)\n",
    "stl_data = seasonal_decompose(transformed, period=12)\n",
    "_= stl_data.plot()"
   ]
  },
  {
   "cell_type": "markdown",
   "metadata": {},
   "source": [
    "# ARIMA\n",
    "Стационарность:"
   ]
  },
  {
   "cell_type": "code",
   "execution_count": null,
   "metadata": {},
   "outputs": [],
   "source": [
    "kpss(data['wine'], nlags='legacy')"
   ]
  },
  {
   "cell_type": "markdown",
   "metadata": {},
   "source": [
    "Cделаем сезонное дифференцирование: "
   ]
  },
  {
   "cell_type": "code",
   "execution_count": null,
   "metadata": {},
   "outputs": [],
   "source": [
    "diff_ts = data['wine'].diff(12)[12:]\n",
    "plt.plot(diff_ts)\n",
    "kpss(diff_ts, nlags='legacy')"
   ]
  },
  {
   "cell_type": "markdown",
   "metadata": {},
   "source": [
    "Ряд всё ещё нестационарен. Проведём ещё одно дифференцирование: "
   ]
  },
  {
   "cell_type": "code",
   "execution_count": null,
   "metadata": {},
   "outputs": [],
   "source": [
    "diff_diff_ts = diff_ts.diff(1)[1:]\n",
    "plt.plot(diff_diff_ts)\n",
    "kpss(diff_diff_ts, nlags='legacy')"
   ]
  },
  {
   "cell_type": "markdown",
   "metadata": {},
   "source": [
    "Для полученного ряда гипотеза стационарности не отвергается"
   ]
  },
  {
   "cell_type": "markdown",
   "metadata": {},
   "source": [
    "Посмотрим на ACF и PACF полученного продифференцированного ряда:"
   ]
  },
  {
   "cell_type": "code",
   "execution_count": null,
   "metadata": {},
   "outputs": [],
   "source": [
    "plot_acf(diff_diff_ts, lags=15)\n",
    "\n",
    "plt.show()"
   ]
  },
  {
   "cell_type": "code",
   "execution_count": null,
   "metadata": {},
   "outputs": [],
   "source": [
    "plot_pacf(diff_diff_ts, lags=15)\n",
    "\n",
    "plt.show()"
   ]
  },
  {
   "cell_type": "markdown",
   "metadata": {},
   "source": [
    "На ACF значимы лаги 1 и 12, на PACF — 1-3. Будем искать модель, оптимальную по AICc, в окрестности ARIMA(3,1,1)"
   ]
  },
  {
   "cell_type": "code",
   "execution_count": null,
   "metadata": {
    "scrolled": true
   },
   "outputs": [],
   "source": [
    "for i in range(-1,2):\n",
    "    for k in range(-1, 2):\n",
    "        order = (3+i,1,1+k)\n",
    "        try:\n",
    "            arima = ARIMA(data['wine'].values, order=order).fit()\n",
    "            print(arima.summary())\n",
    "        except:\n",
    "            pass "
   ]
  },
  {
   "cell_type": "code",
   "execution_count": null,
   "metadata": {},
   "outputs": [],
   "source": [
    "arima = ARIMA(data['wine'].values, order=(2,1,1)).fit()\n",
    "print(arima.summary())"
   ]
  },
  {
   "cell_type": "code",
   "execution_count": null,
   "metadata": {},
   "outputs": [],
   "source": [
    "plt.plot(arima.resid)\n",
    "plot_pacf(arima.resid, lags=15)\n",
    "plot_acf(arima.resid, lags=15)\n",
    "\n",
    "plt.show()"
   ]
  },
  {
   "cell_type": "code",
   "execution_count": null,
   "metadata": {
    "scrolled": false
   },
   "outputs": [],
   "source": [
    "for i in range(-1,2):\n",
    "    for j in range(-1, 2):\n",
    "        order = (3+i, 1, 1+j)\n",
    "        sorder = (1, 1, 1, 12)\n",
    "        try:\n",
    "            arima = SARIMAX(data['wine'].values, order=order, seasonal_order=sorder).fit()\n",
    "            print(arima.summary())\n",
    "        except:\n",
    "            pass "
   ]
  },
  {
   "cell_type": "code",
   "execution_count": null,
   "metadata": {},
   "outputs": [],
   "source": [
    "arima = SARIMAX(data['wine'].values, order=(2,1,1), seasonal_order=(1, 1, 1, 12)).fit()\n",
    "\n",
    "\n",
    "plt.plot(arima.resid)\n",
    "plot_pacf(arima.resid, lags=15)\n",
    "plot_acf(arima.resid, lags=15)\n",
    "\n",
    "plt.show()"
   ]
  },
  {
   "cell_type": "code",
   "execution_count": null,
   "metadata": {},
   "outputs": [],
   "source": [
    "plt.scatter(range(16), acorr_ljungbox(arima.resid, lags=16)[1])\n",
    "\n",
    "plt.show()"
   ]
  },
  {
   "cell_type": "markdown",
   "metadata": {},
   "source": [
    "Q-Q plot: "
   ]
  },
  {
   "cell_type": "code",
   "execution_count": null,
   "metadata": {},
   "outputs": [],
   "source": [
    "_ = st.probplot(arima.resid, plot=plt)\n",
    "print (st.shapiro(arima.resid))\n",
    "plt.show()\n",
    "plt.hist(arima.resid)\n",
    "\n",
    "plt.show()"
   ]
  },
  {
   "cell_type": "code",
   "execution_count": null,
   "metadata": {},
   "outputs": [],
   "source": [
    "arima = SARIMAX(data['wine'].values[:-12], order=(3,1,1), seasonal_order=(1,1,1,12)).fit()\n",
    "predicted = arima.predict(0, data.shape[0])"
   ]
  },
  {
   "cell_type": "code",
   "execution_count": null,
   "metadata": {},
   "outputs": [],
   "source": [
    "plt.plot(data['wine'].values[:-12], alpha=0.5, ls='--')\n",
    "plt.plot(data['wine'].values[-12:], alpha=0.5, ls='--')\n",
    "plt.plot(predicted)\n",
    "\n",
    "plt.show()"
   ]
  },
  {
   "cell_type": "code",
   "execution_count": null,
   "metadata": {},
   "outputs": [],
   "source": [
    "arima = SARIMAX(data['wine'].values[:-12], order=(3,1,1), seasonal_order=(1,1,1,12)).fit()\n",
    "predicted = arima.predict(data.shape[0]-12, data.shape[0]-1, dynamic=True)"
   ]
  },
  {
   "cell_type": "code",
   "execution_count": null,
   "metadata": {},
   "outputs": [],
   "source": [
    "plt.plot(data['wine'].values[:-12], alpha=0.5, ls='--')\n",
    "plt.plot(range(len(data['wine'].values[:-12]), len(data['wine'])), data['wine'].values[-12:], alpha=0.5, ls='--')\n",
    "plt.plot(range(len(data['wine'].values[:-12]), len(data['wine'])), predicted)\n",
    "\n",
    "plt.show()"
   ]
  },
  {
   "cell_type": "markdown",
   "metadata": {},
   "source": [
    "# Прогноз ETS"
   ]
  },
  {
   "cell_type": "code",
   "execution_count": null,
   "metadata": {},
   "outputs": [],
   "source": [
    "ets = ExponentialSmoothing(data['wine'].values[12:]).fit(optimized=True)\n",
    "\n",
    "predicted = ets.predict(0, data.shape[0])\n",
    "\n",
    "plt.plot(data['wine'].values[:-12], alpha=0.5, ls='--')\n",
    "plt.plot(range(len(data['wine'].values[:-12]), len(data['wine'])), data['wine'].values[-12:], alpha=0.5, ls='--')\n",
    "plt.plot(predicted)\n",
    "\n",
    "plt.show()"
   ]
  },
  {
   "cell_type": "code",
   "execution_count": null,
   "metadata": {},
   "outputs": [],
   "source": [
    "ets = ExponentialSmoothing(data['wine'].values[12:],  trend='add').fit()\n",
    "\n",
    "predicted = ets.predict(0, data.shape[0])\n",
    "\n",
    "plt.plot(data['wine'].values[:-12], alpha=0.5, ls='--')\n",
    "plt.plot(range(len(data['wine'].values[:-12]), len(data['wine'])), data['wine'].values[-12:], alpha=0.5, ls='--')\n",
    "plt.plot(predicted)\n",
    "\n",
    "plt.show()"
   ]
  },
  {
   "cell_type": "code",
   "execution_count": null,
   "metadata": {},
   "outputs": [],
   "source": [
    "ets = ExponentialSmoothing(data['wine'].values[12:], seasonal='mul', trend='add', seasonal_periods=12).fit()\n",
    "\n",
    "predicted = ets.predict(0, data.shape[0])\n",
    "\n",
    "plt.plot(data['wine'].values[:-12], alpha=0.5, ls='--')\n",
    "plt.plot(range(len(data['wine'].values[:-12]), len(data['wine'])), data['wine'].values[-12:], alpha=0.5, ls='--')\n",
    "plt.plot(predicted)\n",
    "\n",
    "plt.show()"
   ]
  },
  {
   "cell_type": "code",
   "execution_count": null,
   "metadata": {},
   "outputs": [],
   "source": [
    "_ = st.probplot(ets.resid, plot=plt)\n",
    "print (st.shapiro(ets.resid))\n",
    "plt.show()\n",
    "\n",
    "plt.hist(ets.resid)\n",
    "plt.show()"
   ]
  },
  {
   "cell_type": "code",
   "execution_count": null,
   "metadata": {},
   "outputs": [],
   "source": [
    "ets = ExponentialSmoothing(data['wine'].values[12:], seasonal='mul', trend='add', seasonal_periods=12).fit(use_boxcox=True)\n",
    "\n",
    "predicted = ets.predict(0, data.shape[0])\n",
    "\n",
    "plt.plot(data['wine'].values[:-12], alpha=0.5, ls='--')\n",
    "plt.plot(range(len(data['wine'].values[:-12]), len(data['wine'])), data['wine'].values[-12:], alpha=0.5, ls='--')\n",
    "plt.plot(predicted)\n",
    "\n",
    "plt.show()"
   ]
  },
  {
   "cell_type": "code",
   "execution_count": null,
   "metadata": {},
   "outputs": [],
   "source": [
    "_ = st.probplot(ets.resid, plot=plt)\n",
    "print (st.shapiro(ets.resid))\n",
    "plt.show()\n",
    "\n",
    "plt.hist(ets.resid)\n",
    "plt.show()"
   ]
  },
  {
   "cell_type": "code",
   "execution_count": null,
   "metadata": {},
   "outputs": [],
   "source": [
    "ets = ExponentialSmoothing(data['bc'].values[12:], seasonal='mul', trend='add', seasonal_periods=12).fit()\n",
    "\n",
    "predicted = ets.predict(0, data.shape[0])\n",
    "\n",
    "plt.plot(data['bc'].values[:-12], alpha=0.5, ls='--')\n",
    "plt.plot(range(len(data['bc'].values[:-12]), len(data['bc'])), data['bc'].values[-12:], alpha=0.5, ls='--')\n",
    "plt.plot(predicted)\n",
    "\n",
    "plt.show()"
   ]
  },
  {
   "cell_type": "code",
   "execution_count": null,
   "metadata": {},
   "outputs": [],
   "source": [
    "_ = st.probplot(ets.resid, plot=plt)\n",
    "print (st.shapiro(ets.resid))\n",
    "plt.show()\n",
    "\n",
    "plt.hist(ets.resid)\n",
    "plt.show()"
   ]
  }
 ],
 "metadata": {
  "kernelspec": {
   "display_name": "Python 3",
   "language": "python",
   "name": "python3"
  },
  "language_info": {
   "codemirror_mode": {
    "name": "ipython",
    "version": 3
   },
   "file_extension": ".py",
   "mimetype": "text/x-python",
   "name": "python",
   "nbconvert_exporter": "python",
   "pygments_lexer": "ipython3",
   "version": "3.6.2"
  }
 },
 "nbformat": 4,
 "nbformat_minor": 2
}
