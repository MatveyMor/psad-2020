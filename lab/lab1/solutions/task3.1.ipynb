{
 "nbformat": 4,
 "nbformat_minor": 2,
 "metadata": {
  "language_info": {
   "name": "python",
   "codemirror_mode": {
    "name": "ipython",
    "version": 3
   },
   "version": "3.6.6-final"
  },
  "orig_nbformat": 2,
  "file_extension": ".py",
  "mimetype": "text/x-python",
  "name": "python",
  "npconvert_exporter": "python",
  "pygments_lexer": "ipython3",
  "version": 3,
  "kernelspec": {
   "name": "python3",
   "display_name": "Python 3"
  }
 },
 "cells": [
  {
   "cell_type": "markdown",
   "metadata": {},
   "source": [
    "## Задача 3.1\n",
    "\n",
    "Изучить поведение FDR для эксперимента из лекции. Рассмотреть случаи, когда количество объектов m варьируется от 200 от 100000 для следующих поправок:\n",
    "* Без поправок\n",
    "* Метод Холма\n",
    "* Метод Бенджамини-Хохберга\n"
   ]
  },
  {
   "cell_type": "code",
   "execution_count": 1,
   "metadata": {},
   "outputs": [],
   "source": [
    "from numpy import random as rand\n",
    "import numpy as np\n",
    "\n",
    "import matplotlib.pyplot as plt\n",
    "plt.style.use('classic')\n",
    "%matplotlib inline\n",
    "\n",
    "import scipy.stats as st\n",
    "import pandas as pd\n",
    "import seaborn as sns\n",
    "\n",
    "from tqdm import tqdm"
   ]
  },
  {
   "cell_type": "markdown",
   "metadata": {},
   "source": [
    "## Условия эксперимента из лекции\n",
    "\n",
    "- Дано два набора выборок, первый набор соответствует стандартному нормальному распредлению, второй набор смещенное с.н.р. медиана равна 1. \n",
    "\n",
    "- Объем первого набора $m_0 = 150$, объем второго набора вариируется в промежутке $[200 - m_0, \\ldots, 100000 - m_0] = m - m_0$.\n",
    "\n",
    "- Объем выборок равен $n = 20$\n",
    "\n",
    "- Нулевая гипотеза - математическое ожидание равняется 0, альтеравтиная гипотеза предполагает неравенство матожидания 0\n",
    "\n",
    "Запишем задачу:\n",
    "$$ X_i \\sim \\mathbf{N}(0, I), i = \\bar{1, m_0}$$\n",
    "$$ X_i \\sim \\mathbf{N}(1, I), i = \\bar{m_0, m}$$\n",
    "Гипотезы:\n",
    "$$ H_0^i: \\mathbf{E}X_i = 0$$\n",
    "$$ H_1^i: \\mathbf{E}X_i \\neq 0$$"
   ]
  },
  {
   "cell_type": "code",
   "execution_count": null,
   "metadata": {},
   "outputs": [],
   "source": [
    "#сгенерим данные\n",
    "m, m_0, n = 250, 150, 20\n",
    "RandomSeed = 42\n",
    "gen = np.random.RandomState(RandomSeed)\n",
    "X = gen.randn(m,n)\n",
    "X[m0 : ]+=1"
   ]
  }
 ]
}