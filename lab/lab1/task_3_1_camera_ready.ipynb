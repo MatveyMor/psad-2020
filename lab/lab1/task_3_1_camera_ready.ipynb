{
 "cells": [
  {
   "cell_type": "markdown",
   "metadata": {},
   "source": [
    "<img src=\"data/image.png\">"
   ]
  },
  {
   "cell_type": "markdown",
   "metadata": {},
   "source": [
    "Положим параметр $m \\in [200, 100000]$."
   ]
  },
  {
   "cell_type": "code",
   "execution_count": 1,
   "metadata": {},
   "outputs": [],
   "source": [
    "import numpy as np\n",
    "import scipy.stats as st\n",
    "from statsmodels.stats.multitest import multipletests\n",
    "\n",
    "import matplotlib.pyplot as plt\n",
    "import seaborn as sns\n",
    "%matplotlib inline"
   ]
  },
  {
   "cell_type": "code",
   "execution_count": 2,
   "metadata": {},
   "outputs": [],
   "source": [
    "np.random.seed(43)\n",
    "n = 20\n",
    "m0 = 150"
   ]
  },
  {
   "cell_type": "code",
   "execution_count": 3,
   "metadata": {},
   "outputs": [],
   "source": [
    "def get_samples(m):\n",
    "    assert m > m0\n",
    "    samples_1 = np.random.normal(0, 1, size=(m0, n))\n",
    "    samples_2 = np.random.normal(1, 1, size=(m-m0, n))\n",
    "    samples = np.concatenate([samples_1, samples_2], axis=0)\n",
    "    return samples\n",
    "\n",
    "    \n",
    "def confusion_stats(rejs):\n",
    "    #confusion matrix\n",
    "    tn = m0 - rejs[:m0].sum()\n",
    "    fp = rejs[:m0].sum()\n",
    "    fn = m-m0 - rejs[m0:].sum()\n",
    "    tp = rejs[m0:].sum()\n",
    "    return tn, fp, fn, tp\n",
    "\n",
    "\n",
    "def get_fdr(rejs):\n",
    "    #false discovery rate\n",
    "    tn, fp, fn, tp = confusion_stats(rejs)\n",
    "    fdr = fp / (tp + fp)\n",
    "    return fdr"
   ]
  },
  {
   "cell_type": "code",
   "execution_count": 4,
   "metadata": {},
   "outputs": [],
   "source": [
    "up_bound = 100000\n",
    "power = np.ceil(np.log2(up_bound/200)+1).astype(int)\n",
    "grid = [200*2**i for i in range(power)]\n",
    "grid[-1] = up_bound"
   ]
  },
  {
   "cell_type": "code",
   "execution_count": 5,
   "metadata": {},
   "outputs": [],
   "source": [
    "fdrs = np.zeros((3, power))"
   ]
  },
  {
   "cell_type": "code",
   "execution_count": 6,
   "metadata": {},
   "outputs": [],
   "source": [
    "for i, m in enumerate(grid):\n",
    "    # sample data\n",
    "    samples = get_samples(m)\n",
    "    # compute Student test\n",
    "    _, pvals = st.ttest_1samp(samples, np.zeros(m), axis=1)\n",
    "    # no correction\n",
    "    rejs = pvals < 0.05\n",
    "    fdrs[0, i] = get_fdr(rejs)\n",
    "    # benjamini-hochberg\n",
    "    rejs = multipletests(pvals, alpha=0.05, method='fdr_bh')[0]\n",
    "    fdrs[1, i] = get_fdr(rejs)\n",
    "    # bonferroni\n",
    "    rejs = multipletests(pvals, alpha=0.05, method='bonferroni')[0]\n",
    "    fdrs[2, i] = get_fdr(rejs)"
   ]
  },
  {
   "cell_type": "code",
   "execution_count": 16,
   "metadata": {},
   "outputs": [
    {
     "data": {
      "image/png": "[encoded data removed]",
      "text/plain": [
       "<Figure size 1152x720 with 1 Axes>"
      ]
     },
     "metadata": {
      "needs_background": "light"
     },
     "output_type": "display_data"
    }
   ],
   "source": [
    "cmap = sns.light_palette((200, 75, 60), input=\"husl\", reverse=True)\n",
    "plt.figure(figsize=(16, 10))\n",
    "annot = fdrs\n",
    "smooth_fdrs = 1/(fdrs+0.01) # hack to ignore outliers in color palette, while annotation is real fdrs\n",
    "sns.heatmap(smooth_fdrs, cmap=cmap, annot=fdrs, square=True, linewidths=.5, cbar=False,\\\n",
    "            yticklabels=['None', 'B-H.', 'Bonf.'], xticklabels=grid)\n",
    "plt.title('FDR = $f(m)$', fontsize=18)\n",
    "plt.xlabel('$m$', fontsize=16)\n",
    "plt.ylabel('correction', fontsize=16);"
   ]
  },
  {
   "cell_type": "markdown",
   "metadata": {},
   "source": [
    "---\n",
    "---\n",
    "Подводя черту, можем утвержать, что при множественной проверке гипотез на практике рассматроенные методы позволяют ограничивать значение FDR на желаемом уровне (в отличие от метода, не подразумевающего каких-либо поправок), более того, FDR убывает с ростом $m$.\n",
    "\n",
    "В случае поправке Бонферрони во всех экспериментах не было совершено ни одной ошибки первого рода, впрочем, как было показано в лекции, это достигается ценой падения шанса отклонить неверные гипотезы. Из этого следует, что при увеличении $m$ в результате применения поправки Бонферрони мощность статистической процедуры резко уменьшается, что в общем случае делает нецелесообразным ее применение.\n",
    "\n",
    "Поправка Бенджамини-Хохберга также контролирует FDR на заданном уровне $\\alpha$, поскольку выполнено ограничение применимости поправки, а именно $T_i$ независимы. Таким образом, поправка корректна для данной задачи и более желательна к применению в силу меньшей радикальности."
   ]
  }
 ],
 "metadata": {
  "kernelspec": {
   "display_name": "Python 3",
   "language": "python",
   "name": "python3"
  },
  "language_info": {
   "codemirror_mode": {
    "name": "ipython",
    "version": 3
   },
   "file_extension": ".py",
   "mimetype": "text/x-python",
   "name": "python",
   "nbconvert_exporter": "python",
   "pygments_lexer": "ipython3",
   "version": "3.7.3"
  }
 },
 "nbformat": 4,
 "nbformat_minor": 2
}
