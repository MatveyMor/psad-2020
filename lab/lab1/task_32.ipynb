{
  "nbformat": 4,
  "nbformat_minor": 0,
  "metadata": {
    "colab": {
      "name": "task_32.ipynb",
      "provenance": [],
      "collapsed_sections": []
    },
    "kernelspec": {
      "name": "python3",
      "display_name": "Python 3"
    }
  },
  "cells": [
    {
      "cell_type": "code",
      "metadata": {
        "id": "rH6lpENcGsIB",
        "colab_type": "code",
        "colab": {}
      },
      "source": [
        "import pandas as pd\n",
        "import matplotlib.pyplot as plt\n",
        "import scipy.stats as st"
      ],
      "execution_count": 0,
      "outputs": []
    },
    {
      "cell_type": "code",
      "metadata": {
        "id": "CQNKCFGXGwkL",
        "colab_type": "code",
        "colab": {}
      },
      "source": [
        "raw_data = pd.read_csv('nba.csv')"
      ],
      "execution_count": 0,
      "outputs": []
    },
    {
      "cell_type": "code",
      "metadata": {
        "id": "QREjheHGHl1-",
        "colab_type": "code",
        "outputId": "1095f6e4-75e8-4abf-c186-b906bb883af4",
        "colab": {
          "base_uri": "https://localhost:8080/",
          "height": 204
        }
      },
      "source": [
        "raw_data.head()"
      ],
      "execution_count": 51,
      "outputs": [
        {
          "output_type": "execute_result",
          "data": {
            "text/html": [
              "<div>\n",
              "<style scoped>\n",
              "    .dataframe tbody tr th:only-of-type {\n",
              "        vertical-align: middle;\n",
              "    }\n",
              "\n",
              "    .dataframe tbody tr th {\n",
              "        vertical-align: top;\n",
              "    }\n",
              "\n",
              "    .dataframe thead th {\n",
              "        text-align: right;\n",
              "    }\n",
              "</style>\n",
              "<table border=\"1\" class=\"dataframe\">\n",
              "  <thead>\n",
              "    <tr style=\"text-align: right;\">\n",
              "      <th></th>\n",
              "      <th>Unnamed: 0</th>\n",
              "      <th>player</th>\n",
              "      <th>team</th>\n",
              "      <th>atm_away</th>\n",
              "      <th>atm_home</th>\n",
              "      <th>score_away</th>\n",
              "      <th>score_home</th>\n",
              "      <th>atm_total</th>\n",
              "      <th>score_total</th>\n",
              "    </tr>\n",
              "  </thead>\n",
              "  <tbody>\n",
              "    <tr>\n",
              "      <th>0</th>\n",
              "      <td>7</td>\n",
              "      <td>A. Johnson</td>\n",
              "      <td>ATL</td>\n",
              "      <td>30</td>\n",
              "      <td>34</td>\n",
              "      <td>24</td>\n",
              "      <td>28</td>\n",
              "      <td>64</td>\n",
              "      <td>52</td>\n",
              "    </tr>\n",
              "    <tr>\n",
              "      <th>1</th>\n",
              "      <td>10</td>\n",
              "      <td>A. Johnson</td>\n",
              "      <td>TOR</td>\n",
              "      <td>63</td>\n",
              "      <td>57</td>\n",
              "      <td>44</td>\n",
              "      <td>38</td>\n",
              "      <td>120</td>\n",
              "      <td>82</td>\n",
              "    </tr>\n",
              "    <tr>\n",
              "      <th>2</th>\n",
              "      <td>15</td>\n",
              "      <td>Abdur-Rahim</td>\n",
              "      <td>SAC</td>\n",
              "      <td>114</td>\n",
              "      <td>124</td>\n",
              "      <td>84</td>\n",
              "      <td>90</td>\n",
              "      <td>238</td>\n",
              "      <td>174</td>\n",
              "    </tr>\n",
              "    <tr>\n",
              "      <th>3</th>\n",
              "      <td>22</td>\n",
              "      <td>Afflalo</td>\n",
              "      <td>DEN</td>\n",
              "      <td>236</td>\n",
              "      <td>284</td>\n",
              "      <td>189</td>\n",
              "      <td>227</td>\n",
              "      <td>520</td>\n",
              "      <td>416</td>\n",
              "    </tr>\n",
              "    <tr>\n",
              "      <th>4</th>\n",
              "      <td>23</td>\n",
              "      <td>Afflalo</td>\n",
              "      <td>DET</td>\n",
              "      <td>75</td>\n",
              "      <td>88</td>\n",
              "      <td>62</td>\n",
              "      <td>67</td>\n",
              "      <td>163</td>\n",
              "      <td>129</td>\n",
              "    </tr>\n",
              "  </tbody>\n",
              "</table>\n",
              "</div>"
            ],
            "text/plain": [
              "   Unnamed: 0       player team  ...  score_home  atm_total  score_total\n",
              "0           7   A. Johnson  ATL  ...          28         64           52\n",
              "1          10   A. Johnson  TOR  ...          38        120           82\n",
              "2          15  Abdur-Rahim  SAC  ...          90        238          174\n",
              "3          22      Afflalo  DEN  ...         227        520          416\n",
              "4          23      Afflalo  DET  ...          67        163          129\n",
              "\n",
              "[5 rows x 9 columns]"
            ]
          },
          "metadata": {
            "tags": []
          },
          "execution_count": 51
        }
      ]
    },
    {
      "cell_type": "code",
      "metadata": {
        "id": "a_EvPAw5Pugj",
        "colab_type": "code",
        "colab": {}
      },
      "source": [
        "# Сгруппируем игроков по имени\n",
        "raw_data = raw_data.groupby('player').agg(sum)"
      ],
      "execution_count": 0,
      "outputs": []
    },
    {
      "cell_type": "code",
      "metadata": {
        "id": "RtDhYjU0TkZ9",
        "colab_type": "code",
        "outputId": "5dfb23ef-6016-4acd-cf99-3ece46c3cf88",
        "colab": {
          "base_uri": "https://localhost:8080/",
          "height": 297
        }
      },
      "source": [
        "raw_data.describe()"
      ],
      "execution_count": 53,
      "outputs": [
        {
          "output_type": "execute_result",
          "data": {
            "text/html": [
              "<div>\n",
              "<style scoped>\n",
              "    .dataframe tbody tr th:only-of-type {\n",
              "        vertical-align: middle;\n",
              "    }\n",
              "\n",
              "    .dataframe tbody tr th {\n",
              "        vertical-align: top;\n",
              "    }\n",
              "\n",
              "    .dataframe thead th {\n",
              "        text-align: right;\n",
              "    }\n",
              "</style>\n",
              "<table border=\"1\" class=\"dataframe\">\n",
              "  <thead>\n",
              "    <tr style=\"text-align: right;\">\n",
              "      <th></th>\n",
              "      <th>Unnamed: 0</th>\n",
              "      <th>atm_away</th>\n",
              "      <th>atm_home</th>\n",
              "      <th>score_away</th>\n",
              "      <th>score_home</th>\n",
              "      <th>atm_total</th>\n",
              "      <th>score_total</th>\n",
              "    </tr>\n",
              "  </thead>\n",
              "  <tbody>\n",
              "    <tr>\n",
              "      <th>count</th>\n",
              "      <td>458.00000</td>\n",
              "      <td>458.000000</td>\n",
              "      <td>458.000000</td>\n",
              "      <td>458.000000</td>\n",
              "      <td>458.000000</td>\n",
              "      <td>458.000000</td>\n",
              "      <td>458.000000</td>\n",
              "    </tr>\n",
              "    <tr>\n",
              "      <th>mean</th>\n",
              "      <td>1742.91048</td>\n",
              "      <td>379.384279</td>\n",
              "      <td>401.312227</td>\n",
              "      <td>288.495633</td>\n",
              "      <td>305.875546</td>\n",
              "      <td>780.696507</td>\n",
              "      <td>594.371179</td>\n",
              "    </tr>\n",
              "    <tr>\n",
              "      <th>std</th>\n",
              "      <td>2123.93616</td>\n",
              "      <td>460.404119</td>\n",
              "      <td>482.857342</td>\n",
              "      <td>356.981169</td>\n",
              "      <td>373.920304</td>\n",
              "      <td>941.639037</td>\n",
              "      <td>729.557383</td>\n",
              "    </tr>\n",
              "    <tr>\n",
              "      <th>min</th>\n",
              "      <td>15.00000</td>\n",
              "      <td>14.000000</td>\n",
              "      <td>14.000000</td>\n",
              "      <td>7.000000</td>\n",
              "      <td>6.000000</td>\n",
              "      <td>51.000000</td>\n",
              "      <td>25.000000</td>\n",
              "    </tr>\n",
              "    <tr>\n",
              "      <th>25%</th>\n",
              "      <td>587.75000</td>\n",
              "      <td>85.250000</td>\n",
              "      <td>88.000000</td>\n",
              "      <td>60.000000</td>\n",
              "      <td>60.250000</td>\n",
              "      <td>174.250000</td>\n",
              "      <td>124.000000</td>\n",
              "    </tr>\n",
              "    <tr>\n",
              "      <th>50%</th>\n",
              "      <td>1140.50000</td>\n",
              "      <td>210.500000</td>\n",
              "      <td>231.500000</td>\n",
              "      <td>153.000000</td>\n",
              "      <td>165.500000</td>\n",
              "      <td>442.500000</td>\n",
              "      <td>334.000000</td>\n",
              "    </tr>\n",
              "    <tr>\n",
              "      <th>75%</th>\n",
              "      <td>2089.50000</td>\n",
              "      <td>474.750000</td>\n",
              "      <td>522.500000</td>\n",
              "      <td>356.000000</td>\n",
              "      <td>399.750000</td>\n",
              "      <td>1016.250000</td>\n",
              "      <td>754.750000</td>\n",
              "    </tr>\n",
              "    <tr>\n",
              "      <th>max</th>\n",
              "      <td>21586.00000</td>\n",
              "      <td>3512.000000</td>\n",
              "      <td>3338.000000</td>\n",
              "      <td>2806.000000</td>\n",
              "      <td>2626.000000</td>\n",
              "      <td>6830.000000</td>\n",
              "      <td>5432.000000</td>\n",
              "    </tr>\n",
              "  </tbody>\n",
              "</table>\n",
              "</div>"
            ],
            "text/plain": [
              "        Unnamed: 0     atm_away  ...    atm_total  score_total\n",
              "count    458.00000   458.000000  ...   458.000000   458.000000\n",
              "mean    1742.91048   379.384279  ...   780.696507   594.371179\n",
              "std     2123.93616   460.404119  ...   941.639037   729.557383\n",
              "min       15.00000    14.000000  ...    51.000000    25.000000\n",
              "25%      587.75000    85.250000  ...   174.250000   124.000000\n",
              "50%     1140.50000   210.500000  ...   442.500000   334.000000\n",
              "75%     2089.50000   474.750000  ...  1016.250000   754.750000\n",
              "max    21586.00000  3512.000000  ...  6830.000000  5432.000000\n",
              "\n",
              "[8 rows x 7 columns]"
            ]
          },
          "metadata": {
            "tags": []
          },
          "execution_count": 53
        }
      ]
    },
    {
      "cell_type": "markdown",
      "metadata": {
        "id": "UVDfuS4sEBUo",
        "colab_type": "text"
      },
      "source": [
        "Из статистики данных мы видим, что разброс числа бросков и попаданий очень большой. Пользоваться такими данными нецелесообразно, так как разные игроки могли играть разное количество игр, а в зависимости от их роли могло быть разным и число попыток забросить мяч. Поэтому мерой \"успешности\" игры мы будем считать долю успешных бросков."
      ]
    },
    {
      "cell_type": "code",
      "metadata": {
        "id": "koxHOdjpHm0o",
        "colab_type": "code",
        "colab": {}
      },
      "source": [
        "data = pd.DataFrame({'away': raw_data['score_away'] / raw_data['atm_away'],\n",
        "                     'home': raw_data['score_home'] / raw_data['atm_home']})"
      ],
      "execution_count": 0,
      "outputs": []
    },
    {
      "cell_type": "code",
      "metadata": {
        "id": "RA0prcooIzTm",
        "colab_type": "code",
        "outputId": "190fc155-75c2-45e7-af58-61fa7c426ca1",
        "colab": {
          "base_uri": "https://localhost:8080/",
          "height": 235
        }
      },
      "source": [
        "data.head()"
      ],
      "execution_count": 55,
      "outputs": [
        {
          "output_type": "execute_result",
          "data": {
            "text/html": [
              "<div>\n",
              "<style scoped>\n",
              "    .dataframe tbody tr th:only-of-type {\n",
              "        vertical-align: middle;\n",
              "    }\n",
              "\n",
              "    .dataframe tbody tr th {\n",
              "        vertical-align: top;\n",
              "    }\n",
              "\n",
              "    .dataframe thead th {\n",
              "        text-align: right;\n",
              "    }\n",
              "</style>\n",
              "<table border=\"1\" class=\"dataframe\">\n",
              "  <thead>\n",
              "    <tr style=\"text-align: right;\">\n",
              "      <th></th>\n",
              "      <th>away</th>\n",
              "      <th>home</th>\n",
              "    </tr>\n",
              "    <tr>\n",
              "      <th>player</th>\n",
              "      <th></th>\n",
              "      <th></th>\n",
              "    </tr>\n",
              "  </thead>\n",
              "  <tbody>\n",
              "    <tr>\n",
              "      <th>A. Johnson</th>\n",
              "      <td>0.731183</td>\n",
              "      <td>0.725275</td>\n",
              "    </tr>\n",
              "    <tr>\n",
              "      <th>Abdur-Rahim</th>\n",
              "      <td>0.736842</td>\n",
              "      <td>0.725806</td>\n",
              "    </tr>\n",
              "    <tr>\n",
              "      <th>Afflalo</th>\n",
              "      <td>0.807074</td>\n",
              "      <td>0.790323</td>\n",
              "    </tr>\n",
              "    <tr>\n",
              "      <th>Aldridge</th>\n",
              "      <td>0.754171</td>\n",
              "      <td>0.795745</td>\n",
              "    </tr>\n",
              "    <tr>\n",
              "      <th>Alexander</th>\n",
              "      <td>0.666667</td>\n",
              "      <td>0.723404</td>\n",
              "    </tr>\n",
              "  </tbody>\n",
              "</table>\n",
              "</div>"
            ],
            "text/plain": [
              "                 away      home\n",
              "player                         \n",
              "A. Johnson   0.731183  0.725275\n",
              "Abdur-Rahim  0.736842  0.725806\n",
              "Afflalo      0.807074  0.790323\n",
              "Aldridge     0.754171  0.795745\n",
              "Alexander    0.666667  0.723404"
            ]
          },
          "metadata": {
            "tags": []
          },
          "execution_count": 55
        }
      ]
    },
    {
      "cell_type": "markdown",
      "metadata": {
        "id": "NwtCLq64EjV6",
        "colab_type": "text"
      },
      "source": [
        "Рассмотрим разности этих столбцов. Если разницы, где играть, нет, то распределение должно получиться центрированным и симметричным."
      ]
    },
    {
      "cell_type": "code",
      "metadata": {
        "id": "6fzBl3WXJy59",
        "colab_type": "code",
        "colab": {}
      },
      "source": [
        "difference = data['away'] - data['home']"
      ],
      "execution_count": 0,
      "outputs": []
    },
    {
      "cell_type": "code",
      "metadata": {
        "id": "k9tzl4fBMD-h",
        "colab_type": "code",
        "outputId": "0cbbd0dd-1558-414a-cdc6-1491a4cdd998",
        "colab": {
          "base_uri": "https://localhost:8080/",
          "height": 265
        }
      },
      "source": [
        "plt.hist(difference, bins=50)\n",
        "plt.show()"
      ],
      "execution_count": 57,
      "outputs": [
        {
          "output_type": "display_data",
          "data": {
            "image/png": "[encoded data removed]",
            "text/plain": [
              "<Figure size 432x288 with 1 Axes>"
            ]
          },
          "metadata": {
            "tags": []
          }
        }
      ]
    },
    {
      "cell_type": "markdown",
      "metadata": {
        "id": "rUFwfiQXE7Iu",
        "colab_type": "text"
      },
      "source": [
        "Рассмотрим гистограммы столбцов. Если разницы, где играть, нет, гистограммы должны примерно совпадать."
      ]
    },
    {
      "cell_type": "code",
      "metadata": {
        "id": "5bVPMfRES62-",
        "colab_type": "code",
        "outputId": "2815c085-8b12-44c5-ac82-7b2ae19c4664",
        "colab": {
          "base_uri": "https://localhost:8080/",
          "height": 265
        }
      },
      "source": [
        "_ = plt.hist(data['away'], color='r', density=True)\n",
        "_ = plt.hist(data['home'], color='g', alpha=0.5, density=True)"
      ],
      "execution_count": 58,
      "outputs": [
        {
          "output_type": "display_data",
          "data": {
            "image/png": "[encoded data removed]",
            "text/plain": [
              "<Figure size 432x288 with 1 Axes>"
            ]
          },
          "metadata": {
            "tags": []
          }
        }
      ]
    },
    {
      "cell_type": "markdown",
      "metadata": {
        "id": "MGv5Hrz2G_E-",
        "colab_type": "text"
      },
      "source": [
        "Для этой задачи применим Z-критерий для разности двух долей"
      ]
    },
    {
      "cell_type": "code",
      "metadata": {
        "id": "OM8a_M_PZUzV",
        "colab_type": "code",
        "colab": {}
      },
      "source": [
        "from statsmodels.stats.proportion import proportions_ztest"
      ],
      "execution_count": 0,
      "outputs": []
    },
    {
      "cell_type": "code",
      "metadata": {
        "id": "gLTGqnLSHc0s",
        "colab_type": "code",
        "colab": {}
      },
      "source": [
        "p_values = []\n",
        "for _, item in raw_data.iterrows():\n",
        "  _, pval = proportions_ztest((item['score_away'], item['score_home']), \n",
        "                              (item['atm_away'], item['atm_home']), alternative='two-sided')\n",
        "  p_values.append(pval)"
      ],
      "execution_count": 0,
      "outputs": []
    },
    {
      "cell_type": "code",
      "metadata": {
        "id": "9X6B_hz4N4FP",
        "colab_type": "code",
        "colab": {
          "base_uri": "https://localhost:8080/",
          "height": 34
        },
        "outputId": "374fc943-b054-461e-94a5-cf2d9fbe8557"
      },
      "source": [
        "import numpy as np\n",
        "p_values = np.asarray(p_values)\n",
        "(p_values < 0.05).sum()"
      ],
      "execution_count": 62,
      "outputs": [
        {
          "output_type": "execute_result",
          "data": {
            "text/plain": [
              "32"
            ]
          },
          "metadata": {
            "tags": []
          },
          "execution_count": 62
        }
      ]
    },
    {
      "cell_type": "markdown",
      "metadata": {
        "id": "l7xPV9OdN2PK",
        "colab_type": "text"
      },
      "source": [
        "Таким образом, гипотезу о том, что игроки играют одинаково везде, можно отвергнуть для 32 игроков.\n",
        "\n",
        "Посмотрим, как изменится результат, в зависимости от поправки на множественность гипотез."
      ]
    },
    {
      "cell_type": "code",
      "metadata": {
        "id": "HbyLQSD6IVZ1",
        "colab_type": "code",
        "colab": {}
      },
      "source": [
        "from statsmodels.stats.multitest import multipletests"
      ],
      "execution_count": 0,
      "outputs": []
    },
    {
      "cell_type": "code",
      "metadata": {
        "id": "OFtdoHjfQ_Bd",
        "colab_type": "code",
        "colab": {
          "base_uri": "https://localhost:8080/",
          "height": 68
        },
        "outputId": "e032cd3c-5dea-4f06-8dc1-9a069dedc29d"
      },
      "source": [
        "for method in ['bonferroni', 'holm', 'fdr_bh']:\n",
        "  print(multipletests(p_values, method=method)[0].sum())"
      ],
      "execution_count": 66,
      "outputs": [
        {
          "output_type": "stream",
          "text": [
            "1\n",
            "1\n",
            "1\n"
          ],
          "name": "stdout"
        }
      ]
    },
    {
      "cell_type": "markdown",
      "metadata": {
        "id": "BWsJcM8HSZYT",
        "colab_type": "text"
      },
      "source": [
        "Таким образом для всех трех методов может быть отвергнута только одна гипотеза"
      ]
    }
  ]
}