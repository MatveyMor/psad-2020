{
 "cells": [
  {
   "cell_type": "markdown",
   "metadata": {},
   "source": [
    "# Задача 1.4"
   ]
  },
  {
   "cell_type": "markdown",
   "metadata": {},
   "source": [
    "Частота распределения слов в языке описывается законом Ципфа.\n",
    "\n",
    "Проверить, что он действительно описывает частоту слов (через формальный критерий) на основе анализа двух документов: Анны Карениной и новостного корпуса. Можно ли утверждать, что параметры закона Ципфа для этих двух корпусов совпадают?\n",
    "\n",
    "Пояснение по закону Ципфа: закон Ципфа утверждает, что в выборке из N элементов частота (вероятность) встретить элемент с рангом K равняется: const / K^a, где a --- параметр распределения."
   ]
  },
  {
   "cell_type": "markdown",
   "metadata": {},
   "source": [
    "# Решение"
   ]
  },
  {
   "cell_type": "markdown",
   "metadata": {},
   "source": [
    "Произведу предобработку, оставив только слова в ловеркейсе"
   ]
  },
  {
   "cell_type": "code",
   "execution_count": 269,
   "metadata": {},
   "outputs": [
    {
     "name": "stdout",
     "output_type": "stream",
     "text": [
      "['члены', 'национальной', 'ассамблеи', 'уэльса', 'обеспокоены', 'что', 'выглядят', 'как', 'куклы', 'некоторые', 'члены', 'национальной', 'ассамблеи', 'уэльса', 'в', 'ужасе', 'от', 'предложения', 'о', 'том', 'что', 'их', 'наименование', 'должно', 'измениться', 'на', 'mpw', 'члены', 'парламента', 'уэльса', 'этот', 'вопрос', 'был', 'поднят', 'в', 'связи', 'с', 'планами', 'по', 'переименованию', 'ассамблеи', 'в', 'парламент', 'уэльса', 'члены', 'национальной', 'ассамблеи', 'уэльса', 'всего', 'политического', 'спектра', 'обеспокоены', 'что', 'это', 'может', 'породить', 'насмешки', 'один', 'из', 'лейбористских', 'членов', 'национальной', 'ассамблеи', 'уэльса', 'сказал', 'что', 'его', 'партия', 'обеспокоена', 'тем', 'что', 'это', 'рифмуется', 'с', 'twp', 'и', 'pwp', 'для', 'читателей', 'за', 'предлами', 'уэльса', 'поваллийски', 'twp', 'означает', 'глупый', 'а', 'pwp', 'означает', 'какашка', 'член', 'национальной', 'ассамблеи', 'от', 'плайд', 'сказал', 'что', 'эта', 'партия', 'в']\n"
     ]
    }
   ],
   "source": [
    "filename = 'ru.txt'\n",
    "file = open(filename, 'r',encoding='utf8')\n",
    "text = file.read()\n",
    "file.close()\n",
    "# split into words by white space\n",
    "words = text.split()\n",
    "# remove punctuation from each word\n",
    "import string\n",
    "table = str.maketrans('', '', string.punctuation)\n",
    "stripped = [w.translate(table) for w in words]\n",
    "stripped = [x.lower() for x in stripped]\n",
    "print(stripped[:100])"
   ]
  },
  {
   "cell_type": "markdown",
   "metadata": {},
   "source": [
    "Изобразим на графике частоты, с которыми встречаются слова"
   ]
  },
  {
   "cell_type": "code",
   "execution_count": 271,
   "metadata": {},
   "outputs": [
    {
     "data": {
      "image/png": "[encoded data removed]",
      "text/plain": [
       "<Figure size 432x288 with 1 Axes>"
      ]
     },
     "metadata": {
      "needs_background": "light"
     },
     "output_type": "display_data"
    }
   ],
   "source": [
    "from collections import Counter\n",
    "import pandas as pd\n",
    "import matplotlib.pylab as plt\n",
    "counts = Counter(stripped)\n",
    "#print(counts)\n",
    "words = []\n",
    "freq = []\n",
    "for key in counts:\n",
    "    words.append(key)\n",
    "    freq.append(counts[key])\n",
    "df1 = pd.DataFrame({'word':words,'frequency':freq}).sort_values('frequency',ascending = False).reset_index()\n",
    "plt.bar(list(df1.index)[:100], list(df1['frequency'].values)[:100])\n",
    "plt.ylabel('Frequency')\n",
    "plt.title('Top 100 words in ru')\n",
    "plt.show()"
   ]
  },
  {
   "cell_type": "markdown",
   "metadata": {},
   "source": [
    "С помощью МНК найдем оптимальные значения констант a и C из предполагаемого распределения. В расчет берем только те слова, которых встретилось больше 10."
   ]
  },
  {
   "cell_type": "code",
   "execution_count": 284,
   "metadata": {},
   "outputs": [],
   "source": [
    "import math\n",
    "df1['y'] = df1['frequency'].apply(lambda x: math.log(x))"
   ]
  },
  {
   "cell_type": "code",
   "execution_count": 285,
   "metadata": {},
   "outputs": [
    {
     "name": "stderr",
     "output_type": "stream",
     "text": [
      "C:\\Users\\rukub\\Anaconda3\\AN\\lib\\site-packages\\ipykernel_launcher.py:7: FutureWarning: `rcond` parameter will change to the default of machine precision times ``max(M, N)`` where M and N are the input matrix dimensions.\n",
      "To use the future default and silence this warning we advise to pass `rcond=None`, to keep using the old, explicitly pass `rcond=-1`.\n",
      "  import sys\n"
     ]
    }
   ],
   "source": [
    "import numpy as np\n",
    "y = list(df1[df1['frequency']>10]['y'].values)\n",
    "x = np.arange(1,len(y)+1)\n",
    "for i in range(len(x)):\n",
    "    x[i] = math.log(x[i])\n",
    "A = np.vstack([x, np.ones(len(x))]).T\n",
    "m, c = np.linalg.lstsq(A, y)[0]"
   ]
  },
  {
   "cell_type": "code",
   "execution_count": 287,
   "metadata": {},
   "outputs": [
    {
     "name": "stdout",
     "output_type": "stream",
     "text": [
      "a = 0.8834207093694697 C = 1188.0205951499393\n"
     ]
    }
   ],
   "source": [
    "C = math.exp(c)\n",
    "a = -m\n",
    "print('a =',a, 'C =',C)\n",
    "x = np.arange(1,100)\n",
    "y = []\n",
    "for el in x:\n",
    "    y.append(C/el**a)"
   ]
  },
  {
   "cell_type": "markdown",
   "metadata": {},
   "source": [
    "Изобразим предполагаемое распределение частот и эксперементальное"
   ]
  },
  {
   "cell_type": "code",
   "execution_count": 275,
   "metadata": {},
   "outputs": [
    {
     "data": {
      "image/png": "[encoded data removed]",
      "text/plain": [
       "<Figure size 432x288 with 1 Axes>"
      ]
     },
     "metadata": {
      "needs_background": "light"
     },
     "output_type": "display_data"
    }
   ],
   "source": [
    "plt.plot(x,y,c='red')\n",
    "plt.bar(list(df1.index)[:100], list(df1['frequency'].values)[:100])\n",
    "plt.ylabel('Frequency')\n",
    "plt.title('Top 100 words in ru')\n",
    "plt.show()"
   ]
  },
  {
   "cell_type": "markdown",
   "metadata": {},
   "source": [
    "Посчитаем p-value для нашего экспериментального распределения частот"
   ]
  },
  {
   "cell_type": "code",
   "execution_count": 276,
   "metadata": {},
   "outputs": [
    {
     "data": {
      "text/plain": [
       "Power_divergenceResult(statistic=5117.334555409471, pvalue=0.0)"
      ]
     },
     "execution_count": 276,
     "metadata": {},
     "output_type": "execute_result"
    }
   ],
   "source": [
    "from scipy.stats import chisquare\n",
    "x = np.arange(1,len(list(df1[df1['frequency']>10]['frequency'].values))+1)\n",
    "y = []\n",
    "for el in x:\n",
    "    y.append(C/el**a)\n",
    "chisquare(list(df1[df1['frequency']>10]['frequency'].values),f_exp = y,ddof=1)"
   ]
  },
  {
   "cell_type": "markdown",
   "metadata": {},
   "source": [
    "Проделаем все тоже самое для Карениной:"
   ]
  },
  {
   "cell_type": "code",
   "execution_count": 277,
   "metadata": {},
   "outputs": [
    {
     "name": "stdout",
     "output_type": "stream",
     "text": [
      "['лев', 'николаевич', 'толстой', 'анна', 'каренина', 'мне', 'отмщение', 'и', 'аз', 'воздам', 'часть', 'первая', 'i', 'все', 'счастливые', 'семьи', 'похожи', 'друг', 'на', 'друга', 'каждая', 'несчастливая', 'семья', 'несчастлива', 'посвоему', 'все', 'смешалось', 'в', 'доме', 'облонских', 'жена', 'узнала', 'что', 'муж', 'был', 'в', 'связи', 'с', 'бывшею', 'в', 'их', 'доме', 'француженкоюгувернанткой', 'и', 'объявила', 'мужу', 'что', 'не', 'может', 'жить', 'с', 'ним', 'в', 'одном', 'доме', 'положение', 'это', 'продолжалось', 'уже', 'третий', 'день', 'и', 'мучительно', 'чувствовалось', 'и', 'самими', 'супругами', 'и', 'всеми', 'членами', 'семьи', 'и', 'домочадцами', 'все', 'члены', 'семьи', 'и', 'домочадцы', 'чувствовали', 'что', 'нет', 'смысла', 'в', 'их', 'сожительстве', 'и', 'что', 'на', 'каждом', 'постоялом', 'дворе', 'случайно', 'сошедшиеся', 'люди', 'более', 'связаны', 'между', 'собой', 'чем', 'они']\n"
     ]
    }
   ],
   "source": [
    "filename = 'каренина.txt'\n",
    "file = open(filename, 'r',encoding='utf8')\n",
    "text = file.read()\n",
    "file.close()\n",
    "# split into words by white space\n",
    "words = text.split()\n",
    "# remove punctuation from each word\n",
    "import string\n",
    "table = str.maketrans('', '', string.punctuation)\n",
    "stripped = [w.translate(table) for w in words]\n",
    "stripped = [x.lower() for x in stripped]\n",
    "print(stripped[:100])"
   ]
  },
  {
   "cell_type": "code",
   "execution_count": 278,
   "metadata": {},
   "outputs": [
    {
     "data": {
      "text/plain": [
       "280387"
      ]
     },
     "execution_count": 278,
     "metadata": {},
     "output_type": "execute_result"
    }
   ],
   "source": [
    "len(stripped)"
   ]
  },
  {
   "cell_type": "code",
   "execution_count": 279,
   "metadata": {},
   "outputs": [
    {
     "data": {
      "image/png": "[encoded data removed]",
      "text/plain": [
       "<Figure size 432x288 with 1 Axes>"
      ]
     },
     "metadata": {
      "needs_background": "light"
     },
     "output_type": "display_data"
    }
   ],
   "source": [
    "counts = Counter(stripped)\n",
    "#print(counts)\n",
    "words = []\n",
    "freq = []\n",
    "for key in counts:\n",
    "    words.append(key)\n",
    "    freq.append(counts[key])\n",
    "df2 = pd.DataFrame({'word':words,'frequency':freq}).sort_values('frequency',ascending = False).reset_index()\n",
    "plt.bar(list(df2.index)[:100], list(df2['frequency'].values)[:100])\n",
    "plt.ylabel('Frequency')\n",
    "plt.title('Top 100 words in karenina')\n",
    "plt.show()"
   ]
  },
  {
   "cell_type": "code",
   "execution_count": 280,
   "metadata": {},
   "outputs": [
    {
     "name": "stderr",
     "output_type": "stream",
     "text": [
      "C:\\Users\\rukub\\Anaconda3\\AN\\lib\\site-packages\\ipykernel_launcher.py:8: FutureWarning: `rcond` parameter will change to the default of machine precision times ``max(M, N)`` where M and N are the input matrix dimensions.\n",
      "To use the future default and silence this warning we advise to pass `rcond=None`, to keep using the old, explicitly pass `rcond=-1`.\n",
      "  \n"
     ]
    }
   ],
   "source": [
    "df2['y'] = df2['frequency'].apply(lambda x: math.log(x))\n",
    "\n",
    "y = list(df2[df2['frequency']>10]['y'].values)\n",
    "x = np.arange(1,len(y)+1)\n",
    "for i in range(len(x)):\n",
    "    x[i] = math.log(x[i])\n",
    "A = np.vstack([x, np.ones(len(x))]).T\n",
    "m, c = np.linalg.lstsq(A, y)[0]"
   ]
  },
  {
   "cell_type": "code",
   "execution_count": 281,
   "metadata": {},
   "outputs": [
    {
     "name": "stdout",
     "output_type": "stream",
     "text": [
      "0.9808465152833046 14431.373424470137\n"
     ]
    }
   ],
   "source": [
    "C = math.exp(c)\n",
    "a = -m\n",
    "\n",
    "print(a, C)\n",
    "x = np.arange(1,100)\n",
    "y = []\n",
    "for el in x:\n",
    "    y.append(C/el**a)"
   ]
  },
  {
   "cell_type": "code",
   "execution_count": 282,
   "metadata": {},
   "outputs": [
    {
     "data": {
      "image/png": "[encoded data removed]",
      "text/plain": [
       "<Figure size 432x288 with 1 Axes>"
      ]
     },
     "metadata": {
      "needs_background": "light"
     },
     "output_type": "display_data"
    }
   ],
   "source": [
    "plt.plot(x,y,c='red')\n",
    "plt.bar(list(df2.index)[:100], list(df2['frequency'].values)[:100])\n",
    "plt.ylabel('Frequency')\n",
    "plt.title('Top 100 words in karenina')\n",
    "plt.show()"
   ]
  },
  {
   "cell_type": "code",
   "execution_count": 283,
   "metadata": {},
   "outputs": [
    {
     "data": {
      "text/plain": [
       "Power_divergenceResult(statistic=73031.68842259383, pvalue=0.0)"
      ]
     },
     "execution_count": 283,
     "metadata": {},
     "output_type": "execute_result"
    }
   ],
   "source": [
    "from scipy.stats import chisquare\n",
    "x = np.arange(1,len(list(df2[df2['frequency']>10]['frequency'].values))+1)\n",
    "y = []\n",
    "for el in x:\n",
    "    y.append(C/el**a)\n",
    "chisquare(list(df2[df2['frequency']>10]['frequency'].values),f_exp = y,ddof=1)"
   ]
  },
  {
   "cell_type": "markdown",
   "metadata": {},
   "source": [
    "# Вывод"
   ]
  },
  {
   "cell_type": "markdown",
   "metadata": {},
   "source": [
    "На разумном уровне значимости мы вынуждены отклонить гипотезы о том, что частоты слов в текстах имеют распределeние именно с такими параметрами, как найдено выше, хотя визуально полученные зависимости очень неплохо апроксимируют эксперементальные данные."
   ]
  }
 ],
 "metadata": {
  "kernelspec": {
   "display_name": "Python 3",
   "language": "python",
   "name": "python3"
  },
  "language_info": {
   "codemirror_mode": {
    "name": "ipython",
    "version": 3
   },
   "file_extension": ".py",
   "mimetype": "text/x-python",
   "name": "python",
   "nbconvert_exporter": "python",
   "pygments_lexer": "ipython3",
   "version": "3.7.3"
  }
 },
 "nbformat": 4,
 "nbformat_minor": 2
}
