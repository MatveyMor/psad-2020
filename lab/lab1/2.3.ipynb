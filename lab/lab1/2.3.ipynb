{
 "cells": [
  {
   "cell_type": "markdown",
   "metadata": {},
   "source": [
    "# №1"
   ]
  },
  {
   "cell_type": "markdown",
   "metadata": {},
   "source": [
    "Если считать, что поломка равновероятна (с вероятностью $p$) в любой день и не зависит от предыдущих дней, тогда распределение с.в. - количества дней без поломок $n$ будет следующим: $$\\mathbb{P}\\{n=k | p\\} = (1-p)^{k-1}p$$\n",
    "\n",
    "Это есть вероятность события - поломка не произойдет k-1 день подряд и произойдет на k-й день.\n",
    "\n",
    "Это распределение называется геометрическим: $$n \\sim Geom(p)$$\n",
    "\n",
    "Дисперсия такого распределения:\n",
    "\n",
    "$$\\mathbb{V}[n] = \\frac{1-p}{p^2}$$"
   ]
  },
  {
   "cell_type": "markdown",
   "metadata": {},
   "source": [
    "# №2"
   ]
  },
  {
   "cell_type": "markdown",
   "metadata": {},
   "source": [
    "Запишем задачу формально.\n",
    "\n",
    "Дана выборка $x = (3, 22, 13, 6, 18, 5, 6, 10, 7, 15)$, $x \\sim Geom(p)$.\n",
    "\n",
    "$$H_0: \\mathbb{V}[x] = 9$$\n",
    "$$H_1: \\mathbb{V}[x] > 9$$\n",
    "\n",
    "Переформулируем задачу, учитывая что $\\mathbb{V}[x] = \\frac{1-p}{p^2}$\n",
    "$$\\frac{1-p}{p^2} = 9 \\Rightarrow p = \\frac{\\sqrt{37}-1}{18} = p_0$$\n",
    "$$\\frac{1-p}{p^2} > 9 \\Rightarrow p < p_0$$\n",
    "\n",
    "Тогда \n",
    "\n",
    "$$H_0: p = p_0$$\n",
    "$$H_1: p < p_0$$"
   ]
  },
  {
   "cell_type": "markdown",
   "metadata": {},
   "source": [
    "# №3"
   ]
  },
  {
   "cell_type": "markdown",
   "metadata": {},
   "source": [
    "Для этой задачи будем использовать параметрический критерий меток, так как он лучше чем критерий Вальда, и в отличие от критерия отношения правдоподобия, допускает односторонюю альтернативу."
   ]
  },
  {
   "cell_type": "markdown",
   "metadata": {},
   "source": [
    "# №4"
   ]
  },
  {
   "cell_type": "markdown",
   "metadata": {},
   "source": [
    "Для выборки $X^n$ объема $n$:\n",
    "\n",
    "$$L(p) = \\prod\\limits_{i=1}^{n}p(1-p)^{x_i-1} = p^n(1-p)^{\\sum\\limits_{i=1}^{n}x_i-n}$$\n",
    "\n",
    "$$\\log L(p) = n\\log p + \\left(\\sum\\limits_{i=1}^{n}x_i-n\\right)\\log (1-p)$$\n",
    "\n",
    "$$S(p) = \\frac{\\partial}{\\partial p} \\log L(p) = n\\left(\\frac{1}{p} + \\left(1-\\frac{1}{n}\\sum\\limits_{i=1}^{n}x_i\\right)\\frac{1}{1-p}\\right)$$\n",
    "\n",
    "$$I(p) = -\\frac{\\partial^2}{\\partial^2 p}\\log L(p) = n\\left(\\frac{1}{p^2} - \\left(1-\\frac{1}{n}\\sum\\limits_{i=1}^{n}x_i\\right)\\frac{1}{(1-p)^2}\\right)$$\n",
    "\n",
    "Статистика:\n",
    "\n",
    "$$Z_S(X^n) = \\frac{S(p)}{\\sqrt{I(p)}}$$\n",
    "\n",
    "Нулевое распределение:\n",
    "\n",
    "$$Z_S(X^n) \\sim \\mathcal{N}(0,1)$$\n",
    "\n",
    "Достигаемый уровень значимости:\n",
    "\n",
    "$$F_{\\mathcal{N}(0,1)}(Z_S)$$\n",
    "\n",
    "В условиях нашей задаче при данной выборке:  $Z_S \\approx -5.508$, \n",
    "\n",
    "p-value $ = 1.81 \\cdot 10^{-8} < 0.05 = $ alpha\n",
    "\n",
    "Значит мы отвергаем нулевую гипотезу о том, что дисперсия равна 9 в пользу правостороней альтернативы."
   ]
  },
  {
   "cell_type": "markdown",
   "metadata": {},
   "source": [
    "# №5"
   ]
  },
  {
   "cell_type": "markdown",
   "metadata": {},
   "source": [
    "Используем статистику из критерия Вальда:\n",
    "\n",
    "$$\\frac{p_{MLE}-p_0}{\\sqrt{\\mathbb{V}[p_{MLE}]}} \\sim \\mathcal{N}(0,1)$$\n",
    "\n",
    "$$p_{MLE} = \\frac{1}{\\frac{1}{n}\\sum\\limits_{i=1}^{n}x_i} \\approx 0.0952 $$\n",
    "\n",
    "С помощью неравенства Рао-Крамера:\n",
    "\n",
    "$$\\sqrt{\\mathbb{V}[p_{MLE}]} = \\sqrt{I^{-1}(p_{MLE})} \\approx 0.0286 $$\n",
    "\n",
    "$$p_0 \\in \\left[p_{MLE} - z_{1-\\frac{\\alpha}{2}}\\sqrt{I^{-1}(p_{MLE})}, \\quad p_{MLE} + z_{1-\\frac{\\alpha}{2}}\\sqrt{I^{-1}(p_{MLE})}\\right]$$\n",
    "\n",
    "При $\\alpha = 0.05$:\n",
    "\n",
    "$$z_{1-\\frac{\\alpha}{2}} \\approx 1.95996$$\n",
    "\n",
    "$$p_0 \\in \\left[0.0391, 0.1514\\right]$$\n",
    "\n",
    "$$\\mathbb{V}[x] = \\frac{1-p_0}{p_0^2} \\in \\left[37.0, 628.8\\right]$$"
   ]
  }
 ],
 "metadata": {
  "kernelspec": {
   "display_name": "Python 3",
   "language": "python",
   "name": "python3"
  },
  "language_info": {
   "codemirror_mode": {
    "name": "ipython",
    "version": 3
   },
   "file_extension": ".py",
   "mimetype": "text/x-python",
   "name": "python",
   "nbconvert_exporter": "python",
   "pygments_lexer": "ipython3",
   "version": "3.6.5"
  }
 },
 "nbformat": 4,
 "nbformat_minor": 4
}
