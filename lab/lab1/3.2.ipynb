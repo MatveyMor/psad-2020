{
 "cells": [
  {
   "cell_type": "code",
   "execution_count": 107,
   "metadata": {},
   "outputs": [],
   "source": [
    "import pandas as pd\n",
    "import scipy.stats as st\n",
    "import matplotlib.pyplot as plt\n",
    "import numpy as np\n",
    "from permute.core import one_sample\n",
    "import seaborn as sns"
   ]
  },
  {
   "cell_type": "code",
   "execution_count": 9,
   "metadata": {
    "scrolled": true
   },
   "outputs": [
    {
     "data": {
      "text/html": [
       "<div>\n",
       "<style scoped>\n",
       "    .dataframe tbody tr th:only-of-type {\n",
       "        vertical-align: middle;\n",
       "    }\n",
       "\n",
       "    .dataframe tbody tr th {\n",
       "        vertical-align: top;\n",
       "    }\n",
       "\n",
       "    .dataframe thead th {\n",
       "        text-align: right;\n",
       "    }\n",
       "</style>\n",
       "<table border=\"1\" class=\"dataframe\">\n",
       "  <thead>\n",
       "    <tr style=\"text-align: right;\">\n",
       "      <th></th>\n",
       "      <th>player</th>\n",
       "      <th>team</th>\n",
       "      <th>atm_away</th>\n",
       "      <th>atm_home</th>\n",
       "      <th>score_away</th>\n",
       "      <th>score_home</th>\n",
       "      <th>atm_total</th>\n",
       "      <th>score_total</th>\n",
       "    </tr>\n",
       "  </thead>\n",
       "  <tbody>\n",
       "    <tr>\n",
       "      <th>0</th>\n",
       "      <td>A. Johnson</td>\n",
       "      <td>ATL</td>\n",
       "      <td>30</td>\n",
       "      <td>34</td>\n",
       "      <td>24</td>\n",
       "      <td>28</td>\n",
       "      <td>64</td>\n",
       "      <td>52</td>\n",
       "    </tr>\n",
       "    <tr>\n",
       "      <th>1</th>\n",
       "      <td>A. Johnson</td>\n",
       "      <td>TOR</td>\n",
       "      <td>63</td>\n",
       "      <td>57</td>\n",
       "      <td>44</td>\n",
       "      <td>38</td>\n",
       "      <td>120</td>\n",
       "      <td>82</td>\n",
       "    </tr>\n",
       "    <tr>\n",
       "      <th>2</th>\n",
       "      <td>Abdur-Rahim</td>\n",
       "      <td>SAC</td>\n",
       "      <td>114</td>\n",
       "      <td>124</td>\n",
       "      <td>84</td>\n",
       "      <td>90</td>\n",
       "      <td>238</td>\n",
       "      <td>174</td>\n",
       "    </tr>\n",
       "    <tr>\n",
       "      <th>3</th>\n",
       "      <td>Afflalo</td>\n",
       "      <td>DEN</td>\n",
       "      <td>236</td>\n",
       "      <td>284</td>\n",
       "      <td>189</td>\n",
       "      <td>227</td>\n",
       "      <td>520</td>\n",
       "      <td>416</td>\n",
       "    </tr>\n",
       "    <tr>\n",
       "      <th>4</th>\n",
       "      <td>Afflalo</td>\n",
       "      <td>DET</td>\n",
       "      <td>75</td>\n",
       "      <td>88</td>\n",
       "      <td>62</td>\n",
       "      <td>67</td>\n",
       "      <td>163</td>\n",
       "      <td>129</td>\n",
       "    </tr>\n",
       "  </tbody>\n",
       "</table>\n",
       "</div>"
      ],
      "text/plain": [
       "        player team  atm_away  atm_home  score_away  score_home  atm_total  \\\n",
       "0   A. Johnson  ATL        30        34          24          28         64   \n",
       "1   A. Johnson  TOR        63        57          44          38        120   \n",
       "2  Abdur-Rahim  SAC       114       124          84          90        238   \n",
       "3      Afflalo  DEN       236       284         189         227        520   \n",
       "4      Afflalo  DET        75        88          62          67        163   \n",
       "\n",
       "   score_total  \n",
       "0           52  \n",
       "1           82  \n",
       "2          174  \n",
       "3          416  \n",
       "4          129  "
      ]
     },
     "execution_count": 9,
     "metadata": {},
     "output_type": "execute_result"
    }
   ],
   "source": [
    "data = pd.read_csv('data/nba.csv').drop(columns=\"Unnamed: 0\")\n",
    "data.head()"
   ]
  },
  {
   "cell_type": "markdown",
   "metadata": {},
   "source": [
    "Если дома игроки бросают лучше, то доля успешных бросков для дома должна быть выше."
   ]
  },
  {
   "cell_type": "code",
   "execution_count": 11,
   "metadata": {},
   "outputs": [],
   "source": [
    "data['percent_home'] = data['score_home']/data['atm_home']\n",
    "data['percent_away'] = data['score_away']/data['atm_away']"
   ]
  },
  {
   "cell_type": "code",
   "execution_count": 14,
   "metadata": {
    "scrolled": false
   },
   "outputs": [
    {
     "data": {
      "text/html": [
       "<div>\n",
       "<style scoped>\n",
       "    .dataframe tbody tr th:only-of-type {\n",
       "        vertical-align: middle;\n",
       "    }\n",
       "\n",
       "    .dataframe tbody tr th {\n",
       "        vertical-align: top;\n",
       "    }\n",
       "\n",
       "    .dataframe thead th {\n",
       "        text-align: right;\n",
       "    }\n",
       "</style>\n",
       "<table border=\"1\" class=\"dataframe\">\n",
       "  <thead>\n",
       "    <tr style=\"text-align: right;\">\n",
       "      <th></th>\n",
       "      <th>player</th>\n",
       "      <th>team</th>\n",
       "      <th>atm_away</th>\n",
       "      <th>atm_home</th>\n",
       "      <th>score_away</th>\n",
       "      <th>score_home</th>\n",
       "      <th>atm_total</th>\n",
       "      <th>score_total</th>\n",
       "      <th>percent_home</th>\n",
       "      <th>percent_away</th>\n",
       "    </tr>\n",
       "  </thead>\n",
       "  <tbody>\n",
       "    <tr>\n",
       "      <th>0</th>\n",
       "      <td>A. Johnson</td>\n",
       "      <td>ATL</td>\n",
       "      <td>30</td>\n",
       "      <td>34</td>\n",
       "      <td>24</td>\n",
       "      <td>28</td>\n",
       "      <td>64</td>\n",
       "      <td>52</td>\n",
       "      <td>0.823529</td>\n",
       "      <td>0.800000</td>\n",
       "    </tr>\n",
       "    <tr>\n",
       "      <th>1</th>\n",
       "      <td>A. Johnson</td>\n",
       "      <td>TOR</td>\n",
       "      <td>63</td>\n",
       "      <td>57</td>\n",
       "      <td>44</td>\n",
       "      <td>38</td>\n",
       "      <td>120</td>\n",
       "      <td>82</td>\n",
       "      <td>0.666667</td>\n",
       "      <td>0.698413</td>\n",
       "    </tr>\n",
       "    <tr>\n",
       "      <th>2</th>\n",
       "      <td>Abdur-Rahim</td>\n",
       "      <td>SAC</td>\n",
       "      <td>114</td>\n",
       "      <td>124</td>\n",
       "      <td>84</td>\n",
       "      <td>90</td>\n",
       "      <td>238</td>\n",
       "      <td>174</td>\n",
       "      <td>0.725806</td>\n",
       "      <td>0.736842</td>\n",
       "    </tr>\n",
       "    <tr>\n",
       "      <th>3</th>\n",
       "      <td>Afflalo</td>\n",
       "      <td>DEN</td>\n",
       "      <td>236</td>\n",
       "      <td>284</td>\n",
       "      <td>189</td>\n",
       "      <td>227</td>\n",
       "      <td>520</td>\n",
       "      <td>416</td>\n",
       "      <td>0.799296</td>\n",
       "      <td>0.800847</td>\n",
       "    </tr>\n",
       "    <tr>\n",
       "      <th>4</th>\n",
       "      <td>Afflalo</td>\n",
       "      <td>DET</td>\n",
       "      <td>75</td>\n",
       "      <td>88</td>\n",
       "      <td>62</td>\n",
       "      <td>67</td>\n",
       "      <td>163</td>\n",
       "      <td>129</td>\n",
       "      <td>0.761364</td>\n",
       "      <td>0.826667</td>\n",
       "    </tr>\n",
       "  </tbody>\n",
       "</table>\n",
       "</div>"
      ],
      "text/plain": [
       "        player team  atm_away  atm_home  score_away  score_home  atm_total  \\\n",
       "0   A. Johnson  ATL        30        34          24          28         64   \n",
       "1   A. Johnson  TOR        63        57          44          38        120   \n",
       "2  Abdur-Rahim  SAC       114       124          84          90        238   \n",
       "3      Afflalo  DEN       236       284         189         227        520   \n",
       "4      Afflalo  DET        75        88          62          67        163   \n",
       "\n",
       "   score_total  percent_home  percent_away  \n",
       "0           52      0.823529      0.800000  \n",
       "1           82      0.666667      0.698413  \n",
       "2          174      0.725806      0.736842  \n",
       "3          416      0.799296      0.800847  \n",
       "4          129      0.761364      0.826667  "
      ]
     },
     "execution_count": 14,
     "metadata": {},
     "output_type": "execute_result"
    }
   ],
   "source": [
    "data.head()"
   ]
  },
  {
   "cell_type": "code",
   "execution_count": 75,
   "metadata": {},
   "outputs": [
    {
     "data": {
      "text/plain": [
       "<matplotlib.axes._subplots.AxesSubplot at 0x129a5e160>"
      ]
     },
     "execution_count": 75,
     "metadata": {},
     "output_type": "execute_result"
    },
    {
     "data": {
      "image/png": "[encoded data removed]",
      "text/plain": [
       "<Figure size 432x288 with 1 Axes>"
      ]
     },
     "metadata": {
      "needs_background": "light"
     },
     "output_type": "display_data"
    }
   ],
   "source": [
    "data['score_home'].hist(bins=30, color='green', alpha=0.3)\n",
    "data['score_away'].hist(bins=30, alpha=0.3, color='red')"
   ]
  },
  {
   "cell_type": "markdown",
   "metadata": {},
   "source": [
    "# Test"
   ]
  },
  {
   "cell_type": "code",
   "execution_count": 57,
   "metadata": {},
   "outputs": [],
   "source": [
    "p_value, t, d = one_sample(data['percent_home'], data['percent_away'], alternative='greater', keep_dist=True)"
   ]
  },
  {
   "cell_type": "code",
   "execution_count": 83,
   "metadata": {},
   "outputs": [
    {
     "data": {
      "text/plain": [
       "0.18507814921850782"
      ]
     },
     "execution_count": 83,
     "metadata": {},
     "output_type": "execute_result"
    }
   ],
   "source": [
    "p_value"
   ]
  },
  {
   "cell_type": "code",
   "execution_count": 86,
   "metadata": {
    "scrolled": true
   },
   "outputs": [
    {
     "data": {
      "text/plain": [
       "WilcoxonResult(statistic=232267.0, pvalue=0.04542543790748596)"
      ]
     },
     "execution_count": 86,
     "metadata": {},
     "output_type": "execute_result"
    }
   ],
   "source": [
    "st.wilcoxon(data['percent_home'], data['percent_away'], alternative='greater')"
   ]
  },
  {
   "cell_type": "markdown",
   "metadata": {},
   "source": [
    "По критерию Уилкоксона отклоняем нулевую гипотезу ($\\alpha = 0.05$) о равенстве средних в пользу альтернативы о том что процент попаданий дома больше."
   ]
  },
  {
   "cell_type": "code",
   "execution_count": 109,
   "metadata": {},
   "outputs": [
    {
     "data": {
      "image/png": "[encoded data removed]",
      "text/plain": [
       "<Figure size 432x288 with 1 Axes>"
      ]
     },
     "metadata": {
      "needs_background": "light"
     },
     "output_type": "display_data"
    }
   ],
   "source": [
    "sns.distplot(data['percent_home'] - data['percent_away'], bins=30)\n",
    "plt.show()"
   ]
  },
  {
   "cell_type": "code",
   "execution_count": 99,
   "metadata": {},
   "outputs": [
    {
     "data": {
      "image/png": "[encoded data removed]",
      "text/plain": [
       "<Figure size 432x288 with 1 Axes>"
      ]
     },
     "metadata": {
      "needs_background": "light"
     },
     "output_type": "display_data"
    }
   ],
   "source": [
    "qq_points, qq_line = st.probplot(data['percent_home'] - data['percent_away'], plot=plt)"
   ]
  },
  {
   "cell_type": "code",
   "execution_count": 128,
   "metadata": {},
   "outputs": [
    {
     "data": {
      "text/plain": [
       "(0.9809169769287109, 1.014018202738498e-09)"
      ]
     },
     "execution_count": 128,
     "metadata": {},
     "output_type": "execute_result"
    }
   ],
   "source": [
    "st.shapiro(data['percent_home']-data['percent_away'])"
   ]
  },
  {
   "cell_type": "markdown",
   "metadata": {},
   "source": [
    "Тест Шапиро-Уилка на нормальность позволяет нам понять, что разница в долях успешных бросков распределена не нормально."
   ]
  },
  {
   "cell_type": "markdown",
   "metadata": {},
   "source": [
    "Будем считать, что существенными различиями в успехе будут различия \"выше среднего\", то есть больше правой границы 99% доверительного интервала для среднего."
   ]
  },
  {
   "cell_type": "code",
   "execution_count": 171,
   "metadata": {},
   "outputs": [
    {
     "data": {
      "text/plain": [
       "[0.002860762224406643, 0.003865645795189353]"
      ]
     },
     "execution_count": 171,
     "metadata": {},
     "output_type": "execute_result"
    }
   ],
   "source": [
    "s = (np.std(data['percent_home']-data['percent_away'], ddof=1))**2\n",
    "mean = np.mean(data['percent_home']-data['percent_away'])\n",
    "n = len(data['percent_home']-data['percent_away'])\n",
    "alpha = 0.01\n",
    "t = st.t.ppf(1-alpha/2.0, df=n-1)\n",
    "[mean-t*s/np.sqrt(n), mean + t*s/np.sqrt(n)] # Доверительный интервал для среднего"
   ]
  },
  {
   "cell_type": "code",
   "execution_count": 172,
   "metadata": {},
   "outputs": [
    {
     "name": "stdout",
     "output_type": "stream",
     "text": [
      "Процент, для которых различие существенно: 49.89316239316239 %\n"
     ]
    }
   ],
   "source": [
    "print(f\"Процент, для которых различие существенно: \\\n",
    "{100.0*np.mean((data['percent_home']-data['percent_away']) > mean+t*s/np.sqrt(n))} %\")"
   ]
  }
 ],
 "metadata": {
  "kernelspec": {
   "display_name": "Python 3",
   "language": "python",
   "name": "python3"
  },
  "language_info": {
   "codemirror_mode": {
    "name": "ipython",
    "version": 3
   },
   "file_extension": ".py",
   "mimetype": "text/x-python",
   "name": "python",
   "nbconvert_exporter": "python",
   "pygments_lexer": "ipython3",
   "version": "3.6.5"
  }
 },
 "nbformat": 4,
 "nbformat_minor": 4
}
