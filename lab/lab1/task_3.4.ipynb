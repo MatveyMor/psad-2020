{
 "cells": [
  {
   "cell_type": "markdown",
   "metadata": {},
   "source": [
    "## Задание 3.4\n",
    "\n",
    "Требуется опеделить:\n",
    "\n",
    "* превосходит ли один переводчик в среднем по парам второй переводчик по переводу\n",
    "* связано ли качество перевода для разных языковых пар для двх переводчиков?\n",
    "При подсчете BLEU учитывать только слова, регистр не учитывать."
   ]
  },
  {
   "cell_type": "code",
   "execution_count": 462,
   "metadata": {},
   "outputs": [],
   "source": [
    "#воспользуемся готовой библиотекой с реализацией оценки BLEU\n",
    "from nltk.translate.bleu_score import sentence_bleu\n",
    "# score = sentence_bleu([reference], hypothesis)\n",
    "\n",
    "import numpy as np\n",
    "import pandas as pd\n",
    "import re\n",
    "import seaborn as sns\n",
    "import matplotlib.pyplot as plt\n",
    "import scipy.stats as st\n",
    "from scipy.stats import mannwhitneyu"
   ]
  },
  {
   "cell_type": "markdown",
   "metadata": {},
   "source": [
    "-----"
   ]
  },
  {
   "cell_type": "code",
   "execution_count": null,
   "metadata": {},
   "outputs": [],
   "source": [
    "# task3.4 - 1"
   ]
  },
  {
   "cell_type": "markdown",
   "metadata": {},
   "source": [
    "### Рассмотрим данные"
   ]
  },
  {
   "cell_type": "markdown",
   "metadata": {},
   "source": [
    "Чтобы воспользоваться *sentence_bleu* удалим все посторонние символы и цифры, приведем к нижнему регистру, разделим строчки на слова."
   ]
  },
  {
   "cell_type": "code",
   "execution_count": 548,
   "metadata": {},
   "outputs": [],
   "source": [
    "''' data preprocessing'''\n",
    "\n",
    "def get_word_list(name):\n",
    "    # редактирование текстовых файлов построчно\n",
    "    orig_data = [line.strip() for line in open('data/mt/' + str(name) + '.txt', 'r')]\n",
    "    prep_data = []\n",
    "    for i in range(len(orig_data)):\n",
    "        orig_data[i] = re.sub(r'[^\\w\\s]','',orig_data[i].replace('9','').replace('8','').replace('7','').replace('6','').replace('5','').replace('4','').replace('3','').replace('2','').replace('1','').replace('0',''))\n",
    "        prep_data += [orig_data[i].lower().split()] \n",
    "    return prep_data\n",
    "\n",
    "def score(num, name):\n",
    "    # оценка качества перевода\n",
    "    score = []\n",
    "    for i in range(len(get_word_list(str(name)+'_'+str(num)))-1):\n",
    "        score.append(sentence_bleu([get_word_list(str(name) + '_'+str(num))[i]], get_word_list(str(name) + '_gold')[i]))\n",
    "    return score\n",
    "\n",
    "def sample(name):\n",
    "    # компоновка оценок переводчика 1 и 2 по языковой паре\n",
    "    dict_words = {}\n",
    "    for num in [1, 2]:\n",
    "        dict_words[str(name)+'_'+str(num)] = score(num, name)\n",
    "    if len(dict_words[str(name)+'_1']) > len(dict_words[str(name)+'_2']):\n",
    "        del dict_words[str(name)+'_1'][-1]\n",
    "    elif len(dict_words[str(name)+'_1']) < len(dict_words[str(name)+'_2']):\n",
    "        del dict_words[str(name)+'_2'][-1]\n",
    "    return dict_words"
   ]
  },
  {
   "cell_type": "code",
   "execution_count": 737,
   "metadata": {},
   "outputs": [],
   "source": [
    "# выборки score-ов для каждой языковой пары \n",
    "de_en = pd.DataFrame(sample('de_en'))\n",
    "en_kk = pd.DataFrame(sample('en_kk'))\n",
    "en_ru = pd.DataFrame(sample('en_ru'))\n",
    "ru_de = pd.DataFrame(sample('ru_de'))\n",
    "ru_kk = pd.DataFrame(sample('ru_kk'))"
   ]
  },
  {
   "cell_type": "code",
   "execution_count": 466,
   "metadata": {},
   "outputs": [
    {
     "data": {
      "text/html": [
       "<div>\n",
       "<style scoped>\n",
       "    .dataframe tbody tr th:only-of-type {\n",
       "        vertical-align: middle;\n",
       "    }\n",
       "\n",
       "    .dataframe tbody tr th {\n",
       "        vertical-align: top;\n",
       "    }\n",
       "\n",
       "    .dataframe thead th {\n",
       "        text-align: right;\n",
       "    }\n",
       "</style>\n",
       "<table border=\"1\" class=\"dataframe\">\n",
       "  <thead>\n",
       "    <tr style=\"text-align: right;\">\n",
       "      <th></th>\n",
       "      <th>de_en_1</th>\n",
       "      <th>de_en_2</th>\n",
       "    </tr>\n",
       "  </thead>\n",
       "  <tbody>\n",
       "    <tr>\n",
       "      <th>0</th>\n",
       "      <td>2.150000e-01</td>\n",
       "      <td>2.150000e-01</td>\n",
       "    </tr>\n",
       "    <tr>\n",
       "      <th>1</th>\n",
       "      <td>3.826171e-78</td>\n",
       "      <td>1.951797e-01</td>\n",
       "    </tr>\n",
       "    <tr>\n",
       "      <th>2</th>\n",
       "      <td>9.788429e-232</td>\n",
       "      <td>9.788429e-232</td>\n",
       "    </tr>\n",
       "    <tr>\n",
       "      <th>3</th>\n",
       "      <td>0.000000e+00</td>\n",
       "      <td>0.000000e+00</td>\n",
       "    </tr>\n",
       "    <tr>\n",
       "      <th>4</th>\n",
       "      <td>1.257897e-231</td>\n",
       "      <td>1.189646e-231</td>\n",
       "    </tr>\n",
       "  </tbody>\n",
       "</table>\n",
       "</div>"
      ],
      "text/plain": [
       "         de_en_1        de_en_2\n",
       "0   2.150000e-01   2.150000e-01\n",
       "1   3.826171e-78   1.951797e-01\n",
       "2  9.788429e-232  9.788429e-232\n",
       "3   0.000000e+00   0.000000e+00\n",
       "4  1.257897e-231  1.189646e-231"
      ]
     },
     "execution_count": 466,
     "metadata": {},
     "output_type": "execute_result"
    }
   ],
   "source": [
    "de_en.head()"
   ]
  },
  {
   "cell_type": "code",
   "execution_count": 458,
   "metadata": {},
   "outputs": [
    {
     "data": {
      "text/html": [
       "<div>\n",
       "<style scoped>\n",
       "    .dataframe tbody tr th:only-of-type {\n",
       "        vertical-align: middle;\n",
       "    }\n",
       "\n",
       "    .dataframe tbody tr th {\n",
       "        vertical-align: top;\n",
       "    }\n",
       "\n",
       "    .dataframe thead th {\n",
       "        text-align: right;\n",
       "    }\n",
       "</style>\n",
       "<table border=\"1\" class=\"dataframe\">\n",
       "  <thead>\n",
       "    <tr style=\"text-align: right;\">\n",
       "      <th></th>\n",
       "      <th>en_kk_1</th>\n",
       "      <th>en_kk_2</th>\n",
       "    </tr>\n",
       "  </thead>\n",
       "  <tbody>\n",
       "    <tr>\n",
       "      <th>0</th>\n",
       "      <td>4.192789e-78</td>\n",
       "      <td>2.626910e-01</td>\n",
       "    </tr>\n",
       "    <tr>\n",
       "      <th>1</th>\n",
       "      <td>9.938674e-232</td>\n",
       "      <td>1.017636e-231</td>\n",
       "    </tr>\n",
       "    <tr>\n",
       "      <th>2</th>\n",
       "      <td>1.384293e-231</td>\n",
       "      <td>1.384293e-231</td>\n",
       "    </tr>\n",
       "    <tr>\n",
       "      <th>3</th>\n",
       "      <td>0.000000e+00</td>\n",
       "      <td>0.000000e+00</td>\n",
       "    </tr>\n",
       "    <tr>\n",
       "      <th>4</th>\n",
       "      <td>1.448850e-231</td>\n",
       "      <td>1.603416e-231</td>\n",
       "    </tr>\n",
       "  </tbody>\n",
       "</table>\n",
       "</div>"
      ],
      "text/plain": [
       "         en_kk_1        en_kk_2\n",
       "0   4.192789e-78   2.626910e-01\n",
       "1  9.938674e-232  1.017636e-231\n",
       "2  1.384293e-231  1.384293e-231\n",
       "3   0.000000e+00   0.000000e+00\n",
       "4  1.448850e-231  1.603416e-231"
      ]
     },
     "execution_count": 458,
     "metadata": {},
     "output_type": "execute_result"
    }
   ],
   "source": [
    "en_kk.head()"
   ]
  },
  {
   "cell_type": "markdown",
   "metadata": {},
   "source": [
    "**Задача:**\n",
    "\n",
    "$H_0:$ среднее значение качества переводчиков равны;\n",
    "\n",
    "$H_1:$ среднее значение качества перевода у второго переводчика лучше, чем у первого;\n"
   ]
  },
  {
   "cell_type": "code",
   "execution_count": 559,
   "metadata": {},
   "outputs": [
    {
     "name": "stdout",
     "output_type": "stream",
     "text": [
      "Ддя языковой пары de_en -- 0.39549791017787095\n",
      "Ддя языковой пары en_kk -- 0.27604272600139623\n",
      "Ддя языковой пары en_ru -- 0.30772964366578437\n",
      "Ддя языковой пары ru_kk -- 8.66108116572057e-07\n",
      "Ддя языковой пары ru_de -- 0.33000618104493495\n"
     ]
    }
   ],
   "source": [
    "#односторонний тест Уилкоксона\n",
    "for pair in [de_en, en_kk, en_ru, ru_kk, ru_de]:\n",
    "    _, p = st.wilcoxon(pair.iloc[:,0].values, pair.iloc[:,1].values, alternative = 'less')\n",
    "    print('Ддя языковой пары {} -- {}'.format(pair.columns.tolist()[0][:-2], p))"
   ]
  },
  {
   "cell_type": "markdown",
   "metadata": {},
   "source": [
    "По значениям $p\\_value$ можно сделать вывод, что в целом переводчики показывают одинаковое качество перевода, за исключением языковой пары $ru\\_kk$ - второй переводчик на этой языковой паре показал результат лучше"
   ]
  },
  {
   "cell_type": "markdown",
   "metadata": {},
   "source": [
    "---------"
   ]
  },
  {
   "cell_type": "code",
   "execution_count": null,
   "metadata": {},
   "outputs": [],
   "source": [
    "#task3.4 - 2"
   ]
  },
  {
   "cell_type": "markdown",
   "metadata": {},
   "source": [
    "Рассмотрим все языковые пары"
   ]
  },
  {
   "cell_type": "markdown",
   "metadata": {},
   "source": [
    "### de_en"
   ]
  },
  {
   "cell_type": "code",
   "execution_count": 522,
   "metadata": {},
   "outputs": [
    {
     "data": {
      "image/png": "[encoded data removed]",
      "text/plain": [
       "<Figure size 360x360 with 6 Axes>"
      ]
     },
     "metadata": {
      "needs_background": "light"
     },
     "output_type": "display_data"
    }
   ],
   "source": [
    "_ = sns.pairplot(de_en)"
   ]
  },
  {
   "cell_type": "code",
   "execution_count": 523,
   "metadata": {},
   "outputs": [
    {
     "data": {
      "text/plain": [
       "array([[1.        , 0.83348408],\n",
       "       [0.83348408, 1.        ]])"
      ]
     },
     "execution_count": 523,
     "metadata": {},
     "output_type": "execute_result"
    }
   ],
   "source": [
    "np.corrcoef(de_en.values.T)"
   ]
  },
  {
   "cell_type": "code",
   "execution_count": 774,
   "metadata": {},
   "outputs": [
    {
     "name": "stdout",
     "output_type": "stream",
     "text": [
      "Коэффициент корреляции Спирмена = 0.8939587172262563, p_value = 6.19791264933685e-36\n"
     ]
    }
   ],
   "source": [
    "kk, p_value = st.spearmanr(de_en.values.T[0], de_en.values.T[1])\n",
    "print('Коэффициент корреляции Спирмена = {}, p_value = {}'.format(kk, p_value))"
   ]
  },
  {
   "cell_type": "markdown",
   "metadata": {},
   "source": [
    "### en_ru"
   ]
  },
  {
   "cell_type": "code",
   "execution_count": 530,
   "metadata": {},
   "outputs": [
    {
     "data": {
      "image/png": "[encoded data removed]",
      "text/plain": [
       "<Figure size 360x360 with 6 Axes>"
      ]
     },
     "metadata": {
      "needs_background": "light"
     },
     "output_type": "display_data"
    }
   ],
   "source": [
    "_ = sns.pairplot(en_ru)"
   ]
  },
  {
   "cell_type": "code",
   "execution_count": 533,
   "metadata": {},
   "outputs": [
    {
     "data": {
      "text/plain": [
       "array([[1.        , 0.87014939],\n",
       "       [0.87014939, 1.        ]])"
      ]
     },
     "execution_count": 533,
     "metadata": {},
     "output_type": "execute_result"
    }
   ],
   "source": [
    "np.corrcoef(en_ru.values.T)"
   ]
  },
  {
   "cell_type": "code",
   "execution_count": 773,
   "metadata": {},
   "outputs": [
    {
     "name": "stdout",
     "output_type": "stream",
     "text": [
      "Коэффициент корреляции Спирмена = 0.940053073949271, p_value = 2.7000730436196347e-44\n"
     ]
    }
   ],
   "source": [
    "kk, p_value = st.spearmanr(en_ru.values.T[0], en_ru.values.T[1])\n",
    "print('Коэффициент корреляции Спирмена = {}, p_value = {}'.format(kk, p_value))"
   ]
  },
  {
   "cell_type": "markdown",
   "metadata": {},
   "source": [
    "### ru_de"
   ]
  },
  {
   "cell_type": "code",
   "execution_count": 535,
   "metadata": {},
   "outputs": [
    {
     "data": {
      "image/png": "[encoded data removed]",
      "text/plain": [
       "<Figure size 360x360 with 6 Axes>"
      ]
     },
     "metadata": {
      "needs_background": "light"
     },
     "output_type": "display_data"
    }
   ],
   "source": [
    "_ = sns.pairplot(ru_de)"
   ]
  },
  {
   "cell_type": "code",
   "execution_count": 536,
   "metadata": {},
   "outputs": [
    {
     "data": {
      "text/plain": [
       "array([[1.        , 0.87014939],\n",
       "       [0.87014939, 1.        ]])"
      ]
     },
     "execution_count": 536,
     "metadata": {},
     "output_type": "execute_result"
    }
   ],
   "source": [
    "np.corrcoef(en_ru.values.T)"
   ]
  },
  {
   "cell_type": "code",
   "execution_count": 772,
   "metadata": {},
   "outputs": [
    {
     "name": "stdout",
     "output_type": "stream",
     "text": [
      "Коэффициент корреляции Спирмена = 0.940053073949271, p_value = 2.7000730436196347e-44\n"
     ]
    }
   ],
   "source": [
    "kk, p_value = st.spearmanr(en_ru.values.T[0], en_ru.values.T[1])\n",
    "print('Коэффициент корреляции Спирмена = {}, p_value = {}'.format(kk, p_value))"
   ]
  },
  {
   "cell_type": "markdown",
   "metadata": {},
   "source": [
    "##### Вывод:  \n",
    "По графиком было видно, что в парах $de\\_en, ru\\_de, en\\_ru$  есть лин зависимость. Коэф-ты корр-ии Спирмена и Пирсена подтвердили линейную взаимосвязь."
   ]
  },
  {
   "cell_type": "markdown",
   "metadata": {},
   "source": [
    "### en_kk"
   ]
  },
  {
   "cell_type": "code",
   "execution_count": 615,
   "metadata": {},
   "outputs": [
    {
     "data": {
      "image/png": "[encoded data removed]",
      "text/plain": [
       "<Figure size 360x360 with 6 Axes>"
      ]
     },
     "metadata": {
      "needs_background": "light"
     },
     "output_type": "display_data"
    }
   ],
   "source": [
    "_ = sns.pairplot(en_kk)"
   ]
  },
  {
   "cell_type": "markdown",
   "metadata": {},
   "source": [
    "Как видно из графика, имеется выброс. Зададим новую выборку без него"
   ]
  },
  {
   "cell_type": "code",
   "execution_count": 713,
   "metadata": {},
   "outputs": [
    {
     "name": "stdout",
     "output_type": "stream",
     "text": [
      "Размерность выборки 60, из них 25 равны нулю \n"
     ]
    }
   ],
   "source": [
    "n = min(np.where(0 == en_kk.values.T[0])[0].shape[0], np.where(0 == en_kk.values.T[1])[0].shape[0]) \n",
    "print('Размерность выборки {}, из них {} равны нулю '.format(len(en_kk.values.T[1]),n))"
   ]
  },
  {
   "cell_type": "code",
   "execution_count": 723,
   "metadata": {},
   "outputs": [
    {
     "name": "stdout",
     "output_type": "stream",
     "text": [
      "Выбросы в ячейках (6, 0) (0, 1)\n"
     ]
    }
   ],
   "source": [
    "a = (np.where(0.1 < en_kk.values.T[0])[0][0], 0)\n",
    "b = (np.where(0.1 < en_kk.values.T[1])[0][0],1)\n",
    "print('Выбросы в ячейках', a, b)"
   ]
  },
  {
   "cell_type": "code",
   "execution_count": 748,
   "metadata": {},
   "outputs": [],
   "source": [
    "#т.к. min нулей в 1 столбце, то удаляем строки по 1-ому столбцу"
   ]
  },
  {
   "cell_type": "code",
   "execution_count": 753,
   "metadata": {},
   "outputs": [],
   "source": [
    "en_kk_0 = en_kk.drop(np.where(0 == en_kk.values.T[1])[0], inplace=False)"
   ]
  },
  {
   "cell_type": "code",
   "execution_count": 746,
   "metadata": {},
   "outputs": [],
   "source": [
    "en_kk_new = en_kk.drop(np.where(0 == en_kk.values.T[1])[0], inplace=False).drop([6, 0],inplace=False)"
   ]
  },
  {
   "cell_type": "code",
   "execution_count": 750,
   "metadata": {},
   "outputs": [
    {
     "data": {
      "image/png": "[encoded data removed]",
      "text/plain": [
       "<Figure size 360x360 with 6 Axes>"
      ]
     },
     "metadata": {
      "needs_background": "light"
     },
     "output_type": "display_data"
    }
   ],
   "source": [
    "_ = sns.pairplot(en_kk_new)"
   ]
  },
  {
   "cell_type": "code",
   "execution_count": 754,
   "metadata": {},
   "outputs": [
    {
     "data": {
      "image/png": "[encoded data removed]",
      "text/plain": [
       "<Figure size 360x360 with 6 Axes>"
      ]
     },
     "metadata": {
      "needs_background": "light"
     },
     "output_type": "display_data"
    }
   ],
   "source": [
    "_ = sns.pairplot(en_kk_0)"
   ]
  },
  {
   "cell_type": "code",
   "execution_count": 751,
   "metadata": {},
   "outputs": [
    {
     "data": {
      "text/plain": [
       "array([[ 1.        , -0.01694915],\n",
       "       [-0.01694915,  1.        ]])"
      ]
     },
     "execution_count": 751,
     "metadata": {},
     "output_type": "execute_result"
    }
   ],
   "source": [
    "np.corrcoef(en_kk.values.T)"
   ]
  },
  {
   "cell_type": "code",
   "execution_count": 755,
   "metadata": {},
   "outputs": [
    {
     "data": {
      "text/plain": [
       "array([[ 1.        , -0.02941176],\n",
       "       [-0.02941176,  1.        ]])"
      ]
     },
     "execution_count": 755,
     "metadata": {},
     "output_type": "execute_result"
    }
   ],
   "source": [
    "np.corrcoef(en_kk_0.values.T)"
   ]
  },
  {
   "cell_type": "code",
   "execution_count": 752,
   "metadata": {},
   "outputs": [
    {
     "data": {
      "text/plain": [
       "array([[1.       , 0.5349189],\n",
       "       [0.5349189, 1.       ]])"
      ]
     },
     "execution_count": 752,
     "metadata": {},
     "output_type": "execute_result"
    }
   ],
   "source": [
    "np.corrcoef(en_kk_new.values.T)"
   ]
  },
  {
   "cell_type": "markdown",
   "metadata": {},
   "source": [
    "Удаление только выбросов незначительно улучшило корреляцию Пирсена, но с удалением еще и нулевых элементов, коэф корреляции  Пирсена заметно вырос"
   ]
  },
  {
   "cell_type": "code",
   "execution_count": 770,
   "metadata": {},
   "outputs": [
    {
     "name": "stdout",
     "output_type": "stream",
     "text": [
      "Критерий Пирсона для первоначальной выборки, p_value = 0.8977256121774382\n",
      "Коэффициент Пирсона для выборки без выброса с нулями, p_value = 0.866804233137719\n",
      "Коэффициент Пирсона для обработанной выборки, p_value = 0.0013399861954228609\n"
     ]
    }
   ],
   "source": [
    "_, p_value = st.pearsonr(en_kk.values.T[0], en_kk.values.T[1])\n",
    "print('Критерий Пирсона для первоначальной выборки, p_value = {}'.format(p_value))\n",
    "\n",
    "_, p_value = st.pearsonr(en_kk_0.values.T[0], en_kk_0.values.T[1])\n",
    "print('Коэффициент Пирсона для выборки без выброса с нулями, p_value = {}'.format(p_value))\n",
    "\n",
    "_, p_value = st.pearsonr(en_kk_new.values.T[0], en_kk_new.values.T[1])\n",
    "print('Коэффициент Пирсона для обработанной выборки, p_value = {}'.format(p_value))"
   ]
  },
  {
   "cell_type": "code",
   "execution_count": 801,
   "metadata": {},
   "outputs": [
    {
     "name": "stdout",
     "output_type": "stream",
     "text": [
      "Коэффициент Спирмена для первоначальной выборки, p_value = 5.100227507984022e-20\n",
      "Коэффициент Спирмена для выборки без выброса с нулями, p_value = 6.09743240227544e-06\n",
      "Коэффициент Спирмена для обработанной выборки, p_value = 2.006179116096198e-06\n"
     ]
    }
   ],
   "source": [
    "_, p_value = st.spearmanr(en_kk.values.T[0], en_kk.values.T[1])\n",
    "print('Коэффициент Спирмена для первоначальной выборки, p_value = {}'.format(p_value))\n",
    "\n",
    "_, p_value = st.spearmanr(en_kk_0.values.T[0], en_kk_0.values.T[1])\n",
    "print('Коэффициент Спирмена для выборки без выброса с нулями, p_value = {}'.format(p_value))\n",
    "\n",
    "_, p_value = st.spearmanr(en_kk_new.values.T[0], en_kk_new.values.T[1])\n",
    "print('Коэффициент Спирмена для обработанной выборки, p_value = {}'.format(p_value))"
   ]
  },
  {
   "cell_type": "markdown",
   "metadata": {},
   "source": [
    "Критерий Пирсена плохо реагирует на выбросы, но с удалением выбросов и нулевых элементов получаем, что нулевая гипотеза отвергается (о независимости), тогда как критерий Спирмена и без преобразования данных отверг нулевую гипотезу."
   ]
  },
  {
   "cell_type": "markdown",
   "metadata": {},
   "source": [
    "### ru_kk"
   ]
  },
  {
   "cell_type": "code",
   "execution_count": 802,
   "metadata": {},
   "outputs": [
    {
     "data": {
      "image/png": "[encoded data removed]",
      "text/plain": [
       "<Figure size 360x360 with 6 Axes>"
      ]
     },
     "metadata": {
      "needs_background": "light"
     },
     "output_type": "display_data"
    }
   ],
   "source": [
    "_ = sns.pairplot(ru_kk)"
   ]
  },
  {
   "cell_type": "markdown",
   "metadata": {},
   "source": [
    "Также, как и в паре $en\\_kk$ удалим выбросы и нулевые элементы  "
   ]
  },
  {
   "cell_type": "code",
   "execution_count": 803,
   "metadata": {},
   "outputs": [
    {
     "name": "stdout",
     "output_type": "stream",
     "text": [
      "Размерность выборки 89, из них 58 равны нулю \n"
     ]
    }
   ],
   "source": [
    "n = min(np.where(0 == ru_kk.values.T[0])[0].shape[0], np.where(0 == ru_kk.values.T[1])[0].shape[0]) \n",
    "print('Размерность выборки {}, из них {} равны нулю '.format(len(ru_kk.values.T[1]),n))"
   ]
  },
  {
   "cell_type": "code",
   "execution_count": 807,
   "metadata": {},
   "outputs": [
    {
     "name": "stdout",
     "output_type": "stream",
     "text": [
      "Выбросы в ячейках (88, 1)\n"
     ]
    }
   ],
   "source": [
    "b = (np.where(0.1 < ru_kk.values.T[1])[0][0],1)\n",
    "print('Выбросы в ячейках', b)"
   ]
  },
  {
   "cell_type": "code",
   "execution_count": 810,
   "metadata": {},
   "outputs": [
    {
     "name": "stdout",
     "output_type": "stream",
     "text": [
      "Критерий Пирсона для первоначальной выборки, p_value = 0.9158265487756249\n",
      "Коэффициент Пирсона для обработанной выборки, p_value = 0.781867520193615\n",
      "Коэффициент Спирмена для первоначальной выборки, p_value = 0.21847594861768618\n",
      "Коэффициент Спирмена для обработанной выборки, p_value = 0.8659104380640785\n"
     ]
    }
   ],
   "source": [
    "_, p_value = st.pearsonr(ru_kk.values.T[0], ru_kk.values.T[1])\n",
    "print('Критерий Пирсона для первоначальной выборки, p_value = {}'.format(p_value))\n",
    "\n",
    "_, p_value = st.pearsonr(ru_kk_new.values.T[0], ru_kk_new.values.T[1])\n",
    "print('Коэффициент Пирсона для обработанной выборки, p_value = {}'.format(p_value))\n",
    "\n",
    "_, p_value = st.spearmanr(ru_kk.values.T[0], ru_kk.values.T[1])\n",
    "print('Коэффициент Спирмена для первоначальной выборки, p_value = {}'.format(p_value))\n",
    "\n",
    "_, p_value = st.spearmanr(ru_kk_new.values.T[0], ru_kk_new.values.T[1])\n",
    "print('Коэффициент Спирмена для обработанной выборки, p_value = {}'.format(p_value))"
   ]
  },
  {
   "cell_type": "markdown",
   "metadata": {},
   "source": [
    "Преобразование данных не надо результата, оба критерия не отвергли нулевую гипотезу "
   ]
  },
  {
   "cell_type": "markdown",
   "metadata": {},
   "source": [
    "##### Вывод:  \n",
    "В языковой паре $en\\_kk$ наблюдается лин взаимосвязь, а в паре $ru\\_kk$ - нет"
   ]
  }
 ],
 "metadata": {
  "kernelspec": {
   "display_name": "Python 3",
   "language": "python",
   "name": "python3"
  },
  "language_info": {
   "codemirror_mode": {
    "name": "ipython",
    "version": 3
   },
   "file_extension": ".py",
   "mimetype": "text/x-python",
   "name": "python",
   "nbconvert_exporter": "python",
   "pygments_lexer": "ipython3",
   "version": "3.7.6"
  }
 },
 "nbformat": 4,
 "nbformat_minor": 4
}
