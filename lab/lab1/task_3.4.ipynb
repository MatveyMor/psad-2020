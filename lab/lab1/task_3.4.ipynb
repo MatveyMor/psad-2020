{
 "cells": [
  {
   "cell_type": "markdown",
   "metadata": {},
   "source": [
    "## Задание 3.4\n",
    "\n",
    "Требуется опеделить:\n",
    "\n",
    "* превосходит ли один переводчик в среднем по парам второй переводчик по переводу\n",
    "* связано ли качество перевода для разных языковых пар для двх переводчиков?\n",
    "При подсчете BLEU учитывать только слова, регистр не учитывать."
   ]
  },
  {
   "cell_type": "code",
   "execution_count": 248,
   "metadata": {},
   "outputs": [],
   "source": [
    "#воспользуемся готовой библиотекой с реализацией оценки BLEU\n",
    "from nltk.translate.bleu_score import sentence_bleu\n",
    "# score = sentence_bleu([reference], hypothesis)\n",
    "\n",
    "import numpy as np\n",
    "import pandas as pd\n",
    "import re\n",
    "import seaborn as sns\n",
    "import matplotlib.pyplot as plt\n",
    "import scipy.stats as st"
   ]
  },
  {
   "cell_type": "markdown",
   "metadata": {},
   "source": [
    "-----"
   ]
  },
  {
   "cell_type": "code",
   "execution_count": null,
   "metadata": {},
   "outputs": [],
   "source": [
    "# task3.4 - 1"
   ]
  },
  {
   "cell_type": "markdown",
   "metadata": {},
   "source": [
    "### Рассмотрим данные"
   ]
  },
  {
   "cell_type": "markdown",
   "metadata": {},
   "source": [
    "Чтобы воспользоваться *sentence_bleu* удалим все посторонние символы и цифры, приведем к нижнему регистру, разделим строчки на слова."
   ]
  },
  {
   "cell_type": "code",
   "execution_count": 311,
   "metadata": {},
   "outputs": [],
   "source": [
    "''' data preprocessing'''\n",
    "\n",
    "def get_word_list(name):\n",
    "    \n",
    "    orig_data = [line.strip() for line in open('data/mt/' + str(name) + '.txt', 'r')]\n",
    "    prep_data = []\n",
    "    for i in range(len(orig_data)):\n",
    "        orig_data[i] = re.sub(r'[^\\w\\s]','',orig_data[i].replace('9','').replace('8','').replace('7','')\n",
    "                              .replace('6','').replace('5','').replace('4','').replace('3','')\n",
    "                              .replace('2','').replace('1','').replace('0',''))\n",
    "        prep_data += orig_data[i].lower().split() \n",
    "    return prep_data\n",
    "\n",
    "def score(num):\n",
    "    score = []\n",
    "    for pair in ['de_en', 'en_ru', 'en_kk', 'ru_kk', 'ru_de']:\n",
    "        score.append(sentence_bleu([get_word_list(str(pair) + '_'+str(num))], get_word_list(str(pair) + '_gold')))\n",
    "    return score"
   ]
  },
  {
   "cell_type": "code",
   "execution_count": 300,
   "metadata": {},
   "outputs": [],
   "source": [
    "dict = {'De_En ': [score(1)[0], score(2)[0]],\n",
    "        'En_Ru ': [score(1)[1], score(2)[1]],\n",
    "        'En_Kk ': [score(1)[2], score(2)[2]],\n",
    "        'Ru_Kk ': [score(1)[3], score(2)[3]],\n",
    "        'Ru_De ': [score(1)[4], score(2)[4]]}\n",
    " \n",
    "df = pd.DataFrame(dict, ['1', '2'])"
   ]
  },
  {
   "cell_type": "code",
   "execution_count": 301,
   "metadata": {},
   "outputs": [
    {
     "data": {
      "text/html": [
       "<div>\n",
       "<style scoped>\n",
       "    .dataframe tbody tr th:only-of-type {\n",
       "        vertical-align: middle;\n",
       "    }\n",
       "\n",
       "    .dataframe tbody tr th {\n",
       "        vertical-align: top;\n",
       "    }\n",
       "\n",
       "    .dataframe thead th {\n",
       "        text-align: right;\n",
       "    }\n",
       "</style>\n",
       "<table border=\"1\" class=\"dataframe\">\n",
       "  <thead>\n",
       "    <tr style=\"text-align: right;\">\n",
       "      <th></th>\n",
       "      <th>De_En</th>\n",
       "      <th>En_Ru</th>\n",
       "      <th>En_Kk</th>\n",
       "      <th>Ru_Kk</th>\n",
       "      <th>Ru_De</th>\n",
       "    </tr>\n",
       "  </thead>\n",
       "  <tbody>\n",
       "    <tr>\n",
       "      <th>1</th>\n",
       "      <td>0.368484</td>\n",
       "      <td>0.112064</td>\n",
       "      <td>0.026634</td>\n",
       "      <td>5.435012e-232</td>\n",
       "      <td>0.160097</td>\n",
       "    </tr>\n",
       "    <tr>\n",
       "      <th>2</th>\n",
       "      <td>0.363288</td>\n",
       "      <td>0.112051</td>\n",
       "      <td>0.035516</td>\n",
       "      <td>7.295079e-02</td>\n",
       "      <td>0.159672</td>\n",
       "    </tr>\n",
       "  </tbody>\n",
       "</table>\n",
       "</div>"
      ],
      "text/plain": [
       "     De_En     En_Ru     En_Kk          Ru_Kk     Ru_De \n",
       "1  0.368484  0.112064  0.026634  5.435012e-232  0.160097\n",
       "2  0.363288  0.112051  0.035516   7.295079e-02  0.159672"
      ]
     },
     "execution_count": 301,
     "metadata": {},
     "output_type": "execute_result"
    }
   ],
   "source": [
    "df"
   ]
  },
  {
   "cell_type": "code",
   "execution_count": 207,
   "metadata": {},
   "outputs": [
    {
     "name": "stdout",
     "output_type": "stream",
     "text": [
      "среднее качество перевода для 1-ого переводчика score_1 = 0.1334559614244618 и 2-ого score_2 = 0.14869561887130378\n"
     ]
    }
   ],
   "source": [
    "print('среднее качество перевода для 1-ого переводчика score_1 = {} и 2-ого score_2 = {}'.format(np.array(score(1)).mean(), np.array(score(2)).mean() ))"
   ]
  },
  {
   "cell_type": "markdown",
   "metadata": {},
   "source": [
    "Можем сделать вывод, что второй переводчик в среднем имеет лучше качество перевода по языковым парам, чем первый"
   ]
  },
  {
   "cell_type": "markdown",
   "metadata": {},
   "source": [
    "---------"
   ]
  },
  {
   "cell_type": "code",
   "execution_count": 225,
   "metadata": {},
   "outputs": [],
   "source": [
    "#task3.4 - 2"
   ]
  },
  {
   "cell_type": "markdown",
   "metadata": {},
   "source": [
    "### Корреляция Спирмена"
   ]
  },
  {
   "cell_type": "markdown",
   "metadata": {},
   "source": [
    "Посмотрим, связано ли качество переводчиков для разных языковых пар."
   ]
  },
  {
   "cell_type": "code",
   "execution_count": 292,
   "metadata": {},
   "outputs": [
    {
     "data": {
      "image/png": "[encoded data removed]",
      "text/plain": [
       "<Figure size 432x288 with 1 Axes>"
      ]
     },
     "metadata": {
      "needs_background": "light"
     },
     "output_type": "display_data"
    }
   ],
   "source": [
    "plt.scatter(df.values[0], df.values[1])\n",
    "plt.ylabel('1ый переводчик')\n",
    "plt.xlabel('2ой переводчик')\n",
    "plt.show()"
   ]
  },
  {
   "cell_type": "code",
   "execution_count": 314,
   "metadata": {},
   "outputs": [
    {
     "name": "stdout",
     "output_type": "stream",
     "text": [
      "Коэффициент корреляции = 0.8999999999999998, p_value = 0.03738607346849874\n"
     ]
    }
   ],
   "source": [
    "kk, p_value = st.spearmanr(df.values[0], df.values[1])\n",
    "print('Коэффициент корреляции = {}, p_value = {}'.format(kk, p_value))"
   ]
  },
  {
   "cell_type": "markdown",
   "metadata": {},
   "source": [
    "Поскольку p_value < 0.05 отклоняем гипотезу о независимости выборок -  качества перевода двух переводчиков зависимы между собой"
   ]
  }
 ],
 "metadata": {
  "kernelspec": {
   "display_name": "Python 3",
   "language": "python",
   "name": "python3"
  },
  "language_info": {
   "codemirror_mode": {
    "name": "ipython",
    "version": 3
   },
   "file_extension": ".py",
   "mimetype": "text/x-python",
   "name": "python",
   "nbconvert_exporter": "python",
   "pygments_lexer": "ipython3",
   "version": "3.7.6"
  }
 },
 "nbformat": 4,
 "nbformat_minor": 4
}
