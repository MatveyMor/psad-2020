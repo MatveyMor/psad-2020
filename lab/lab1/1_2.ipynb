{
 "cells": [
  {
   "cell_type": "markdown",
   "metadata": {},
   "source": [
    "# Задание 1.2\n",
    "\n",
    "## Курузов Илья, 676"
   ]
  },
  {
   "cell_type": "markdown",
   "metadata": {},
   "source": [
    "Выгрузим данные."
   ]
  },
  {
   "cell_type": "code",
   "execution_count": 3,
   "metadata": {},
   "outputs": [],
   "source": [
    "from sklearn.datasets import load_iris\n",
    "X, y = load_iris(return_X_y = True)"
   ]
  },
  {
   "cell_type": "code",
   "execution_count": 19,
   "metadata": {},
   "outputs": [
    {
     "data": {
      "text/plain": [
       "array([0, 1, 2])"
      ]
     },
     "execution_count": 19,
     "metadata": {},
     "output_type": "execute_result"
    }
   ],
   "source": [
    "import numpy as np\n",
    "classes = np.unique(y)\n",
    "classes"
   ]
  },
  {
   "cell_type": "markdown",
   "metadata": {},
   "source": [
    "Разделим наши данные по классам."
   ]
  },
  {
   "cell_type": "code",
   "execution_count": 29,
   "metadata": {},
   "outputs": [],
   "source": [
    "arrays = []\n",
    "for j in classes:\n",
    "    arrays.append(np.array([i \n",
    "                            for ind, i in enumerate(X)\n",
    "                                if y[ind] == j]))"
   ]
  },
  {
   "cell_type": "code",
   "execution_count": 30,
   "metadata": {},
   "outputs": [],
   "source": [
    "arrays_mean = [i.mean(axis = 0) for i in arrays]\n",
    "res = {}\n",
    "for c1 in classes:\n",
    "    for c2 in classes:\n",
    "        if c1!= c2:\n",
    "            name = str(c1) + \"-\" + str(c2)\n",
    "            res[name] = arrays_mean[c1]-arrays_mean[c2]"
   ]
  },
  {
   "cell_type": "markdown",
   "metadata": {},
   "source": [
    "### Различия между классами в среднем\n",
    "\n",
    "Ниже приведена таблица, индексы по столбцам которой соответсвуют номерам признаков в исходной выборке, а названия колонок показывают между какими классами вычислялась разница. Каждый элемент этой таблицы есть разница между математическими ожиданиями признака для двух разных классов"
   ]
  },
  {
   "cell_type": "code",
   "execution_count": 31,
   "metadata": {},
   "outputs": [
    {
     "data": {
      "text/html": [
       "<div>\n",
       "<style scoped>\n",
       "    .dataframe tbody tr th:only-of-type {\n",
       "        vertical-align: middle;\n",
       "    }\n",
       "\n",
       "    .dataframe tbody tr th {\n",
       "        vertical-align: top;\n",
       "    }\n",
       "\n",
       "    .dataframe thead th {\n",
       "        text-align: right;\n",
       "    }\n",
       "</style>\n",
       "<table border=\"1\" class=\"dataframe\">\n",
       "  <thead>\n",
       "    <tr style=\"text-align: right;\">\n",
       "      <th></th>\n",
       "      <th>0-1</th>\n",
       "      <th>0-2</th>\n",
       "      <th>1-0</th>\n",
       "      <th>1-2</th>\n",
       "      <th>2-0</th>\n",
       "      <th>2-1</th>\n",
       "    </tr>\n",
       "  </thead>\n",
       "  <tbody>\n",
       "    <tr>\n",
       "      <th>0</th>\n",
       "      <td>-0.930</td>\n",
       "      <td>-1.582</td>\n",
       "      <td>0.930</td>\n",
       "      <td>-0.652</td>\n",
       "      <td>1.582</td>\n",
       "      <td>0.652</td>\n",
       "    </tr>\n",
       "    <tr>\n",
       "      <th>1</th>\n",
       "      <td>0.658</td>\n",
       "      <td>0.454</td>\n",
       "      <td>-0.658</td>\n",
       "      <td>-0.204</td>\n",
       "      <td>-0.454</td>\n",
       "      <td>0.204</td>\n",
       "    </tr>\n",
       "    <tr>\n",
       "      <th>2</th>\n",
       "      <td>-2.798</td>\n",
       "      <td>-4.090</td>\n",
       "      <td>2.798</td>\n",
       "      <td>-1.292</td>\n",
       "      <td>4.090</td>\n",
       "      <td>1.292</td>\n",
       "    </tr>\n",
       "    <tr>\n",
       "      <th>3</th>\n",
       "      <td>-1.080</td>\n",
       "      <td>-1.780</td>\n",
       "      <td>1.080</td>\n",
       "      <td>-0.700</td>\n",
       "      <td>1.780</td>\n",
       "      <td>0.700</td>\n",
       "    </tr>\n",
       "  </tbody>\n",
       "</table>\n",
       "</div>"
      ],
      "text/plain": [
       "     0-1    0-2    1-0    1-2    2-0    2-1\n",
       "0 -0.930 -1.582  0.930 -0.652  1.582  0.652\n",
       "1  0.658  0.454 -0.658 -0.204 -0.454  0.204\n",
       "2 -2.798 -4.090  2.798 -1.292  4.090  1.292\n",
       "3 -1.080 -1.780  1.080 -0.700  1.780  0.700"
      ]
     },
     "execution_count": 31,
     "metadata": {},
     "output_type": "execute_result"
    }
   ],
   "source": [
    "import pandas as pd\n",
    "pd.DataFrame(res)"
   ]
  },
  {
   "cell_type": "markdown",
   "metadata": {},
   "source": [
    "### Размер эффекта"
   ]
  },
  {
   "cell_type": "code",
   "execution_count": 32,
   "metadata": {},
   "outputs": [],
   "source": [
    "from scipy import stats"
   ]
  },
  {
   "cell_type": "markdown",
   "metadata": {},
   "source": [
    "#### Коэффициент Пирсона"
   ]
  },
  {
   "cell_type": "code",
   "execution_count": 35,
   "metadata": {},
   "outputs": [
    {
     "name": "stdout",
     "output_type": "stream",
     "text": [
      "0 0.7825612318100814\n",
      "1 -0.4266575607811244\n",
      "2 0.9490346990083884\n",
      "3 0.9565473328764029\n"
     ]
    }
   ],
   "source": [
    "k = 0\n",
    "for x in X.T:\n",
    "    print(k, stats.pearsonr(x, y)[0])\n",
    "    k += 1"
   ]
  },
  {
   "cell_type": "markdown",
   "metadata": {},
   "source": [
    "Как можно заметить, метки класса имеют ярко выраженную линейную зависимость со 2-ым и 3-им признаками ($r\\approx 0.95$). Также есть некоторая линейная зависимость с 0-ым признаком ($r = 0.78$). Наименьший по модулю коэффициент Пирсона наблюдается для 1-ого признака ($r = -0.43$)."
   ]
  },
  {
   "cell_type": "code",
   "execution_count": null,
   "metadata": {},
   "outputs": [],
   "source": []
  }
 ],
 "metadata": {
  "kernelspec": {
   "display_name": "Python 3",
   "language": "python",
   "name": "python3"
  },
  "language_info": {
   "codemirror_mode": {
    "name": "ipython",
    "version": 3
   },
   "file_extension": ".py",
   "mimetype": "text/x-python",
   "name": "python",
   "nbconvert_exporter": "python",
   "pygments_lexer": "ipython3",
   "version": "3.7.3"
  }
 },
 "nbformat": 4,
 "nbformat_minor": 2
}
