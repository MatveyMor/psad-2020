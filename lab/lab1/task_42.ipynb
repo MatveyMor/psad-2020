{
  "nbformat": 4,
  "nbformat_minor": 0,
  "metadata": {
    "colab": {
      "name": "task_42.ipynb",
      "provenance": [],
      "collapsed_sections": []
    },
    "kernelspec": {
      "name": "python3",
      "display_name": "Python 3"
    }
  },
  "cells": [
    {
      "cell_type": "code",
      "metadata": {
        "id": "E9qzZNW_cRRj",
        "colab_type": "code",
        "colab": {}
      },
      "source": [
        "import pandas as pd\n",
        "import scipy.stats as st\n",
        "from statsmodels.stats.multitest import multipletests"
      ],
      "execution_count": 0,
      "outputs": []
    },
    {
      "cell_type": "code",
      "metadata": {
        "id": "K587s6H4c8hX",
        "colab_type": "code",
        "colab": {}
      },
      "source": [
        "data = pd.read_csv('classifiers.csv')"
      ],
      "execution_count": 0,
      "outputs": []
    },
    {
      "cell_type": "code",
      "metadata": {
        "id": "v7czvCumdB1n",
        "colab_type": "code",
        "outputId": "fa71332e-6ff6-47aa-8999-7ae04599a003",
        "colab": {
          "base_uri": "https://localhost:8080/",
          "height": 235
        }
      },
      "source": [
        "data"
      ],
      "execution_count": 3,
      "outputs": [
        {
          "output_type": "execute_result",
          "data": {
            "text/html": [
              "<div>\n",
              "<style scoped>\n",
              "    .dataframe tbody tr th:only-of-type {\n",
              "        vertical-align: middle;\n",
              "    }\n",
              "\n",
              "    .dataframe tbody tr th {\n",
              "        vertical-align: top;\n",
              "    }\n",
              "\n",
              "    .dataframe thead th {\n",
              "        text-align: right;\n",
              "    }\n",
              "</style>\n",
              "<table border=\"1\" class=\"dataframe\">\n",
              "  <thead>\n",
              "    <tr style=\"text-align: right;\">\n",
              "      <th></th>\n",
              "      <th>Номер выборки</th>\n",
              "      <th>a1</th>\n",
              "      <th>a2</th>\n",
              "      <th>a3</th>\n",
              "      <th>a4</th>\n",
              "    </tr>\n",
              "  </thead>\n",
              "  <tbody>\n",
              "    <tr>\n",
              "      <th>0</th>\n",
              "      <td>1</td>\n",
              "      <td>86</td>\n",
              "      <td>50</td>\n",
              "      <td>93</td>\n",
              "      <td>13</td>\n",
              "    </tr>\n",
              "    <tr>\n",
              "      <th>1</th>\n",
              "      <td>2</td>\n",
              "      <td>85</td>\n",
              "      <td>74</td>\n",
              "      <td>55</td>\n",
              "      <td>35</td>\n",
              "    </tr>\n",
              "    <tr>\n",
              "      <th>2</th>\n",
              "      <td>3</td>\n",
              "      <td>53</td>\n",
              "      <td>92</td>\n",
              "      <td>58</td>\n",
              "      <td>51</td>\n",
              "    </tr>\n",
              "    <tr>\n",
              "      <th>3</th>\n",
              "      <td>4</td>\n",
              "      <td>44</td>\n",
              "      <td>41</td>\n",
              "      <td>56</td>\n",
              "      <td>37</td>\n",
              "    </tr>\n",
              "    <tr>\n",
              "      <th>4</th>\n",
              "      <td>5</td>\n",
              "      <td>2</td>\n",
              "      <td>18</td>\n",
              "      <td>99</td>\n",
              "      <td>26</td>\n",
              "    </tr>\n",
              "    <tr>\n",
              "      <th>5</th>\n",
              "      <td>6</td>\n",
              "      <td>5</td>\n",
              "      <td>68</td>\n",
              "      <td>35</td>\n",
              "      <td>17</td>\n",
              "    </tr>\n",
              "  </tbody>\n",
              "</table>\n",
              "</div>"
            ],
            "text/plain": [
              "   Номер выборки  a1  a2  a3  a4\n",
              "0              1  86  50  93  13\n",
              "1              2  85  74  55  35\n",
              "2              3  53  92  58  51\n",
              "3              4  44  41  56  37\n",
              "4              5   2  18  99  26\n",
              "5              6   5  68  35  17"
            ]
          },
          "metadata": {
            "tags": []
          },
          "execution_count": 3
        }
      ]
    },
    {
      "cell_type": "code",
      "metadata": {
        "id": "za8mLrwheqsP",
        "colab_type": "code",
        "outputId": "34d5437a-af40-4457-96b1-6f46edeb2b7a",
        "colab": {
          "base_uri": "https://localhost:8080/",
          "height": 297
        }
      },
      "source": [
        "data.describe()"
      ],
      "execution_count": 4,
      "outputs": [
        {
          "output_type": "execute_result",
          "data": {
            "text/html": [
              "<div>\n",
              "<style scoped>\n",
              "    .dataframe tbody tr th:only-of-type {\n",
              "        vertical-align: middle;\n",
              "    }\n",
              "\n",
              "    .dataframe tbody tr th {\n",
              "        vertical-align: top;\n",
              "    }\n",
              "\n",
              "    .dataframe thead th {\n",
              "        text-align: right;\n",
              "    }\n",
              "</style>\n",
              "<table border=\"1\" class=\"dataframe\">\n",
              "  <thead>\n",
              "    <tr style=\"text-align: right;\">\n",
              "      <th></th>\n",
              "      <th>Номер выборки</th>\n",
              "      <th>a1</th>\n",
              "      <th>a2</th>\n",
              "      <th>a3</th>\n",
              "      <th>a4</th>\n",
              "    </tr>\n",
              "  </thead>\n",
              "  <tbody>\n",
              "    <tr>\n",
              "      <th>count</th>\n",
              "      <td>6.000000</td>\n",
              "      <td>6.000000</td>\n",
              "      <td>6.000000</td>\n",
              "      <td>6.000000</td>\n",
              "      <td>6.000000</td>\n",
              "    </tr>\n",
              "    <tr>\n",
              "      <th>mean</th>\n",
              "      <td>3.500000</td>\n",
              "      <td>45.833333</td>\n",
              "      <td>57.166667</td>\n",
              "      <td>66.000000</td>\n",
              "      <td>29.833333</td>\n",
              "    </tr>\n",
              "    <tr>\n",
              "      <th>std</th>\n",
              "      <td>1.870829</td>\n",
              "      <td>36.853313</td>\n",
              "      <td>26.309061</td>\n",
              "      <td>24.754798</td>\n",
              "      <td>14.062954</td>\n",
              "    </tr>\n",
              "    <tr>\n",
              "      <th>min</th>\n",
              "      <td>1.000000</td>\n",
              "      <td>2.000000</td>\n",
              "      <td>18.000000</td>\n",
              "      <td>35.000000</td>\n",
              "      <td>13.000000</td>\n",
              "    </tr>\n",
              "    <tr>\n",
              "      <th>25%</th>\n",
              "      <td>2.250000</td>\n",
              "      <td>14.750000</td>\n",
              "      <td>43.250000</td>\n",
              "      <td>55.250000</td>\n",
              "      <td>19.250000</td>\n",
              "    </tr>\n",
              "    <tr>\n",
              "      <th>50%</th>\n",
              "      <td>3.500000</td>\n",
              "      <td>48.500000</td>\n",
              "      <td>59.000000</td>\n",
              "      <td>57.000000</td>\n",
              "      <td>30.500000</td>\n",
              "    </tr>\n",
              "    <tr>\n",
              "      <th>75%</th>\n",
              "      <td>4.750000</td>\n",
              "      <td>77.000000</td>\n",
              "      <td>72.500000</td>\n",
              "      <td>84.250000</td>\n",
              "      <td>36.500000</td>\n",
              "    </tr>\n",
              "    <tr>\n",
              "      <th>max</th>\n",
              "      <td>6.000000</td>\n",
              "      <td>86.000000</td>\n",
              "      <td>92.000000</td>\n",
              "      <td>99.000000</td>\n",
              "      <td>51.000000</td>\n",
              "    </tr>\n",
              "  </tbody>\n",
              "</table>\n",
              "</div>"
            ],
            "text/plain": [
              "       Номер выборки         a1         a2         a3         a4\n",
              "count       6.000000   6.000000   6.000000   6.000000   6.000000\n",
              "mean        3.500000  45.833333  57.166667  66.000000  29.833333\n",
              "std         1.870829  36.853313  26.309061  24.754798  14.062954\n",
              "min         1.000000   2.000000  18.000000  35.000000  13.000000\n",
              "25%         2.250000  14.750000  43.250000  55.250000  19.250000\n",
              "50%         3.500000  48.500000  59.000000  57.000000  30.500000\n",
              "75%         4.750000  77.000000  72.500000  84.250000  36.500000\n",
              "max         6.000000  86.000000  92.000000  99.000000  51.000000"
            ]
          },
          "metadata": {
            "tags": []
          },
          "execution_count": 4
        }
      ]
    },
    {
      "cell_type": "code",
      "metadata": {
        "id": "42_AdT4edEtT",
        "colab_type": "code",
        "outputId": "e920425f-2c74-43c8-8f7e-6a0184e74211",
        "colab": {
          "base_uri": "https://localhost:8080/",
          "height": 153
        }
      },
      "source": [
        "# Посмотрим, можно ли отклонить какую-нибудь гипотезу используя критерий Уилкоксона без поправки на множественную проверку\n",
        "for i in range(1, 5):\n",
        "  for j in range(i+1, 5):\n",
        "    _, p_val = st.wilcoxon(data.iloc[:, i].values, data.iloc[:, j].values)\n",
        "    print(data.columns[i], data.columns[j], p_val)"
      ],
      "execution_count": 5,
      "outputs": [
        {
          "output_type": "stream",
          "text": [
            "a1 a2 0.463071015014588\n",
            "a1 a3 0.2071604489114608\n",
            "a1 a4 0.463071015014588\n",
            "a2 a3 0.7531523647659145\n",
            "a2 a4 0.07473549830588248\n",
            "a3 a4 0.027707849358079864\n"
          ],
          "name": "stdout"
        },
        {
          "output_type": "stream",
          "text": [
            "/usr/local/lib/python3.6/dist-packages/scipy/stats/morestats.py:2879: UserWarning: Sample size too small for normal approximation.\n",
            "  warnings.warn(\"Sample size too small for normal approximation.\")\n"
          ],
          "name": "stderr"
        }
      ]
    },
    {
      "cell_type": "markdown",
      "metadata": {
        "id": "eMsOtnUOVJTa",
        "colab_type": "text"
      },
      "source": [
        "В этом случае гипотеза о неразличимости моделей может быть отклонена только для a3 и a4: $$p-value(a3, a4) < \\alpha = 0.05$$\n",
        "\n",
        "Сделаем попровку на множественость гипотез, воспользуемся критерием Тьюки:"
      ]
    },
    {
      "cell_type": "code",
      "metadata": {
        "id": "rGNJWK8y_wNj",
        "colab_type": "code",
        "colab": {}
      },
      "source": [
        "data_numpy = data.to_numpy()[:, 1:]\n",
        "n, k = data_numpy.shape\n",
        "s = data_numpy.std() * (n / (n - 1))**(1/2) # множитель нужен, т.к. data_numpy.std() = sqrt(mean(abs(x - x.mean())**2)\n",
        "# s = data_numpy.std()"
      ],
      "execution_count": 0,
      "outputs": []
    },
    {
      "cell_type": "code",
      "metadata": {
        "id": "IIWPBEQ2eHoH",
        "colab_type": "code",
        "colab": {}
      },
      "source": [
        "def Tukey(x, y):\n",
        "  return abs(x.mean() - y.mean()) / (s * (n/2)**(1/2))"
      ],
      "execution_count": 0,
      "outputs": []
    },
    {
      "cell_type": "code",
      "metadata": {
        "id": "kfPAwMadEpdP",
        "colab_type": "code",
        "outputId": "3adc6a04-e644-48b9-841f-3d5410c79c00",
        "colab": {
          "base_uri": "https://localhost:8080/",
          "height": 119
        }
      },
      "source": [
        "for i in range(1, 5):\n",
        "  for j in range(i+1, 5):\n",
        "    print(data.columns[i], data.columns[j], \n",
        "          Tukey(data.iloc[:, i], data.iloc[:, j]))"
      ],
      "execution_count": 8,
      "outputs": [
        {
          "output_type": "stream",
          "text": [
            "a1 a2 0.21404064356929542\n",
            "a1 a3 0.38086643929242286\n",
            "a1 a4 0.3021750262154761\n",
            "a2 a3 0.16682579572312742\n",
            "a2 a4 0.5162156697847715\n",
            "a3 a4 0.683041465507899\n"
          ],
          "name": "stdout"
        }
      ]
    },
    {
      "cell_type": "markdown",
      "metadata": {
        "id": "aZ6Zu-xLXW7R",
        "colab_type": "text"
      },
      "source": [
        "Критическое значение статистики для $k=4, n=6, \\alpha=0.05 \\rightarrow m=2.9$\n",
        "\n",
        "Все значения статистик меньше этого значения, ни одну из гипотез отклонить не можем."
      ]
    },
    {
      "cell_type": "code",
      "metadata": {
        "id": "jSZQ9we2hgH1",
        "colab_type": "code",
        "colab": {}
      },
      "source": [
        ""
      ],
      "execution_count": 0,
      "outputs": []
    }
  ]
}