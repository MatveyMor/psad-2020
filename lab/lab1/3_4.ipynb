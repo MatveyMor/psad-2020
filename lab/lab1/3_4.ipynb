{
 "cells": [
  {
   "cell_type": "markdown",
   "metadata": {},
   "source": [
    "# Усманова Анастасия, 674 группа"
   ]
  },
  {
   "cell_type": "markdown",
   "metadata": {},
   "source": [
    "# Задача 3.4\n",
    "\n",
    "Даны результаты работы двух машинных переводчиков на небольших выборках переводов для разных языковых пар.\n",
    "\n",
    "Стандартная оценка качества перевода производится с использованием специальной метрики BLEU.\n",
    "\n",
    "Требуется опеделить:\n",
    "\n",
    "- превосходит ли один переводчик в среднем по парам второй переводчик по переводу\n",
    "- связано ли качество перевода для разных языковых пар для двух переводчиков?\n",
    "\n",
    "При подсчете BLEU учитывать только слова, регистр не учитывать.\n",
    "\n",
    "Формат данных\n",
    "\n",
    "Названиие файлов имеет формат lang1_lang2_<translator_id>.txt:\n",
    "\n",
    "lang_1, lang_2 --- языки (перевод с lang_1 на lang_2).\n",
    "\n",
    "gold - эталонный вариант, с которым сравнивается перевод от систем машинного перевода."
   ]
  },
  {
   "cell_type": "code",
   "execution_count": 216,
   "metadata": {},
   "outputs": [],
   "source": [
    "import numpy as np\n",
    "import pandas as pd\n",
    "import scipy.stats as st\n",
    "import matplotlib.pylab as plt\n",
    "from nltk.translate import bleu_score\n",
    "from nltk.tokenize import word_tokenize\n",
    "from nltk.translate.bleu_score import SmoothingFunction\n",
    "smoothie = SmoothingFunction().method1"
   ]
  },
  {
   "cell_type": "markdown",
   "metadata": {},
   "source": [
    "### 1. Приведем данные к рабочему виду."
   ]
  },
  {
   "cell_type": "code",
   "execution_count": 178,
   "metadata": {},
   "outputs": [],
   "source": [
    "pairs = ['de_en' , 'en_kk' , 'en_ru' , 'ru_de' , 'ru_kk']\n",
    "types = ['_1.txt', '_2.txt', '_gold.txt' ]\n",
    "path = 'data/mt/'\n",
    "texts = {i:{} for i in pairs}\n",
    "for pair in pairs:\n",
    "    for t in types:\n",
    "        with open(path + pair + t, 'r', encoding=\"utf-8\") as f:\n",
    "            #приводим к нижнему регистру\n",
    "            #разбиваем на предложения\n",
    "            texts[pair][t] = f.read().lower().split('\\n')\n",
    "            #удалим пустые строки\n",
    "            texts[pair][t] = [x for x in texts[pair][t] if len(x)>0]"
   ]
  },
  {
   "cell_type": "code",
   "execution_count": 179,
   "metadata": {},
   "outputs": [
    {
     "data": {
      "text/plain": [
       "'from 2003 to 2007 he was president of the british film institute.'"
      ]
     },
     "execution_count": 179,
     "metadata": {},
     "output_type": "execute_result"
    }
   ],
   "source": [
    "texts['de_en']['_1.txt'][0]"
   ]
  },
  {
   "cell_type": "code",
   "execution_count": 180,
   "metadata": {},
   "outputs": [
    {
     "data": {
      "text/html": [
       "<div>\n",
       "<style scoped>\n",
       "    .dataframe tbody tr th:only-of-type {\n",
       "        vertical-align: middle;\n",
       "    }\n",
       "\n",
       "    .dataframe tbody tr th {\n",
       "        vertical-align: top;\n",
       "    }\n",
       "\n",
       "    .dataframe thead th {\n",
       "        text-align: right;\n",
       "    }\n",
       "</style>\n",
       "<table border=\"1\" class=\"dataframe\">\n",
       "  <thead>\n",
       "    <tr style=\"text-align: right;\">\n",
       "      <th></th>\n",
       "      <th>1</th>\n",
       "      <th>2</th>\n",
       "      <th>gold</th>\n",
       "    </tr>\n",
       "  </thead>\n",
       "  <tbody>\n",
       "    <tr>\n",
       "      <th>de_en</th>\n",
       "      <td>100</td>\n",
       "      <td>100</td>\n",
       "      <td>100</td>\n",
       "    </tr>\n",
       "    <tr>\n",
       "      <th>en_kk</th>\n",
       "      <td>61</td>\n",
       "      <td>61</td>\n",
       "      <td>61</td>\n",
       "    </tr>\n",
       "    <tr>\n",
       "      <th>en_ru</th>\n",
       "      <td>94</td>\n",
       "      <td>94</td>\n",
       "      <td>94</td>\n",
       "    </tr>\n",
       "    <tr>\n",
       "      <th>ru_de</th>\n",
       "      <td>50</td>\n",
       "      <td>50</td>\n",
       "      <td>50</td>\n",
       "    </tr>\n",
       "    <tr>\n",
       "      <th>ru_kk</th>\n",
       "      <td>90</td>\n",
       "      <td>90</td>\n",
       "      <td>90</td>\n",
       "    </tr>\n",
       "  </tbody>\n",
       "</table>\n",
       "</div>"
      ],
      "text/plain": [
       "         1    2 gold\n",
       "de_en  100  100  100\n",
       "en_kk   61   61   61\n",
       "en_ru   94   94   94\n",
       "ru_de   50   50   50\n",
       "ru_kk   90   90   90"
      ]
     },
     "execution_count": 180,
     "metadata": {},
     "output_type": "execute_result"
    }
   ],
   "source": [
    "#Убедимся, что количество предложений в текстах совпадает.\n",
    "data_len = pd.DataFrame(columns=['1', '2', 'gold'])\n",
    "for pair in pairs:\n",
    "    row = []\n",
    "    for t in types:\n",
    "        row.append(len(texts[pair][t]))\n",
    "    data_len.loc[pair] = row\n",
    "data_len"
   ]
  },
  {
   "cell_type": "markdown",
   "metadata": {},
   "source": [
    "### 2. Вычисляем оценки качества переводчиков"
   ]
  },
  {
   "cell_type": "code",
   "execution_count": 213,
   "metadata": {},
   "outputs": [],
   "source": [
    "def quality(text1, text2):\n",
    "    score = 0\n",
    "    for i, sent1 in enumerate(text1):\n",
    "        sent2 = text2[i]\n",
    "        score += bleu_score.sentence_bleu(sent1,sent2, smoothing_function=smoothie)\n",
    "    return score/len(text1)\n",
    "\n",
    "data = pd.DataFrame(columns=['1', '2'])"
   ]
  },
  {
   "cell_type": "code",
   "execution_count": 214,
   "metadata": {},
   "outputs": [
    {
     "data": {
      "text/html": [
       "<div>\n",
       "<style scoped>\n",
       "    .dataframe tbody tr th:only-of-type {\n",
       "        vertical-align: middle;\n",
       "    }\n",
       "\n",
       "    .dataframe tbody tr th {\n",
       "        vertical-align: top;\n",
       "    }\n",
       "\n",
       "    .dataframe thead th {\n",
       "        text-align: right;\n",
       "    }\n",
       "</style>\n",
       "<table border=\"1\" class=\"dataframe\">\n",
       "  <thead>\n",
       "    <tr style=\"text-align: right;\">\n",
       "      <th></th>\n",
       "      <th>1</th>\n",
       "      <th>2</th>\n",
       "      <th>1&gt;2</th>\n",
       "    </tr>\n",
       "  </thead>\n",
       "  <tbody>\n",
       "    <tr>\n",
       "      <th>de_en</th>\n",
       "      <td>0.006103</td>\n",
       "      <td>0.006008</td>\n",
       "      <td>True</td>\n",
       "    </tr>\n",
       "    <tr>\n",
       "      <th>en_kk</th>\n",
       "      <td>0.011882</td>\n",
       "      <td>0.011845</td>\n",
       "      <td>True</td>\n",
       "    </tr>\n",
       "    <tr>\n",
       "      <th>en_ru</th>\n",
       "      <td>0.012175</td>\n",
       "      <td>0.015287</td>\n",
       "      <td>False</td>\n",
       "    </tr>\n",
       "    <tr>\n",
       "      <th>ru_de</th>\n",
       "      <td>0.005207</td>\n",
       "      <td>0.005221</td>\n",
       "      <td>False</td>\n",
       "    </tr>\n",
       "    <tr>\n",
       "      <th>ru_kk</th>\n",
       "      <td>0.008805</td>\n",
       "      <td>0.009498</td>\n",
       "      <td>False</td>\n",
       "    </tr>\n",
       "  </tbody>\n",
       "</table>\n",
       "</div>"
      ],
      "text/plain": [
       "              1         2    1>2\n",
       "de_en  0.006103  0.006008   True\n",
       "en_kk  0.011882  0.011845   True\n",
       "en_ru  0.012175  0.015287  False\n",
       "ru_de  0.005207  0.005221  False\n",
       "ru_kk  0.008805  0.009498  False"
      ]
     },
     "execution_count": 214,
     "metadata": {},
     "output_type": "execute_result"
    }
   ],
   "source": [
    "for pair in pairs:\n",
    "    data_row = []\n",
    "    data_row.append(quality(texts[pair][types[0]], texts[pair][types[2]]))\n",
    "    data_row.append(quality(texts[pair][types[1]], texts[pair][types[2]]))\n",
    "    data.loc[pair] = data_row\n",
    "    \n",
    "data['1>2'] = data['1']>data['2']\n",
    "data    "
   ]
  },
  {
   "cell_type": "markdown",
   "metadata": {},
   "source": [
    "Мы видим, что 2ой переводчик превзошел 1ый в трех случаях из пяти.\n",
    "Следовательно, качество перевода зависит от языковой пары. "
   ]
  },
  {
   "cell_type": "markdown",
   "metadata": {},
   "source": [
    "### 3. Формальная постановка задачи 1\n",
    "\n",
    "- $H_0:$ средние значения качества переводчиков равны $P(Quality1>Quality2)=1/2$\n",
    "- $H_1:$ средние значение качества переводчиков не равны\n",
    "$P(Quality1>Quality2)< \\ne >1/2$"
   ]
  },
  {
   "cell_type": "markdown",
   "metadata": {},
   "source": [
    "### 4. Проверка нулевой гипотезы"
   ]
  },
  {
   "cell_type": "code",
   "execution_count": 218,
   "metadata": {},
   "outputs": [
    {
     "data": {
      "image/png": "[encoded data removed]",
      "text/plain": [
       "<Figure size 432x288 with 1 Axes>"
      ]
     },
     "metadata": {
      "needs_background": "light"
     },
     "output_type": "display_data"
    }
   ],
   "source": [
    "_=st.probplot(data['1'] - data['2'], plot=plt)"
   ]
  },
  {
   "cell_type": "code",
   "execution_count": 219,
   "metadata": {},
   "outputs": [
    {
     "data": {
      "text/plain": [
       "(0.714332640171051, 0.013444613665342331)"
      ]
     },
     "execution_count": 219,
     "metadata": {},
     "output_type": "execute_result"
    }
   ],
   "source": [
    "st.shapiro(data['1'] - data['2'])"
   ]
  },
  {
   "cell_type": "markdown",
   "metadata": {},
   "source": [
    "Видим, что данные не распределены нормально. Поэтому используем непараметрические критерии. "
   ]
  },
  {
   "cell_type": "code",
   "execution_count": 220,
   "metadata": {},
   "outputs": [
    {
     "data": {
      "text/plain": [
       "(-0.5, 1.0)"
      ]
     },
     "execution_count": 220,
     "metadata": {},
     "output_type": "execute_result"
    }
   ],
   "source": [
    "#Критерий знаков\n",
    "from statsmodels.stats.descriptivestats import sign_test\n",
    "sign_test(data['1'] - data['2'])"
   ]
  },
  {
   "cell_type": "code",
   "execution_count": 221,
   "metadata": {},
   "outputs": [
    {
     "name": "stderr",
     "output_type": "stream",
     "text": [
      "/Library/Frameworks/Python.framework/Versions/3.7/lib/python3.7/site-packages/scipy/stats/morestats.py:2778: UserWarning: Warning: sample size too small for normal approximation.\n",
      "  warnings.warn(\"Warning: sample size too small for normal approximation.\")\n"
     ]
    },
    {
     "data": {
      "text/plain": [
       "WilcoxonResult(statistic=5.0, pvalue=0.5001842570707944)"
      ]
     },
     "execution_count": 221,
     "metadata": {},
     "output_type": "execute_result"
    }
   ],
   "source": [
    "#Уилкоксон\n",
    "st.wilcoxon(data['1'] - data['2'])"
   ]
  },
  {
   "cell_type": "code",
   "execution_count": 223,
   "metadata": {},
   "outputs": [
    {
     "data": {
      "text/plain": [
       "(0.37313626863731364, -0.0007372653318128643)"
      ]
     },
     "execution_count": 223,
     "metadata": {},
     "output_type": "execute_result"
    }
   ],
   "source": [
    "#Перестановочный критерий\n",
    "from permute.core import one_sample\n",
    "one_sample(data['1'], data['2'],  alternative='two-sided')"
   ]
  },
  {
   "cell_type": "markdown",
   "metadata": {},
   "source": [
    "Данные гипотезе не противоречат. Поэтому мы не можем сказать, что один переводчик лучше другого. "
   ]
  },
  {
   "cell_type": "markdown",
   "metadata": {},
   "source": [
    "### 5. Итог\n",
    "Нельзя определить, какой из переводчиков лучше. И мы видим, что качество перевода зависит от языковой пары."
   ]
  }
 ],
 "metadata": {
  "kernelspec": {
   "display_name": "Python 3",
   "language": "python",
   "name": "python3"
  },
  "language_info": {
   "codemirror_mode": {
    "name": "ipython",
    "version": 3
   },
   "file_extension": ".py",
   "mimetype": "text/x-python",
   "name": "python",
   "nbconvert_exporter": "python",
   "pygments_lexer": "ipython3",
   "version": "3.7.2"
  }
 },
 "nbformat": 4,
 "nbformat_minor": 2
}
