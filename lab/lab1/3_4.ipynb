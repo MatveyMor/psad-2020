{
 "cells": [
  {
   "cell_type": "markdown",
   "metadata": {},
   "source": [
    "## Задача 3.4\n",
    "Даны [результаты работы двух машинных переводчиков на небольших выборках переводов для разных языковых пар](data/mt).\n",
    "\n",
    "Стандартная оценка качества перевода производится с использованием специальной метрики [BLEU](https://en.wikipedia.org/wiki/BLEU). (Реализовано [здесь](https://www.nltk.org/_modules/nltk/translate/bleu_score.html)).\n",
    "\n",
    "\n",
    "Требуется опеделить:\n",
    "* превосходит ли один переводчик в среднем по парам второй переводчик по переводу\n",
    "* связано ли качество перевода для разных языковых пар для двух переводчиков?"
   ]
  },
  {
   "cell_type": "code",
   "execution_count": 1,
   "metadata": {},
   "outputs": [],
   "source": [
    "import numpy as np\n",
    "import pandas as pd\n",
    "import scipy.stats as st\n",
    "import matplotlib.pyplot as plt\n",
    "\n",
    "from nltk.translate.bleu_score import sentence_bleu\n",
    "from nltk.tokenize import word_tokenize\n",
    "from nltk.translate.bleu_score import SmoothingFunction\n",
    "smoothie = SmoothingFunction().method1"
   ]
  },
  {
   "cell_type": "code",
   "execution_count": 2,
   "metadata": {},
   "outputs": [],
   "source": [
    "pairs = ['de_en', 'en_kk', 'en_ru', 'ru_de', 'ru_kk']\n",
    "scores = {key: [0,0]  for key in pairs}"
   ]
  },
  {
   "cell_type": "code",
   "execution_count": 3,
   "metadata": {},
   "outputs": [],
   "source": [
    "for i, name in enumerate(pairs):\n",
    "    files = {}\n",
    "    for key in ['1', '2', 'gold']:\n",
    "        with open('data/mt/'+ name +'_' + key + '.txt', 'r', encoding=\"utf-8\") as f:\n",
    "            files[key] = f.readlines()\n",
    "    tokenized_files = {key: [word_tokenize(j) for j in files[key]] for key in ['1', '2', 'gold']}\n",
    "    for translator in range(1,3):\n",
    "        s = np.mean([sentence_bleu([tokenized_files[str(translator)][l]], tokenized_files['gold'][l], smoothing_function=smoothie) for l in range(len(tokenized_files['gold']))]) \n",
    "        scores[name][translator- 1] = s"
   ]
  },
  {
   "cell_type": "code",
   "execution_count": 4,
   "metadata": {},
   "outputs": [
    {
     "name": "stdout",
     "output_type": "stream",
     "text": [
      "сумма BLEU у первого: 0.5740902444312836, второго: 0.5957848702033133\n",
      "\n"
     ]
    }
   ],
   "source": [
    "print(f\"сумма BLEU у первого: {np.sum([value[0] for key, value in scores.items()])}, второго: {np.sum([value[1] for key, value in scores.items()])}\")\n",
    "print()"
   ]
  },
  {
   "cell_type": "code",
   "execution_count": 5,
   "metadata": {},
   "outputs": [
    {
     "data": {
      "text/plain": [
       "<matplotlib.legend.Legend at 0x11a276908>"
      ]
     },
     "execution_count": 5,
     "metadata": {},
     "output_type": "execute_result"
    },
    {
     "data": {
      "image/png": "[encoded data removed]",
      "text/plain": [
       "<Figure size 432x288 with 1 Axes>"
      ]
     },
     "metadata": {
      "needs_background": "light"
     },
     "output_type": "display_data"
    }
   ],
   "source": [
    "df=pd.DataFrame({'x': np.arange(1,6), \n",
    "                 'первый': [value[0] for key, value in scores.items()],\n",
    "                 'второй': [value[1] for key, value in scores.items()]})\n",
    "plt.plot( 'x', 'первый', data=df, marker='o', markerfacecolor='blue', markersize=12, color='skyblue', linewidth=4)\n",
    "plt.plot( 'x', 'второй', data=df, marker='x', color='olive', linewidth=2)\n",
    "plt.ylabel('метрика BLEU')\n",
    "plt.xlabel('номер перевода')\n",
    "plt.legend()"
   ]
  },
  {
   "cell_type": "markdown",
   "metadata": {},
   "source": [
    "Второй переводчик превзошел первого по BLEU, но на некоторых переводах первый был лучше. Чтобы ответить на вопрос, связано ли качество перевода для разных для переводчиков можно воспользоваться критерием знаков. Нулевая гипотеза: качество не связано."
   ]
  },
  {
   "cell_type": "code",
   "execution_count": 6,
   "metadata": {},
   "outputs": [
    {
     "name": "stderr",
     "output_type": "stream",
     "text": [
      "/anaconda3/lib/python3.6/site-packages/scipy/stats/morestats.py:2879: UserWarning: Sample size too small for normal approximation.\n",
      "  warnings.warn(\"Sample size too small for normal approximation.\")\n"
     ]
    },
    {
     "data": {
      "text/plain": [
       "WilcoxonResult(statistic=4.0, pvalue=0.34523107177184)"
      ]
     },
     "execution_count": 6,
     "metadata": {},
     "output_type": "execute_result"
    }
   ],
   "source": [
    "st.wilcoxon([value[0] for key, value in scores.items()],\n",
    "            [value[1] for key, value in scores.items()], \n",
    "                     alternative='two-sided')"
   ]
  },
  {
   "cell_type": "markdown",
   "metadata": {},
   "source": [
    "Нельзя отвергнуть гипотезу, что качество перевода не связано с переводчиком"
   ]
  },
  {
   "cell_type": "code",
   "execution_count": null,
   "metadata": {},
   "outputs": [],
   "source": []
  }
 ],
 "metadata": {
  "kernelspec": {
   "display_name": "Python 3",
   "language": "python",
   "name": "python3"
  },
  "language_info": {
   "codemirror_mode": {
    "name": "ipython",
    "version": 3
   },
   "file_extension": ".py",
   "mimetype": "text/x-python",
   "name": "python",
   "nbconvert_exporter": "python",
   "pygments_lexer": "ipython3",
   "version": "3.6.4"
  }
 },
 "nbformat": 4,
 "nbformat_minor": 2
}
