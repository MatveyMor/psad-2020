{
 "cells": [
  {
   "cell_type": "markdown",
   "metadata": {},
   "source": [
    "# Задание 3.4\n",
    "\n",
    "## Курузов Илья, 676"
   ]
  },
  {
   "cell_type": "markdown",
   "metadata": {},
   "source": [
    "Извлекаем данные."
   ]
  },
  {
   "cell_type": "code",
   "execution_count": 1,
   "metadata": {},
   "outputs": [],
   "source": [
    "path = \"data/mt\""
   ]
  },
  {
   "cell_type": "code",
   "execution_count": 2,
   "metadata": {},
   "outputs": [],
   "source": [
    "import os"
   ]
  },
  {
   "cell_type": "code",
   "execution_count": 3,
   "metadata": {},
   "outputs": [],
   "source": [
    "classes = [\"_1.txt\", \"_2.txt\", \"_gold.txt\"]\n",
    "texts = {i:{} for i in classes}\n",
    "for i in os.listdir(path):\n",
    "    for j in classes:\n",
    "        if j in i:\n",
    "            with open(path+\"/\"+i, \"r\") as f:\n",
    "                # Переводим в нижний регистр\n",
    "                texts[j][i[:i.index(j)]] = f.read().lower()\n",
    "                f.close()"
   ]
  },
  {
   "cell_type": "code",
   "execution_count": 4,
   "metadata": {
    "scrolled": true
   },
   "outputs": [
    {
     "name": "stdout",
     "output_type": "stream",
     "text": [
      "Количество переведенных текстов 5\n"
     ]
    }
   ],
   "source": [
    "print(\"Количество переведенных текстов\", len(texts[j]))"
   ]
  },
  {
   "cell_type": "markdown",
   "metadata": {},
   "source": [
    "Разобъем тексты по предложениям"
   ]
  },
  {
   "cell_type": "code",
   "execution_count": 5,
   "metadata": {},
   "outputs": [
    {
     "data": {
      "text/plain": [
       "['en_ru', 'ru_kk', 'en_kk', 'ru_de', 'de_en']"
      ]
     },
     "execution_count": 5,
     "metadata": {},
     "output_type": "execute_result"
    }
   ],
   "source": [
    "keys = list(texts[classes[0]].keys())\n",
    "keys"
   ]
  },
  {
   "cell_type": "code",
   "execution_count": 6,
   "metadata": {},
   "outputs": [],
   "source": [
    "new_texts = {i:{} for i in classes}\n",
    "for i in classes:\n",
    "    cur_texts = texts[i]\n",
    "    for j in keys:\n",
    "        new_texts[i][j] = cur_texts[j].split(\"\\n\")\n",
    "        new_texts[i][j] = [i for i in new_texts[i][j] if len(i)>0]"
   ]
  },
  {
   "cell_type": "markdown",
   "metadata": {},
   "source": [
    "Определим метрику BLEU для пары текстов."
   ]
  },
  {
   "cell_type": "code",
   "execution_count": 7,
   "metadata": {},
   "outputs": [],
   "source": [
    "from nltk.translate import bleu_score\n",
    "from nltk.translate.bleu_score import SmoothingFunction"
   ]
  },
  {
   "cell_type": "code",
   "execution_count": 8,
   "metadata": {},
   "outputs": [],
   "source": [
    "def BLEU(text1, text2, smoothie = SmoothingFunction().method1):\n",
    "    score = 0\n",
    "    for ind, sent1 in enumerate(text1):\n",
    "        sent2 = text2[ind]\n",
    "        score += bleu_score.sentence_bleu(sent1, sent2, smoothing_function= smoothie)\n",
    "    return score/len(text1)"
   ]
  },
  {
   "cell_type": "code",
   "execution_count": 9,
   "metadata": {},
   "outputs": [],
   "source": [
    "import numpy as np\n",
    "BLEU_table = {\"_1\":[], \"_2\":[]}\n",
    "for i in BLEU_table:\n",
    "    for j in keys:\n",
    "        text1 = new_texts[i+\".txt\"][j]\n",
    "        text2 = new_texts[\"_gold.txt\"][j]\n",
    "        BLEU_table[i].append(BLEU(text2, text1))\n",
    "res = np.array([BLEU_table[\"_1\"], BLEU_table[\"_2\"]]).T"
   ]
  },
  {
   "cell_type": "code",
   "execution_count": 10,
   "metadata": {},
   "outputs": [
    {
     "name": "stdout",
     "output_type": "stream",
     "text": [
      "en_ru [0.01532306 0.0156166 ]\n",
      "ru_kk [0.01161779 0.01114365]\n",
      "en_kk [0.01297429 0.01225862]\n",
      "ru_de [0.00545099 0.00539016]\n",
      "de_en [0.00703511 0.00558257]\n"
     ]
    }
   ],
   "source": [
    "for ind, i in enumerate(keys):\n",
    "    print(i, res[ind])"
   ]
  },
  {
   "cell_type": "markdown",
   "metadata": {},
   "source": [
    "## 1. Лучший переводчик\n",
    "\n",
    "Сейчас мы хотим выяснить, верно ли, что один из переводчиков лучше. Будем считать, что величины качества первого и второго переводчика есть случайные величины $T_1$ и $T_2$.\n",
    "\n",
    "Проверим гипотезу $H_0: \\mathbb{P}(T_1 > T_2) = \\frac{1}{2}$ при альтернативе $H_1: \\mathbb{P}(T_1 > T_2) \\neq \\frac{1}{2}$. Для этого воспользуемся критерием знаков при уровне значимости $\\alpha = 0.5$.\n",
    "\n",
    "Гипотеза отвергается, когда статистика этого критерия не лежит в диапазоне $[\\frac{\\alpha}{2}, 1-\\frac{\\alpha}{2}]$."
   ]
  },
  {
   "cell_type": "code",
   "execution_count": 11,
   "metadata": {},
   "outputs": [],
   "source": [
    "from scipy.stats import binom\n",
    "def test(X1, X2, alpha = 0.05):\n",
    "    T = 0\n",
    "    for ind, i in enumerate(X1):\n",
    "        T+= i >= X2[ind]\n",
    "    p_value = (1-binom(len(X1), 0.5).cdf(T) )\n",
    "    return p_value, alpha/2 <= p_value <= 1 - alpha/2"
   ]
  },
  {
   "cell_type": "code",
   "execution_count": 12,
   "metadata": {},
   "outputs": [
    {
     "data": {
      "text/plain": [
       "(0.03125, True)"
      ]
     },
     "execution_count": 12,
     "metadata": {},
     "output_type": "execute_result"
    }
   ],
   "source": [
    "test(res[:, 0], res[:,1]) "
   ]
  },
  {
   "cell_type": "markdown",
   "metadata": {},
   "source": [
    "Данные гипотезе противоречат. Значит, нельзя считать, что один из переводчиков лучше. "
   ]
  },
  {
   "cell_type": "markdown",
   "metadata": {},
   "source": [
    "## 2. Независимость\n",
    "\n",
    "Проверим гипотезу о независимости при помощи коэффициента Кэндалла."
   ]
  },
  {
   "cell_type": "code",
   "execution_count": 13,
   "metadata": {},
   "outputs": [
    {
     "data": {
      "text/plain": [
       "KendalltauResult(correlation=0.9999999999999999, pvalue=0.016666666666666666)"
      ]
     },
     "execution_count": 13,
     "metadata": {},
     "output_type": "execute_result"
    }
   ],
   "source": [
    "from scipy.stats import kendalltau\n",
    "kendalltau(res[:, 0], res[:,1])"
   ]
  },
  {
   "cell_type": "markdown",
   "metadata": {},
   "source": [
    "Коэффициент Кэндалла имеет достаточно высокое значение. Следовательно, качество перевода во многом обусловлено какая языковая пара обрабатывается. "
   ]
  }
 ],
 "metadata": {
  "kernelspec": {
   "display_name": "Python 3",
   "language": "python",
   "name": "python3"
  },
  "language_info": {
   "codemirror_mode": {
    "name": "ipython",
    "version": 3
   },
   "file_extension": ".py",
   "mimetype": "text/x-python",
   "name": "python",
   "nbconvert_exporter": "python",
   "pygments_lexer": "ipython3",
   "version": "3.7.3"
  }
 },
 "nbformat": 4,
 "nbformat_minor": 2
}
