{
 "cells": [
  {
   "cell_type": "code",
   "execution_count": 1,
   "metadata": {},
   "outputs": [],
   "source": [
    "from math import sqrt\n",
    "import matplotlib.pyplot as plt\n",
    "from scipy.stats import norm\n",
    "\n",
    "from my_functions import quadratic_eq\n",
    "from my_functions import get_geom_var"
   ]
  },
  {
   "cell_type": "markdown",
   "metadata": {},
   "source": [
    "# Задача 2.3\n",
    "Известно, что электричка \"Вашингтон-Петушки\" аварийно останавливается раз в несколько дней. Аналитики РЖД проанализировали, сколько дней электричка едет без поломок, и составили выборку:\n",
    "\n",
    "x = (3, 22, 13, 6, 18, 5, 6, 10, 7, 15).\n",
    "\n",
    "РЖД хочет проверить гипотезу, что дисперсия распределения равна 9 против правосторонней альтернативы.\n",
    "\n",
    "Требуется:\n",
    "\n",
    "- Ввести предположение, каким распределением описывается данная выборка.\n",
    "- Записать задачу формально.\n",
    "- Предложить критерий для оценки дисперсии распределения.\n",
    "- Проверить гипотезу о значении дисперсии распределения для уровня значимости alpha = 0.05 аналитически.\n",
    "- Вывести и получить доверительный интервал для значения дисперсии при alpha = 0.05."
   ]
  },
  {
   "cell_type": "code",
   "execution_count": 2,
   "metadata": {},
   "outputs": [],
   "source": [
    "s_star = 9\n",
    "x = [3, 22, 13, 6, 18, 5, 6, 10, 7, 15]\n",
    "alpha = 0.05\n",
    "n = len(x)"
   ]
  },
  {
   "cell_type": "markdown",
   "metadata": {},
   "source": [
    "## 1. Формально предположение\n",
    "Положим, вероятность поломки равна $p$. Тогда $x_{i}$ это первая встреча 1 в реализации бернулевской случайной величины. Что представляет из себя геометрическое распределение. $X $\n",
    "\n",
    "Можно найти дисперсию геометрического распределения: $\\mathrm{Var} = \\frac{1-p}{p^{2}}$\n",
    "\n",
    "Зная дисперсию `s=9` можно вычислить предполагаемое значение параметра"
   ]
  },
  {
   "cell_type": "code",
   "execution_count": 3,
   "metadata": {},
   "outputs": [
    {
     "data": {
      "text/plain": [
       "0.2823756961276789"
      ]
     },
     "execution_count": 3,
     "metadata": {},
     "output_type": "execute_result"
    }
   ],
   "source": [
    "p_0 = quadratic_eq(s_star, 1, -1)[1]\n",
    "p_0"
   ]
  },
  {
   "cell_type": "markdown",
   "metadata": {},
   "source": [
    "## 2. Записать задачу формально\n",
    "\n",
    "$X \\sim Geom(p)$\n",
    "\n",
    "$H_{0}: \\mathrm{Var} = 9$\n",
    "\n",
    "$H_{1}: \\mathrm{Var} > 9$\n",
    "\n",
    "## 3. Предложить критерий"
   ]
  },
  {
   "cell_type": "code",
   "execution_count": 4,
   "metadata": {},
   "outputs": [
    {
     "data": {
      "image/png": "[encoded data removed]",
      "text/plain": [
       "<Figure size 432x288 with 1 Axes>"
      ]
     },
     "metadata": {
      "needs_background": "light"
     },
     "output_type": "display_data"
    }
   ],
   "source": [
    "_ = plt.hist(x)"
   ]
  },
  {
   "cell_type": "markdown",
   "metadata": {},
   "source": [
    "Непохоже на нормальное распределение. Воспользуемся <b>критерием меток</b>\n",
    "## 4. Проверить гипотезу аналитечески\n",
    "\n",
    "$$ Z(X) = \\frac{S(\\theta_0)}{\\sqrt{I(\\theta_0)}} $$\n",
    "$ S(\\theta) = (ln(L(X, p))_{p}' $\n",
    "\n",
    "$\\log L = \\sum \\log p(1-p)^{x_i-1} = n\\log p + \\sum (x_i - 1)\\log (1-p)$\n",
    "\n",
    "$$S(p) = \\frac{n}{p} - \\frac{\\sum x_i-1}{1-p} = \\frac{n}{p} + \\frac{n}{1-p} - \\frac{\\sum x_i}{1-p} $$\n",
    "\n",
    "$I = - \\mathbb{E} \\left(-\\frac{n}{p^2} - \\frac{\\sum x_i-1}{(1-p)^2} + \\frac{n}{(1-p)^2}\\right) = \\frac{n}{p^2(1-p)}$"
   ]
  },
  {
   "cell_type": "code",
   "execution_count": 5,
   "metadata": {},
   "outputs": [
    {
     "name": "stdout",
     "output_type": "stream",
     "text": [
      "s=-96.97, I=174.76\n",
      "Z=-7.34\n",
      "reject\n"
     ]
    }
   ],
   "source": [
    "s = n / p_0 + n / (1 - p_0) - sum(x) / (1 - p_0)\n",
    "i = n / (p_0**2 * (1 - p_0))\n",
    "z = s/sqrt(i)\n",
    "print(f's={s:.2f}, I={i:.2f}\\nZ={z:.2f}')\n",
    "if z < norm.ppf(alpha):\n",
    "    print('reject')\n",
    "else:\n",
    "    print('accept')"
   ]
  },
  {
   "cell_type": "markdown",
   "metadata": {},
   "source": [
    "## 5. Вывести и получить доверительный интервал\n",
    "\n",
    "Оценим его методом Вальда - приблизив нормальным распределением $p_{MLE} \\pm z_{1-\\frac{\\alpha}{2}} \\cdot \\sqrt{I(p_{MLE})^{-1}}$\n",
    "\n",
    "$p_{MLE}$ получается, занулив $S(p)$\n",
    "\n",
    "$p_{MLE} = \\frac{n}{\\sum x_i}$"
   ]
  },
  {
   "cell_type": "code",
   "execution_count": 6,
   "metadata": {},
   "outputs": [
    {
     "data": {
      "text/plain": [
       "(0.03909117426819991, 0.15138501620799055)"
      ]
     },
     "execution_count": 6,
     "metadata": {},
     "output_type": "execute_result"
    }
   ],
   "source": [
    "p_mle = n / sum(x)\n",
    "i_mle = n / (p_mle**2 * (1 - p_mle))\n",
    "left_b = p_mle - norm.ppf(1 - alpha / 2) * sqrt(1 / i_mle)\n",
    "right_b = p_mle + norm.ppf(1 - alpha / 2) * sqrt(1 / i_mle)\n",
    "left_b, right_b"
   ]
  },
  {
   "cell_type": "markdown",
   "metadata": {},
   "source": [
    "Этим значениям параметра можно сопоставить значение дисперсии"
   ]
  },
  {
   "cell_type": "code",
   "execution_count": 7,
   "metadata": {},
   "outputs": [
    {
     "data": {
      "text/plain": [
       "(37.029249706360005, 628.8176877798868)"
      ]
     },
     "execution_count": 7,
     "metadata": {},
     "output_type": "execute_result"
    }
   ],
   "source": [
    "min(get_geom_var(right_b), get_geom_var(left_b)), max(get_geom_var(right_b), get_geom_var(left_b))"
   ]
  },
  {
   "cell_type": "markdown",
   "metadata": {},
   "source": [
    "Можно в заключение сказать, что с дисперсией они очень сильно не угадали.\n",
    "\n",
    "Правая граница не адекватная вовсе, на мой взгляд"
   ]
  },
  {
   "cell_type": "markdown",
   "metadata": {},
   "source": [
    "Оу, это нужно было в .pdf делать..."
   ]
  }
 ],
 "metadata": {
  "kernelspec": {
   "display_name": "psad_venv",
   "language": "python",
   "name": "psad_venv"
  },
  "language_info": {
   "codemirror_mode": {
    "name": "ipython",
    "version": 3
   },
   "file_extension": ".py",
   "mimetype": "text/x-python",
   "name": "python",
   "nbconvert_exporter": "python",
   "pygments_lexer": "ipython3",
   "version": "3.6.9"
  }
 },
 "nbformat": 4,
 "nbformat_minor": 4
}
