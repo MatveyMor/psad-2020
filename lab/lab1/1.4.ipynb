{
 "cells": [
  {
   "cell_type": "markdown",
   "metadata": {},
   "source": [
    "Проверим, что закон Ципфа действительно описывает частоту слов на основе анализа двух документов: Анны Карениной и новостного корпуса. "
   ]
  },
  {
   "cell_type": "code",
   "execution_count": 2,
   "metadata": {},
   "outputs": [],
   "source": [
    "import numpy as np\n",
    "import scipy.stats as st\n",
    "import re\n",
    "import codecs\n",
    "from collections import Counter\n",
    "from operator import itemgetter  \n",
    "import matplotlib.pyplot as plt\n",
    "from statsmodels.regression.linear_model import RegressionResults\n",
    "%matplotlib inline "
   ]
  },
  {
   "cell_type": "code",
   "execution_count": 3,
   "metadata": {},
   "outputs": [],
   "source": [
    "DATA_PATH = \"D:\\\\psad\\\\lab1\""
   ]
  },
  {
   "cell_type": "code",
   "execution_count": 26,
   "metadata": {},
   "outputs": [],
   "source": [
    "# reading texts\n",
    "def read_data(file_name):\n",
    "    fileObj = codecs.open(file_name, \"r\", \"utf_8_sig\" )\n",
    "    text = fileObj.read()\n",
    "    fileObj.close()\n",
    "    return text\n",
    "\n",
    "# word highlighting\n",
    "def get_words(text):\n",
    "    words = re.sub(r'\\n', ' ', re.sub(r'\\d', '0', re.sub(r'[^\\w\\s]', ' ', text.lower()))).split()\n",
    "    return words\n",
    "\n",
    "# frequency counting\n",
    "def counter(words):\n",
    "    c = Counter()\n",
    "    for word in words:\n",
    "        c[word] += 1\n",
    "    return dict(c)\n",
    "\n",
    "# getting ranks\n",
    "def get_ranks(count_dict):\n",
    "    freqs = np.array(list(count_dict.values()))\n",
    "    return st.rankdata(-freqs), freqs"
   ]
  },
  {
   "cell_type": "code",
   "execution_count": 5,
   "metadata": {},
   "outputs": [],
   "source": [
    "text1 = read_data(f'{DATA_PATH}\\\\corpus1\\\\ru.txt')\n",
    "text2 = read_data(f'{DATA_PATH}\\\\corpus2\\\\tolstoj_lew_nikolaewich-text_0080.txt')"
   ]
  },
  {
   "cell_type": "code",
   "execution_count": 6,
   "metadata": {},
   "outputs": [],
   "source": [
    "words1 = get_words(text1)\n",
    "words2 = get_words(text2)"
   ]
  },
  {
   "cell_type": "code",
   "execution_count": 7,
   "metadata": {},
   "outputs": [],
   "source": [
    "count_dict1 = counter(words1)\n",
    "count_dict2 = counter(words2)"
   ]
  },
  {
   "cell_type": "code",
   "execution_count": 27,
   "metadata": {},
   "outputs": [],
   "source": [
    "ranks1, freqs1 = get_ranks(count_dict1)\n",
    "ranks2, freqs2 = get_ranks(count_dict2)"
   ]
  },
  {
   "cell_type": "markdown",
   "metadata": {},
   "source": [
    "Из теории известно, что данные подчиняются закону Ципфа, если график зависимости частоты слов от их ранга в логарифмическом масштабе линейный. Чтобы убедиться в этом посчитаем коэффициент корреляции Пирсона, который характеризует существование линейной зависимости, а также построим график этой зависимости.   "
   ]
  },
  {
   "cell_type": "markdown",
   "metadata": {},
   "source": [
    "Корреляционная матрица для первого корпуса:"
   ]
  },
  {
   "cell_type": "code",
   "execution_count": 32,
   "metadata": {},
   "outputs": [
    {
     "data": {
      "text/plain": [
       "array([[ 1.        , -0.99958602],\n",
       "       [-0.99958602,  1.        ]])"
      ]
     },
     "execution_count": 32,
     "metadata": {},
     "output_type": "execute_result"
    }
   ],
   "source": [
    "np.corrcoef(np.log(ranks1), np.log(freqs1))"
   ]
  },
  {
   "cell_type": "markdown",
   "metadata": {},
   "source": [
    "Корреляционная матрица для второго корпуса:"
   ]
  },
  {
   "cell_type": "code",
   "execution_count": 33,
   "metadata": {},
   "outputs": [
    {
     "data": {
      "text/plain": [
       "array([[ 1.        , -0.99989879],\n",
       "       [-0.99989879,  1.        ]])"
      ]
     },
     "execution_count": 33,
     "metadata": {},
     "output_type": "execute_result"
    }
   ],
   "source": [
    "np.corrcoef(np.log(ranks2), np.log(freqs2))"
   ]
  },
  {
   "cell_type": "code",
   "execution_count": 104,
   "metadata": {},
   "outputs": [
    {
     "data": {
      "image/png": "[encoded data removed]",
      "text/plain": [
       "<matplotlib.figure.Figure at 0x2735e165860>"
      ]
     },
     "metadata": {},
     "output_type": "display_data"
    }
   ],
   "source": [
    "plt.scatter(np.log(ranks1), np.log(freqs1 / np.sum(freqs1)), s=2)\n",
    "plt.scatter(np.log(ranks2), np.log(freqs2 / np.sum(freqs2)), s=2)\n",
    "plt.grid(True)\n",
    "plt.xlabel('log(rank)')\n",
    "plt.ylabel('log(frequency)');"
   ]
  },
  {
   "cell_type": "markdown",
   "metadata": {},
   "source": [
    "### Проверим наличие линейной связи с помощью критерия Стьюдента"
   ]
  },
  {
   "cell_type": "markdown",
   "metadata": {},
   "source": [
    "Для первого корпуса текстов:"
   ]
  },
  {
   "cell_type": "markdown",
   "metadata": {},
   "source": [
    "Посчитаем коэффициент корреляции Пирсона"
   ]
  },
  {
   "cell_type": "code",
   "execution_count": 31,
   "metadata": {},
   "outputs": [
    {
     "data": {
      "text/plain": [
       "(-0.9995860248237144, 0.0)"
      ]
     },
     "execution_count": 31,
     "metadata": {},
     "output_type": "execute_result"
    }
   ],
   "source": [
    "rho, pval = st.pearsonr(np.log(ranks1), np.log(freqs1))\n",
    "rho, pval"
   ]
  },
  {
   "cell_type": "markdown",
   "metadata": {},
   "source": [
    "Посчитаем статистику"
   ]
  },
  {
   "cell_type": "code",
   "execution_count": 34,
   "metadata": {},
   "outputs": [],
   "source": [
    "n = len(np.log(np.array(freqs1)))\n",
    "alpha = 0.05\n",
    "T_test = lambda rho: rho * (n-2)**0.5 / (1 - rho**2)**0.5"
   ]
  },
  {
   "cell_type": "code",
   "execution_count": 35,
   "metadata": {},
   "outputs": [
    {
     "data": {
      "text/plain": [
       "-3818.0579213725273"
      ]
     },
     "execution_count": 35,
     "metadata": {},
     "output_type": "execute_result"
    }
   ],
   "source": [
    "T = T_test(rho)\n",
    "T"
   ]
  },
  {
   "cell_type": "code",
   "execution_count": 45,
   "metadata": {},
   "outputs": [
    {
     "name": "stdout",
     "output_type": "stream",
     "text": [
      "p_value критерия Стьюдента для первого корпуса текстов = 0.0\n"
     ]
    }
   ],
   "source": [
    "p_value = 2 * st.t.cdf(T, df=n-2)\n",
    "print('p_value критерия Стьюдента для первого корпуса текстов = {}'.format(p_value))"
   ]
  },
  {
   "cell_type": "markdown",
   "metadata": {},
   "source": [
    "Итого, гипотеза о равенстве коэффициента корреляции Пирсона нулю отвергается. То есть между рассмотренными величинами существует линейная связь, причем сильная, исходя из величины самого коэффициента."
   ]
  },
  {
   "cell_type": "markdown",
   "metadata": {},
   "source": [
    "Аналогично проверим для второго корпуса текстов:"
   ]
  },
  {
   "cell_type": "code",
   "execution_count": 38,
   "metadata": {},
   "outputs": [
    {
     "data": {
      "text/plain": [
       "(-0.999898788545351, 0.0)"
      ]
     },
     "execution_count": 38,
     "metadata": {},
     "output_type": "execute_result"
    }
   ],
   "source": [
    "rho, pval = st.pearsonr(np.log(ranks2), np.log(freqs2))\n",
    "rho, pval"
   ]
  },
  {
   "cell_type": "code",
   "execution_count": 39,
   "metadata": {},
   "outputs": [],
   "source": [
    "n = len(np.log(np.array(freqs2)))\n",
    "alpha = 0.05\n",
    "T_test = lambda rho: rho * (n-2)**0.5 / (1 - rho**2)**0.5"
   ]
  },
  {
   "cell_type": "code",
   "execution_count": 40,
   "metadata": {},
   "outputs": [
    {
     "data": {
      "text/plain": [
       "-12832.757807607586"
      ]
     },
     "execution_count": 40,
     "metadata": {},
     "output_type": "execute_result"
    }
   ],
   "source": [
    "T = T_test(rho)\n",
    "T"
   ]
  },
  {
   "cell_type": "code",
   "execution_count": 44,
   "metadata": {},
   "outputs": [
    {
     "name": "stdout",
     "output_type": "stream",
     "text": [
      "p_value критерия Стьюдента для второго корпуса текстов = 0.0\n"
     ]
    }
   ],
   "source": [
    "p_value = 2 * st.t.cdf(T, df=n-2)\n",
    "print('p_value критерия Стьюдента для второго корпуса текстов = {}'.format(p_value))"
   ]
  },
  {
   "cell_type": "markdown",
   "metadata": {},
   "source": [
    "Аналогично, предыдущему корпусу гипотеза о равенстве коэффициента корреляции Пирсона нулю отвергается."
   ]
  },
  {
   "cell_type": "markdown",
   "metadata": {},
   "source": [
    "Найдем MLE оценку на параметр распределения Ципфа $\\alpha$:\n",
    "$$\\alpha = 1 + n\\sum\\limits_{i=1}^n ln(\\frac{x_i}{x_{min}}),$$\n",
    "где $x_i$ - это ранг $i$-го слова в корпусе"
   ]
  },
  {
   "cell_type": "markdown",
   "metadata": {},
   "source": [
    "Из графика определим $x_{min}$, как минимальный ранг, с которого наблюдается линейная зависимость."
   ]
  },
  {
   "cell_type": "code",
   "execution_count": 54,
   "metadata": {},
   "outputs": [],
   "source": [
    "def mle_alpha(ranks, x_min):\n",
    "    n = len(ranks)\n",
    "    return 1 + n / np.sum(np.log(ranks / x_min))"
   ]
  },
  {
   "cell_type": "markdown",
   "metadata": {},
   "source": [
    "Найдем $\\alpha$ для первого корпуса"
   ]
  },
  {
   "cell_type": "code",
   "execution_count": 115,
   "metadata": {},
   "outputs": [
    {
     "data": {
      "text/plain": [
       "1.1186953186136064"
      ]
     },
     "execution_count": 115,
     "metadata": {},
     "output_type": "execute_result"
    }
   ],
   "source": [
    "x_min1 = 2\n",
    "alpha1 = mle_alpha(ranks1, x_min1)\n",
    "alpha1"
   ]
  },
  {
   "cell_type": "code",
   "execution_count": 118,
   "metadata": {},
   "outputs": [],
   "source": [
    "def likelyhood(ranks, alpha, x_min):\n",
    "    const = (alpha - 1) / x_min**(1 - alpha)\n",
    "    return np.array([const * r**(-alpha) for r in ranks])"
   ]
  },
  {
   "cell_type": "code",
   "execution_count": 117,
   "metadata": {},
   "outputs": [
    {
     "data": {
      "image/png": "[encoded data removed]",
      "text/plain": [
       "<matplotlib.figure.Figure at 0x2735e4e97b8>"
      ]
     },
     "metadata": {},
     "output_type": "display_data"
    }
   ],
   "source": [
    "plt.scatter(np.log(ranks1), np.log(freqs1 / np.sum(freqs1)), s=2)\n",
    "plt.plot(np.log(ranks1), np.log(likelyhood(ranks1, alpha1, x_min1)), color=\"black\")\n",
    "plt.grid(True)\n",
    "plt.xlabel('log(rank)')\n",
    "plt.ylabel('log(frequency)');"
   ]
  },
  {
   "cell_type": "markdown",
   "metadata": {},
   "source": [
    "Здесь довольно заметно несовпадение прямых, скорее всего это связано с неточным выбором $x_{min}$, так как он выбирался на глаз из графика."
   ]
  },
  {
   "cell_type": "markdown",
   "metadata": {},
   "source": [
    "Аналогично проделаем для второго корпуса"
   ]
  },
  {
   "cell_type": "code",
   "execution_count": 126,
   "metadata": {},
   "outputs": [
    {
     "data": {
      "text/plain": [
       "1.1278436606473123"
      ]
     },
     "execution_count": 126,
     "metadata": {},
     "output_type": "execute_result"
    }
   ],
   "source": [
    "x_min2 = 5\n",
    "alpha2 = mle_alpha(ranks2, x_min2)\n",
    "alpha2"
   ]
  },
  {
   "cell_type": "code",
   "execution_count": 95,
   "metadata": {},
   "outputs": [
    {
     "data": {
      "image/png": "[encoded data removed]",
      "text/plain": [
       "<matplotlib.figure.Figure at 0x2735cd8c4a8>"
      ]
     },
     "metadata": {},
     "output_type": "display_data"
    }
   ],
   "source": [
    "plt.scatter(np.log(ranks2), np.log(freqs2 / np.sum(freqs2)), s=2)\n",
    "plt.plot(np.log(ranks2), np.log(likelyhood(ranks2, alpha2, x_min2)), color=\"black\")\n",
    "plt.grid(True)\n",
    "plt.xlabel('log(rank)')\n",
    "plt.ylabel('log(frequency)');"
   ]
  },
  {
   "cell_type": "markdown",
   "metadata": {},
   "source": [
    "Для проверки совпадения параметров распределения Ципфа воспользуемся критерием отношения правдоподобий"
   ]
  },
  {
   "cell_type": "code",
   "execution_count": 121,
   "metadata": {},
   "outputs": [],
   "source": [
    "def LR_test(alpha0, ranks, x_min):\n",
    "    alpha_ml = mle_alpha(ranks, x_min)\n",
    "    return -2 * np.sum((np.log(likelyhood(ranks, alpha0,  x_min)) - np.log(likelyhood(ranks, alpha_ml, x_min))))"
   ]
  },
  {
   "cell_type": "code",
   "execution_count": 134,
   "metadata": {},
   "outputs": [
    {
     "data": {
      "text/plain": [
       "130.89"
      ]
     },
     "execution_count": 134,
     "metadata": {},
     "output_type": "execute_result"
    }
   ],
   "source": [
    "alpha0 = 1.12\n",
    "stat_val = LR_test(alpha0, ranks2, x_min2)\n",
    "round(stat_val, 2)"
   ]
  },
  {
   "cell_type": "code",
   "execution_count": 135,
   "metadata": {},
   "outputs": [
    {
     "data": {
      "text/plain": [
       "2.617348004895237e-30"
      ]
     },
     "execution_count": 135,
     "metadata": {},
     "output_type": "execute_result"
    }
   ],
   "source": [
    "from scipy.stats import chi2\n",
    "p_val = chi2.sf(stat_val, 1)\n",
    "p_val"
   ]
  },
  {
   "cell_type": "markdown",
   "metadata": {},
   "source": [
    "Таким образом, была проведена проверка гипотезы о соответствии частот слов распределению Ципфа. По результатам работы можно увидеть, что гипотеза не отклоняется и данные действительно подчиняются этому распределению. А именно, по известным теоретическим фактам для проверки соответствия данных закону Ципфа достаточно проверить линейную зависимость частоты от рангов в лог-масштабе. Методом максимума правдоподобия были найдены оптимальные параметры распределения Ципфа для двух корпусов текстов. Исходя из полученных результатов утверждать о совпадении параметра распределения Ципфа для двух корпусов нельзя ($p\\_value$ для критерия отношения правдоподобий $< 0.05$), это объясняется еще тем, что в лог-масштабе $\\alpha$ отвечает за коэффициент наклона прямой, а из первого графика можно заметить, что прямые имеют различные углы наклона. "
   ]
  },
  {
   "cell_type": "code",
   "execution_count": null,
   "metadata": {},
   "outputs": [],
   "source": []
  }
 ],
 "metadata": {
  "kernelspec": {
   "display_name": "Python 3",
   "language": "python",
   "name": "python3"
  },
  "language_info": {
   "codemirror_mode": {
    "name": "ipython",
    "version": 3
   },
   "file_extension": ".py",
   "mimetype": "text/x-python",
   "name": "python",
   "nbconvert_exporter": "python",
   "pygments_lexer": "ipython3",
   "version": "3.6.4"
  }
 },
 "nbformat": 4,
 "nbformat_minor": 2
}
