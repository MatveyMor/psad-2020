{
 "cells": [
  {
   "cell_type": "markdown",
   "metadata": {},
   "source": [
    "# Задание 4.2, Панченко С., 674"
   ]
  },
  {
   "cell_type": "markdown",
   "metadata": {},
   "source": [
    "Загрузим необходимые модули:"
   ]
  },
  {
   "cell_type": "code",
   "execution_count": 4,
   "metadata": {},
   "outputs": [],
   "source": [
    "import numpy as np\n",
    "import pandas as pd\n",
    "\n",
    "from statsmodels.stats.proportion import binom_test\n",
    "from statsmodels.stats.multitest import multipletests"
   ]
  },
  {
   "cell_type": "markdown",
   "metadata": {},
   "source": [
    "Для определения того, какая из моделей $a_1,...,a_4$ в среднем даёт лучший результат, воспользуемся двухвыборочным критерием знаков для \n",
    "сравнения выборок $X_k$ и $X_m$ (альтернативу выберем односторонней, отдающей предпочтение первой модели):"
   ]
  },
  {
   "cell_type": "markdown",
   "metadata": {},
   "source": [
    "$$\\text{1.Выборки:}$$\n",
    "$$X_k^{(n)}  = (X_{k1}, ... , X_{kn})$$\n",
    "$$X_m^{(n)} = (X_{m1}, ... , X_{mn})$$\n",
    "$$X_{1i} \\neq X_{2i} \\text{, выборки связанные}$$ \n",
    "\n",
    "$$\\text{2.Нулевая гипотеза:}$$\n",
    "$$H_0: \\mathbf{P}(X_k > X_m) = \\frac{1}{2}$$ \n",
    "\n",
    "$$\\text{3.Альтернатива:}$$\n",
    "$$H_1: \\mathbf{P}(X_k > X_m) > \\frac{1}{2} \\text{ (односторонняя)}$$\n",
    "\n",
    "$$\\text{4.Статистика критерия:}$$\n",
    "$$T(X_k^{(n)}, X_m^{(n)}) = \\sum_{i = 1}^n [X_{ki} > X_{mi}]$$\n",
    "\n",
    "$$\\text{5.Распределение статистики в условии истинности }H_0:$$\n",
    "$$T \\text{ ~ } Bin(n, \\frac{1}{2})$$\n",
    "\n",
    "$$\\text{6.Правило принятия решения в явном виде: }$$\n",
    "$$H_0 \\text{ отвергается, если p-value } \\leq \\alpha \\text{, где  p-value }= 1 - F_{Bin(n, \\frac{1}{2})}(t), t \\text{ - значение статистики T} $$"
   ]
  },
  {
   "cell_type": "markdown",
   "metadata": {},
   "source": [
    "Имеем 4 выборки $X_1,...,X_4$, cоответствующие моделям $a_1,...,a_4$. Отметим, что модели $a_3$ соответствует выборка $X_3$ с наибольшим средним качеством. Применим тогда описанный выше критерий к парам $X_3-X_1$, $X_3-X_2$ и $X_3-X_4$ для определения того, какие из моделей $a_1, a_2, a_4$ хуже $a_3$ - для них нулевая гипотеза окажется отвергнута."
   ]
  },
  {
   "cell_type": "markdown",
   "metadata": {},
   "source": [
    "Поскольку мы работаем с тремя гипотезами, то вместо контроля индивидуальных уровней ошибок первого рода будем контролировать FWER на уровне $\\alpha = 0.05$, используя для нахождения уровней $\\alpha_i$ метод Холма."
   ]
  },
  {
   "cell_type": "markdown",
   "metadata": {},
   "source": [
    "Загрузим данные:"
   ]
  },
  {
   "cell_type": "code",
   "execution_count": 5,
   "metadata": {},
   "outputs": [],
   "source": [
    "data = pd.read_csv('4_2_data.csv')"
   ]
  },
  {
   "cell_type": "code",
   "execution_count": 6,
   "metadata": {},
   "outputs": [
    {
     "data": {
      "text/html": [
       "<div>\n",
       "<style scoped>\n",
       "    .dataframe tbody tr th:only-of-type {\n",
       "        vertical-align: middle;\n",
       "    }\n",
       "\n",
       "    .dataframe tbody tr th {\n",
       "        vertical-align: top;\n",
       "    }\n",
       "\n",
       "    .dataframe thead th {\n",
       "        text-align: right;\n",
       "    }\n",
       "</style>\n",
       "<table border=\"1\" class=\"dataframe\">\n",
       "  <thead>\n",
       "    <tr style=\"text-align: right;\">\n",
       "      <th></th>\n",
       "      <th>Номер выборки</th>\n",
       "      <th>a1</th>\n",
       "      <th>a2</th>\n",
       "      <th>a3</th>\n",
       "      <th>a4</th>\n",
       "    </tr>\n",
       "  </thead>\n",
       "  <tbody>\n",
       "    <tr>\n",
       "      <th>0</th>\n",
       "      <td>1</td>\n",
       "      <td>86</td>\n",
       "      <td>50</td>\n",
       "      <td>93</td>\n",
       "      <td>13</td>\n",
       "    </tr>\n",
       "    <tr>\n",
       "      <th>1</th>\n",
       "      <td>2</td>\n",
       "      <td>85</td>\n",
       "      <td>74</td>\n",
       "      <td>55</td>\n",
       "      <td>35</td>\n",
       "    </tr>\n",
       "    <tr>\n",
       "      <th>2</th>\n",
       "      <td>3</td>\n",
       "      <td>53</td>\n",
       "      <td>92</td>\n",
       "      <td>58</td>\n",
       "      <td>51</td>\n",
       "    </tr>\n",
       "    <tr>\n",
       "      <th>3</th>\n",
       "      <td>4</td>\n",
       "      <td>44</td>\n",
       "      <td>41</td>\n",
       "      <td>56</td>\n",
       "      <td>37</td>\n",
       "    </tr>\n",
       "    <tr>\n",
       "      <th>4</th>\n",
       "      <td>5</td>\n",
       "      <td>2</td>\n",
       "      <td>18</td>\n",
       "      <td>99</td>\n",
       "      <td>26</td>\n",
       "    </tr>\n",
       "    <tr>\n",
       "      <th>5</th>\n",
       "      <td>6</td>\n",
       "      <td>5</td>\n",
       "      <td>68</td>\n",
       "      <td>35</td>\n",
       "      <td>17</td>\n",
       "    </tr>\n",
       "  </tbody>\n",
       "</table>\n",
       "</div>"
      ],
      "text/plain": [
       "   Номер выборки  a1  a2  a3  a4\n",
       "0              1  86  50  93  13\n",
       "1              2  85  74  55  35\n",
       "2              3  53  92  58  51\n",
       "3              4  44  41  56  37\n",
       "4              5   2  18  99  26\n",
       "5              6   5  68  35  17"
      ]
     },
     "execution_count": 6,
     "metadata": {},
     "output_type": "execute_result"
    }
   ],
   "source": [
    "data"
   ]
  },
  {
   "cell_type": "markdown",
   "metadata": {},
   "source": [
    "Cформируем необходимые для исследования разности выборок и определим, какие из них отвергаются, а какие - нет при контроле FWER."
   ]
  },
  {
   "cell_type": "code",
   "execution_count": 15,
   "metadata": {},
   "outputs": [],
   "source": [
    "X = data.values[:, 1:]"
   ]
  },
  {
   "cell_type": "code",
   "execution_count": 16,
   "metadata": {},
   "outputs": [
    {
     "name": "stdout",
     "output_type": "stream",
     "text": [
      "[False False  True]\n"
     ]
    }
   ],
   "source": [
    "D_1 = (X[:, 2] - X[:, 0]) > 0\n",
    "D_2 = (X[:, 2] - X[:, 1]) > 0\n",
    "D_3 = (X[:, 2] - X[:, 3]) > 0\n",
    "\n",
    "p_values = []\n",
    "for arr in [D_1, D_2, D_3]:\n",
    "    p_values.append(binom_test(arr.sum(), len(arr), alternative = 'larger'))\n",
    "    \n",
    "rejections = multipletests(p_values, method='holm')[0]\n",
    "print(rejections)"
   ]
  },
  {
   "cell_type": "markdown",
   "metadata": {},
   "source": [
    "Итак, применение данного критерия позволило отбросить одну из гипотез, другими словами, модель $a_3$ лучше модели $a_4$ согласно выбранному критерию, в то время как относительно двух других моделей критерий не позволяет принять решения на заданном уровне контроля FWER. Отметим, что в случае модели $a_4$, все соответствующие разности оказываются положительными и отбрасывание соответствующей гипотезы весьма логично - напротив, в случае моделей $a_1, a_2$ некоторые разности отрицательны и критерий не отбрасывает соответствующие гипотезы. Приведенный критерий имеет недостаток - он не учитывает ведичины разностей: модель $a_1$ немного превосходит $a_3$ лишь в одном случае из $6$ и выдает ужасное качество в двух случаях, логично было бы отбросить и её."
   ]
  }
 ],
 "metadata": {
  "kernelspec": {
   "display_name": "Python 3",
   "language": "python",
   "name": "python3"
  },
  "language_info": {
   "codemirror_mode": {
    "name": "ipython",
    "version": 3
   },
   "file_extension": ".py",
   "mimetype": "text/x-python",
   "name": "python",
   "nbconvert_exporter": "python",
   "pygments_lexer": "ipython3",
   "version": "3.6.10"
  }
 },
 "nbformat": 4,
 "nbformat_minor": 4
}
