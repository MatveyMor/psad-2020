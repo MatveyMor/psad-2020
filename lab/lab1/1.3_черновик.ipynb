{
 "cells": [
  {
   "cell_type": "code",
   "execution_count": 1,
   "metadata": {},
   "outputs": [
    {
     "data": {
      "image/png": "[encoded data removed]",
      "text/plain": [
       "<Figure size 432x288 with 1 Axes>"
      ]
     },
     "metadata": {
      "needs_background": "light"
     },
     "output_type": "display_data"
    }
   ],
   "source": [
    "import matplotlib.pyplot as plt\n",
    "import scipy.stats as ss\n",
    "import numpy as np\n",
    "\n",
    "\n",
    "x = np.linspace(-10, 10, 1000)\n",
    "alpha = 0.5\n",
    "delta = 4\n",
    "x_11 = np.array([ss.norm.pdf(v, loc=0, scale=1) for v in x])*alpha\n",
    "x_12 = np.array([ss.norm.pdf(v, loc=2, scale=4) for v in x])*(1-alpha)\n",
    "x_21 = np.array([ss.norm.pdf(v, loc=9, scale=1.3) for v in x])*alpha\n",
    "x_22 = np.array([ss.norm.pdf(v, loc=9, scale=1.3) for v in x])*(1-alpha)\n",
    "x_1 = np.sum([x_11, x_12], axis=0)\n",
    " \n",
    "plt.plot(x, x_1, '-')\n",
    "plt.xlabel('$x$')\n",
    "plt.ylabel('$P(x)$')\n",
    "plt.show()"
   ]
  },
  {
   "cell_type": "code",
   "execution_count": 2,
   "metadata": {},
   "outputs": [],
   "source": [
    "def get_sample(n , alpha ,delta = 1,x_1 = 1):\n",
    "    #numpy.random.seed(0x5eed)\n",
    "\n",
    "    # Parameters of the mixture components\n",
    "    norm_params = np.array([[0 , 1],\n",
    "                            [2 , 4]])\n",
    "    n_components = norm_params.shape[0]\n",
    "    # Weight of each component, in this case all of them are 1/3\n",
    "    weights = np.array([alpha , (1 - alpha)], dtype=np.float64) \n",
    "    # A stream of indices from which to choose the component\n",
    "    mixture_idx = np.random.choice(len(weights), size=n, replace=True, p=weights)\n",
    "    # y is the mixture sample\n",
    "    y = np.fromiter((ss.norm.rvs(*(norm_params[i])) for i in mixture_idx),\n",
    "                       dtype=np.float64)\n",
    "    if x_1 == 0:\n",
    "        y = y + delta\n",
    "        \n",
    "    return y\n",
    "    "
   ]
  },
  {
   "cell_type": "code",
   "execution_count": 3,
   "metadata": {},
   "outputs": [],
   "source": [
    "n = 10000\n",
    "alpha = 0.5"
   ]
  },
  {
   "cell_type": "code",
   "execution_count": 4,
   "metadata": {
    "scrolled": true
   },
   "outputs": [
    {
     "name": "stderr",
     "output_type": "stream",
     "text": [
      "C:\\ProgramData\\Anaconda3\\lib\\site-packages\\ipykernel_launcher.py:3: MatplotlibDeprecationWarning: \n",
      "The 'normed' kwarg was deprecated in Matplotlib 2.1 and will be removed in 3.1. Use 'density' instead.\n",
      "  This is separate from the ipykernel package so we can avoid doing imports until\n"
     ]
    },
    {
     "data": {
      "image/png": "[encoded data removed]",
      "text/plain": [
       "<Figure size 432x288 with 1 Axes>"
      ]
     },
     "metadata": {
      "needs_background": "light"
     },
     "output_type": "display_data"
    }
   ],
   "source": [
    "#plt.plot(get_sample(10,0.5))\n",
    "\n",
    "y = plt.hist(get_sample(n , alpha , delta = 20 , x_1 =1) , normed=True, bins=\"fd\")"
   ]
  },
  {
   "cell_type": "code",
   "execution_count": 38,
   "metadata": {},
   "outputs": [
    {
     "data": {
      "text/plain": [
       "7.155506930002308e-52"
      ]
     },
     "execution_count": 38,
     "metadata": {},
     "output_type": "execute_result"
    }
   ],
   "source": [
    "ss.wilcoxon(get_sample(1000 , 0.9 , delta = 20 , x_1 =1) ,get_sample(1000 , 0.9 , delta = 1 , x_1 =0)  )[1]"
   ]
  },
  {
   "cell_type": "markdown",
   "metadata": {},
   "source": [
    "посчитаем эмпирическую мощность"
   ]
  },
  {
   "cell_type": "code",
   "execution_count": 68,
   "metadata": {},
   "outputs": [],
   "source": [
    "def num_of_rej(alpha , delta , experiments , level ):\n",
    "    power = []\n",
    "    \n",
    "    c = [50,100,200,500,1000]\n",
    "    for i in c:\n",
    "        sub_power = []\n",
    "        rej = 0\n",
    "        for k in range(experiments):\n",
    "             \n",
    "            if ss.wilcoxon(get_sample(i , alpha , delta = delta , x_1 =1) , get_sample(i , alpha , delta = delta , x_1 =0))[1] <= level:\n",
    "                rej += 1\n",
    "        power.append(rej / experiments)\n",
    "        #print(rej)\n",
    "    #power.append(sub_power)\n",
    "    return power"
   ]
  },
  {
   "cell_type": "code",
   "execution_count": 60,
   "metadata": {},
   "outputs": [
    {
     "name": "stdout",
     "output_type": "stream",
     "text": [
      "37\n",
      "72\n",
      "92\n",
      "100\n",
      "100\n",
      "100\n"
     ]
    }
   ],
   "source": [
    "c = num_of_rej(0.5 , 1 , 100 , 0.05)"
   ]
  },
  {
   "cell_type": "code",
   "execution_count": 61,
   "metadata": {},
   "outputs": [
    {
     "data": {
      "text/plain": [
       "6"
      ]
     },
     "execution_count": 61,
     "metadata": {},
     "output_type": "execute_result"
    }
   ],
   "source": [
    "len(c)"
   ]
  },
  {
   "cell_type": "code",
   "execution_count": 63,
   "metadata": {
    "scrolled": true
   },
   "outputs": [
    {
     "data": {
      "text/plain": [
       "[0.37, 0.72, 0.92, 1.0, 1.0, 1.0]"
      ]
     },
     "execution_count": 63,
     "metadata": {},
     "output_type": "execute_result"
    }
   ],
   "source": [
    "c"
   ]
  },
  {
   "cell_type": "code",
   "execution_count": null,
   "metadata": {},
   "outputs": [],
   "source": [
    "len()"
   ]
  },
  {
   "cell_type": "code",
   "execution_count": 69,
   "metadata": {},
   "outputs": [],
   "source": [
    "alpha = np.linspace(0,1,20)\n",
    "delta = np.linspace(0,2,20)"
   ]
  },
  {
   "cell_type": "code",
   "execution_count": null,
   "metadata": {},
   "outputs": [
    {
     "name": "stdout",
     "output_type": "stream",
     "text": [
      "0\n",
      "1\n",
      "2\n",
      "3\n",
      "4\n",
      "5\n",
      "6\n",
      "7\n",
      "8\n"
     ]
    }
   ],
   "source": [
    "v = 0\n",
    "a_d_power = []\n",
    "for a in alpha:\n",
    "    d_power = []\n",
    "    for d in delta:\n",
    "        d_power.append(num_of_rej(a ,d ,100 , 0.05))\n",
    "    a_d_power.append(d_power)\n",
    "    print(v)\n",
    "    v += 1"
   ]
  },
  {
   "cell_type": "code",
   "execution_count": 71,
   "metadata": {},
   "outputs": [
    {
     "data": {
      "text/plain": [
       "[]"
      ]
     },
     "execution_count": 71,
     "metadata": {},
     "output_type": "execute_result"
    }
   ],
   "source": [
    "a_d_power"
   ]
  },
  {
   "cell_type": "code",
   "execution_count": null,
   "metadata": {},
   "outputs": [],
   "source": []
  }
 ],
 "metadata": {
  "kernelspec": {
   "display_name": "Python 3",
   "language": "python",
   "name": "python3"
  },
  "language_info": {
   "codemirror_mode": {
    "name": "ipython",
    "version": 3
   },
   "file_extension": ".py",
   "mimetype": "text/x-python",
   "name": "python",
   "nbconvert_exporter": "python",
   "pygments_lexer": "ipython3",
   "version": "3.7.6"
  }
 },
 "nbformat": 4,
 "nbformat_minor": 4
}
