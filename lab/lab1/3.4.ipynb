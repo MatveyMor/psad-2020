{
 "cells": [
  {
   "cell_type": "markdown",
   "metadata": {},
   "source": [
    "## Задача 3.4\n",
    "Даны [результаты работы двух машинных переводчиков на небольших выборках переводов для разных языковых пар](data/mt).\n",
    "\n",
    "Стандартная оценка качества перевода производится с использованием специальной метрики [BLEU](https://en.wikipedia.org/wiki/BLEU). (Реализовано [здесь](https://www.nltk.org/_modules/nltk/translate/bleu_score.html)).\n",
    "\n",
    "\n",
    "Требуется опеделить:\n",
    "* превосходит ли один переводчик в среднем по парам второй переводчик по переводу\n",
    "* связано ли качество перевода для разных языковых пар для двх переводчиков?\n",
    "\n",
    "При подсчете BLEU учитывать только слова, регистр не учитывать. \n",
    "\n",
    "**Формат данных**\n",
    "\n",
    "Названиие файлов имеет формат lang1_lang2_<translator_id>.txt:\n",
    "\n",
    "lang_1, lang_2 --- языки (перевод с lang_1 на lang_2).\n",
    "\n",
    "gold - эталонный вариант, с которым сравнивается перевод от систем машинного перевода."
   ]
  },
  {
   "cell_type": "code",
   "execution_count": 2,
   "metadata": {},
   "outputs": [],
   "source": [
    "import numpy as np\n",
    "import matplotlib.pyplot as plt\n",
    "%matplotlib inline\n",
    "import scipy.stats as st\n",
    "import pandas as pd\n",
    "import seaborn as sns\n",
    "import statsmodels"
   ]
  },
  {
   "cell_type": "code",
   "execution_count": 3,
   "metadata": {},
   "outputs": [
    {
     "name": "stderr",
     "output_type": "stream",
     "text": [
      "[nltk_data] Downloading package punkt to /home/oem/nltk_data...\n",
      "[nltk_data]   Package punkt is already up-to-date!\n"
     ]
    },
    {
     "data": {
      "text/plain": [
       "True"
      ]
     },
     "execution_count": 3,
     "metadata": {},
     "output_type": "execute_result"
    }
   ],
   "source": [
    "from nltk.translate.bleu_score import corpus_bleu\n",
    "import nltk\n",
    "from nltk import tokenize\n",
    "import string\n",
    "from nltk.translate.bleu_score import SmoothingFunction\n",
    "sf = SmoothingFunction().method4\n",
    "nltk.download('punkt')"
   ]
  },
  {
   "cell_type": "code",
   "execution_count": 4,
   "metadata": {},
   "outputs": [],
   "source": [
    "text_size = 15\n",
    "plt.rcParams['lines.linewidth'] = 3\n",
    "plt.rcParams['lines.markersize'] = 6\n",
    "plt.rcParams['xtick.labelsize'] = text_size\n",
    "plt.rcParams['ytick.labelsize'] = text_size\n",
    "plt.rcParams['legend.fontsize'] = text_size\n",
    "plt.rcParams['axes.titlesize'] = text_size\n",
    "plt.rcParams['axes.labelsize'] = text_size\n",
    "plt.rcParams['figure.figsize'] = (12.0, 8.0)\n",
    "plt.rcParams['font.size'] = text_size"
   ]
  },
  {
   "cell_type": "code",
   "execution_count": 5,
   "metadata": {},
   "outputs": [],
   "source": [
    "# функция для токенизации текстов\n",
    "def tokens(path1, path2, Type):\n",
    "    sentances1 = []        \n",
    "    with open(path1, 'r') as f:\n",
    "        for line in f.readlines():\n",
    "            sentances1.append(line)\n",
    "        \n",
    "    if path2:\n",
    "        sentances2 = []\n",
    "        with open(path2, 'r') as f:\n",
    "            for line in f.readlines():\n",
    "                sentances2.append(line)\n",
    "    else:\n",
    "        sentances2 = sentances1\n",
    "\n",
    "    tokenized_data = []\n",
    "    for i in range(min(len(sentances1),len(sentances2))):\n",
    "        sentance1 = nltk.word_tokenize(sentances1[i].lower())\n",
    "        #sentance1 = [i for i in sentance1 if ( i not in string.punctuation )]\n",
    "        if path2:\n",
    "            sentance2 = nltk.word_tokenize(sentances2[i].lower())\n",
    "            #sentance2 = [i for i in sentance2 if ( i not in string.punctuation )]\n",
    "            tokenized_data.append([sentance1, sentance2])\n",
    "        else:\n",
    "            if Type == 'c':\n",
    "                tokenized_data.append(sentance1)\n",
    "            if Type == 'r':\n",
    "                tokenized_data.append([sentance1])\n",
    "    return tokenized_data"
   ]
  },
  {
   "cell_type": "markdown",
   "metadata": {},
   "source": [
    "### Если хоти посчитать совместную точность для 2-ух переводов"
   ]
  },
  {
   "cell_type": "code",
   "execution_count": 6,
   "metadata": {
    "scrolled": true
   },
   "outputs": [],
   "source": [
    "ref = tokens('data/mt/de_en_1.txt', 'data/mt/de_en_2.txt', 'r')\n",
    "candidates = tokens('data/mt/de_en_gold.txt', '', 'c')"
   ]
  },
  {
   "cell_type": "code",
   "execution_count": 334,
   "metadata": {},
   "outputs": [
    {
     "name": "stdout",
     "output_type": "stream",
     "text": [
      "0.32518891891143104\n"
     ]
    }
   ],
   "source": [
    "score = corpus_bleu(ref, candidates)\n",
    "print(score)"
   ]
  },
  {
   "cell_type": "markdown",
   "metadata": {},
   "source": [
    "### Если хоти посчитать раздельную точность для 2-ух переводов"
   ]
  },
  {
   "cell_type": "markdown",
   "metadata": {},
   "source": [
    "#### Для de-en переводчиков"
   ]
  },
  {
   "cell_type": "code",
   "execution_count": 337,
   "metadata": {},
   "outputs": [],
   "source": [
    "ref1 = tokens('data/mt/de_en_1.txt', '', 'r')\n",
    "ref2 = tokens('data/mt/de_en_2.txt', '', 'r')\n",
    "candidates = tokens('data/mt/de_en_gold.txt', '', 'c')"
   ]
  },
  {
   "cell_type": "code",
   "execution_count": 338,
   "metadata": {},
   "outputs": [
    {
     "name": "stdout",
     "output_type": "stream",
     "text": [
      "100 100\n",
      "100 100\n"
     ]
    }
   ],
   "source": [
    "print(len(ref1), len(candidates))\n",
    "print(len(ref2), len(candidates))"
   ]
  },
  {
   "cell_type": "code",
   "execution_count": 372,
   "metadata": {},
   "outputs": [
    {
     "name": "stdout",
     "output_type": "stream",
     "text": [
      "[['(', 'механика', 'қрғақтар', ')', '(', 'енуен', ')']]\n",
      "[['(', 'механические', 'ритмы', ')', '(', 'музыка', ')']]\n",
      "['(', 'механические', 'шумы', ')', '(', 'музыка', ')']\n",
      "-----------------------------------------------------------\n",
      "[['(', 'сиқырлар', ')']]\n",
      "[['(', 'аплодисменты', ')']]\n",
      "['(', 'аплодисменты', ')']\n",
      "-----------------------------------------------------------\n",
      "[['бұл', '-', 'идеялар', '.']]\n",
      "[['его', 'идея', 'очень', 'проста', '.']]\n",
      "['идея', 'очень', 'проста', '.']\n",
      "-----------------------------------------------------------\n",
      "[['30', 'адаммен', 'көкте', 'өмірге', 'келуге', 'болады', '.']]\n",
      "[['помните', 'моменты', ',', 'которые', 'вы', 'хотите', 'изменить', 'свою', 'жизнь', ',', 'теперь', 'постарайтесь', 'сделать', 'это', '30', 'дней', '.']]\n",
      "['вспомните', 'о', 'чём-', 'то', ',', 'что', 'вы', 'всегда', 'хотели', 'изменить', 'в', 'жизни', ',', 'и', 'делайте', 'это', 'ежедневно', 'в', 'течение', '30', 'дней', '.']\n",
      "-----------------------------------------------------------\n",
      "[['шын', 'мәнінде', ',', '30', 'күн', 'бір', 'әдетке', 'дауылдылануға', 'немесе', 'бас', 'тартуға', 'қолайлылық', 'мерзімі', '.']]\n",
      "[['на', 'самом', 'деле', ',', '30', 'дней-это', 'приемлемый', 'срок', 'для', 'того', ',', 'чтобы', 'привыкнуть', 'или', 'отказаться', 'от', 'одной', 'привычки', '.']]\n",
      "['оказывается', ',', '30', 'дней', '—', 'достаточный', 'срок', ',', 'чтобы', 'приобрести', 'привычку', 'или', 'отказаться', 'от', 'неё', '—', 'например', ',', 'от', 'просмотра', 'новостей', '—', 'навсегда', '.']\n",
      "-----------------------------------------------------------\n",
      "[['мысалы', ',', 'жаңалықтар', 'көруден', 'мәңгілікке', 'бас', 'тарту', '.']]\n",
      "[['например', ',', 'отказ', 'от', 'просмотра', 'новостей', 'навсегда', '.']]\n",
      "['во', 'время', 'этого', 'месяца', 'работы', 'над', 'собой', ',', 'я', 'кое-', 'чему', 'научился', '.']\n",
      "-----------------------------------------------------------\n"
     ]
    }
   ],
   "source": [
    "for i, sen in enumerate(ref1):\n",
    "    if i > 5:\n",
    "        break\n",
    "    print(sen)\n",
    "    print(ref2[i])\n",
    "    print(candidates[i])\n",
    "    print('-----------------------------------------------------------')"
   ]
  },
  {
   "cell_type": "code",
   "execution_count": 340,
   "metadata": {},
   "outputs": [],
   "source": [
    "res1 = []\n",
    "res2 = []"
   ]
  },
  {
   "cell_type": "code",
   "execution_count": 341,
   "metadata": {},
   "outputs": [
    {
     "name": "stdout",
     "output_type": "stream",
     "text": [
      "Точность для первого переводчика: 0.28354819461010244\n",
      "Точность для второго переводчика: 0.2947519863200748\n"
     ]
    }
   ],
   "source": [
    "score1 = corpus_bleu(ref1, candidates, smoothing_function=sf)\n",
    "score2 = corpus_bleu(ref2, candidates, smoothing_function=sf)\n",
    "print(\"Точность для первого переводчика:\", score1)\n",
    "print(\"Точность для второго переводчика:\", score2)\n",
    "res1.append(score1)\n",
    "res2.append(score2)"
   ]
  },
  {
   "cell_type": "markdown",
   "metadata": {},
   "source": [
    "#### Для  en-kk переводчиков"
   ]
  },
  {
   "cell_type": "code",
   "execution_count": 342,
   "metadata": {},
   "outputs": [],
   "source": [
    "ref1 = tokens('data/mt/en_kk_1.txt', '', 'r')\n",
    "ref2 = tokens('data/mt/en_kk_2.txt', '', 'r')\n",
    "candidates = tokens('data/mt/en_kk_gold.txt', '', 'c')"
   ]
  },
  {
   "cell_type": "code",
   "execution_count": 343,
   "metadata": {
    "scrolled": true
   },
   "outputs": [
    {
     "name": "stdout",
     "output_type": "stream",
     "text": [
      "61 61\n",
      "61 61\n"
     ]
    }
   ],
   "source": [
    "print(len(ref1), len(candidates))\n",
    "print(len(ref2), len(candidates))"
   ]
  },
  {
   "cell_type": "code",
   "execution_count": 344,
   "metadata": {},
   "outputs": [
    {
     "name": "stdout",
     "output_type": "stream",
     "text": [
      "Точность для первого переводчика: 0.031151507803872696\n",
      "Точность для второго переводчика: 0.030591657316339775\n"
     ]
    }
   ],
   "source": [
    "score1 = corpus_bleu(ref1, candidates, smoothing_function=sf)\n",
    "score2 = corpus_bleu(ref2, candidates, smoothing_function=sf)\n",
    "print(\"Точность для первого переводчика:\", score1)\n",
    "print(\"Точность для второго переводчика:\", score2)\n",
    "res1.append(score1)\n",
    "res2.append(score2)"
   ]
  },
  {
   "cell_type": "markdown",
   "metadata": {},
   "source": [
    "#### Для en-ru переводчиков"
   ]
  },
  {
   "cell_type": "code",
   "execution_count": 345,
   "metadata": {},
   "outputs": [],
   "source": [
    "ref1 = tokens('data/mt/en_ru_1.txt', '', 'r')\n",
    "ref2 = tokens('data/mt/en_ru_2.txt', '', 'r')\n",
    "candidates = tokens('/datamt/en_ru_gold.txt', '', 'c')"
   ]
  },
  {
   "cell_type": "code",
   "execution_count": 346,
   "metadata": {},
   "outputs": [
    {
     "name": "stdout",
     "output_type": "stream",
     "text": [
      "94 94\n",
      "94 94\n"
     ]
    }
   ],
   "source": [
    "print(len(ref1), len(candidates))\n",
    "print(len(ref2), len(candidates))"
   ]
  },
  {
   "cell_type": "code",
   "execution_count": 347,
   "metadata": {},
   "outputs": [
    {
     "name": "stdout",
     "output_type": "stream",
     "text": [
      "Точность для первого переводчика: 0.12310712376575889\n",
      "Точность для второго переводчика: 0.13672435874765176\n"
     ]
    }
   ],
   "source": [
    "score1 = corpus_bleu(ref1, candidates, smoothing_function=sf)\n",
    "score2 = corpus_bleu(ref2, candidates, smoothing_function=sf)\n",
    "print(\"Точность для первого переводчика:\", score1)\n",
    "print(\"Точность для второго переводчика:\", score2)\n",
    "res1.append(score1)\n",
    "res2.append(score2)"
   ]
  },
  {
   "cell_type": "markdown",
   "metadata": {},
   "source": [
    "#### Для ru-de переводчиков"
   ]
  },
  {
   "cell_type": "code",
   "execution_count": 348,
   "metadata": {},
   "outputs": [],
   "source": [
    "ref1 = tokens('data/mt/ru_de_1.txt', '', 'r')\n",
    "ref2 = tokens('data/mt/ru_de_2.txt', '', 'r')\n",
    "candidates = tokens('data/mt/ru_de_gold.txt', '', 'c')"
   ]
  },
  {
   "cell_type": "code",
   "execution_count": 349,
   "metadata": {},
   "outputs": [
    {
     "name": "stdout",
     "output_type": "stream",
     "text": [
      "50 50\n",
      "50 50\n"
     ]
    }
   ],
   "source": [
    "print(len(ref1), len(candidates))\n",
    "print(len(ref2), len(candidates))"
   ]
  },
  {
   "cell_type": "code",
   "execution_count": 350,
   "metadata": {},
   "outputs": [
    {
     "name": "stdout",
     "output_type": "stream",
     "text": [
      "Точность для первого переводчика: 0.1831411682225125\n",
      "Точность для второго переводчика: 0.19175042931598907\n"
     ]
    }
   ],
   "source": [
    "score1 = corpus_bleu(ref1, candidates, smoothing_function=sf)\n",
    "score2 = corpus_bleu(ref2, candidates, smoothing_function=sf)\n",
    "print(\"Точность для первого переводчика:\", score1)\n",
    "print(\"Точность для второго переводчика:\", score2)\n",
    "res1.append(score1)\n",
    "res2.append(score2)"
   ]
  },
  {
   "cell_type": "markdown",
   "metadata": {},
   "source": [
    "#### Для ru-kk переводчиков"
   ]
  },
  {
   "cell_type": "code",
   "execution_count": 351,
   "metadata": {},
   "outputs": [],
   "source": [
    "ref1 = tokens('data/mt/ru_kk_1.txt', '', 'r')\n",
    "ref2 = tokens('data/mt/ru_kk_2.txt', '', 'r')\n",
    "candidates = tokens('data/mt/ru_kk_gold.txt', '', 'c')"
   ]
  },
  {
   "cell_type": "code",
   "execution_count": 352,
   "metadata": {
    "scrolled": false
   },
   "outputs": [
    {
     "name": "stdout",
     "output_type": "stream",
     "text": [
      "90 90\n",
      "90 90\n"
     ]
    }
   ],
   "source": [
    "print(len(ref1), len(candidates))\n",
    "print(len(ref2), len(candidates))"
   ]
  },
  {
   "cell_type": "code",
   "execution_count": 353,
   "metadata": {},
   "outputs": [
    {
     "name": "stdout",
     "output_type": "stream",
     "text": [
      "Точность для первого переводчика: 0.06058063567543285\n",
      "Точность для второго переводчика: 0.02067103685439211\n"
     ]
    }
   ],
   "source": [
    "score1 = corpus_bleu(ref1, candidates, smoothing_function=sf)\n",
    "score2 = corpus_bleu(ref2, candidates, smoothing_function=sf)\n",
    "print(\"Точность для первого переводчика:\", score1)\n",
    "print(\"Точность для второго переводчика:\", score2)\n",
    "res1.append(score1)\n",
    "res2.append(score2)"
   ]
  },
  {
   "cell_type": "markdown",
   "metadata": {},
   "source": [
    "#### Соберем все в табличку для наглядности"
   ]
  },
  {
   "cell_type": "code",
   "execution_count": 356,
   "metadata": {},
   "outputs": [
    {
     "data": {
      "text/html": [
       "<div>\n",
       "<style scoped>\n",
       "    .dataframe tbody tr th:only-of-type {\n",
       "        vertical-align: middle;\n",
       "    }\n",
       "\n",
       "    .dataframe tbody tr th {\n",
       "        vertical-align: top;\n",
       "    }\n",
       "\n",
       "    .dataframe thead th {\n",
       "        text-align: right;\n",
       "    }\n",
       "</style>\n",
       "<table border=\"1\" class=\"dataframe\">\n",
       "  <thead>\n",
       "    <tr style=\"text-align: right;\">\n",
       "      <th></th>\n",
       "      <th>Translator 1</th>\n",
       "      <th>Translator 2</th>\n",
       "    </tr>\n",
       "  </thead>\n",
       "  <tbody>\n",
       "    <tr>\n",
       "      <th>de_en</th>\n",
       "      <td>0.283548</td>\n",
       "      <td>0.294752</td>\n",
       "    </tr>\n",
       "    <tr>\n",
       "      <th>en_kk</th>\n",
       "      <td>0.031152</td>\n",
       "      <td>0.030592</td>\n",
       "    </tr>\n",
       "    <tr>\n",
       "      <th>en_ru</th>\n",
       "      <td>0.123107</td>\n",
       "      <td>0.136724</td>\n",
       "    </tr>\n",
       "    <tr>\n",
       "      <th>ru_de</th>\n",
       "      <td>0.183141</td>\n",
       "      <td>0.191750</td>\n",
       "    </tr>\n",
       "    <tr>\n",
       "      <th>ru_kk</th>\n",
       "      <td>0.060581</td>\n",
       "      <td>0.020671</td>\n",
       "    </tr>\n",
       "  </tbody>\n",
       "</table>\n",
       "</div>"
      ],
      "text/plain": [
       "       Translator 1  Translator 2\n",
       "de_en      0.283548      0.294752\n",
       "en_kk      0.031152      0.030592\n",
       "en_ru      0.123107      0.136724\n",
       "ru_de      0.183141      0.191750\n",
       "ru_kk      0.060581      0.020671"
      ]
     },
     "execution_count": 356,
     "metadata": {},
     "output_type": "execute_result"
    }
   ],
   "source": [
    "d = {\"Translator 1\" : pd.Series(res1, index = ['de_en', 'en_kk', 'en_ru', 'ru_de', 'ru_kk']),\n",
    "     \"Translator 2\" : pd.Series(res2, index = ['de_en', 'en_kk', 'en_ru', 'ru_de', 'ru_kk'])}\n",
    "df = pd.DataFrame(d)\n",
    "df"
   ]
  },
  {
   "cell_type": "markdown",
   "metadata": {},
   "source": [
    "### Превосходит ли один переводчик в среднем по парам второй переводчик по переводу?\n",
    "Проверим гипотезу о равенстве стреднего для столбцов с помощью t-критерия."
   ]
  },
  {
   "cell_type": "code",
   "execution_count": 359,
   "metadata": {},
   "outputs": [
    {
     "name": "stdout",
     "output_type": "stream",
     "text": [
      "p-value равен  0.984081648428788\n"
     ]
    }
   ],
   "source": [
    "print(\"p-value равен \", st.ttest_ind(res1, res2)[1])"
   ]
  },
  {
   "cell_type": "markdown",
   "metadata": {},
   "source": [
    "P-value большой $\\Rightarrow$ гипотеза не отвергается.\n",
    "\n",
    "Это значит, что переводчики в среднем одинаковые."
   ]
  },
  {
   "cell_type": "markdown",
   "metadata": {},
   "source": [
    "### Связано ли качество перевода для разных языковых пар для двх переводчиков?"
   ]
  },
  {
   "cell_type": "code",
   "execution_count": 365,
   "metadata": {},
   "outputs": [
    {
     "data": {
      "image/png": "[encoded data removed]",
      "text/plain": [
       "<Figure size 864x576 with 1 Axes>"
      ]
     },
     "metadata": {
      "needs_background": "light"
     },
     "output_type": "display_data"
    }
   ],
   "source": [
    "plt.hist(res1, color = 'orange', density=True)\n",
    "plt.hist(res2, color = 'blue', density=True, alpha = 0.5)\n",
    "plt.show()"
   ]
  },
  {
   "cell_type": "code",
   "execution_count": 371,
   "metadata": {},
   "outputs": [
    {
     "name": "stdout",
     "output_type": "stream",
     "text": [
      "p-value равен  0.002\n"
     ]
    }
   ],
   "source": [
    "result = st.pearsonr(res1,res2)\n",
    "print(\"p-value равен \", round(result[1], 3))"
   ]
  },
  {
   "cell_type": "code",
   "execution_count": 369,
   "metadata": {},
   "outputs": [
    {
     "name": "stdout",
     "output_type": "stream",
     "text": [
      "p-value равен  0.083\n"
     ]
    }
   ],
   "source": [
    "result = st.kendalltau(res1,res2)\n",
    "print(\"p-value равен \", round(result[1], 3))"
   ]
  },
  {
   "cell_type": "code",
   "execution_count": 370,
   "metadata": {},
   "outputs": [
    {
     "name": "stdout",
     "output_type": "stream",
     "text": [
      "p-value равен  0.037\n"
     ]
    }
   ],
   "source": [
    "result = st.spearmanr(res1,res2)\n",
    "print(\"p-value равен \", round(result[1], 3))"
   ]
  },
  {
   "cell_type": "markdown",
   "metadata": {},
   "source": [
    "Для двух тестов из трёх $p-value < 0.05$  $\\Rightarrow$  качества перевода связаны"
   ]
  }
 ],
 "metadata": {
  "kernelspec": {
   "display_name": "Python 3",
   "language": "python",
   "name": "python3"
  },
  "language_info": {
   "codemirror_mode": {
    "name": "ipython",
    "version": 3
   },
   "file_extension": ".py",
   "mimetype": "text/x-python",
   "name": "python",
   "nbconvert_exporter": "python",
   "pygments_lexer": "ipython3",
   "version": "3.7.3"
  }
 },
 "nbformat": 4,
 "nbformat_minor": 2
}
