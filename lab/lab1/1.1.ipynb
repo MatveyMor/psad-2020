{
  "nbformat": 4,
  "nbformat_minor": 0,
  "metadata": {
    "colab": {
      "name": "1.1.ipynb",
      "provenance": [],
      "collapsed_sections": []
    },
    "kernelspec": {
      "name": "python3",
      "display_name": "Python 3"
    }
  },
  "cells": [
    {
      "cell_type": "markdown",
      "metadata": {
        "id": "qqJ1rzXfWOhL",
        "colab_type": "text"
      },
      "source": [
        "###  <h1><center>Задача $1.1$</center></h1>\n",
        "## <h1><center>Агафонов Артём</center></h1>"
      ]
    },
    {
      "cell_type": "code",
      "metadata": {
        "id": "9vlTwA7yWQAm",
        "colab_type": "code",
        "colab": {}
      },
      "source": [
        "import numpy as np  \n",
        "import matplotlib.pylab as plt\n",
        "import scipy.stats as st"
      ],
      "execution_count": 0,
      "outputs": []
    },
    {
      "cell_type": "code",
      "metadata": {
        "id": "Wzqby4mnWa2E",
        "colab_type": "code",
        "colab": {}
      },
      "source": [
        "def rejected (test, data, alpha):\n",
        "    rejected = 0\n",
        "    if test == lilliefors:\n",
        "      if lilliefors(data, dist='norm', pvalmethod='table')[1] <= alpha:\n",
        "        rejected += 1\n",
        "    else:\n",
        "      if test(data, )[1] <= alpha:\n",
        "        rejected += 1\n",
        "    return rejected"
      ],
      "execution_count": 0,
      "outputs": []
    },
    {
      "cell_type": "code",
      "metadata": {
        "id": "-omzE0_0bAvK",
        "colab_type": "code",
        "colab": {}
      },
      "source": [
        "sizes = [10, 50, 100, 200, 500, 900]"
      ],
      "execution_count": 0,
      "outputs": []
    },
    {
      "cell_type": "code",
      "metadata": {
        "id": "AQQagnjvbGOM",
        "colab_type": "code",
        "colab": {}
      },
      "source": [
        "n_exps = 500\n",
        "alpha = 0.05"
      ],
      "execution_count": 0,
      "outputs": []
    },
    {
      "cell_type": "markdown",
      "metadata": {
        "id": "4IURjmr6X2GW",
        "colab_type": "text"
      },
      "source": [
        "## Критерий Лиллиефорса"
      ]
    },
    {
      "cell_type": "code",
      "metadata": {
        "id": "ql-EGefFXmEy",
        "colab_type": "code",
        "colab": {}
      },
      "source": [
        "from statsmodels.stats.diagnostic import lilliefors"
      ],
      "execution_count": 0,
      "outputs": []
    },
    {
      "cell_type": "markdown",
      "metadata": {
        "id": "Jjjsn7LKbBwM",
        "colab_type": "text"
      },
      "source": [
        "### Нормальное распределение\n",
        "\n",
        "Только для нормального распределения мы можем определить консервативность, т.к. только в этом случае верна нулевая гипотеза."
      ]
    },
    {
      "cell_type": "code",
      "metadata": {
        "id": "I8bBgrGzaM5u",
        "colab_type": "code",
        "colab": {
          "base_uri": "https://localhost:8080/",
          "height": 278
        },
        "outputId": "4a9dc7e1-ae94-40e3-8a69-6e7f72a0d224"
      },
      "source": [
        "alphas = []\n",
        "for size in sizes:\n",
        "  print(\"Для выборок длины \"+str(size)+\" ошибки первого рода равны: \")   \n",
        "  #for j in range(10):\n",
        "  rej_exp = 0\n",
        "  for i in range(n_exps):\n",
        "    mean = (np.random.rand() - 0.5) * 100\n",
        "    std = np.random.rand() * 100 \n",
        "    data = st.norm.rvs(size=size, loc = mean, scale = std)\n",
        "    rej = rejected(lilliefors, data, alpha)\n",
        "    rej_exp = rej_exp + rej\n",
        "  print(rej_exp / n_exps, end='\\n')\n",
        "  alphas.append(rej_exp / n_exps) \n",
        "print(\"\\n\")\n",
        "\n",
        "\n",
        "if (np.mean(alphas) < 0.05):\n",
        "  print(\"Критерий консервативен\")\n",
        "else:\n",
        "  print(\"Критерий неконсервативен\")  "
      ],
      "execution_count": 7,
      "outputs": [
        {
          "output_type": "stream",
          "text": [
            "Для выборок длины 10 ошибки первого рода равны: \n",
            "0.038\n",
            "Для выборок длины 50 ошибки первого рода равны: \n",
            "0.05\n",
            "Для выборок длины 100 ошибки первого рода равны: \n",
            "0.058\n",
            "Для выборок длины 200 ошибки первого рода равны: \n",
            "0.004\n",
            "Для выборок длины 500 ошибки первого рода равны: \n",
            "0.046\n",
            "Для выборок длины 900 ошибки первого рода равны: \n",
            "0.07\n",
            "\n",
            "\n",
            "Критерий консервативен\n"
          ],
          "name": "stdout"
        }
      ]
    },
    {
      "cell_type": "markdown",
      "metadata": {
        "id": "bg7EdnpzkHMy",
        "colab_type": "text"
      },
      "source": [
        "### Усеченное нормальное распределение"
      ]
    },
    {
      "cell_type": "code",
      "metadata": {
        "id": "Co5zEmDqfzn1",
        "colab_type": "code",
        "colab": {
          "base_uri": "https://localhost:8080/",
          "height": 330
        },
        "outputId": "fd475e46-27c1-4bbc-e9b6-c3386b7ea9cf"
      },
      "source": [
        "pows_trun = []\n",
        "for size in sizes:\n",
        "  print(\"Для выборок длины \"+str(size)+\" мощности критерия для 10 различных генераций параметров равны: \")   \n",
        "  for j in range(10):\n",
        "    rejs = []\n",
        "    rej_exp = 0\n",
        "    for i in range(n_exps):\n",
        "      mean = (np.random.rand() - 0.5) * 100\n",
        "      std = np.random.rand() * 100 \n",
        "      a=(-1-mean)/std\n",
        "      b=(1-mean)/std\n",
        "      data = st.truncnorm.rvs(size=size, loc = mean, scale = std, a = a, b = b)\n",
        "      rej = rejected(lilliefors, data, alpha)\n",
        "      rej_exp = rej_exp + rej\n",
        "    rejs.append(rej_exp/ n_exps)\n",
        "    print(rej_exp / n_exps, end=' ')\n",
        "  pows_trun.append(np.mean(rejs))\n",
        "  print(\"\\n\")"
      ],
      "execution_count": 8,
      "outputs": [
        {
          "output_type": "stream",
          "text": [
            "Для выборок длины 10 мощности критерия для 10 различных генераций параметров равны: \n",
            "0.076 0.086 0.092 0.064 0.09 0.062 0.064 0.064 0.058 0.07 \n",
            "\n",
            "Для выборок длины 50 мощности критерия для 10 различных генераций параметров равны: \n",
            "0.242 0.214 0.228 0.21 0.188 0.226 0.228 0.22 0.214 0.23 \n",
            "\n",
            "Для выборок длины 100 мощности критерия для 10 различных генераций параметров равны: \n",
            "0.652 0.614 0.636 0.618 0.612 0.606 0.598 0.59 0.626 0.64 \n",
            "\n",
            "Для выборок длины 200 мощности критерия для 10 различных генераций параметров равны: \n",
            "0.774 0.72 0.74 0.738 0.734 0.736 0.762 0.734 0.766 0.77 \n",
            "\n",
            "Для выборок длины 500 мощности критерия для 10 различных генераций параметров равны: \n",
            "1.0 1.0 1.0 1.0 1.0 1.0 1.0 1.0 1.0 1.0 \n",
            "\n",
            "Для выборок длины 900 мощности критерия для 10 различных генераций параметров равны: \n",
            "1.0 1.0 1.0 1.0 1.0 1.0 1.0 1.0 1.0 1.0 \n",
            "\n"
          ],
          "name": "stdout"
        }
      ]
    },
    {
      "cell_type": "markdown",
      "metadata": {
        "id": "WN9IqYHHlvXb",
        "colab_type": "text"
      },
      "source": [
        "###  Распределение Лапласса"
      ]
    },
    {
      "cell_type": "code",
      "metadata": {
        "id": "sDeWQRRyltDw",
        "colab_type": "code",
        "colab": {
          "base_uri": "https://localhost:8080/",
          "height": 330
        },
        "outputId": "9fb8e26b-d188-4924-9bee-f138b2f75da1"
      },
      "source": [
        "pows_lap = []\n",
        "for size in sizes:\n",
        "  print(\"Для выборок длины \"+str(size)+\" мощности критерия для 10 различных генераций параметров равны: \")   \n",
        "  for j in range(10):\n",
        "    rejs = []\n",
        "    rej_exp = 0\n",
        "    for i in range(n_exps):\n",
        "      mean = (np.random.rand() - 0.5) * 100\n",
        "      std = np.random.rand() * 100 \n",
        "      data = st.laplace.rvs(size=size, loc = mean)\n",
        "      rej = rejected(lilliefors, data, alpha)\n",
        "      rej_exp = rej_exp + rej\n",
        "    rejs.append(rej_exp/ n_exps)\n",
        "    print(rej_exp / n_exps, end=' ')\n",
        "  pows_lap.append(np.mean(rejs))\n",
        "  print(\"\\n\")"
      ],
      "execution_count": 9,
      "outputs": [
        {
          "output_type": "stream",
          "text": [
            "Для выборок длины 10 мощности критерия для 10 различных генераций параметров равны: \n",
            "0.16 0.156 0.142 0.134 0.148 0.138 0.148 0.134 0.156 0.162 \n",
            "\n",
            "Для выборок длины 50 мощности критерия для 10 различных генераций параметров равны: \n",
            "0.348 0.342 0.338 0.326 0.372 0.346 0.332 0.344 0.364 0.346 \n",
            "\n",
            "Для выборок длины 100 мощности критерия для 10 различных генераций параметров равны: \n",
            "0.694 0.722 0.69 0.708 0.714 0.694 0.7 0.684 0.708 0.726 \n",
            "\n",
            "Для выборок длины 200 мощности критерия для 10 различных генераций параметров равны: \n",
            "0.774 0.822 0.798 0.834 0.802 0.826 0.84 0.814 0.8 0.806 \n",
            "\n",
            "Для выборок длины 500 мощности критерия для 10 различных генераций параметров равны: \n",
            "1.0 1.0 1.0 1.0 0.996 1.0 1.0 1.0 1.0 1.0 \n",
            "\n",
            "Для выборок длины 900 мощности критерия для 10 различных генераций параметров равны: \n",
            "1.0 1.0 1.0 1.0 1.0 1.0 1.0 1.0 1.0 1.0 \n",
            "\n"
          ],
          "name": "stdout"
        }
      ]
    },
    {
      "cell_type": "markdown",
      "metadata": {
        "id": "J0dF1pnkl-1-",
        "colab_type": "text"
      },
      "source": [
        "### Распределение Стьюдента"
      ]
    },
    {
      "cell_type": "code",
      "metadata": {
        "id": "FcpLo7S-kQ9q",
        "colab_type": "code",
        "colab": {
          "base_uri": "https://localhost:8080/",
          "height": 330
        },
        "outputId": "40725b4c-b79f-43ce-afb0-b8a2a4131830"
      },
      "source": [
        "pows_st = []\n",
        "for size in sizes:\n",
        "  print(\"Для выборок длины \"+str(size)+\" мощности критерия для 10 различных генераций параметров равны: \")   \n",
        "  for j in range(10):\n",
        "    rejs = []\n",
        "    rej_exp = 0\n",
        "    for i in range(n_exps):\n",
        "      n = np.random.randint(low = 1, high = 7) \n",
        "      data = st.t.rvs(size = size, df = n)\n",
        "      rej = rejected(lilliefors, data, alpha)\n",
        "      rej_exp = rej_exp + rej\n",
        "    rejs.append(rej_exp/ n_exps)\n",
        "    print(rej_exp / n_exps, end=' ')\n",
        "  pows_st.append(np.mean(rejs))\n",
        "  print(\"\\n\")"
      ],
      "execution_count": 10,
      "outputs": [
        {
          "output_type": "stream",
          "text": [
            "Для выборок длины 10 мощности критерия для 10 различных генераций параметров равны: \n",
            "0.196 0.23 0.2 0.222 0.2 0.228 0.224 0.268 0.246 0.24 \n",
            "\n",
            "Для выборок длины 50 мощности критерия для 10 различных генераций параметров равны: \n",
            "0.462 0.46 0.452 0.482 0.482 0.446 0.424 0.416 0.464 0.468 \n",
            "\n",
            "Для выборок длины 100 мощности критерия для 10 различных генераций параметров равны: \n",
            "0.594 0.594 0.612 0.644 0.604 0.584 0.612 0.628 0.64 0.63 \n",
            "\n",
            "Для выборок длины 200 мощности критерия для 10 различных генераций параметров равны: \n",
            "0.658 0.66 0.644 0.638 0.638 0.66 0.66 0.642 0.638 0.64 \n",
            "\n",
            "Для выборок длины 500 мощности критерия для 10 различных генераций параметров равны: \n",
            "0.924 0.916 0.938 0.94 0.94 0.914 0.942 0.924 0.928 0.92 \n",
            "\n",
            "Для выборок длины 900 мощности критерия для 10 различных генераций параметров равны: \n",
            "0.988 0.992 0.99 0.99 0.982 0.99 0.988 0.99 0.992 0.984 \n",
            "\n"
          ],
          "name": "stdout"
        }
      ]
    },
    {
      "cell_type": "code",
      "metadata": {
        "id": "qChE2gNz-TWI",
        "colab_type": "code",
        "colab": {
          "base_uri": "https://localhost:8080/",
          "height": 282
        },
        "outputId": "28a9234a-241a-4784-c0fb-90d7e79c3cde"
      },
      "source": [
        "plt.title(\"Power: Lilliefors test\")\n",
        "plt.plot(sizes, pows_st,  label='t-test')\n",
        "plt.plot(sizes, pows_lap,  label='laplace')\n",
        "plt.plot(sizes, pows_trun,  label='truncnorm')\n",
        "plt.legend()\n",
        "plt.show()"
      ],
      "execution_count": 11,
      "outputs": [
        {
          "output_type": "display_data",
          "data": {
            "image/png": "[encoded data removed]",
            "text/plain": [
              "<Figure size 432x288 with 1 Axes>"
            ]
          },
          "metadata": {
            "tags": []
          }
        }
      ]
    },
    {
      "cell_type": "markdown",
      "metadata": {
        "id": "GMMI9obpnIZI",
        "colab_type": "text"
      },
      "source": [
        "### Выводы\n",
        "\n",
        "*   Асимтотически мощность критерия стремится к 1\n",
        "*   Критерий консервативен\n",
        "\n"
      ]
    },
    {
      "cell_type": "markdown",
      "metadata": {
        "id": "lyp_C7l3pf0U",
        "colab_type": "text"
      },
      "source": [
        "## Критерий Харке-Бера"
      ]
    },
    {
      "cell_type": "code",
      "metadata": {
        "id": "XqByIX-hnCLR",
        "colab_type": "code",
        "colab": {}
      },
      "source": [
        "from statsmodels.stats.stattools import jarque_bera"
      ],
      "execution_count": 0,
      "outputs": []
    },
    {
      "cell_type": "markdown",
      "metadata": {
        "id": "22JcjqIsppC5",
        "colab_type": "text"
      },
      "source": [
        "### Нормальное распределение"
      ]
    },
    {
      "cell_type": "code",
      "metadata": {
        "id": "_DliQ82tp49k",
        "colab_type": "code",
        "colab": {
          "base_uri": "https://localhost:8080/",
          "height": 416
        },
        "outputId": "1eda967c-af4a-41bf-e262-527c79de5ff4"
      },
      "source": [
        "alphas = []\n",
        "for size in [10, 50, 100, 200, 500, 1000, 2000, 5000]:\n",
        "  print(\"Для выборок длины \"+str(size)+\" ошибки первого рода равны: \")   \n",
        "  #for j in range(10):\n",
        "  rej_exp = 0\n",
        "  for i in range(n_exps):\n",
        "    mean = (np.random.rand() - 0.5) * 100\n",
        "    std = np.random.rand() * 100 \n",
        "    data = st.norm.rvs(size=size, loc = mean, scale = std)\n",
        "    rej = rejected(jarque_bera, data, alpha)\n",
        "    rej_exp = rej_exp + rej\n",
        "  print(rej_exp / n_exps, end='\\n')\n",
        "print(\"\\n\")\n",
        "\n",
        "\n",
        "if (np.mean(alphas) < 0.05):\n",
        "  print(\"Критерий консервативен\")\n",
        "else:\n",
        "  print(\"Критерий неконсервативен\")  "
      ],
      "execution_count": 15,
      "outputs": [
        {
          "output_type": "stream",
          "text": [
            "Для выборок длины 10 ошибки первого рода равны: \n",
            "0.01\n",
            "Для выборок длины 50 ошибки первого рода равны: \n",
            "0.048\n",
            "Для выборок длины 100 ошибки первого рода равны: \n",
            "0.048\n",
            "Для выборок длины 200 ошибки первого рода равны: \n",
            "0.034\n",
            "Для выборок длины 500 ошибки первого рода равны: \n",
            "0.05\n",
            "Для выборок длины 1000 ошибки первого рода равны: \n",
            "0.064\n",
            "Для выборок длины 2000 ошибки первого рода равны: \n",
            "0.038\n",
            "Для выборок длины 5000 ошибки первого рода равны: \n",
            "0.044\n",
            "\n",
            "\n",
            "Критерий неконсервативен\n"
          ],
          "name": "stdout"
        },
        {
          "output_type": "stream",
          "text": [
            "/usr/local/lib/python3.6/dist-packages/numpy/core/fromnumeric.py:3335: RuntimeWarning: Mean of empty slice.\n",
            "  out=out, **kwargs)\n",
            "/usr/local/lib/python3.6/dist-packages/numpy/core/_methods.py:161: RuntimeWarning: invalid value encountered in double_scalars\n",
            "  ret = ret.dtype.type(ret / rcount)\n"
          ],
          "name": "stderr"
        }
      ]
    },
    {
      "cell_type": "markdown",
      "metadata": {
        "id": "_Q8utzSCp-pG",
        "colab_type": "text"
      },
      "source": [
        "### Усеченное нормальное распределение"
      ]
    },
    {
      "cell_type": "code",
      "metadata": {
        "id": "xoAtL9M9qBDu",
        "colab_type": "code",
        "colab": {
          "base_uri": "https://localhost:8080/",
          "height": 330
        },
        "outputId": "5e2066b3-4402-4206-a59b-acfd8f79f4fe"
      },
      "source": [
        "pows_trun = []\n",
        "for size in sizes:\n",
        "  print(\"Для выборок длины \"+str(size)+\" мощности критерия для 10 различных генераций параметров равны: \")   \n",
        "  for j in range(10):\n",
        "    rejs = []\n",
        "    rej_exp = 0\n",
        "    for i in range(n_exps):\n",
        "      mean = (np.random.rand() - 0.5) * 100\n",
        "      std = np.random.rand() * 100 \n",
        "      a=(-1-mean)/std\n",
        "      b=(1-mean)/std\n",
        "      data = st.truncnorm.rvs(size=size, loc = mean, scale = std, a = a, b = b)\n",
        "      rej = rejected(jarque_bera, data, alpha)\n",
        "      rej_exp = rej_exp + rej\n",
        "    rejs.append(rej_exp / n_exps)\n",
        "    print(rej_exp / n_exps, end=' ')\n",
        "  pows_trun.append(np.mean(rejs))\n",
        "  print(\"\\n\")\n"
      ],
      "execution_count": 16,
      "outputs": [
        {
          "output_type": "stream",
          "text": [
            "Для выборок длины 10 мощности критерия для 10 различных генераций параметров равны: \n",
            "0.0 0.006 0.004 0.006 0.006 0.008 0.006 0.012 0.014 0.008 \n",
            "\n",
            "Для выборок длины 50 мощности критерия для 10 различных генераций параметров равны: \n",
            "0.044 0.052 0.044 0.042 0.046 0.038 0.044 0.042 0.05 0.034 \n",
            "\n",
            "Для выборок длины 100 мощности критерия для 10 различных генераций параметров равны: \n",
            "0.582 0.594 0.594 0.594 0.606 0.574 0.604 0.554 0.614 0.588 \n",
            "\n",
            "Для выборок длины 200 мощности критерия для 10 различных генераций параметров равны: \n",
            "1.0 1.0 1.0 1.0 1.0 1.0 1.0 1.0 1.0 1.0 \n",
            "\n",
            "Для выборок длины 500 мощности критерия для 10 различных генераций параметров равны: \n",
            "1.0 1.0 1.0 1.0 1.0 1.0 1.0 1.0 1.0 1.0 \n",
            "\n",
            "Для выборок длины 900 мощности критерия для 10 различных генераций параметров равны: \n",
            "1.0 1.0 1.0 1.0 1.0 1.0 1.0 1.0 0.998 1.0 \n",
            "\n"
          ],
          "name": "stdout"
        }
      ]
    },
    {
      "cell_type": "markdown",
      "metadata": {
        "id": "__Z23r1krxXd",
        "colab_type": "text"
      },
      "source": [
        "### Распределение Лапласса\n"
      ]
    },
    {
      "cell_type": "code",
      "metadata": {
        "id": "cjW9cmlur2mr",
        "colab_type": "code",
        "colab": {
          "base_uri": "https://localhost:8080/",
          "height": 330
        },
        "outputId": "ebd7fbcf-c913-47d4-e76f-057cb9621b31"
      },
      "source": [
        "pows_lap = []\n",
        "for size in sizes:\n",
        "  print(\"Для выборок длины \"+str(size)+\" мощности критерия для 10 различных генераций параметров равны: \")   \n",
        "  for j in range(10):\n",
        "    rejs = []\n",
        "    rej_exp = 0\n",
        "    for i in range(n_exps):\n",
        "      mean = (np.random.rand() - 0.5) * 100\n",
        "      std = np.random.rand() * 100 \n",
        "      data = st.laplace.rvs(size=size, loc = mean)\n",
        "      rej = rejected(jarque_bera, data, alpha)\n",
        "      rej_exp = rej_exp + rej\n",
        "    rejs.append(rej_exp / n_exps)\n",
        "    print(rej_exp / n_exps, end=' ')\n",
        "  pows_lap.append(np.mean(rejs))\n",
        "  print(\"\\n\")"
      ],
      "execution_count": 17,
      "outputs": [
        {
          "output_type": "stream",
          "text": [
            "Для выборок длины 10 мощности критерия для 10 различных генераций параметров равны: \n",
            "0.066 0.066 0.064 0.076 0.06 0.07 0.056 0.062 0.062 0.058 \n",
            "\n",
            "Для выборок длины 50 мощности критерия для 10 различных генераций параметров равны: \n",
            "0.536 0.526 0.51 0.514 0.514 0.51 0.528 0.514 0.512 0.482 \n",
            "\n",
            "Для выборок длины 100 мощности критерия для 10 различных генераций параметров равны: \n",
            "0.77 0.746 0.766 0.736 0.768 0.776 0.792 0.788 0.776 0.806 \n",
            "\n",
            "Для выборок длины 200 мощности критерия для 10 различных генераций параметров равны: \n",
            "0.962 0.972 0.954 0.982 0.978 0.962 0.954 0.97 0.972 0.952 \n",
            "\n",
            "Для выборок длины 500 мощности критерия для 10 различных генераций параметров равны: \n",
            "1.0 1.0 1.0 1.0 1.0 1.0 1.0 1.0 1.0 1.0 \n",
            "\n",
            "Для выборок длины 900 мощности критерия для 10 различных генераций параметров равны: \n",
            "1.0 1.0 1.0 1.0 1.0 1.0 1.0 1.0 1.0 1.0 \n",
            "\n"
          ],
          "name": "stdout"
        }
      ]
    },
    {
      "cell_type": "markdown",
      "metadata": {
        "id": "_Ks1qOPuqHTt",
        "colab_type": "text"
      },
      "source": [
        "### Распределение Стьюдента"
      ]
    },
    {
      "cell_type": "code",
      "metadata": {
        "id": "f66SceLjqHiO",
        "colab_type": "code",
        "colab": {
          "base_uri": "https://localhost:8080/",
          "height": 330
        },
        "outputId": "97baf54b-efc1-41af-d99a-c996d37a3f67"
      },
      "source": [
        "pows_st = []\n",
        "for size in sizes:\n",
        "  print(\"Для выборок длины \"+str(size)+\" мощности критерия для 10 различных генераций параметров равны: \")   \n",
        "  for j in range(10):\n",
        "    rejs = []\n",
        "    rej_exp = 0\n",
        "    for i in range(n_exps):\n",
        "      n = np.random.randint(low = 1, high = 7) \n",
        "      data = st.t.rvs(size = size, df = n)\n",
        "      rej = rejected(jarque_bera, data, alpha)\n",
        "      rej_exp = rej_exp + rej\n",
        "    rejs.append(rej_exp / n_exps)\n",
        "    print(rej_exp / n_exps, end=' ')\n",
        "  pows_st.append(np.mean(rejs))\n",
        "  print(\"\\n\")\n"
      ],
      "execution_count": 18,
      "outputs": [
        {
          "output_type": "stream",
          "text": [
            "Для выборок длины 10 мощности критерия для 10 различных генераций параметров равны: \n",
            "0.14 0.112 0.156 0.142 0.12 0.138 0.168 0.14 0.128 0.1 \n",
            "\n",
            "Для выборок длины 50 мощности критерия для 10 различных генераций параметров равны: \n",
            "0.64 0.636 0.674 0.644 0.644 0.604 0.608 0.666 0.598 0.616 \n",
            "\n",
            "Для выборок длины 100 мощности критерия для 10 различных генераций параметров равны: \n",
            "0.826 0.748 0.79 0.772 0.818 0.798 0.794 0.82 0.834 0.808 \n",
            "\n",
            "Для выборок длины 200 мощности критерия для 10 различных генераций параметров равны: \n",
            "0.934 0.928 0.934 0.942 0.906 0.914 0.932 0.898 0.906 0.928 \n",
            "\n",
            "Для выборок длины 500 мощности критерия для 10 различных генераций параметров равны: \n",
            "0.996 0.992 0.994 0.998 0.998 0.998 0.992 0.998 0.992 0.994 \n",
            "\n",
            "Для выборок длины 900 мощности критерия для 10 различных генераций параметров равны: \n",
            "1.0 1.0 1.0 1.0 1.0 1.0 1.0 1.0 1.0 1.0 \n",
            "\n"
          ],
          "name": "stdout"
        }
      ]
    },
    {
      "cell_type": "code",
      "metadata": {
        "id": "-QG9GXCZApxS",
        "colab_type": "code",
        "colab": {
          "base_uri": "https://localhost:8080/",
          "height": 282
        },
        "outputId": "339610c7-f40f-4ee3-9e31-0090b74e8bdc"
      },
      "source": [
        "plt.title(\"Power: Jarque-Bera test\")\n",
        "plt.plot(sizes, pows_st,  label='t-test')\n",
        "plt.plot(sizes, pows_lap,  label='laplace')\n",
        "plt.plot(sizes, pows_trun,  label='truncnorm')\n",
        "plt.legend()\n",
        "plt.show()"
      ],
      "execution_count": 19,
      "outputs": [
        {
          "output_type": "display_data",
          "data": {
            "image/png": "[encoded data removed]",
            "text/plain": [
              "<Figure size 432x288 with 1 Axes>"
            ]
          },
          "metadata": {
            "tags": []
          }
        }
      ]
    },
    {
      "cell_type": "markdown",
      "metadata": {
        "id": "h8snBK48qadz",
        "colab_type": "text"
      },
      "source": [
        "## Выводы\n",
        "\n",
        "\n",
        "*   Асимтотически мощность критерия стремится к 1\n",
        "*   Критерий консервативен\n",
        "\n"
      ]
    },
    {
      "cell_type": "markdown",
      "metadata": {
        "id": "w90eKy--qzJw",
        "colab_type": "text"
      },
      "source": [
        "## Критерий Шапиро-Уилика"
      ]
    },
    {
      "cell_type": "code",
      "metadata": {
        "id": "KNNk2mkwrIcc",
        "colab_type": "code",
        "colab": {}
      },
      "source": [
        "from scipy.stats import shapiro"
      ],
      "execution_count": 0,
      "outputs": []
    },
    {
      "cell_type": "markdown",
      "metadata": {
        "id": "voqG92kArLQz",
        "colab_type": "text"
      },
      "source": [
        "### Нормальное распределение"
      ]
    },
    {
      "cell_type": "code",
      "metadata": {
        "id": "7ghjffuJqQNA",
        "colab_type": "code",
        "colab": {
          "base_uri": "https://localhost:8080/",
          "height": 416
        },
        "outputId": "6bdc321a-1a56-41bc-bc95-1b18396fc5f0"
      },
      "source": [
        "alphas = []\n",
        "for size in [10, 50, 100, 200, 500, 1000, 2000, 5000]:\n",
        "  print(\"Для выборок длины \"+str(size)+\" ошибки первого рода равны: \")   \n",
        "  #for j in range(10):\n",
        "  rej_exp = 0\n",
        "  for i in range(n_exps):\n",
        "    mean = (np.random.rand() - 0.5) * 100\n",
        "    std = np.random.rand() * 100 \n",
        "    data = st.norm.rvs(size=size, loc = mean, scale = std)\n",
        "    rej = rejected(shapiro, data, alpha)\n",
        "    rej_exp = rej_exp + rej\n",
        "  print(rej_exp / n_exps, end='\\n')\n",
        "print(\"\\n\")\n",
        "\n",
        "\n",
        "if (np.mean(alphas) < 0.05):\n",
        "  print(\"Критерий консервативен\")\n",
        "else:\n",
        "  print(\"Критерий неконсервативен\")  "
      ],
      "execution_count": 21,
      "outputs": [
        {
          "output_type": "stream",
          "text": [
            "Для выборок длины 10 ошибки первого рода равны: \n",
            "0.052\n",
            "Для выборок длины 50 ошибки первого рода равны: \n",
            "0.036\n",
            "Для выборок длины 100 ошибки первого рода равны: \n",
            "0.072\n",
            "Для выборок длины 200 ошибки первого рода равны: \n",
            "0.05\n",
            "Для выборок длины 500 ошибки первого рода равны: \n",
            "0.046\n",
            "Для выборок длины 1000 ошибки первого рода равны: \n",
            "0.074\n",
            "Для выборок длины 2000 ошибки первого рода равны: \n",
            "0.048\n",
            "Для выборок длины 5000 ошибки первого рода равны: \n",
            "0.028\n",
            "\n",
            "\n",
            "Критерий неконсервативен\n"
          ],
          "name": "stdout"
        },
        {
          "output_type": "stream",
          "text": [
            "/usr/local/lib/python3.6/dist-packages/numpy/core/fromnumeric.py:3335: RuntimeWarning: Mean of empty slice.\n",
            "  out=out, **kwargs)\n",
            "/usr/local/lib/python3.6/dist-packages/numpy/core/_methods.py:161: RuntimeWarning: invalid value encountered in double_scalars\n",
            "  ret = ret.dtype.type(ret / rcount)\n"
          ],
          "name": "stderr"
        }
      ]
    },
    {
      "cell_type": "markdown",
      "metadata": {
        "id": "T4hNT_PMrTiQ",
        "colab_type": "text"
      },
      "source": [
        "### Усеченное нормальное распределение"
      ]
    },
    {
      "cell_type": "code",
      "metadata": {
        "id": "QdZsV4cPrSUI",
        "colab_type": "code",
        "colab": {
          "base_uri": "https://localhost:8080/",
          "height": 330
        },
        "outputId": "cbbb751d-4c92-4f16-faef-8cc49325872b"
      },
      "source": [
        "pows_trun = []\n",
        "for size in sizes:\n",
        "  print(\"Для выборок длины \"+str(size)+\" мощности критерия для 10 различных генераций параметров равны: \")   \n",
        "  for j in range(10):\n",
        "    rejs = []\n",
        "    rej_exp = 0\n",
        "    for i in range(n_exps):\n",
        "      mean = (np.random.rand() - 0.5) * 100\n",
        "      std = np.random.rand() * 100 \n",
        "      a=(-1-mean)/std\n",
        "      b=(1-mean)/std\n",
        "      data = st.truncnorm.rvs(size=size, loc = mean, scale = std, a = a, b = b)\n",
        "      rej = rejected(shapiro, data, alpha)\n",
        "      rej_exp = rej_exp + rej\n",
        "    rejs.append(rej_exp / n_exps)\n",
        "    print(rej_exp / n_exps, end=' ')\n",
        "  pows_trun.append(np.mean(rejs))\n",
        "  print(\"\\n\")"
      ],
      "execution_count": 24,
      "outputs": [
        {
          "output_type": "stream",
          "text": [
            "Для выборок длины 10 мощности критерия для 10 различных генераций параметров равны: \n",
            "0.092 0.08 0.114 0.102 0.08 0.114 0.09 0.118 0.102 0.076 \n",
            "\n",
            "Для выборок длины 50 мощности критерия для 10 различных генераций параметров равны: \n",
            "0.762 0.764 0.754 0.77 0.76 0.786 0.762 0.776 0.76 0.728 \n",
            "\n",
            "Для выборок длины 100 мощности критерия для 10 различных генераций параметров равны: \n",
            "0.998 0.998 0.996 0.998 1.0 0.998 0.994 0.994 0.998 1.0 \n",
            "\n",
            "Для выборок длины 200 мощности критерия для 10 различных генераций параметров равны: \n",
            "1.0 1.0 1.0 1.0 1.0 1.0 1.0 1.0 1.0 1.0 \n",
            "\n",
            "Для выборок длины 500 мощности критерия для 10 различных генераций параметров равны: \n",
            "1.0 1.0 1.0 1.0 1.0 1.0 1.0 1.0 1.0 1.0 \n",
            "\n",
            "Для выборок длины 900 мощности критерия для 10 различных генераций параметров равны: \n",
            "1.0 1.0 1.0 1.0 1.0 1.0 1.0 1.0 1.0 1.0 \n",
            "\n"
          ],
          "name": "stdout"
        }
      ]
    },
    {
      "cell_type": "markdown",
      "metadata": {
        "id": "OhkxqH2xr98Y",
        "colab_type": "text"
      },
      "source": [
        "### Распределение Лапласса"
      ]
    },
    {
      "cell_type": "code",
      "metadata": {
        "id": "gPtwtdgIsBeR",
        "colab_type": "code",
        "colab": {
          "base_uri": "https://localhost:8080/",
          "height": 330
        },
        "outputId": "26849f9c-396e-42b6-86c1-8b15e3179b83"
      },
      "source": [
        "pows_lap = []\n",
        "for size in sizes:\n",
        "  print(\"Для выборок длины \"+str(size)+\" мощности критерия для 10 различных генераций параметров равны: \")   \n",
        "  for j in range(10):\n",
        "    rejs = []\n",
        "    rej_exp = 0\n",
        "    for i in range(n_exps):\n",
        "      mean = (np.random.rand() - 0.5) * 100\n",
        "      std = np.random.rand() * 100 \n",
        "      data = st.laplace.rvs(size=size, loc = mean)\n",
        "      rej = rejected(shapiro, data, alpha)\n",
        "      rej_exp = rej_exp + rej\n",
        "    rejs.append(rej_exp / n_exps)\n",
        "    print(rej_exp / n_exps, end=' ')\n",
        "  pows_lap.append(np.mean(rejs))\n",
        "  print(\"\\n\")"
      ],
      "execution_count": 25,
      "outputs": [
        {
          "output_type": "stream",
          "text": [
            "Для выборок длины 10 мощности критерия для 10 различных генераций параметров равны: \n",
            "0.154 0.14 0.168 0.186 0.154 0.15 0.164 0.192 0.17 0.154 \n",
            "\n",
            "Для выборок длины 50 мощности критерия для 10 различных генераций параметров равны: \n",
            "0.516 0.508 0.51 0.528 0.518 0.534 0.506 0.522 0.54 0.514 \n",
            "\n",
            "Для выборок длины 100 мощности критерия для 10 различных генераций параметров равны: \n",
            "0.796 0.82 0.792 0.774 0.806 0.814 0.778 0.826 0.764 0.804 \n",
            "\n",
            "Для выборок длины 200 мощности критерия для 10 различных генераций параметров равны: \n",
            "0.964 0.974 0.976 0.986 0.97 0.978 0.974 0.976 0.98 0.964 \n",
            "\n",
            "Для выборок длины 500 мощности критерия для 10 различных генераций параметров равны: \n",
            "1.0 1.0 1.0 1.0 1.0 1.0 1.0 1.0 1.0 1.0 \n",
            "\n",
            "Для выборок длины 900 мощности критерия для 10 различных генераций параметров равны: \n",
            "1.0 1.0 1.0 1.0 1.0 1.0 1.0 1.0 1.0 1.0 \n",
            "\n"
          ],
          "name": "stdout"
        }
      ]
    },
    {
      "cell_type": "markdown",
      "metadata": {
        "id": "0JklFkuprkpy",
        "colab_type": "text"
      },
      "source": [
        "### Распределение Стьюдента"
      ]
    },
    {
      "cell_type": "code",
      "metadata": {
        "id": "q_oC7YPtrbS0",
        "colab_type": "code",
        "colab": {
          "base_uri": "https://localhost:8080/",
          "height": 330
        },
        "outputId": "00019539-405a-4869-c914-200d2a0b4204"
      },
      "source": [
        "pows_st = []\n",
        "for size in sizes:\n",
        "  print(\"Для выборок длины \"+str(size)+\" мощности критерия для 10 различных генераций параметров равны: \")   \n",
        "  for j in range(10):\n",
        "    rejs = []\n",
        "    rej_exp = 0\n",
        "    for i in range(n_exps):\n",
        "      n = np.random.randint(low = 1, high = 7) \n",
        "      data = st.t.rvs(size = size, df = n)\n",
        "      rej = rejected(shapiro, data, alpha)\n",
        "      rej_exp = rej_exp + rej\n",
        "    rejs.append(rej_exp / n_exps)\n",
        "    print(rej_exp / n_exps, end=' ')\n",
        "  pows_st.append(np.mean(rejs))\n",
        "  print(\"\\n\")\n"
      ],
      "execution_count": 26,
      "outputs": [
        {
          "output_type": "stream",
          "text": [
            "Для выборок длины 10 мощности критерия для 10 различных генераций параметров равны: \n",
            "0.23 0.232 0.252 0.244 0.21 0.232 0.214 0.212 0.226 0.222 \n",
            "\n",
            "Для выборок длины 50 мощности критерия для 10 различных генераций параметров равны: \n",
            "0.582 0.588 0.564 0.606 0.614 0.598 0.632 0.594 0.62 0.578 \n",
            "\n",
            "Для выборок длины 100 мощности критерия для 10 различных генераций параметров равны: \n",
            "0.79 0.73 0.748 0.762 0.776 0.754 0.732 0.758 0.766 0.75 \n",
            "\n",
            "Для выборок длины 200 мощности критерия для 10 различных генераций параметров равны: \n",
            "0.904 0.898 0.91 0.906 0.916 0.9 0.912 0.894 0.91 0.9 \n",
            "\n",
            "Для выборок длины 500 мощности критерия для 10 различных генераций параметров равны: \n",
            "0.996 0.992 0.99 0.996 0.988 0.994 0.988 0.99 0.986 0.99 \n",
            "\n",
            "Для выборок длины 900 мощности критерия для 10 различных генераций параметров равны: \n",
            "1.0 1.0 1.0 0.998 1.0 1.0 0.998 1.0 1.0 0.998 \n",
            "\n"
          ],
          "name": "stdout"
        }
      ]
    },
    {
      "cell_type": "code",
      "metadata": {
        "id": "IQd5LPODBfox",
        "colab_type": "code",
        "colab": {
          "base_uri": "https://localhost:8080/",
          "height": 282
        },
        "outputId": "3fb5c7ee-7aca-4bfa-a2c2-0ba185f5d0b1"
      },
      "source": [
        "plt.title(\"Power: Shapiro test\")\n",
        "plt.plot(sizes, pows_st,  label='t-test')\n",
        "plt.plot(sizes, pows_lap,  label='laplace')\n",
        "plt.plot(sizes, pows_trun,  label='truncnorm')\n",
        "plt.legend()\n",
        "plt.show()"
      ],
      "execution_count": 27,
      "outputs": [
        {
          "output_type": "display_data",
          "data": {
            "image/png": "[encoded data removed]",
            "text/plain": [
              "<Figure size 432x288 with 1 Axes>"
            ]
          },
          "metadata": {
            "tags": []
          }
        }
      ]
    },
    {
      "cell_type": "markdown",
      "metadata": {
        "id": "8c0Vbg-srpey",
        "colab_type": "text"
      },
      "source": [
        "### Выводы\n",
        "\n",
        "\n",
        "*   Мощность асимтотически стремится к 1\n",
        "*   Неконсервативен\n",
        "\n"
      ]
    }
  ]
}