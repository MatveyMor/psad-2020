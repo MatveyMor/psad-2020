{
 "cells": [
  {
   "cell_type": "code",
   "execution_count": null,
   "metadata": {},
   "outputs": [],
   "source": [
    "import itertools\n",
    "from matplotlib import pyplot as plt\n",
    "import seaborn as sns\n",
    "import math\n",
    "import scipy\n",
    "import numpy as np\n",
    "import pandas as pd\n",
    "from pathlib import Path\n",
    "from zipfile import ZipFile\n",
    "import copy\n",
    "import scipy.stats as st\n",
    "import statsmodels.api as sm\n",
    "import seaborn as sns\n",
    "from statsmodels.regression.linear_model import OLS\n",
    "import statsmodels.api as sm"
   ]
  },
  {
   "cell_type": "markdown",
   "metadata": {},
   "source": [
    "Выборка состоит из трех обзектов: X_train, Y_train, X_test\n",
    "\n",
    "Y_train - изображение (пиксель кодируется черно-белой компонентой изображения), X_train - признаки, соответствующие этому изображению. (элемент X[i,j] соответствует набору признаков для пикселя Y[i,j]).\n",
    "\n",
    "Требуется:\n",
    "\n",
    "- Провести отбор наиболее значимых признаков и построить регрессию X->Y\n",
    "- Проинтерпетировать признаки (каждый признак является функцией, возможно нелинейной, от значения пикселя)\n",
    "- Получить изображение по X_test (оцениваться будет качество полученного изображения. Ожидается, что регрессия на X_train, Y_train даст R^2>0.85)."
   ]
  },
  {
   "cell_type": "code",
   "execution_count": null,
   "metadata": {},
   "outputs": [],
   "source": [
    "if Path('regression').is_dir() is False and Path('regression.zip').exists():\n",
    "    with ZipFile(Path('regression.zip')) as f:\n",
    "        f.extractall('regression')\n",
    "x_test = np.load('regression/regression_x_test.npy')\n",
    "x_train = np.load('regression/regression_x_train.npy')\n",
    "y_train = np.load('regression/regression_y_train.npy')"
   ]
  },
  {
   "cell_type": "code",
   "execution_count": null,
   "metadata": {},
   "outputs": [],
   "source": [
    "x_train.shape, y_train.shape, x_test.shape"
   ]
  },
  {
   "cell_type": "code",
   "execution_count": null,
   "metadata": {},
   "outputs": [],
   "source": [
    "test_img_shape =  x_test.shape"
   ]
  },
  {
   "cell_type": "code",
   "execution_count": null,
   "metadata": {},
   "outputs": [],
   "source": [
    "np.all(y_train >= 0), np.all(y_train <= 1)"
   ]
  },
  {
   "cell_type": "code",
   "execution_count": null,
   "metadata": {},
   "outputs": [],
   "source": [
    "fig, ax = plt.subplots()\n",
    "ax.imshow(y_train)  \n",
    "plt.show()"
   ]
  },
  {
   "cell_type": "code",
   "execution_count": null,
   "metadata": {},
   "outputs": [],
   "source": [
    "x_train = x_train.reshape(-1, x_train.shape[-1])\n",
    "x_test = x_test.reshape(-1, x_test.shape[-1])\n",
    "y_train = y_train.reshape(-1, 1)\n",
    "\n",
    "x_train = pd.DataFrame(x_train)\n",
    "y_train = pd.DataFrame(y_train)\n",
    "x_test = pd.DataFrame(x_test)"
   ]
  },
  {
   "cell_type": "code",
   "execution_count": null,
   "metadata": {},
   "outputs": [],
   "source": [
    "x_train['bias'] = 1.0\n",
    "x_test['bias'] = 1.0"
   ]
  },
  {
   "cell_type": "markdown",
   "metadata": {},
   "source": [
    "Линейная регрессия без отбора признаков:"
   ]
  },
  {
   "cell_type": "code",
   "execution_count": null,
   "metadata": {},
   "outputs": [],
   "source": [
    "pure_lin_reg = OLS(y_train, x_train).fit()\n",
    "pure_lin_reg.summary()"
   ]
  },
  {
   "cell_type": "markdown",
   "metadata": {},
   "source": [
    "Cделать отбор признаков с помощью значения p_value нельзя"
   ]
  },
  {
   "cell_type": "markdown",
   "metadata": {},
   "source": [
    "### Сделаем отбор признаков"
   ]
  },
  {
   "cell_type": "code",
   "execution_count": null,
   "metadata": {},
   "outputs": [],
   "source": [
    "data = copy.copy(x_train)\n",
    "data['target'] = y_train[0]\n",
    "data.columns = list(map(lambda i: f'feature_{i}', range(data.shape[1]-2))) + ['bias', 'target']"
   ]
  },
  {
   "cell_type": "code",
   "execution_count": null,
   "metadata": {},
   "outputs": [],
   "source": [
    "Построим одномерные модели и оценим их значимость\n"
   ]
  },
  {
   "cell_type": "code",
   "execution_count": null,
   "metadata": {},
   "outputs": [],
   "source": [
    "features = list(data.columns[:-2])\n",
    "pvalues = dict()\n",
    "\n",
    "for f in features:\n",
    "    lin_reg_one = sm.GLM.from_formula(f'target~{f}', data=data).fit()\n",
    "    pvalues[f] = lin_reg_one.pvalues[f]\n",
    "print('pvalues: ', pvalues)"
   ]
  },
  {
   "cell_type": "code",
   "execution_count": null,
   "metadata": {},
   "outputs": [],
   "source": [
    "filtered_features = list(filter(lambda f: pvalues[f] < 0.05, features))\n",
    "print(filtered_features)\n",
    "print(f'Число значимых признаков: {len(filtered_features)}')"
   ]
  },
  {
   "cell_type": "code",
   "execution_count": null,
   "metadata": {},
   "outputs": [],
   "source": [
    "formula = formula = f\"target ~ {' + '.join(filtered_features)}\"\n",
    "lin_reg_filtered = sm.GLM.from_formula(formula, data=data).fit()\n",
    "lin_reg_filtered.summary2()"
   ]
  },
  {
   "cell_type": "code",
   "execution_count": null,
   "metadata": {},
   "outputs": [],
   "source": [
    "wald_description = '='.join(filtered_features+[''])\n",
    "print(f\"Pvalue: {lin_reg_filtered.wald_test(wald_description+'0').pvalue}\")"
   ]
  },
  {
   "cell_type": "markdown",
   "metadata": {},
   "source": [
    "Такой способ не подходит\n",
    "\n",
    "Попробуем проанализировать, какие признаки можно убрать"
   ]
  },
  {
   "cell_type": "code",
   "execution_count": null,
   "metadata": {},
   "outputs": [],
   "source": [
    "plt.figure(figsize=(20,15))\n",
    "corr = x_train.corr()\n",
    "sns.heatmap(corr, annot=True)\n",
    "plt.show()"
   ]
  },
  {
   "cell_type": "markdown",
   "metadata": {},
   "source": [
    "Заметим, что признаки 30-34 - константы"
   ]
  },
  {
   "cell_type": "code",
   "execution_count": null,
   "metadata": {},
   "outputs": [],
   "source": [
    "x_train.loc[:, 30].unique()"
   ]
  },
  {
   "cell_type": "markdown",
   "metadata": {},
   "source": [
    "Оставим нескоррелированные признаки"
   ]
  },
  {
   "cell_type": "code",
   "execution_count": null,
   "metadata": {},
   "outputs": [],
   "source": [
    "rest = [0,1,2,3,4,22,26,'bias']\n",
    "x_train = x_train[rest]\n",
    "x_test = x_test[rest]"
   ]
  },
  {
   "cell_type": "code",
   "execution_count": null,
   "metadata": {},
   "outputs": [],
   "source": [
    "plt.figure()\n",
    "corr = x_train.corr()\n",
    "sns.heatmap(corr, annot=True)\n",
    "plt.show()"
   ]
  },
  {
   "cell_type": "markdown",
   "metadata": {},
   "source": [
    "Призаки 22 и 26 также имеют большой коэффициент корреляции\n",
    "\n",
    "Построим pairplot, чтобы проверить, насколько они зависимы от 3 и 4"
   ]
  },
  {
   "cell_type": "code",
   "execution_count": null,
   "metadata": {},
   "outputs": [],
   "source": [
    "data = copy.copy(x_train)\n",
    "data['target'] = y_train[0]\n",
    "_ = sns.pairplot(data[:100])"
   ]
  },
  {
   "cell_type": "markdown",
   "metadata": {},
   "source": [
    "Они действительно сильно зависят, поэтому их тоже следует убрать"
   ]
  },
  {
   "cell_type": "code",
   "execution_count": null,
   "metadata": {},
   "outputs": [],
   "source": [
    "x_train.drop(columns = [22,26], inplace=True)\n",
    "x_test.drop(columns = [22,26], inplace=True)\n",
    "data = copy.copy(x_train)\n",
    "data['target'] = y_train[0]\n",
    "_ = sns.pairplot(data[:50])"
   ]
  },
  {
   "cell_type": "code",
   "execution_count": null,
   "metadata": {},
   "outputs": [],
   "source": [
    "data.columns = list(map(lambda i: f'feature_{i}', range(data.shape[1]-2))) + ['bias', 'target']\n"
   ]
  },
  {
   "cell_type": "code",
   "execution_count": null,
   "metadata": {},
   "outputs": [],
   "source": [
    "formula = f\"target ~ {' + '.join(data.columns[:-1])}\"\n",
    "lin_reg_1 = sm.OLS.from_formula(formula, data=data).fit()\n",
    "lin_reg_1.summary()"
   ]
  },
  {
   "cell_type": "markdown",
   "metadata": {},
   "source": [
    "Отношение объясненной дисперсии не очень высокое, меньше чем оное без отбора признаков\n",
    "\n",
    "### Добавим межфакторные взаимодействия"
   ]
  },
  {
   "cell_type": "code",
   "execution_count": null,
   "metadata": {},
   "outputs": [],
   "source": [
    "for i, f1 in enumerate(data.columns[:-1]):\n",
    "    for f2 in data.columns[i+1:-1]: \n",
    "        model = sm.GLM.from_formula(f\"{formula} + {f1} : {f2}\", data=data).fit()               \n",
    "        if model.pvalues[f'{f1}:{f2}'] < 0.05:\n",
    "            print (f1, f2, model.bic)"
   ]
  },
  {
   "cell_type": "markdown",
   "metadata": {},
   "source": [
    "Оставим feature_1:feature_3 и feature_2:feature_3"
   ]
  },
  {
   "cell_type": "code",
   "execution_count": null,
   "metadata": {},
   "outputs": [],
   "source": [
    "lin_reg_2 = sm.OLS.from_formula(f\"{formula} + feature_1:feature_3 + feature_2:feature_3\", data=data).fit() \n",
    "lin_reg_2.summary()"
   ]
  },
  {
   "cell_type": "code",
   "execution_count": null,
   "metadata": {},
   "outputs": [],
   "source": [
    "lin_reg_2.wald_test('feature_1:feature_3 = feature_2:feature_3 = 0')"
   ]
  },
  {
   "cell_type": "code",
   "execution_count": null,
   "metadata": {},
   "outputs": [],
   "source": [
    "plt.hist(lin_reg_2.resid, bins = 100)\n",
    "plt.show()"
   ]
  },
  {
   "cell_type": "markdown",
   "metadata": {},
   "source": [
    "Пока ошибка выглядит не совсем нормально, поэтому добавим ещё межфакторных взаимодействий "
   ]
  },
  {
   "cell_type": "code",
   "execution_count": null,
   "metadata": {},
   "outputs": [],
   "source": [
    "features = data.columns[:-2]\n",
    "f_f = list(itertools.chain.from_iterable([[f'{f1}:{f2}' for f2 in features[i+1:]] \n",
    "                                          for i, f1 in enumerate(features)]))"
   ]
  },
  {
   "cell_type": "code",
   "execution_count": null,
   "metadata": {},
   "outputs": [],
   "source": [
    "lin_reg_3 = sm.OLS.from_formula(f\"{formula}+{'+'.join(f_f)}\", data=data).fit() \n",
    "lin_reg_3.summary()"
   ]
  },
  {
   "cell_type": "markdown",
   "metadata": {},
   "source": [
    "Теперь отношение объясненной дисперсии хорошее"
   ]
  },
  {
   "cell_type": "code",
   "execution_count": null,
   "metadata": {},
   "outputs": [],
   "source": [
    "lin_reg_3.wald_test(f\"{' = '.join(f_f)} = 0\")"
   ]
  },
  {
   "cell_type": "code",
   "execution_count": null,
   "metadata": {},
   "outputs": [],
   "source": [
    "plt.hist(lin_reg_3.resid, bins = 100)\n",
    "plt.show()"
   ]
  },
  {
   "cell_type": "markdown",
   "metadata": {},
   "source": [
    "### Восстановим картинку"
   ]
  },
  {
   "cell_type": "code",
   "execution_count": null,
   "metadata": {},
   "outputs": [],
   "source": [
    "x_test.columns = list(map(lambda i: f'feature_{i}', x_test.columns[:-1])) + ['bias']"
   ]
  },
  {
   "cell_type": "code",
   "execution_count": null,
   "metadata": {},
   "outputs": [],
   "source": [
    "prediction = lin_reg_3.predict(x_test)\n",
    "y_test = np.reshape(prediction.values, (test_img_shape[:-1]))\n",
    "fig, ax = plt.subplots()\n",
    "ax.imshow(y_test)\n",
    "plt.show()"
   ]
  },
  {
   "cell_type": "code",
   "execution_count": null,
   "metadata": {},
   "outputs": [],
   "source": []
  }
 ],
 "metadata": {
  "kernelspec": {
   "display_name": "Python 3",
   "language": "python",
   "name": "python3"
  },
  "language_info": {
   "codemirror_mode": {
    "name": "ipython",
    "version": 3
   },
   "file_extension": ".py",
   "mimetype": "text/x-python",
   "name": "python",
   "nbconvert_exporter": "python",
   "pygments_lexer": "ipython3",
   "version": "3.7.4"
  }
 },
 "nbformat": 4,
 "nbformat_minor": 2
}
