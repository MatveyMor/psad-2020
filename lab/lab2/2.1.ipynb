{
 "cells": [
  {
   "cell_type": "markdown",
   "metadata": {},
   "source": [
    "# Задача 2.1\n",
    "Выборка:\n",
    "\n",
    "Рассматривается задача тестирования вакцины от некоторого вируса. Производство вакцины очень дорогое и затратное по времени, поэтому в день может быть произведена только одна ампула.\n",
    "\n",
    "Требуется проверить, что вакцина помогает (вероятность заразиться меньше у человека с вакциной чем у человека без вакцины).\n",
    "\n",
    "Эксперимент ставится следующим образом: каждый день есть два идентичных по здоровью человека. Один из людей принимает вакцину, а второй нет, после чего обоих ставят в одну среду с вирусом. В конце проверяют, кто заразился. (В таблице: s --- sick; h --- healthy)\n",
    "\n",
    "Весь мир ждет вакцину от данного вируса, поэтому к руководству института постоянно приходят запросы о сроках завершения тестирования образца. Руководство поручило Вам оценить среднее время, которое понадобится на тестирования данной вакцины. А также провести анализ полученных данных на уровне значимости $\\alpha=0.05$ и при ошибке второго рода $\\beta=0.8$.\n",
    "\n",
    "Требуется:\n",
    "\n",
    "- Записать задачу формально;\n",
    "- Выполнить оценку среднего количества дней для принятия решения (учесть что истинная вероятность заразиться с вакциной и без равны $p_1 = 0.2$, $p_2 = 0.5$ соответственно);\n",
    "- Выполнить анализ данных и выяснить работает ли вакцина или нет.\n",
    "\n",
    "Все выкладки должны быть сделаны аналитически, без использования компьютера."
   ]
  },
  {
   "cell_type": "markdown",
   "metadata": {},
   "source": [
    "# Задача формально\n",
    "\n",
    "Имеем последовательное сэмплирование парами из двух связанных бернуллиевских выборок. \n",
    "\n",
    "Изначально:\n",
    "\n",
    "нулевая гипотеза: $H_0~:~p_1 \\ge p_2$\n",
    "\n",
    "альтернатива: $H_1~:~p_1<p_2$\n",
    "\n",
    "В терминах последовательного анализа, выбрав пороги:\n",
    "\n",
    "нулевая гипотеза: $H_0~:~u \\ge u_U = 2$\n",
    "\n",
    "альтернатива: $H_1~:~u \\le u_L = \\frac{1}{2}$"
   ]
  },
  {
   "cell_type": "markdown",
   "metadata": {},
   "source": [
    "# Решение"
   ]
  },
  {
   "cell_type": "markdown",
   "metadata": {},
   "source": [
    "Провернем последовательный аналог Z-критерия для разности двух долей (связанные выборки).\n",
    "\n",
    "Обозначим:\n",
    "\n",
    "$$A = \\frac{1-\\beta}{\\alpha} = \\frac{1-0.8}{0.05} = 4, ~~~~~~B = \\frac{\\beta}{1-\\alpha} = \\frac{0.8}{0.95} = \\frac{16}{19}$$\n",
    "\n",
    "$$u = \\frac{p_1(1-p_2)}{p_2(1-p_1)} = \\frac{0.2(1-0.5)}{0.5(1-0.2)} = \\frac{1}{4}$$\n",
    "\n",
    "$$\\mathbb E_u(n) = \\frac{L(u)\\ln B + (1-L(u))\\ln A}{\\bigl(\\frac{u}{u+1} \\ln \\frac{u_U(1+u_L)}{u_L(1+u_U)} + \\frac{1}{u+1}\\ln \\frac{1+u_L}{1+u_U}\\bigr)\\bigl(p_1(1-p_2) + p_2(1-p_1) \\bigr)}$$\n",
    "\n",
    "$$L(u) = \\frac{A^h-1}{A^h-B^h}$$\n",
    "\n",
    "$$\\frac{u}{u + 1} = \\frac{1-\\bigl(\\frac{1+u_L}{1+u_U} \\bigr)^h}{\\bigl( \\frac{u_U(1+u_L)}{u_L(1+u_U)} \\bigr)^h - \\bigl(\\frac{1+u_L}{1+u_U} \\bigr)^h} = \\frac{\\bigl(\\frac{1+u_U}{1+u_L} \\bigr)^h - 1}{\\bigl(\\frac{u_L}{u_U} \\bigr)^h-1} \\to \\frac{1}{5} = \\frac{2^h - 1}{4^h - 1} = \\frac{1}{2^h + 1} \\to h=2$$"
   ]
  },
  {
   "cell_type": "markdown",
   "metadata": {},
   "source": [
    "$$L(u) = \\frac{4^2 - 1}{4^2 - \\bigl(\\frac{16}{19}\\bigr)^2} = \\frac{(4-1)(4+1)}{4^2\\bigl(1 - \\frac{4}{19}\\bigr)\\bigl(1 + \\frac{4}{19}\\bigr)} = \\frac{19^2}{23*4^2} = \\frac{361}{368}$$"
   ]
  },
  {
   "cell_type": "markdown",
   "metadata": {},
   "source": [
    "$$\\mathbb E_u(n) = \\frac{\\frac{361}{368}(4\\ln 2 - \\ln 19)+ \\frac{7}{184}\\ln 2 }{-0.3 \\ln 2} = \\frac{\\frac{361}{368}\\ln 19 - \\frac{729}{184}\\ln 2}{0.3 \\ln 2} = \\frac{5}{552}\\Bigl(361\\log_2 19 - 1458\\Bigr) \\approx 0.68$$"
   ]
  },
  {
   "cell_type": "markdown",
   "metadata": {},
   "source": [
    "Результат странный, скорее всего из-за большого $\\beta:~~$ будем счиать, что $1-\\beta = 0.8$"
   ]
  },
  {
   "cell_type": "markdown",
   "metadata": {},
   "source": [
    "$$A = \\frac{1-\\beta}{\\alpha} = \\frac{0.8}{0.05} = 16, ~~~~~~B = \\frac{\\beta}{1-\\alpha} = \\frac{0.2}{0.95} = \\frac{4}{19}$$"
   ]
  },
  {
   "cell_type": "markdown",
   "metadata": {},
   "source": [
    "$$L(u) = \\frac{16^2 - 1}{16^2 - \\bigl(\\frac{4}{19}\\bigr)^2} = \\frac{(16-1)(16+1)}{4^2\\bigl(4 - \\frac{1}{19}\\bigr)\\bigl(4 + \\frac{1}{19}\\bigr)} = \\frac{17*19^2}{77*5*4^2} = \\frac{6137}{6160} \\approx 0.996$$"
   ]
  },
  {
   "cell_type": "markdown",
   "metadata": {},
   "source": [
    "$$\\mathbb E_u(n) = \\frac{\\frac{6137}{6160}(2\\ln 2 - \\ln 19)+ \\frac{23}{6160}4\\ln 2 }{-0.3 \\ln 2} = \\frac{1}{616*3}\\frac{6137\\ln19 - 12366\\ln 2}{\\ln 2} = \\frac{1}{1848}\\Bigl(6137\\log_2 19 - 12366 \\Bigr) \\approx 7.4$$"
   ]
  },
  {
   "cell_type": "markdown",
   "metadata": {},
   "source": [
    "Т.е. в среднем понадобится 7.4 дней"
   ]
  },
  {
   "cell_type": "markdown",
   "metadata": {},
   "source": [
    "$$a_m = \\frac{\\ln B + m \\ln \\frac{1+u_U}{1+u_L}}{\\ln u_U - \\ln u_L} = \\frac{2\\ln 2 - \\ln 19 + m\\ln 2}{2\\ln 2} = 1 - \\frac{1}{2}\\log_2 19 + \\frac{m}{2}\\approx -1.124 + \\frac{m}{2}$$\n",
    "\n",
    "$$r_m = \\frac{\\ln A + m\\ln \\frac{1+u_U}{1+u_L}}{\\ln u_U - \\ln u_L} = \\frac{4\\ln 2 + m\\ln 2}{2\\ln 2} = 2+\\frac{m}{2}$$"
   ]
  },
  {
   "cell_type": "markdown",
   "metadata": {},
   "source": [
    "$$d_m = \\sum_{i=1}^m (1-X_{1i})X_{2i}$$\n",
    "\n",
    "- Если $d_m \\ge r_m$, то отвергаем $H_0$;\n",
    "\n",
    "- если $d_m \\le a_m$, то принимаем $H_0$;\n",
    "\n",
    "- иначе - продолжаем процесс"
   ]
  },
  {
   "cell_type": "code",
   "execution_count": 49,
   "metadata": {},
   "outputs": [],
   "source": [
    "import pandas as pd"
   ]
  },
  {
   "cell_type": "code",
   "execution_count": 68,
   "metadata": {
    "scrolled": false
   },
   "outputs": [
    {
     "data": {
      "text/html": [
       "<div>\n",
       "<style scoped>\n",
       "    .dataframe tbody tr th:only-of-type {\n",
       "        vertical-align: middle;\n",
       "    }\n",
       "\n",
       "    .dataframe tbody tr th {\n",
       "        vertical-align: top;\n",
       "    }\n",
       "\n",
       "    .dataframe thead th {\n",
       "        text-align: right;\n",
       "    }\n",
       "</style>\n",
       "<table border=\"1\" class=\"dataframe\">\n",
       "  <thead>\n",
       "    <tr style=\"text-align: right;\">\n",
       "      <th></th>\n",
       "      <th>with vaccine</th>\n",
       "      <th>without vaccine</th>\n",
       "    </tr>\n",
       "  </thead>\n",
       "  <tbody>\n",
       "    <tr>\n",
       "      <th>0</th>\n",
       "      <td>h</td>\n",
       "      <td>h</td>\n",
       "    </tr>\n",
       "    <tr>\n",
       "      <th>1</th>\n",
       "      <td>h</td>\n",
       "      <td>s</td>\n",
       "    </tr>\n",
       "    <tr>\n",
       "      <th>2</th>\n",
       "      <td>h</td>\n",
       "      <td>s</td>\n",
       "    </tr>\n",
       "    <tr>\n",
       "      <th>3</th>\n",
       "      <td>h</td>\n",
       "      <td>h</td>\n",
       "    </tr>\n",
       "    <tr>\n",
       "      <th>4</th>\n",
       "      <td>h</td>\n",
       "      <td>h</td>\n",
       "    </tr>\n",
       "    <tr>\n",
       "      <th>5</th>\n",
       "      <td>h</td>\n",
       "      <td>s</td>\n",
       "    </tr>\n",
       "    <tr>\n",
       "      <th>6</th>\n",
       "      <td>h</td>\n",
       "      <td>h</td>\n",
       "    </tr>\n",
       "    <tr>\n",
       "      <th>7</th>\n",
       "      <td>h</td>\n",
       "      <td>s</td>\n",
       "    </tr>\n",
       "    <tr>\n",
       "      <th>8</th>\n",
       "      <td>h</td>\n",
       "      <td>s</td>\n",
       "    </tr>\n",
       "    <tr>\n",
       "      <th>9</th>\n",
       "      <td>h</td>\n",
       "      <td>s</td>\n",
       "    </tr>\n",
       "    <tr>\n",
       "      <th>10</th>\n",
       "      <td>s</td>\n",
       "      <td>s</td>\n",
       "    </tr>\n",
       "    <tr>\n",
       "      <th>11</th>\n",
       "      <td>h</td>\n",
       "      <td>h</td>\n",
       "    </tr>\n",
       "    <tr>\n",
       "      <th>12</th>\n",
       "      <td>h</td>\n",
       "      <td>s</td>\n",
       "    </tr>\n",
       "    <tr>\n",
       "      <th>13</th>\n",
       "      <td>h</td>\n",
       "      <td>h</td>\n",
       "    </tr>\n",
       "    <tr>\n",
       "      <th>14</th>\n",
       "      <td>h</td>\n",
       "      <td>h</td>\n",
       "    </tr>\n",
       "    <tr>\n",
       "      <th>15</th>\n",
       "      <td>h</td>\n",
       "      <td>s</td>\n",
       "    </tr>\n",
       "    <tr>\n",
       "      <th>16</th>\n",
       "      <td>h</td>\n",
       "      <td>h</td>\n",
       "    </tr>\n",
       "    <tr>\n",
       "      <th>17</th>\n",
       "      <td>s</td>\n",
       "      <td>h</td>\n",
       "    </tr>\n",
       "    <tr>\n",
       "      <th>18</th>\n",
       "      <td>h</td>\n",
       "      <td>s</td>\n",
       "    </tr>\n",
       "    <tr>\n",
       "      <th>19</th>\n",
       "      <td>h</td>\n",
       "      <td>h</td>\n",
       "    </tr>\n",
       "    <tr>\n",
       "      <th>20</th>\n",
       "      <td>h</td>\n",
       "      <td>s</td>\n",
       "    </tr>\n",
       "    <tr>\n",
       "      <th>21</th>\n",
       "      <td>h</td>\n",
       "      <td>h</td>\n",
       "    </tr>\n",
       "    <tr>\n",
       "      <th>22</th>\n",
       "      <td>h</td>\n",
       "      <td>h</td>\n",
       "    </tr>\n",
       "    <tr>\n",
       "      <th>23</th>\n",
       "      <td>h</td>\n",
       "      <td>h</td>\n",
       "    </tr>\n",
       "    <tr>\n",
       "      <th>24</th>\n",
       "      <td>s</td>\n",
       "      <td>s</td>\n",
       "    </tr>\n",
       "    <tr>\n",
       "      <th>25</th>\n",
       "      <td>h</td>\n",
       "      <td>s</td>\n",
       "    </tr>\n",
       "    <tr>\n",
       "      <th>26</th>\n",
       "      <td>s</td>\n",
       "      <td>s</td>\n",
       "    </tr>\n",
       "    <tr>\n",
       "      <th>27</th>\n",
       "      <td>h</td>\n",
       "      <td>s</td>\n",
       "    </tr>\n",
       "    <tr>\n",
       "      <th>28</th>\n",
       "      <td>h</td>\n",
       "      <td>h</td>\n",
       "    </tr>\n",
       "    <tr>\n",
       "      <th>29</th>\n",
       "      <td>s</td>\n",
       "      <td>s</td>\n",
       "    </tr>\n",
       "  </tbody>\n",
       "</table>\n",
       "</div>"
      ],
      "text/plain": [
       "   with vaccine without vaccine\n",
       "0             h               h\n",
       "1             h               s\n",
       "2             h               s\n",
       "3             h               h\n",
       "4             h               h\n",
       "5             h               s\n",
       "6             h               h\n",
       "7             h               s\n",
       "8             h               s\n",
       "9             h               s\n",
       "10            s               s\n",
       "11            h               h\n",
       "12            h               s\n",
       "13            h               h\n",
       "14            h               h\n",
       "15            h               s\n",
       "16            h               h\n",
       "17            s               h\n",
       "18            h               s\n",
       "19            h               h\n",
       "20            h               s\n",
       "21            h               h\n",
       "22            h               h\n",
       "23            h               h\n",
       "24            s               s\n",
       "25            h               s\n",
       "26            s               s\n",
       "27            h               s\n",
       "28            h               h\n",
       "29            s               s"
      ]
     },
     "execution_count": 68,
     "metadata": {},
     "output_type": "execute_result"
    }
   ],
   "source": [
    "data = pd.read_csv(\"2.1.csv\")\n",
    "data"
   ]
  },
  {
   "cell_type": "markdown",
   "metadata": {},
   "source": [
    "$$h = 0, s = 1$$"
   ]
  },
  {
   "cell_type": "markdown",
   "metadata": {},
   "source": [
    "Будем пропускать те дни, когда нет разницы"
   ]
  },
  {
   "cell_type": "markdown",
   "metadata": {},
   "source": [
    "$$d_1 = 1,~~a_1 = -0.624,~~r_1 = 2.5$$"
   ]
  },
  {
   "cell_type": "markdown",
   "metadata": {},
   "source": [
    "$$d_2 = 2,~~a_2 = -0.124,~~r_2 = 3$$"
   ]
  },
  {
   "cell_type": "markdown",
   "metadata": {},
   "source": [
    "$$d_3 = 3,~~a_3 = 0.376,~~r_3 = 3.5$$"
   ]
  },
  {
   "cell_type": "markdown",
   "metadata": {},
   "source": [
    "$$d_4 = 4,~~a_4 = 0.876,~~r_4 = 4$$"
   ]
  },
  {
   "cell_type": "markdown",
   "metadata": {},
   "source": [
    "Четвертое несовпадение состоялось в 8 день."
   ]
  },
  {
   "cell_type": "markdown",
   "metadata": {},
   "source": [
    "# Вывод:\n",
    "Таким образом, удалось за восемь дней испытаний показать, что вакцина действует. Это согласуется со прогнозом $\\mathbb E_u(n) = 7.4$."
   ]
  }
 ],
 "metadata": {
  "kernelspec": {
   "display_name": "Python 3",
   "language": "python",
   "name": "python3"
  },
  "language_info": {
   "codemirror_mode": {
    "name": "ipython",
    "version": 3
   },
   "file_extension": ".py",
   "mimetype": "text/x-python",
   "name": "python",
   "nbconvert_exporter": "python",
   "pygments_lexer": "ipython3",
   "version": "3.7.3"
  }
 },
 "nbformat": 4,
 "nbformat_minor": 2
}
