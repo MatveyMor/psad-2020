{
 "cells": [
  {
   "cell_type": "code",
   "execution_count": 1,
   "metadata": {},
   "outputs": [],
   "source": [
    "import pandas as pd\n",
    "import numpy as np\n",
    "import networkx as nx\n",
    "import matplotlib.pylab as plt\n",
    "%matplotlib inline"
   ]
  },
  {
   "cell_type": "code",
   "execution_count": 2,
   "metadata": {},
   "outputs": [],
   "source": [
    "data = pd.read_csv('lenta-ru-news.csv', encoding='cp1251')"
   ]
  },
  {
   "cell_type": "code",
   "execution_count": 3,
   "metadata": {},
   "outputs": [
    {
     "data": {
      "text/html": [
       "<div>\n",
       "<style scoped>\n",
       "    .dataframe tbody tr th:only-of-type {\n",
       "        vertical-align: middle;\n",
       "    }\n",
       "\n",
       "    .dataframe tbody tr th {\n",
       "        vertical-align: top;\n",
       "    }\n",
       "\n",
       "    .dataframe thead th {\n",
       "        text-align: right;\n",
       "    }\n",
       "</style>\n",
       "<table border=\"1\" class=\"dataframe\">\n",
       "  <thead>\n",
       "    <tr style=\"text-align: right;\">\n",
       "      <th></th>\n",
       "      <th>url</th>\n",
       "      <th>title</th>\n",
       "      <th>text</th>\n",
       "      <th>topic</th>\n",
       "      <th>tags</th>\n",
       "    </tr>\n",
       "  </thead>\n",
       "  <tbody>\n",
       "    <tr>\n",
       "      <th>0</th>\n",
       "      <td>https://lenta.ru/news/2019/04/30/telega/</td>\n",
       "      <td>«Сталингулаг» верифицировали в Telegram</td>\n",
       "      <td>Telegram-канал «Сталингулаг» сообщил, что созд...</td>\n",
       "      <td>NaN</td>\n",
       "      <td>Coцсети</td>\n",
       "    </tr>\n",
       "    <tr>\n",
       "      <th>1</th>\n",
       "      <td>https://lenta.ru/news/2019/05/01/habib_papa/</td>\n",
       "      <td>Отец Нурмагомедова рассказал о «допинге» сына</td>\n",
       "      <td>Тренер и отец бойца смешанного стиля (ММА) Хаб...</td>\n",
       "      <td>NaN</td>\n",
       "      <td>Бокс и ММА</td>\n",
       "    </tr>\n",
       "    <tr>\n",
       "      <th>2</th>\n",
       "      <td>https://lenta.ru/news/2019/05/01/russian_austria/</td>\n",
       "      <td>Президент Австрии рассказал о русских корнях</td>\n",
       "      <td>Президент Австрии Александер ван дер Беллен пр...</td>\n",
       "      <td>NaN</td>\n",
       "      <td>Политика</td>\n",
       "    </tr>\n",
       "    <tr>\n",
       "      <th>3</th>\n",
       "      <td>https://lenta.ru/news/2019/05/01/hamon/</td>\n",
       "      <td>Покусившейся на хамон мясной компании объявили...</td>\n",
       "      <td>Пользователи социальных сетей решили объявить ...</td>\n",
       "      <td>NaN</td>\n",
       "      <td>Coцсети</td>\n",
       "    </tr>\n",
       "    <tr>\n",
       "      <th>4</th>\n",
       "      <td>https://lenta.ru/news/2019/05/01/kurs/</td>\n",
       "      <td>Рассчитан курс рубля на лето</td>\n",
       "      <td>Рубль может ослабнуть к периоду летних отпуско...</td>\n",
       "      <td>NaN</td>\n",
       "      <td>Деньги</td>\n",
       "    </tr>\n",
       "    <tr>\n",
       "      <th>...</th>\n",
       "      <td>...</td>\n",
       "      <td>...</td>\n",
       "      <td>...</td>\n",
       "      <td>...</td>\n",
       "      <td>...</td>\n",
       "    </tr>\n",
       "    <tr>\n",
       "      <th>18306</th>\n",
       "      <td>https://lenta.ru/news/2019/12/30/trump/</td>\n",
       "      <td>Публикация об осведомителе по делу об импичмен...</td>\n",
       "      <td>Пост президента США Дональда Трампа с именем п...</td>\n",
       "      <td>NaN</td>\n",
       "      <td>Coцсети</td>\n",
       "    </tr>\n",
       "    <tr>\n",
       "      <th>18307</th>\n",
       "      <td>https://lenta.ru/news/2019/12/30/baturina/</td>\n",
       "      <td>Самую богатую женщину России потеряли</td>\n",
       "      <td>Дело о клевете в отношении вдовы бывшего мэра ...</td>\n",
       "      <td>NaN</td>\n",
       "      <td>Бизнес</td>\n",
       "    </tr>\n",
       "    <tr>\n",
       "      <th>18308</th>\n",
       "      <td>https://lenta.ru/news/2019/12/30/burning/</td>\n",
       "      <td>Авиаудар США по Ираку сняли на видео</td>\n",
       "      <td>Видео авиаудара американских ВВС по позициям г...</td>\n",
       "      <td>NaN</td>\n",
       "      <td>Конфликты</td>\n",
       "    </tr>\n",
       "    <tr>\n",
       "      <th>18309</th>\n",
       "      <td>https://lenta.ru/news/2019/12/30/podval/</td>\n",
       "      <td>Жители российского города пришли поесть в «Меч...</td>\n",
       "      <td>В одном из кафе Астрахани под названием «Мечта...</td>\n",
       "      <td>NaN</td>\n",
       "      <td>Общество</td>\n",
       "    </tr>\n",
       "    <tr>\n",
       "      <th>18310</th>\n",
       "      <td>https://lenta.ru/news/2019/12/30/stadium/</td>\n",
       "      <td>В Англии построят первый в мире деревянный ста...</td>\n",
       "      <td>В английском графстве Глостершир для футбольно...</td>\n",
       "      <td>NaN</td>\n",
       "      <td>Город</td>\n",
       "    </tr>\n",
       "  </tbody>\n",
       "</table>\n",
       "<p>18311 rows × 5 columns</p>\n",
       "</div>"
      ],
      "text/plain": [
       "                                                     url  \\\n",
       "0               https://lenta.ru/news/2019/04/30/telega/   \n",
       "1           https://lenta.ru/news/2019/05/01/habib_papa/   \n",
       "2      https://lenta.ru/news/2019/05/01/russian_austria/   \n",
       "3                https://lenta.ru/news/2019/05/01/hamon/   \n",
       "4                 https://lenta.ru/news/2019/05/01/kurs/   \n",
       "...                                                  ...   \n",
       "18306            https://lenta.ru/news/2019/12/30/trump/   \n",
       "18307         https://lenta.ru/news/2019/12/30/baturina/   \n",
       "18308          https://lenta.ru/news/2019/12/30/burning/   \n",
       "18309           https://lenta.ru/news/2019/12/30/podval/   \n",
       "18310          https://lenta.ru/news/2019/12/30/stadium/   \n",
       "\n",
       "                                                   title  \\\n",
       "0                «Сталингулаг» верифицировали в Telegram   \n",
       "1          Отец Нурмагомедова рассказал о «допинге» сына   \n",
       "2           Президент Австрии рассказал о русских корнях   \n",
       "3      Покусившейся на хамон мясной компании объявили...   \n",
       "4                           Рассчитан курс рубля на лето   \n",
       "...                                                  ...   \n",
       "18306  Публикация об осведомителе по делу об импичмен...   \n",
       "18307              Самую богатую женщину России потеряли   \n",
       "18308               Авиаудар США по Ираку сняли на видео   \n",
       "18309  Жители российского города пришли поесть в «Меч...   \n",
       "18310  В Англии построят первый в мире деревянный ста...   \n",
       "\n",
       "                                                    text  topic        tags  \n",
       "0      Telegram-канал «Сталингулаг» сообщил, что созд...    NaN     Coцсети  \n",
       "1      Тренер и отец бойца смешанного стиля (ММА) Хаб...    NaN  Бокс и ММА  \n",
       "2      Президент Австрии Александер ван дер Беллен пр...    NaN    Политика  \n",
       "3      Пользователи социальных сетей решили объявить ...    NaN     Coцсети  \n",
       "4      Рубль может ослабнуть к периоду летних отпуско...    NaN      Деньги  \n",
       "...                                                  ...    ...         ...  \n",
       "18306  Пост президента США Дональда Трампа с именем п...    NaN     Coцсети  \n",
       "18307  Дело о клевете в отношении вдовы бывшего мэра ...    NaN      Бизнес  \n",
       "18308  Видео авиаудара американских ВВС по позициям г...    NaN   Конфликты  \n",
       "18309  В одном из кафе Астрахани под названием «Мечта...    NaN    Общество  \n",
       "18310  В английском графстве Глостершир для футбольно...    NaN       Город  \n",
       "\n",
       "[18311 rows x 5 columns]"
      ]
     },
     "execution_count": 3,
     "metadata": {},
     "output_type": "execute_result"
    }
   ],
   "source": [
    "data"
   ]
  },
  {
   "cell_type": "code",
   "execution_count": 4,
   "metadata": {},
   "outputs": [],
   "source": [
    "with open('entities.txt', 'r', encoding='utf-8') as f:\n",
    "    entities = list(f.read().split('\\n'))"
   ]
  },
  {
   "cell_type": "markdown",
   "metadata": {},
   "source": [
    "Осуществляем препроцессинг текстов:"
   ]
  },
  {
   "cell_type": "code",
   "execution_count": 132,
   "metadata": {},
   "outputs": [],
   "source": [
    "from nltk.corpus import stopwords\n",
    "from pymystem3 import Mystem\n",
    "from string import punctuation\n",
    "\n",
    "mystem = Mystem() \n",
    "russian_stopwords = stopwords.words(\"russian\")"
   ]
  },
  {
   "cell_type": "code",
   "execution_count": 133,
   "metadata": {},
   "outputs": [],
   "source": [
    "def preprocess_text(text):\n",
    "    tokens = mystem.lemmatize(text.lower())\n",
    "    tokens = [token for token in tokens if token not in russian_stopwords\\\n",
    "              and token != \" \" \\\n",
    "              and token.strip() not in punctuation]\n",
    "    \n",
    "    text = \" \".join(tokens)\n",
    "    \n",
    "    return text"
   ]
  },
  {
   "cell_type": "code",
   "execution_count": 5,
   "metadata": {},
   "outputs": [],
   "source": [
    "rs = np.random.RandomState(42)\n",
    "\n",
    "i=0\n",
    "data_processed = []\n",
    "with open('preprocssed_data.txt', 'a') as g:\n",
    "    for news in data.sample(n=3000, random_state=36).to_numpy():\n",
    "        data_processed.append(preprocess_text(news[2])\n",
    "        \n",
    "data_processed = np.array(data_processed)"
   ]
  },
  {
   "cell_type": "markdown",
   "metadata": {},
   "source": [
    "Теперь можно построить граф связей упоминания наименований из списка entities. Вышло так, что циклов нет в графе, и удалять ничего не нужно."
   ]
  },
  {
   "cell_type": "code",
   "execution_count": 15,
   "metadata": {},
   "outputs": [
    {
     "name": "stderr",
     "output_type": "stream",
     "text": [
      "c:\\users\\adaln\\env\\lib\\site-packages\\ipykernel_launcher.py:8: FutureWarning: from_items is deprecated. Please use DataFrame.from_dict(dict(items), ...) instead. DataFrame.from_dict(OrderedDict(items)) may be used to preserve the key order.\n",
      "  \n"
     ]
    }
   ],
   "source": [
    "n = len(entities)\n",
    "entities_matrix = np.zeros((n, 3000))\n",
    "for i in range(n):\n",
    "    for j in range(len(data_processed)):\n",
    "        if entities[i] in data_processed[j]:\n",
    "            entities_matrix[i][j] = 1\n",
    "\n",
    "X = pd.DataFrame.from_items(zip(entities, entities_matrix))"
   ]
  },
  {
   "cell_type": "code",
   "execution_count": 25,
   "metadata": {},
   "outputs": [],
   "source": [
    "import networkx as nx\n",
    "from causality.inference.search import IC\n",
    "from causality.inference.independence_tests import MutualInformationTest\n",
    "\n",
    "variable_types = {x:'d' for x in entities}\n",
    "mi_test = MutualInformationTest([entities[0]],[entities[1]],\n",
    "                                [entities[2]], X, alpha=0.05, variable_types=variable_types)\n",
    "\n",
    "ic_algorithm = IC(MutualInformationTest, alpha=0.05)\n",
    "graph = ic_algorithm.search(X, variable_types)"
   ]
  },
  {
   "cell_type": "code",
   "execution_count": 65,
   "metadata": {},
   "outputs": [
    {
     "data": {
      "image/png": "[encoded data removed]",
      "text/plain": [
       "<Figure size 432x288 with 1 Axes>"
      ]
     },
     "metadata": {},
     "output_type": "display_data"
    }
   ],
   "source": [
    "nx.draw_networkx(graph)"
   ]
  },
  {
   "cell_type": "code",
   "execution_count": 37,
   "metadata": {},
   "outputs": [
    {
     "name": "stdout",
     "output_type": "stream",
     "text": [
      "('украина', 'киев', {'marked': False, 'arrows': ['украина', 'киев']})\n",
      "('украина', 'донбасс', {'marked': False, 'arrows': ['украина', 'украина']})\n",
      "('украина', 'европа', {'marked': False, 'arrows': ['украина', 'украина', 'украина', 'украина', 'украина', 'украина', 'европа', 'европа']})\n",
      "('украина', 'порошенко', {'marked': False, 'arrows': ['украина', 'украина', 'украина', 'порошенко']})\n",
      "('украина', 'зеленский', {'marked': False, 'arrows': ['украина', 'украина']})\n",
      "('украина', 'крым', {'marked': False, 'arrows': ['украина', 'украина', 'украина', 'украина', 'крым']})\n",
      "('украина', 'сирия', {'marked': False, 'arrows': ['украина', 'украина', 'сирия', 'сирия', 'сирия']})\n",
      "('сша', 'трамп', {'marked': False, 'arrows': ['сша', 'сша']})\n",
      "('сша', 'европа', {'marked': False, 'arrows': ['сша', 'сша', 'европа', 'европа', 'европа']})\n",
      "('сша', 'сирия', {'marked': False, 'arrows': ['сша', 'сша', 'сирия', 'сирия']})\n",
      "('россия', 'москва', {'marked': False, 'arrows': ['россия', 'россия', 'россия', 'россия', 'россия', 'москва', 'москва']})\n",
      "('россия', 'тасс', {'marked': False, 'arrows': ['россия', 'россия', 'россия', 'россия', 'россия', 'россия', 'россия']})\n",
      "('россия', 'европа', {'marked': False, 'arrows': ['россия', 'россия', 'россия', 'россия', 'россия', 'россия', 'россия', 'европа', 'европа']})\n",
      "('россия', 'путин', {'marked': False, 'arrows': ['россия', 'россия', 'россия', 'россия', 'россия', 'россия']})\n",
      "('россия', 'крым', {'marked': False, 'arrows': ['россия', 'россия', 'россия', 'россия', 'россия', 'россия', 'россия', 'крым']})\n",
      "('россия', 'сирия', {'marked': False, 'arrows': ['россия', 'россия', 'россия', 'россия', 'россия', 'россия', 'россия', 'сирия', 'сирия']})\n",
      "('россия', 'турция', {'marked': False, 'arrows': ['россия', 'россия', 'россия', 'россия', 'россия', 'россия', 'россия']})\n",
      "('россия', 'германия', {'marked': False, 'arrows': ['россия', 'россия', 'россия', 'россия', 'россия', 'россия', 'россия', 'германия']})\n",
      "('россия', 'петербург', {'marked': False, 'arrows': ['россия', 'россия', 'россия', 'россия', 'россия', 'россия', 'россия', 'петербург']})\n",
      "('москва', 'киев', {'marked': False, 'arrows': ['москва', 'москва', 'москва', 'киев', 'киев']})\n",
      "('москва', 'мвд', {'marked': False, 'arrows': ['москва', 'москва', 'москва', 'мвд']})\n",
      "('москва', 'петербург', {'marked': False, 'arrows': ['москва', 'москва', 'петербург']})\n",
      "('киев', 'донбасс', {'marked': False, 'arrows': ['киев']})\n",
      "('тасс', 'путин', {'marked': False, 'arrows': []})\n",
      "('трамп', 'мвд', {'marked': False, 'arrows': ['мвд']})\n",
      "('донбасс', 'германия', {'marked': False, 'arrows': ['германия', 'германия']})\n",
      "('европа', 'германия', {'marked': False, 'arrows': ['европа', 'германия']})\n",
      "('порошенко', 'великобритания', {'marked': False, 'arrows': ['порошенко']})\n",
      "('зеленский', 'петербург', {'marked': False, 'arrows': ['петербург', 'петербург']})\n",
      "('сирия', 'турция', {'marked': False, 'arrows': ['сирия']})\n"
     ]
    }
   ],
   "source": [
    "for e in graph.edges(data=True):\n",
    "    print(e)"
   ]
  },
  {
   "cell_type": "code",
   "execution_count": 44,
   "metadata": {},
   "outputs": [
    {
     "data": {
      "text/plain": [
       "{'украина': 7,\n",
       " 'сша': 3,\n",
       " 'россия': 9,\n",
       " 'москва': 4,\n",
       " 'киев': 3,\n",
       " 'тасс': 2,\n",
       " 'трамп': 2,\n",
       " 'риа': 0,\n",
       " 'донбасс': 3,\n",
       " 'европа': 4,\n",
       " 'порошенко': 2,\n",
       " 'зеленский': 2,\n",
       " 'путин': 2,\n",
       " 'крым': 2,\n",
       " 'мвд': 2,\n",
       " 'сирия': 4,\n",
       " 'турция': 2,\n",
       " 'германия': 3,\n",
       " 'петербург': 3,\n",
       " 'интерфакс': 0,\n",
       " 'великобритания': 1}"
      ]
     },
     "execution_count": 44,
     "metadata": {},
     "output_type": "execute_result"
    }
   ],
   "source": [
    "d = {i : 0 for i in entities}\n",
    "for e in graph.edges(data=True):\n",
    "    d[e[0]] += 1\n",
    "    d[e[1]] += 1\n",
    "d"
   ]
  },
  {
   "cell_type": "markdown",
   "metadata": {},
   "source": [
    "Получаем, что для данной случайной подвыборки центральная сущность - \"россия\"."
   ]
  },
  {
   "cell_type": "markdown",
   "metadata": {},
   "source": [
    "Оценим ACE при условия упоминания и не упоминания сущностей, от которых зависит центральная сущность. Для нашей подвыборки получаем максимальный ACE для сущности \"путин\", что вполне логично:"
   ]
  },
  {
   "cell_type": "code",
   "execution_count": 80,
   "metadata": {},
   "outputs": [
    {
     "name": "stdout",
     "output_type": "stream",
     "text": [
      "москва 0.21464700556741473\n",
      "тасс 0.22799448719252619\n",
      "европа 0.18191029331596065\n",
      "путин 0.4578094190677252\n",
      "крым 0.3408067515595565\n",
      "сирия 0.3123957381314742\n",
      "турция 0.3126789350448263\n",
      "германия 0.2987140780523676\n",
      "петербург 0.1956632275727953\n"
     ]
    }
   ],
   "source": [
    "for z in dependencies:\n",
    "    effect = CausalEffect(X, [z], ['россия'], \n",
    "                          variable_types={x:'u' for x in entities},\n",
    "                          admissable_set=[])\n",
    "\n",
    "    mention = pd.DataFrame({z: [1], 'россия': [1]})\n",
    "    no_mention = pd.DataFrame({z: [0], 'россия': [1]})\n",
    "\n",
    "    print(z, effect.pdf(mention) - effect.pdf(no_mention))"
   ]
  },
  {
   "cell_type": "markdown",
   "metadata": {},
   "source": [
    "Выпишем теперь оценки вероятностей упоминания центральной сущности при условии упоминания (и при отсутствии упоминания) сущностей, от которых она зависит:"
   ]
  },
  {
   "cell_type": "code",
   "execution_count": 81,
   "metadata": {},
   "outputs": [
    {
     "name": "stdout",
     "output_type": "stream",
     "text": [
      "Probability(москва): mention = 0.117, no mention = 0.34\n",
      "Probability(тасс): mention = 0.072, no mention = 0.386\n",
      "Probability(европа): mention = 0.041, no mention = 0.416\n",
      "Probability(путин): mention = 0.07, no mention = 0.387\n",
      "Probability(крым): mention = 0.03, no mention = 0.427\n",
      "Probability(сирия): mention = 0.02, no mention = 0.437\n",
      "Probability(турция): mention = 0.02, no mention = 0.438\n",
      "Probability(германия): mention = 0.031, no mention = 0.426\n",
      "Probability(петербург): mention = 0.032, no mention = 0.425\n"
     ]
    }
   ],
   "source": [
    "for z in dependencies:\n",
    "    p_mention = np.round(np.dot(X['россия'].values, X[z].values)/3000, 3)\n",
    "    p_no_mention = np.round(np.dot(X['россия'].values, 1 - X[z].values)/3000, 3)\n",
    "    print(\"Probability({name}): mention = {p1}, no mention = {p2}\".format(name=z, p1=p_mention, p2=p_no_mention))"
   ]
  },
  {
   "cell_type": "code",
   "execution_count": null,
   "metadata": {},
   "outputs": [],
   "source": []
  }
 ],
 "metadata": {
  "kernelspec": {
   "display_name": "Python 3",
   "language": "python",
   "name": "python3"
  },
  "language_info": {
   "codemirror_mode": {
    "name": "ipython",
    "version": 3
   },
   "file_extension": ".py",
   "mimetype": "text/x-python",
   "name": "python",
   "nbconvert_exporter": "python",
   "pygments_lexer": "ipython3",
   "version": "3.7.5"
  }
 },
 "nbformat": 4,
 "nbformat_minor": 2
}
