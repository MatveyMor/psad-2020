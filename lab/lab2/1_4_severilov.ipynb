{
 "cells": [
  {
   "cell_type": "markdown",
   "metadata": {},
   "source": [
    "## Задача 1.4\n",
    "[Выборка: новости Lenta.ru](https://github.com/yutkin/Lenta.Ru-News-Dataset)\n",
    "\n",
    "1. Взять случайную подвыборку новостей lenta.ru за 2019 год (не менее 3000)\n",
    "2. На основе подвыборки построить граф связей упоминания личностей, организаций и стран из [списка](entities.txt).\n",
    "3. В новостях выбрать сущность, зависящую от наибольшего количества других сущностей (далее будем называть ее центральной)\n",
    "4. посчитать ACE уопминания центральной сущности при упоминании (и отсутствии упоминания) сущностей, от которых она зависит\n",
    "5. сравнить результаты пункта 4 с оценками вероятностей упоминания центральной сущности при условии упоминания (и при отсутствии упоминания) сущностей, от которых она зависит\n",
    "\n",
    "**Рекомендации: (в случае использования пакета causality):**\n",
    "\n",
    "1. в качестве теста для проверки условной независимости использовать MutualInformationTest\n",
    "2. результаты будут сильно отличаться в зависимости от полученной случаной подвыборки. Фиксируйте seed.\n",
    "3. для учета разного написания сущности (число, род, падеж) используйте методы стеминга (nltk.stem или mystem):\n",
    "https://www.kaggle.com/alxmamaev/how-to-easy-preprocess-russian-text\n",
    "4. causality не умеет работать с циклами (но сам их производит). Циклы можно удалять (в этой лабе, в реальности нельзя)."
   ]
  },
  {
   "cell_type": "code",
   "execution_count": 1,
   "metadata": {},
   "outputs": [],
   "source": [
    "import numpy as np\n",
    "import pandas as pd\n",
    "import seaborn as sns\n",
    "\n",
    "import networkx as nx\n",
    "import matplotlib as mpl\n",
    "import matplotlib.pylab as plt\n",
    "from matplotlib import gridspec\n",
    "%matplotlib inline\n",
    "mpl.style.use('seaborn')\n",
    "\n",
    "from statsmodels.regression.linear_model import OLS\n",
    "\n",
    "from causalgraphicalmodels import CausalGraphicalModel\n",
    "from causality.inference.search import IC\n",
    "from causality.inference.independence_tests import MutualInformationTest"
   ]
  },
  {
   "cell_type": "code",
   "execution_count": 2,
   "metadata": {},
   "outputs": [],
   "source": [
    "datapath = './lenta-ru-news.csv'\n",
    "data = pd.read_csv(datapath)"
   ]
  },
  {
   "cell_type": "code",
   "execution_count": null,
   "metadata": {},
   "outputs": [],
   "source": []
  }
 ],
 "metadata": {
  "kernelspec": {
   "display_name": "Python 3",
   "language": "python",
   "name": "python3"
  },
  "language_info": {
   "codemirror_mode": {
    "name": "ipython",
    "version": 3
   },
   "file_extension": ".py",
   "mimetype": "text/x-python",
   "name": "python",
   "nbconvert_exporter": "python",
   "pygments_lexer": "ipython3",
   "version": "3.7.2"
  }
 },
 "nbformat": 4,
 "nbformat_minor": 2
}
