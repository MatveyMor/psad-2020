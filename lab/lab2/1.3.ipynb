{
 "cells": [
  {
   "cell_type": "markdown",
   "metadata": {},
   "source": [
    "# Задача 1.3\n",
    "## Агафонов Артём"
   ]
  },
  {
   "cell_type": "code",
   "execution_count": 1,
   "metadata": {},
   "outputs": [],
   "source": [
    "import imageio as io\n",
    "import numpy as np\n",
    "import sys\n",
    "from skimage.io import imread_collection\n",
    "from scipy.stats import wilcoxon, median_test\n",
    "from statsmodels.stats.descriptivestats import sign_test\n",
    "from statsmodels.regression.linear_model import OLS\n",
    "from statsmodels.tsa.seasonal import seasonal_decompose\n",
    "from statsmodels.sandbox.stats.multicomp import multipletests\n",
    "from matplotlib import pyplot as plt\n",
    "%matplotlib inline"
   ]
  },
  {
   "cell_type": "markdown",
   "metadata": {},
   "source": [
    "### Чтение данных "
   ]
  },
  {
   "cell_type": "code",
   "execution_count": 2,
   "metadata": {},
   "outputs": [
    {
     "data": {
      "text/plain": [
       "['images_full/images/modified_4249533_problem.bmp',\n",
       " 'images_full/images/modified_100620761_woman.bmp',\n",
       " 'images_full/images/modified_186534605_point.bmp',\n",
       " 'images_full/images/modified_302888989_eye.bmp',\n",
       " 'images_full/images/modified_406601227_thing.bmp',\n",
       " 'images_full/images/modified_519296555_company.bmp',\n",
       " 'images_full/images/modified_607193890_man.bmp',\n",
       " 'images_full/images/modified_712292961_work.bmp',\n",
       " 'images_full/images/modified_819325720_week.bmp',\n",
       " 'images_full/images/modified_900460693_point.bmp',\n",
       " 'images_full/images/original_4249533.bmp',\n",
       " 'images_full/images/original_100620761.bmp',\n",
       " 'images_full/images/original_186534605.bmp',\n",
       " 'images_full/images/original_302888989.bmp',\n",
       " 'images_full/images/original_406601227.bmp',\n",
       " 'images_full/images/original_519296555.bmp',\n",
       " 'images_full/images/original_607193890.bmp',\n",
       " 'images_full/images/original_712292961.bmp',\n",
       " 'images_full/images/original_819325720.bmp',\n",
       " 'images_full/images/original_900460693.bmp']"
      ]
     },
     "execution_count": 2,
     "metadata": {},
     "output_type": "execute_result"
    }
   ],
   "source": [
    "path = 'images_full/images/*.bmp'\n",
    "all_pics = imread_collection(path)\n",
    "all_pics.files[::100]"
   ]
  },
  {
   "cell_type": "code",
   "execution_count": 3,
   "metadata": {},
   "outputs": [
    {
     "data": {
      "text/plain": [
       "2000"
      ]
     },
     "execution_count": 3,
     "metadata": {},
     "output_type": "execute_result"
    }
   ],
   "source": [
    "len(all_pics)"
   ]
  },
  {
   "cell_type": "code",
   "execution_count": 4,
   "metadata": {},
   "outputs": [
    {
     "data": {
      "text/plain": [
       "'images_full/images/modified_4249533_problem.bmp'"
      ]
     },
     "execution_count": 4,
     "metadata": {},
     "output_type": "execute_result"
    }
   ],
   "source": [
    "all_pics.files[0]"
   ]
  },
  {
   "cell_type": "code",
   "execution_count": 5,
   "metadata": {},
   "outputs": [
    {
     "data": {
      "text/plain": [
       "'images_full/images/original_4249533.bmp'"
      ]
     },
     "execution_count": 5,
     "metadata": {},
     "output_type": "execute_result"
    }
   ],
   "source": [
    "all_pics.files[1000]"
   ]
  },
  {
   "cell_type": "markdown",
   "metadata": {},
   "source": [
    "Посмотрим на среднию разницу между значениями в пикселях."
   ]
  },
  {
   "cell_type": "code",
   "execution_count": 6,
   "metadata": {},
   "outputs": [
    {
     "name": "stdout",
     "output_type": "stream",
     "text": [
      "i = 0 diff = -0.02099609375\n",
      "i = 50 diff = 0.024658203125\n",
      "i = 100 diff = 0.0146484375\n",
      "i = 150 diff = 0.01904296875\n",
      "i = 200 diff = 0.015869140625\n",
      "i = 250 diff = -0.045654296875\n",
      "i = 300 diff = -0.003662109375\n",
      "i = 350 diff = 0.04443359375\n",
      "i = 400 diff = 0.017333984375\n",
      "i = 450 diff = -0.017578125\n",
      "i = 500 diff = 0.0380859375\n",
      "i = 550 diff = -0.016845703125\n",
      "i = 600 diff = -0.01904296875\n",
      "i = 650 diff = 0.008544921875\n",
      "i = 700 diff = 0.018798828125\n",
      "i = 750 diff = 0.025390625\n",
      "i = 800 diff = -0.0439453125\n",
      "i = 850 diff = -0.00341796875\n",
      "i = 900 diff = 0.022705078125\n",
      "i = 950 diff = 0.0302734375\n"
     ]
    }
   ],
   "source": [
    "for i in range(1000):\n",
    "    orig_path = all_pics.files[i]\n",
    "    modif_path = all_pics.files[1000 + i]\n",
    "    orig = np.asarray(io.imread(orig_path), dtype = int)\n",
    "    modif = np.asarray(io.imread(modif_path), dtype = int)\n",
    "    diff = np.mean(orig - modif)\n",
    "    if (i % 50 == 0):\n",
    "        print('i = {} diff = {}'.format(i, diff))"
   ]
  },
  {
   "cell_type": "code",
   "execution_count": 7,
   "metadata": {},
   "outputs": [
    {
     "data": {
      "text/plain": [
       "array([[-1,  1,  0, ...,  1, -1, -2],\n",
       "       [ 1,  0,  0, ...,  0, -1,  1],\n",
       "       [-1,  0,  2, ..., -1, -1, -1],\n",
       "       ...,\n",
       "       [ 0,  0,  0, ...,  2,  0,  1],\n",
       "       [ 1,  0,  0, ...,  1, -1,  1],\n",
       "       [-1,  1,  1, ...,  0,  0,  0]])"
      ]
     },
     "execution_count": 7,
     "metadata": {},
     "output_type": "execute_result"
    }
   ],
   "source": [
    "modif - orig"
   ]
  },
  {
   "cell_type": "markdown",
   "metadata": {},
   "source": [
    "Найдем пары фотографий с достаточно большим значением среднего отклонения по пикселям от $0$. Это кандидаты на наличие сообщения в их тексте. Малое отклонение говорит о случайности."
   ]
  },
  {
   "cell_type": "code",
   "execution_count": 8,
   "metadata": {},
   "outputs": [
    {
     "name": "stdout",
     "output_type": "stream",
     "text": [
      "i = 141 diff = 45.13427734375\n",
      "i = 178 diff = 21.9169921875\n",
      "i = 182 diff = 39.909423828125\n",
      "i = 538 diff = 20.4619140625\n",
      "i = 555 diff = 42.250244140625\n",
      "i = 599 diff = 21.902099609375\n",
      "i = 829 diff = 20.31787109375\n",
      "i = 847 diff = 35.051025390625\n",
      "i = 861 diff = 22.017578125\n",
      "i = 910 diff = 18.077880859375\n"
     ]
    }
   ],
   "source": [
    "for i in range(1000):\n",
    "    orig_path = all_pics.files[i]\n",
    "    modif_path = all_pics.files[1000 + i]\n",
    "    orig = np.asarray(io.imread(orig_path), dtype = int)\n",
    "    modif = np.asarray(io.imread(modif_path), dtype = int)\n",
    "    diff = np.mean(orig - modif)\n",
    "    if abs(diff) > 0.5:\n",
    "        print('i = {} diff = {}'.format(i, diff))"
   ]
  },
  {
   "cell_type": "markdown",
   "metadata": {},
   "source": [
    "Получилость так, что их ровно $1$%."
   ]
  },
  {
   "cell_type": "markdown",
   "metadata": {},
   "source": [
    "### Попробуем отобрать картинки с сообщениями с помощью статистических тестов: уилкокосона и теста знаков."
   ]
  },
  {
   "cell_type": "code",
   "execution_count": 9,
   "metadata": {},
   "outputs": [
    {
     "name": "stdout",
     "output_type": "stream",
     "text": [
      "i = 141 p-value = 0.000000 mean_diff = 45.13427734375\n",
      "i = 178 p-value = 0.000000 mean_diff = 21.9169921875\n",
      "i = 182 p-value = 0.000000 mean_diff = 39.909423828125\n",
      "i = 394 p-value = 0.000647 mean_diff = -0.076416015625\n",
      "i = 492 p-value = 0.009784 mean_diff = 0.05126953125\n",
      "i = 519 p-value = 0.006879 mean_diff = 0.061279296875\n",
      "i = 538 p-value = 0.000000 mean_diff = 20.4619140625\n",
      "i = 555 p-value = 0.000000 mean_diff = 42.250244140625\n",
      "i = 590 p-value = 0.000125 mean_diff = -0.07861328125\n",
      "i = 599 p-value = 0.000000 mean_diff = 21.902099609375\n",
      "i = 612 p-value = 0.000453 mean_diff = 0.075439453125\n",
      "i = 829 p-value = 0.000000 mean_diff = 20.31787109375\n",
      "i = 842 p-value = 0.007405 mean_diff = 0.0517578125\n",
      "i = 847 p-value = 0.000000 mean_diff = 35.051025390625\n",
      "i = 861 p-value = 0.000000 mean_diff = 22.017578125\n",
      "i = 910 p-value = 0.000000 mean_diff = 18.077880859375\n",
      "i = 953 p-value = 0.002218 mean_diff = 0.064697265625\n",
      "i = 997 p-value = 0.005856 mean_diff = 0.064208984375\n"
     ]
    }
   ],
   "source": [
    "for i in range(1000):\n",
    "    orig_path = all_pics.files[i]\n",
    "    modif_path = all_pics.files[1000 + i]\n",
    "    orig = np.asarray(io.imread(orig_path), dtype = int)\n",
    "    modif = np.asarray(io.imread(modif_path), dtype = int)\n",
    "    p_val = wilcoxon(orig.flatten(), modif.flatten())[1]\n",
    "    if (p_val < 0.01):\n",
    "        print('i = {} p-value = {:.6f} mean_diff = {}'.format(i, p_val, np.mean(orig.flatten() -  modif.flatten())))"
   ]
  },
  {
   "cell_type": "code",
   "execution_count": 10,
   "metadata": {},
   "outputs": [
    {
     "name": "stdout",
     "output_type": "stream",
     "text": [
      "i = 141 p-value = 0.000000 mean_diff = 45.13427734375\n",
      "i = 172 p-value = 0.003631 mean_diff = -0.050048828125\n",
      "i = 178 p-value = 0.000000 mean_diff = 21.9169921875\n",
      "i = 182 p-value = 0.000000 mean_diff = 39.909423828125\n",
      "i = 394 p-value = 0.002909 mean_diff = -0.076416015625\n",
      "i = 519 p-value = 0.007817 mean_diff = 0.061279296875\n",
      "i = 538 p-value = 0.000000 mean_diff = 20.4619140625\n",
      "i = 555 p-value = 0.000000 mean_diff = 42.250244140625\n",
      "i = 590 p-value = 0.000448 mean_diff = -0.07861328125\n",
      "i = 599 p-value = 0.000000 mean_diff = 21.902099609375\n",
      "i = 612 p-value = 0.000390 mean_diff = 0.075439453125\n",
      "i = 829 p-value = 0.000000 mean_diff = 20.31787109375\n",
      "i = 840 p-value = 0.002280 mean_diff = -0.03857421875\n",
      "i = 847 p-value = 0.000000 mean_diff = 35.051025390625\n",
      "i = 861 p-value = 0.000000 mean_diff = 22.017578125\n",
      "i = 910 p-value = 0.000000 mean_diff = 18.077880859375\n",
      "i = 953 p-value = 0.004591 mean_diff = 0.064697265625\n"
     ]
    }
   ],
   "source": [
    "for i in range(1000):\n",
    "    orig_path = all_pics.files[i]\n",
    "    modif_path = all_pics.files[1000 + i]\n",
    "    orig = np.asarray(io.imread(orig_path), dtype = int)\n",
    "    modif = np.asarray(io.imread(modif_path), dtype = int)\n",
    "    p_val = sign_test(orig.flatten() - modif.flatten())[1]\n",
    "    if (p_val < 0.01):\n",
    "        print('i = {} p-value = {:.6f} mean_diff = {}'.format(i, p_val, np.mean(orig.flatten() -  modif.flatten())))"
   ]
  },
  {
   "cell_type": "markdown",
   "metadata": {},
   "source": [
    " Видим, что оба теста оставили некоторые значения с достаточно малой разницей (и относительно большим p-value) по сравнению с остальными. Действительно, некоторые значения отличаются на целых $3$ порядка ($22.017578125 >> 0.075439453125$).\n",
    " \n",
    " Такие картинки лучше откинуть, ведь далее планируется использование МНК для нахождения коэффициента альфа:  \n",
    " $$modified.flatten() = original.flatten() + \\alpha\\cdot message + noise.$$\n",
    " А если в некоторых картинках не будт секретного послания, то это может сильно повлиять на качество МНК.\n",
    " \n",
    " Заметим, что нам лучше отобрать малое число примеров в которых мы будем точно уверены, нежели взять большую выборку но с каким-то процентом картинок без скрытых сообщений. Но при этом и число отобранных изображений не должно быть слишком маленьким, ведь по условию шум есть во всех модифицированых изображениях.\n",
    " \n",
    "Сделаем поправку Холма на множественую проверку гипотез."
   ]
  },
  {
   "cell_type": "code",
   "execution_count": 11,
   "metadata": {},
   "outputs": [],
   "source": [
    "all_ps = []\n",
    "for i in range(1000):\n",
    "    orig_path = all_pics.files[i]\n",
    "    modif_path = all_pics.files[1000 + i]\n",
    "    orig = np.asarray(io.imread(orig_path), dtype = int)\n",
    "    modif = np.asarray(io.imread(modif_path), dtype = int)\n",
    "    p_val = sign_test(orig.flatten() - modif.flatten())[1]\n",
    "    all_ps.append(p_val)"
   ]
  },
  {
   "cell_type": "code",
   "execution_count": 12,
   "metadata": {},
   "outputs": [],
   "source": [
    "corrected  = multipletests(all_ps, alpha = 0.05, method = 'holm')"
   ]
  },
  {
   "cell_type": "code",
   "execution_count": 13,
   "metadata": {},
   "outputs": [
    {
     "name": "stdout",
     "output_type": "stream",
     "text": [
      "[141, 178, 182, 538, 555, 599, 829, 847, 861, 910]\n"
     ]
    }
   ],
   "source": [
    "small_ps = [i for i, x in enumerate(corrected[0]) if x]\n",
    "print(small_ps)"
   ]
  },
  {
   "cell_type": "markdown",
   "metadata": {},
   "source": [
    "Как раз получился $1$%."
   ]
  },
  {
   "cell_type": "markdown",
   "metadata": {},
   "source": [
    "### Подготовим данные для МНК"
   ]
  },
  {
   "cell_type": "markdown",
   "metadata": {},
   "source": [
    "Распарсим названия файлов, чтобы получить зашифрованные слова, на которых будет потом обучать МНК."
   ]
  },
  {
   "cell_type": "code",
   "execution_count": 14,
   "metadata": {},
   "outputs": [
    {
     "name": "stdout",
     "output_type": "stream",
     "text": [
      "group\n",
      "life\n",
      "part\n",
      "fact\n",
      "person\n",
      "life\n",
      "fact\n",
      "number\n",
      "life\n",
      "hand\n"
     ]
    }
   ],
   "source": [
    "words = []\n",
    "for i in small_ps:\n",
    "    tmp = all_pics.files[i+1000].replace('images_full/images/original_','')\n",
    "    tmp = tmp.replace('.bmp', '')\n",
    "    tmp2 = all_pics.files[i].replace('images_full/images/modified_','')\n",
    "    tmp2 = tmp2.replace('.bmp', '')\n",
    "    tmp2 = tmp2.replace(tmp, '')\n",
    "    tmp2 = tmp2.replace('_', '')\n",
    "    words.append(tmp2)\n",
    "    print(tmp2)"
   ]
  },
  {
   "cell_type": "markdown",
   "metadata": {},
   "source": [
    "Закодируем слова и переодично продлим до длины картинки"
   ]
  },
  {
   "cell_type": "code",
   "execution_count": 15,
   "metadata": {},
   "outputs": [],
   "source": [
    "size = np.asarray(io.imread(all_pics.files[0]), dtype = int).flatten().shape[0]\n",
    "messages = []\n",
    "for w in  words:\n",
    "    length = len(w)\n",
    "    w = list(w)\n",
    "    m = []\n",
    "    i = 0\n",
    "    while(i < size):\n",
    "        m.append(ord(w[i%length]) - 97)\n",
    "        i += 1\n",
    "    messages.append(m)"
   ]
  },
  {
   "cell_type": "markdown",
   "metadata": {},
   "source": [
    "Создадим два больших вектора: первый состоит из законкаченных периодично продленных кодов слов, второй из законкаченных попиксильных разниц."
   ]
  },
  {
   "cell_type": "code",
   "execution_count": 16,
   "metadata": {},
   "outputs": [
    {
     "name": "stdout",
     "output_type": "stream",
     "text": [
      "LEN OF CONCATED MESSGAGES = 40960 \n",
      "LEN OF CONCATED IMGS DIFFNS = 40960 \n"
     ]
    }
   ],
   "source": [
    "all_ms = []\n",
    "all_diffs = []\n",
    "for (m, i) in zip(messages, small_ps):\n",
    "    all_ms += m\n",
    "    \n",
    "    orig_path = all_pics.files[i]\n",
    "    modif_path = all_pics.files[1000 + i]\n",
    "    orig = np.asarray(io.imread(orig_path), dtype = int)\n",
    "    modif = np.asarray(io.imread(modif_path), dtype = int)\n",
    "    all_diffs += list(orig.flatten() - modif.flatten())\n",
    "print('LEN OF CONCATED MESSGAGES = {} '.format(len(all_ms)))\n",
    "print('LEN OF CONCATED IMGS DIFFNS = {} '.format(len(all_diffs)))"
   ]
  },
  {
   "cell_type": "markdown",
   "metadata": {},
   "source": [
    "### Применим МНК"
   ]
  },
  {
   "cell_type": "code",
   "execution_count": 17,
   "metadata": {},
   "outputs": [],
   "source": [
    "all_diffs = np.asarray(all_diffs)\n",
    "all_ms = np.asarray(all_ms)"
   ]
  },
  {
   "cell_type": "code",
   "execution_count": 18,
   "metadata": {},
   "outputs": [
    {
     "data": {
      "text/plain": [
       "array([ 6, 17, 14, ...,  0, 13,  3])"
      ]
     },
     "execution_count": 18,
     "metadata": {},
     "output_type": "execute_result"
    }
   ],
   "source": [
    "all_ms"
   ]
  },
  {
   "cell_type": "code",
   "execution_count": 19,
   "metadata": {},
   "outputs": [],
   "source": [
    "simple_model = OLS(all_diffs, all_ms).fit()"
   ]
  },
  {
   "cell_type": "code",
   "execution_count": 20,
   "metadata": {},
   "outputs": [
    {
     "data": {
      "text/html": [
       "<table class=\"simpletable\">\n",
       "<caption>OLS Regression Results</caption>\n",
       "<tr>\n",
       "  <th>Dep. Variable:</th>            <td>y</td>        <th>  R-squared (uncentered):</th>       <td>   0.993</td>  \n",
       "</tr>\n",
       "<tr>\n",
       "  <th>Model:</th>                   <td>OLS</td>       <th>  Adj. R-squared (uncentered):</th>  <td>   0.993</td>  \n",
       "</tr>\n",
       "<tr>\n",
       "  <th>Method:</th>             <td>Least Squares</td>  <th>  F-statistic:       </th>           <td>5.993e+06</td> \n",
       "</tr>\n",
       "<tr>\n",
       "  <th>Date:</th>             <td>Fri, 15 May 2020</td> <th>  Prob (F-statistic):</th>            <td>  0.00</td>   \n",
       "</tr>\n",
       "<tr>\n",
       "  <th>Time:</th>                 <td>23:13:50</td>     <th>  Log-Likelihood:    </th>          <td>-1.0155e+05</td>\n",
       "</tr>\n",
       "<tr>\n",
       "  <th>No. Observations:</th>      <td> 40960</td>      <th>  AIC:               </th>           <td>2.031e+05</td> \n",
       "</tr>\n",
       "<tr>\n",
       "  <th>Df Residuals:</th>          <td> 40959</td>      <th>  BIC:               </th>           <td>2.031e+05</td> \n",
       "</tr>\n",
       "<tr>\n",
       "  <th>Df Model:</th>              <td>     1</td>      <th>                     </th>               <td> </td>     \n",
       "</tr>\n",
       "<tr>\n",
       "  <th>Covariance Type:</th>      <td>nonrobust</td>    <th>                     </th>               <td> </td>     \n",
       "</tr>\n",
       "</table>\n",
       "<table class=\"simpletable\">\n",
       "<tr>\n",
       "   <td></td>     <th>coef</th>     <th>std err</th>      <th>t</th>      <th>P>|t|</th>  <th>[0.025</th>    <th>0.975]</th>  \n",
       "</tr>\n",
       "<tr>\n",
       "  <th>x1</th> <td>    3.1338</td> <td>    0.001</td> <td> 2447.966</td> <td> 0.000</td> <td>    3.131</td> <td>    3.136</td>\n",
       "</tr>\n",
       "</table>\n",
       "<table class=\"simpletable\">\n",
       "<tr>\n",
       "  <th>Omnibus:</th>       <td>22477.482</td> <th>  Durbin-Watson:     </th>  <td>   1.925</td>  \n",
       "</tr>\n",
       "<tr>\n",
       "  <th>Prob(Omnibus):</th>  <td> 0.000</td>   <th>  Jarque-Bera (JB):  </th> <td>1869239.399</td>\n",
       "</tr>\n",
       "<tr>\n",
       "  <th>Skew:</th>           <td>-1.778</td>   <th>  Prob(JB):          </th>  <td>    0.00</td>  \n",
       "</tr>\n",
       "<tr>\n",
       "  <th>Kurtosis:</th>       <td>35.903</td>   <th>  Cond. No.          </th>  <td>    1.00</td>  \n",
       "</tr>\n",
       "</table><br/><br/>Warnings:<br/>[1] Standard Errors assume that the covariance matrix of the errors is correctly specified."
      ],
      "text/plain": [
       "<class 'statsmodels.iolib.summary.Summary'>\n",
       "\"\"\"\n",
       "                                 OLS Regression Results                                \n",
       "=======================================================================================\n",
       "Dep. Variable:                      y   R-squared (uncentered):                   0.993\n",
       "Model:                            OLS   Adj. R-squared (uncentered):              0.993\n",
       "Method:                 Least Squares   F-statistic:                          5.993e+06\n",
       "Date:                Fri, 15 May 2020   Prob (F-statistic):                        0.00\n",
       "Time:                        23:13:50   Log-Likelihood:                     -1.0155e+05\n",
       "No. Observations:               40960   AIC:                                  2.031e+05\n",
       "Df Residuals:                   40959   BIC:                                  2.031e+05\n",
       "Df Model:                           1                                                  \n",
       "Covariance Type:            nonrobust                                                  \n",
       "==============================================================================\n",
       "                 coef    std err          t      P>|t|      [0.025      0.975]\n",
       "------------------------------------------------------------------------------\n",
       "x1             3.1338      0.001   2447.966      0.000       3.131       3.136\n",
       "==============================================================================\n",
       "Omnibus:                    22477.482   Durbin-Watson:                   1.925\n",
       "Prob(Omnibus):                  0.000   Jarque-Bera (JB):          1869239.399\n",
       "Skew:                          -1.778   Prob(JB):                         0.00\n",
       "Kurtosis:                      35.903   Cond. No.                         1.00\n",
       "==============================================================================\n",
       "\n",
       "Warnings:\n",
       "[1] Standard Errors assume that the covariance matrix of the errors is correctly specified.\n",
       "\"\"\""
      ]
     },
     "execution_count": 20,
     "metadata": {},
     "output_type": "execute_result"
    }
   ],
   "source": [
    "simple_model.summary()"
   ]
  },
  {
   "cell_type": "markdown",
   "metadata": {},
   "source": [
    "По таблице видим, что получили коэффициент $\\alpha = 3.1338$."
   ]
  },
  {
   "cell_type": "code",
   "execution_count": 21,
   "metadata": {},
   "outputs": [],
   "source": [
    "alpha = float(simple_model.summary().tables[1].data[1][1])"
   ]
  },
  {
   "cell_type": "code",
   "execution_count": 22,
   "metadata": {},
   "outputs": [],
   "source": [
    "original_test = io.imread('images_full/original_test.bmp')\n",
    "modified_test = io.imread('images_full/modified_test.bmp')\n",
    "original_test = np.asarray(original_test,  dtype = int)\n",
    "modified_test = np.asarray(modified_test,  dtype = int)"
   ]
  },
  {
   "cell_type": "code",
   "execution_count": 23,
   "metadata": {},
   "outputs": [],
   "source": [
    "answ = ((modified_test - original_test) / alpha).round()"
   ]
  },
  {
   "cell_type": "markdown",
   "metadata": {},
   "source": [
    "### Найдем периодичность"
   ]
  },
  {
   "cell_type": "code",
   "execution_count": 24,
   "metadata": {},
   "outputs": [
    {
     "data": {
      "image/png": "[encoded data removed]",
      "text/plain": [
       "<Figure size 432x288 with 1 Axes>"
      ]
     },
     "metadata": {
      "needs_background": "light"
     },
     "output_type": "display_data"
    }
   ],
   "source": [
    "_ = plt.plot(answ.flatten()[:100])"
   ]
  },
  {
   "cell_type": "markdown",
   "metadata": {},
   "source": [
    "Видим, что в векторе, содержащем попиксельную разницу между тестовой модифицированной и немодифицированной картинками есть периодичность."
   ]
  },
  {
   "cell_type": "code",
   "execution_count": 25,
   "metadata": {},
   "outputs": [
    {
     "name": "stderr",
     "output_type": "stream",
     "text": [
      "/opt/anaconda3/lib/python3.7/site-packages/ipykernel_launcher.py:1: FutureWarning: the 'freq' keyword is deprecated, use 'period' instead\n",
      "  \"\"\"Entry point for launching an IPython kernel.\n"
     ]
    },
    {
     "data": {
      "image/png": "[encoded data removed]",
      "text/plain": [
       "<Figure size 432x288 with 4 Axes>"
      ]
     },
     "metadata": {
      "needs_background": "light"
     },
     "output_type": "display_data"
    }
   ],
   "source": [
    "stl_data = seasonal_decompose(answ.flatten()[:100], freq=22)\n",
    "_= stl_data.plot()"
   ]
  },
  {
   "cell_type": "markdown",
   "metadata": {},
   "source": [
    "Период, а значит и длина фразы, равен $22$."
   ]
  },
  {
   "cell_type": "code",
   "execution_count": 26,
   "metadata": {},
   "outputs": [
    {
     "name": "stdout",
     "output_type": "stream",
     "text": [
      "w h e r e s t h e m o n e y l e b o w s k i \n",
      "\n",
      "w h e r e s t h e m o n e y l e b o w s k i \n",
      "\n",
      "w h e r e s t h e m o n e y l e b o w s k i \n",
      "\n",
      "w h e r e s t h e m o n e y l e b o w s k i \n",
      "\n",
      "w h e r e s t h e m o n e y l e b o w s k i \n",
      "\n",
      "w h e r e s t h e m o n e y l e b o w s k i \n",
      "\n",
      "w h e r e s t h e m o n e y l e b o w s k i \n",
      "\n",
      "w h e r e s t h e m o n e y l e b o w s k i \n",
      "\n",
      "w h e r e s t h e m o n e y l e b o w s k i \n",
      "\n",
      "w h e r e s t h e m o n e y l e b o w s k i \n",
      "\n",
      "w h e r e s t h e m o n e y l e b o w s k i \n",
      "\n",
      "w h e r e s t h e m o n e y l e b o w s k i \n",
      "\n",
      "w h e r e s t h e m o n e y l e b o w s k i \n",
      "\n",
      "w h e r e s t h e m o n e y l e b o w s k i \n",
      "\n",
      "w h e r e s t h e m o n e y l e b o w s k i \n",
      "\n",
      "w h e r e s t h e m o n e y l e b o w s k i \n",
      "\n",
      "w h e r e s t h e m o n e y l e b o w s k i \n",
      "\n",
      "w h e r e s t h e m o n e y l e b o w s k i \n",
      "\n",
      "w h e r e s t h e m o n e y l e b o w s k i \n",
      "\n",
      "w h e r e s t h e m o n e y l e b o w s k i \n",
      "\n",
      "w h e r e s t h e m o n e y l e b o w s k i \n",
      "\n",
      "w h e r e s t h e m o n e y l e b o w s k i \n",
      "\n",
      "w h e r e s t h e m o n e t l e b o w s k i \n",
      "\n",
      "w h e r e s t h e m o n e y l e b o w s k i \n",
      "\n",
      "w h e r e s t h e m o n e y l e b o w s k i \n",
      "\n",
      "w h e r e s t h e m o n e x l e b o w s k i \n",
      "\n",
      "w h e r e s t h e m o n e y l e b o w s k i \n",
      "\n",
      "r h e r e s t h e m o n e y l e b o w s k i \n",
      "\n",
      "w h e r e s t h e m o n e y l e b o w s k i \n",
      "\n",
      "w h e r e s t h e m o n e y l e b o w s k i \n",
      "\n",
      "w h e r e s t h e m o n e y l e b o w s k i \n",
      "\n",
      "w h e r e s t h e m o n e y l e b o w s k i \n",
      "\n",
      "w h e r e s t h e m o n e y l e b o w s k i \n",
      "\n",
      "w h e r e s t h e m o n e y l e b o w s k i \n",
      "\n",
      "w h e r e s t h e m o n e y l e b o w s k i \n",
      "\n",
      "w h e r e s t h e m o n e y l e b o w s k i \n",
      "\n",
      "w h e r e s t h e m o n e y l e b o w s k i \n",
      "\n",
      "w h e r e s t h e m o n e y l e b o w s k i \n",
      "\n",
      "w h e r e s t h e m o n e y l e b o w s k i \n",
      "\n",
      "w h e r e s t h e m o n e y l e b o w s k i \n",
      "\n",
      "w h e r e s t h e m o n e y l e b o w s k i \n",
      "\n",
      "w h e r e s t h e m o n e y l e b o w s k i \n",
      "\n",
      "w h e r e s t h e m o n e y l e b o w s k i \n",
      "\n",
      "w h e r e s t h e m o n e y l e b o w s k i \n",
      "\n",
      "w h e r e s t h e m o n e y l e b o w s k i \n",
      "\n",
      "w h e r e s t h e m o n e y l e b o w s k i \n",
      "\n"
     ]
    }
   ],
   "source": [
    "n_rows = int((len(answ.flatten()) / 22))\n",
    "for row in answ.flatten()[: n_rows * 22].reshape(n_rows, 22):\n",
    "    for i in row:\n",
    "        print(chr(int(i) + 97), end = ' ')\n",
    "    print('\\n')"
   ]
  },
  {
   "cell_type": "markdown",
   "metadata": {},
   "source": [
    "###  Нам удалось расшифровать сообщение:   where's the money lebowski."
   ]
  }
 ],
 "metadata": {
  "kernelspec": {
   "display_name": "Python 3",
   "language": "python",
   "name": "python3"
  },
  "language_info": {
   "codemirror_mode": {
    "name": "ipython",
    "version": 3
   },
   "file_extension": ".py",
   "mimetype": "text/x-python",
   "name": "python",
   "nbconvert_exporter": "python",
   "pygments_lexer": "ipython3",
   "version": "3.7.4"
  }
 },
 "nbformat": 4,
 "nbformat_minor": 2
}
