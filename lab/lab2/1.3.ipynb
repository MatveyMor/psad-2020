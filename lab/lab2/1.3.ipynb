{
 "cells": [
  {
   "cell_type": "markdown",
   "metadata": {},
   "source": [
    "# Задача 1.3\n",
    "Задана выборка пар изображений: каждая  пара состоит из оригинального (original_id.bmp) изображения и искаженного (modified_id_phrase.bmp). Также задана пара контрольных изображений original_test, modified_test.\n",
    "\n",
    "В 99% случаев искажение заключается в добавлении шума. В 1% случаев искажение заключается в добавлении к изображению скрытого сообщения. Алгоритм заключается в следующем:\n",
    "\n",
    "- У исходной фразы берутся порядковые номера всех символов в порядке английского алфавита (abcz -> 0,1,2,25).\n",
    "- Полученный вектор домножается на неизвестный коэффициент alpha и складывается с вектором картинки (image = image.flatten() + $\\alpha$*v).\n",
    "- Если фраза слишком короткая, искажение продолжается периодически.\n",
    "\n",
    "Требуется раскодировать фразу из контрольной пары.\n",
    "\n",
    "NB: предполагается, что вы найдете искаженные изображения без шума с применением статистических моделей, а не перебором."
   ]
  },
  {
   "cell_type": "markdown",
   "metadata": {},
   "source": [
    "# Решение"
   ]
  },
  {
   "cell_type": "code",
   "execution_count": 1,
   "metadata": {},
   "outputs": [],
   "source": [
    "import imageio as img\n",
    "from statsmodels.regression.linear_model import OLS\n",
    "import scipy.stats as st\n",
    "import numpy as np\n",
    "import pandas as pd\n",
    "from os import listdir\n",
    "from os.path import isfile, join\n",
    "from matplotlib import pyplot as plt\n",
    "%matplotlib inline"
   ]
  },
  {
   "cell_type": "markdown",
   "metadata": {},
   "source": [
    "Считаем все картинки. Будем сразу получать разность векторов картинок modified - original. То что получили - либо шум, либо вектор."
   ]
  },
  {
   "cell_type": "code",
   "execution_count": 2,
   "metadata": {},
   "outputs": [],
   "source": [
    "mypath = \"./images/images_full/images/\"\n",
    "image_filenames = [f for f in listdir(mypath) if isfile(join(mypath, f))]"
   ]
  },
  {
   "cell_type": "code",
   "execution_count": 3,
   "metadata": {},
   "outputs": [],
   "source": [
    "original = dict()\n",
    "modified = dict()\n",
    "for name in image_filenames:\n",
    "    splited = name.split(\".\")[0].split(\"_\")\n",
    "    if splited[0] == \"modified\":\n",
    "        modified[int(splited[1])] = (mypath + name, splited[2])\n",
    "    else:\n",
    "        original[int(splited[1])] = mypath + name"
   ]
  },
  {
   "cell_type": "code",
   "execution_count": 4,
   "metadata": {},
   "outputs": [],
   "source": [
    "samples = []\n",
    "for i in original:\n",
    "    delta = np.array(img.imread(modified[i][0]).flatten(), dtype=int) - np.array(img.imread(original[i]).flatten(), dtype=int)\n",
    "    \n",
    "    word = np.array(list(map(lambda c: ord(c) - ord(\"a\"), \n",
    "                         (modified[i][1]*(len(delta)//len(modified[i][1])) + \"a\" * len(modified[i][1]))[:len(delta)])), \n",
    "                    dtype=int)\n",
    "    # last two bits aren't in work\n",
    "    samples.append((delta[:-2], word[:-2]))"
   ]
  },
  {
   "cell_type": "code",
   "execution_count": 5,
   "metadata": {},
   "outputs": [],
   "source": [
    "test = (np.array(img.imread(\"./images/images_full/modified_test.bmp\").flatten(), dtype=int) - np.array(img.imread(\"./images/images_full/original_test.bmp\").flatten(), dtype=int))[:-2]"
   ]
  },
  {
   "cell_type": "code",
   "execution_count": 6,
   "metadata": {},
   "outputs": [
    {
     "data": {
      "text/plain": [
       "array([13, 53, 13, 56, 60, 22, 13, 38, 44, 41, 13, 75, 35, 13,  3, 44, 69,\n",
       "       56, 31, 25,  0,  0,  0,  0,  0,  0,  0,  0,  0,  0])"
      ]
     },
     "execution_count": 6,
     "metadata": {},
     "output_type": "execute_result"
    }
   ],
   "source": [
    "test[-30:]"
   ]
  },
  {
   "cell_type": "code",
   "execution_count": 7,
   "metadata": {},
   "outputs": [],
   "source": [
    "test = test[:-10]"
   ]
  },
  {
   "cell_type": "code",
   "execution_count": 8,
   "metadata": {},
   "outputs": [],
   "source": [
    "LEN = len(samples[0][0])"
   ]
  },
  {
   "cell_type": "code",
   "execution_count": 9,
   "metadata": {},
   "outputs": [],
   "source": [
    "for i in range(len(samples)):\n",
    "    if LEN != len(samples[i][0]):\n",
    "        print(\"WRONG\")"
   ]
  },
  {
   "cell_type": "markdown",
   "metadata": {},
   "source": [
    "Все картинки имеют одинаковый размер LEN"
   ]
  },
  {
   "cell_type": "code",
   "execution_count": 10,
   "metadata": {},
   "outputs": [
    {
     "data": {
      "text/plain": [
       "(4094, 1000)"
      ]
     },
     "execution_count": 10,
     "metadata": {},
     "output_type": "execute_result"
    }
   ],
   "source": [
    "LEN, len(samples)"
   ]
  },
  {
   "cell_type": "markdown",
   "metadata": {},
   "source": [
    "Сразу можно видеть, что есть две приципиальные картины получившегося:"
   ]
  },
  {
   "cell_type": "code",
   "execution_count": 11,
   "metadata": {},
   "outputs": [
    {
     "data": {
      "image/png": "[encoded data removed]",
      "text/plain": [
       "<Figure size 432x288 with 1 Axes>"
      ]
     },
     "metadata": {
      "needs_background": "light"
     },
     "output_type": "display_data"
    },
    {
     "data": {
      "image/png": "[encoded data removed]",
      "text/plain": [
       "<Figure size 432x288 with 1 Axes>"
      ]
     },
     "metadata": {
      "needs_background": "light"
     },
     "output_type": "display_data"
    }
   ],
   "source": [
    "for i in [0, 16]:\n",
    "    plt.scatter(range(len(samples[i][0])), samples[i][0])\n",
    "    plt.grid()\n",
    "    plt.show()"
   ]
  },
  {
   "cell_type": "markdown",
   "metadata": {},
   "source": [
    "Отделим несодержательные картинки и найдем $\\alpha$"
   ]
  },
  {
   "cell_type": "markdown",
   "metadata": {},
   "source": [
    "Для этого будем делать линейную регрессию, получая коэффициент и тест Фишера (Стьюдента), что он не равен 0"
   ]
  },
  {
   "cell_type": "code",
   "execution_count": 12,
   "metadata": {},
   "outputs": [],
   "source": [
    "def linreg(y, x):\n",
    "    simple_model = OLS.from_formula(\"y~x-1\", {\"y\": y, \"x\": x}).fit()\n",
    "    res = simple_model.summary().tables[1].data[1]\n",
    "    return float(res[1]), float(res[4])"
   ]
  },
  {
   "cell_type": "code",
   "execution_count": 13,
   "metadata": {},
   "outputs": [],
   "source": [
    "p_vals = []\n",
    "alphas = []\n",
    "for i in range(len(samples)):\n",
    "    res = linreg(samples[i][0], samples[i][1])\n",
    "    p_vals.append(res[1])\n",
    "    alphas.append(res[0])\n",
    "    \n",
    "p_vals = np.array(p_vals)\n",
    "alphas = np.array(alphas)"
   ]
  },
  {
   "cell_type": "code",
   "execution_count": 14,
   "metadata": {
    "scrolled": false
   },
   "outputs": [
    {
     "name": "stdout",
     "output_type": "stream",
     "text": [
      "[-0.0007  0.001   0.0009 -0.001   0.0006 -0.0027  0.0005 -0.0021  0.0009\n",
      "  0.0023]\n",
      "[0.757 0.572 0.594 0.572 0.727 0.159 0.761 0.186 0.481 0.214]\n"
     ]
    }
   ],
   "source": [
    "print(alphas[:10])\n",
    "print(p_vals[:10])"
   ]
  },
  {
   "cell_type": "markdown",
   "metadata": {},
   "source": [
    "Сделаем поправку Холма на множественное тестирование и найдем тех, кто отвергся"
   ]
  },
  {
   "cell_type": "code",
   "execution_count": 15,
   "metadata": {},
   "outputs": [],
   "source": [
    "from statsmodels.sandbox.stats.multicomp import multipletests "
   ]
  },
  {
   "cell_type": "code",
   "execution_count": 16,
   "metadata": {},
   "outputs": [],
   "source": [
    "reject, p_corrected, a1, a2 = multipletests(p_vals, \n",
    "                                            alpha = 0.05, \n",
    "                                            method = 'holm')"
   ]
  },
  {
   "cell_type": "code",
   "execution_count": 17,
   "metadata": {},
   "outputs": [],
   "source": [
    "messages = reject.nonzero()[0]"
   ]
  },
  {
   "cell_type": "code",
   "execution_count": 18,
   "metadata": {},
   "outputs": [
    {
     "data": {
      "text/plain": [
       "10"
      ]
     },
     "execution_count": 18,
     "metadata": {},
     "output_type": "execute_result"
    }
   ],
   "source": [
    "len(messages)"
   ]
  },
  {
   "cell_type": "markdown",
   "metadata": {},
   "source": [
    "Удалось найти 10 картинок с сообщениями. Т.к. по условию их $0.01*1000 = 10$, то нашли все."
   ]
  },
  {
   "cell_type": "code",
   "execution_count": 19,
   "metadata": {},
   "outputs": [
    {
     "data": {
      "text/plain": [
       "0.006175604761295236"
      ]
     },
     "execution_count": 19,
     "metadata": {},
     "output_type": "execute_result"
    }
   ],
   "source": [
    "(alphas[messages].max() - alphas[messages].min())/alphas[messages].min()"
   ]
  },
  {
   "cell_type": "markdown",
   "metadata": {},
   "source": [
    "Коэффициенты регрессии мало отличаются друг от друга. Определим $\\alpha$ как их среднее."
   ]
  },
  {
   "cell_type": "code",
   "execution_count": 20,
   "metadata": {},
   "outputs": [
    {
     "data": {
      "text/plain": [
       "3.13596"
      ]
     },
     "execution_count": 20,
     "metadata": {},
     "output_type": "execute_result"
    }
   ],
   "source": [
    "alpha = alphas[messages].mean()\n",
    "alpha"
   ]
  },
  {
   "cell_type": "markdown",
   "metadata": {},
   "source": [
    "Теперь найдем ключевое слово. Для начала воспользуемся автокорреляцией, чтобы найти период (данные должны иметь только сезонную компоненту). Периоду должна соответствовать самая сильная автокорреляция (ненулевого периода)."
   ]
  },
  {
   "cell_type": "code",
   "execution_count": 21,
   "metadata": {},
   "outputs": [],
   "source": [
    "from statsmodels.tsa.seasonal import seasonal_decompose\n",
    "from statsmodels.graphics.tsaplots import plot_acf"
   ]
  },
  {
   "cell_type": "code",
   "execution_count": 22,
   "metadata": {},
   "outputs": [
    {
     "data": {
      "image/png": "[encoded data removed]",
      "text/plain": [
       "<Figure size 432x288 with 1 Axes>"
      ]
     },
     "metadata": {
      "needs_background": "light"
     },
     "output_type": "display_data"
    }
   ],
   "source": [
    "_ = plot_acf(test)\n",
    "plt.grid()"
   ]
  },
  {
   "cell_type": "code",
   "execution_count": 23,
   "metadata": {},
   "outputs": [
    {
     "data": {
      "image/png": "[encoded data removed]",
      "text/plain": [
       "<Figure size 432x288 with 4 Axes>"
      ]
     },
     "metadata": {
      "needs_background": "light"
     },
     "output_type": "display_data"
    }
   ],
   "source": [
    "stl_data = seasonal_decompose(test[:220], period=22)\n",
    "_=stl_data.plot()"
   ]
  },
  {
   "cell_type": "markdown",
   "metadata": {},
   "source": [
    "Период $T = 22$"
   ]
  },
  {
   "cell_type": "code",
   "execution_count": 24,
   "metadata": {},
   "outputs": [],
   "source": [
    "T = 22"
   ]
  },
  {
   "cell_type": "code",
   "execution_count": 25,
   "metadata": {},
   "outputs": [],
   "source": [
    "full_periods = len(test)//22"
   ]
  },
  {
   "cell_type": "code",
   "execution_count": 26,
   "metadata": {},
   "outputs": [
    {
     "data": {
      "text/plain": [
       "array([[69, 22, 13, ..., 56, 31, 25],\n",
       "       [69, 22, 13, ..., 56, 31, 25],\n",
       "       [69, 22, 13, ..., 56, 31, 25],\n",
       "       ...,\n",
       "       [69, 22, 13, ..., 56, 31, 25],\n",
       "       [69, 22, 13, ..., 56, 31, 25],\n",
       "       [69, 22, 13, ..., 56, 31, 25]])"
      ]
     },
     "execution_count": 26,
     "metadata": {},
     "output_type": "execute_result"
    }
   ],
   "source": [
    "test = test[:full_periods*22].reshape((full_periods, 22))\n",
    "test"
   ]
  },
  {
   "cell_type": "markdown",
   "metadata": {},
   "source": [
    "Похоже, что данные не зашумлены"
   ]
  },
  {
   "cell_type": "code",
   "execution_count": 27,
   "metadata": {},
   "outputs": [
    {
     "data": {
      "text/plain": [
       "Counter({'wheresthemoneylebowski': 43,\n",
       "         'wheresthemonetlebowski': 1,\n",
       "         'wheresthemonexlebowski': 1,\n",
       "         'rheresthemoneylebowski': 1})"
      ]
     },
     "execution_count": 27,
     "metadata": {},
     "output_type": "execute_result"
    }
   ],
   "source": [
    "from collections import Counter\n",
    "\n",
    "Counter([\"\".join(map(lambda c: chr(int(round(c/alpha)) + ord(\"a\")), t)) for t in test])"
   ]
  },
  {
   "cell_type": "markdown",
   "metadata": {},
   "source": [
    "# Вывод:"
   ]
  },
  {
   "cell_type": "markdown",
   "metadata": {},
   "source": [
    "Удалось расшифровать фразу \"Where's the money Lebowski?\", свидетельствующую об уважении авторов задачи к классике. В тестовой картинке искажения носили ненормальный характер - скачки в трех точках, это не помешало работе."
   ]
  }
 ],
 "metadata": {
  "kernelspec": {
   "display_name": "Python 3",
   "language": "python",
   "name": "python3"
  },
  "language_info": {
   "codemirror_mode": {
    "name": "ipython",
    "version": 3
   },
   "file_extension": ".py",
   "mimetype": "text/x-python",
   "name": "python",
   "nbconvert_exporter": "python",
   "pygments_lexer": "ipython3",
   "version": "3.7.3"
  }
 },
 "nbformat": 4,
 "nbformat_minor": 2
}
